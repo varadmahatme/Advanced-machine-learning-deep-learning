{
  "nbformat": 4,
  "nbformat_minor": 0,
  "metadata": {
    "colab": {
      "name": "AMLDL1.ipynb",
      "provenance": [],
      "authorship_tag": "ABX9TyPPg5Jb/IfSMRL5LrU7djmc",
      "include_colab_link": true
    },
    "kernelspec": {
      "name": "python3",
      "display_name": "Python 3"
    },
    "language_info": {
      "name": "python"
    },
    "accelerator": "GPU"
  },
  "cells": [
    {
      "cell_type": "markdown",
      "metadata": {
        "id": "view-in-github",
        "colab_type": "text"
      },
      "source": [
        "<a href=\"https://colab.research.google.com/github/varadmahatme/Advanced-machine-learning-deep-learning/blob/main/AMLDL1.ipynb\" target=\"_parent\"><img src=\"https://colab.research.google.com/assets/colab-badge.svg\" alt=\"Open In Colab\"/></a>"
      ]
    },
    {
      "cell_type": "code",
      "execution_count": null,
      "metadata": {
        "id": "PzH7QV21ZveE"
      },
      "outputs": [],
      "source": [
        "1+4"
      ]
    },
    {
      "cell_type": "code",
      "source": [
        ""
      ],
      "metadata": {
        "id": "N13F5gDsbrf1"
      },
      "execution_count": null,
      "outputs": []
    },
    {
      "cell_type": "code",
      "source": [
        "5**7"
      ],
      "metadata": {
        "id": "SfhaUnOccioG"
      },
      "execution_count": null,
      "outputs": []
    },
    {
      "cell_type": "code",
      "source": [
        "5^7"
      ],
      "metadata": {
        "id": "_udu4x1tcoWL"
      },
      "execution_count": null,
      "outputs": []
    },
    {
      "cell_type": "code",
      "source": [
        "25**(1/2)"
      ],
      "metadata": {
        "id": "gTk4lyV2dRuw"
      },
      "execution_count": null,
      "outputs": []
    },
    {
      "cell_type": "code",
      "source": [
        "1e2"
      ],
      "metadata": {
        "id": "7OsHACczdu00"
      },
      "execution_count": null,
      "outputs": []
    },
    {
      "cell_type": "code",
      "source": [
        "2.7*2"
      ],
      "metadata": {
        "id": "6E-69vvbd8Yo"
      },
      "execution_count": null,
      "outputs": []
    },
    {
      "cell_type": "code",
      "source": [
        "a=26\n",
        "print(a)"
      ],
      "metadata": {
        "id": "uMEh69gLfLXo"
      },
      "execution_count": null,
      "outputs": []
    },
    {
      "cell_type": "code",
      "source": [
        "var1=40"
      ],
      "metadata": {
        "id": "6h28kkzDflkC"
      },
      "execution_count": null,
      "outputs": []
    },
    {
      "cell_type": "code",
      "source": [
        "var2=var1+100"
      ],
      "metadata": {
        "id": "GEeEhKclfrMV"
      },
      "execution_count": null,
      "outputs": []
    },
    {
      "cell_type": "code",
      "source": [
        ""
      ],
      "metadata": {
        "id": "FT86eJE6gReL"
      },
      "execution_count": null,
      "outputs": []
    },
    {
      "cell_type": "code",
      "source": [
        "\n"
      ],
      "metadata": {
        "id": "PvOGjpTVgSdG"
      },
      "execution_count": null,
      "outputs": []
    },
    {
      "cell_type": "code",
      "source": [
        ""
      ],
      "metadata": {
        "id": "G7kNDUeZgWlf"
      },
      "execution_count": null,
      "outputs": []
    },
    {
      "cell_type": "code",
      "source": [
        "print(var2)"
      ],
      "metadata": {
        "id": "_DG-1bXkf1wp"
      },
      "execution_count": null,
      "outputs": []
    },
    {
      "cell_type": "code",
      "source": [
        "side=1726\n",
        "area=side*side\n",
        "print('Area of a square=')\n",
        "print(area)"
      ],
      "metadata": {
        "id": "gdI9xncsiMFd"
      },
      "execution_count": null,
      "outputs": []
    },
    {
      "cell_type": "code",
      "source": [
        "side=5\n",
        "area=side**2\n",
        "print(\"Area=\", area)"
      ],
      "metadata": {
        "id": "ks1yMuwVisrm"
      },
      "execution_count": null,
      "outputs": []
    },
    {
      "cell_type": "code",
      "source": [
        "# A code to find the area of a square\n",
        " \n",
        "side=input('Enter a value of side:')\n",
        "print(type(side))\n",
        "side=int(side)\n",
        "print(type(side))\n",
        "area=side*side\n",
        "print('Area is:',area)"
      ],
      "metadata": {
        "id": "rCh1RP-PjLBM"
      },
      "execution_count": null,
      "outputs": []
    },
    {
      "cell_type": "code",
      "source": [
        "# A code to find the area of a square\n",
        "side=input('Enter a value of side:')\n",
        "print(type(side))\n",
        "side=int(side)\n",
        "print(type(side))\n",
        "area=side*side\n",
        "print('Area is:',area)"
      ],
      "metadata": {
        "id": "m8O27FQIkQ0c"
      },
      "execution_count": null,
      "outputs": []
    },
    {
      "cell_type": "code",
      "source": [
        "'i'm an engineer'"
      ],
      "metadata": {
        "id": "BBMXqN_2mXZZ"
      },
      "execution_count": null,
      "outputs": []
    },
    {
      "cell_type": "code",
      "source": [
        "var1=3"
      ],
      "metadata": {
        "id": "ORgh162mgNpv"
      },
      "execution_count": null,
      "outputs": []
    },
    {
      "cell_type": "code",
      "source": [
        "var2=var1+100 +2\n"
      ],
      "metadata": {
        "id": "HMcohP34gXiL"
      },
      "execution_count": null,
      "outputs": []
    },
    {
      "cell_type": "code",
      "source": [
        "print(str)"
      ],
      "metadata": {
        "id": "FUtll0SKn8uz"
      },
      "execution_count": null,
      "outputs": []
    },
    {
      "cell_type": "code",
      "source": [
        "R_no=100\n",
        "emp_name='Rahul'"
      ],
      "metadata": {
        "id": "q3US0qrvoNov"
      },
      "execution_count": null,
      "outputs": []
    },
    {
      "cell_type": "code",
      "source": [
        "print('My Roll No. is {​​​​​​one}​​​​​​, and my name is {​​​​​​two}​​​​​​'.format(one=R_no,two=emp_name))"
      ],
      "metadata": {
        "id": "Bpz8WUvzozAh"
      },
      "execution_count": null,
      "outputs": []
    },
    {
      "cell_type": "code",
      "source": [
        "print('My Roll No. is: {​​​​​​}​​​​​​, and my name is: {​​​​​​}​​​​​​'.format(R_no,emp_name))"
      ],
      "metadata": {
        "id": "TA8UUGvEpLYl"
      },
      "execution_count": null,
      "outputs": []
    },
    {
      "cell_type": "code",
      "source": [
        "emp_name='s'+emp_name[1:5]"
      ],
      "metadata": {
        "id": "0tsaydFgbt2g"
      },
      "execution_count": null,
      "outputs": []
    },
    {
      "cell_type": "code",
      "source": [
        "print(emp_name)"
      ],
      "metadata": {
        "id": "t0nd592Xds15"
      },
      "execution_count": null,
      "outputs": []
    },
    {
      "cell_type": "code",
      "source": [
        "emp_name*5"
      ],
      "metadata": {
        "id": "6lC1DAODd7o3"
      },
      "execution_count": null,
      "outputs": []
    },
    {
      "cell_type": "code",
      "source": [
        "emp_name.upper()"
      ],
      "metadata": {
        "id": "uIw9rX61e_zZ"
      },
      "execution_count": null,
      "outputs": []
    },
    {
      "cell_type": "code",
      "source": [
        "s='Good Morning Everone'"
      ],
      "metadata": {
        "id": "VE5xv8J6f8yA"
      },
      "execution_count": null,
      "outputs": []
    },
    {
      "cell_type": "code",
      "source": [
        "s1,s2,s3=s.split()\n",
        "print(s1)\n",
        "print(s2)\n",
        "print(s3)"
      ],
      "metadata": {
        "id": "uPyKnJq-gSs9"
      },
      "execution_count": null,
      "outputs": []
    },
    {
      "cell_type": "code",
      "source": [
        "print(s.split('E'))"
      ],
      "metadata": {
        "id": "WtQmn1_Cg_yU"
      },
      "execution_count": null,
      "outputs": []
    },
    {
      "cell_type": "code",
      "source": [
        "print(\"hello everyone \\n Good day \\t nice time\")"
      ],
      "metadata": {
        "id": "LNo311QLhdqj"
      },
      "execution_count": null,
      "outputs": []
    },
    {
      "cell_type": "code",
      "source": [
        "emp_name[::3]"
      ],
      "metadata": {
        "id": "BFtEK9FjiHWZ"
      },
      "execution_count": null,
      "outputs": []
    },
    {
      "cell_type": "code",
      "source": [
        "emp_name[3::]"
      ],
      "metadata": {
        "id": "JYhwoIYwiU2v"
      },
      "execution_count": null,
      "outputs": []
    },
    {
      "cell_type": "code",
      "source": [
        "emp_name[::-1]"
      ],
      "metadata": {
        "id": "9uWzsT4mih7f"
      },
      "execution_count": null,
      "outputs": []
    },
    {
      "cell_type": "code",
      "source": [
        "emp_name[::-2]"
      ],
      "metadata": {
        "id": "c7Lgluk1imOW"
      },
      "execution_count": null,
      "outputs": []
    },
    {
      "cell_type": "code",
      "source": [
        "emp_name[::-3]"
      ],
      "metadata": {
        "id": "gPOJtR26iqcz"
      },
      "execution_count": null,
      "outputs": []
    },
    {
      "cell_type": "code",
      "source": [
        "list='1,2,3,bro,varad'"
      ],
      "metadata": {
        "id": "Yuo9a4cwlZUC"
      },
      "execution_count": null,
      "outputs": []
    },
    {
      "cell_type": "code",
      "source": [
        "list"
      ],
      "metadata": {
        "id": "ghpQTZfLleIz"
      },
      "execution_count": null,
      "outputs": []
    },
    {
      "cell_type": "code",
      "source": [
        "print(list1=[1,3,5,bro,varad,mahatme,8.3])"
      ],
      "metadata": {
        "id": "fJoSQPy9l6fM"
      },
      "execution_count": null,
      "outputs": []
    },
    {
      "cell_type": "code",
      "source": [
        "list1=[1,3,5,'bro','varad','mahatme',8.3]"
      ],
      "metadata": {
        "id": "o6cNrEbdmKTd"
      },
      "execution_count": null,
      "outputs": []
    },
    {
      "cell_type": "code",
      "source": [
        "print(list1)"
      ],
      "metadata": {
        "id": "SpN0wI6zmwyy"
      },
      "execution_count": null,
      "outputs": []
    },
    {
      "cell_type": "code",
      "source": [
        ""
      ],
      "metadata": {
        "id": "FmcE_JNknTZt"
      },
      "execution_count": null,
      "outputs": []
    },
    {
      "cell_type": "code",
      "source": [
        "list_new=[200,500,6.9,list1]"
      ],
      "metadata": {
        "id": "Jvym6FD7nMjX"
      },
      "execution_count": null,
      "outputs": []
    },
    {
      "cell_type": "code",
      "source": [
        "print(list_new)"
      ],
      "metadata": {
        "id": "iOKc7qvanUvW"
      },
      "execution_count": null,
      "outputs": []
    },
    {
      "cell_type": "code",
      "source": [
        "list_new[0:2]"
      ],
      "metadata": {
        "id": "FUTT0rS-oa0a"
      },
      "execution_count": null,
      "outputs": []
    },
    {
      "cell_type": "code",
      "source": [
        "list_new.pop(1)"
      ],
      "metadata": {
        "id": "VtUz99poowtf"
      },
      "execution_count": null,
      "outputs": []
    },
    {
      "cell_type": "code",
      "source": [
        "print(list_new)"
      ],
      "metadata": {
        "id": "9ou_b_qNpUl-"
      },
      "execution_count": null,
      "outputs": []
    },
    {
      "cell_type": "code",
      "source": [
        "# to reverse a list use 'reverse' command\n",
        "list1 = ['programming', 91, [2, 17, 22], 'practice']\n",
        "list1.reverse()\n",
        "print (\"list now : \", list1)"
      ],
      "metadata": {
        "id": "nYii5u6_pmzN"
      },
      "execution_count": null,
      "outputs": []
    },
    {
      "cell_type": "code",
      "source": [
        "len(list1)"
      ],
      "metadata": {
        "id": "BEhW4mQ7p0ET"
      },
      "execution_count": null,
      "outputs": []
    },
    {
      "cell_type": "code",
      "source": [
        "list1"
      ],
      "metadata": {
        "id": "vwVKUsFFr-cn"
      },
      "execution_count": null,
      "outputs": []
    },
    {
      "cell_type": "code",
      "source": [
        "list1=[10,5,'ab',2e-4]"
      ],
      "metadata": {
        "id": "EU5UiBslMoNG"
      },
      "execution_count": null,
      "outputs": []
    },
    {
      "cell_type": "code",
      "source": [
        "list1[1]"
      ],
      "metadata": {
        "id": "Ws1SwCGKN6Bb"
      },
      "execution_count": null,
      "outputs": []
    },
    {
      "cell_type": "markdown",
      "source": [
        "dictionary"
      ],
      "metadata": {
        "id": "ijOC1_0KObky"
      }
    },
    {
      "cell_type": "code",
      "source": [
        "dictionary1={10:11,11:12,12:13,13:14}"
      ],
      "metadata": {
        "id": "2DQG-zrCOhQb"
      },
      "execution_count": null,
      "outputs": []
    },
    {
      "cell_type": "code",
      "source": [
        "print(dictionary1)"
      ],
      "metadata": {
        "id": "MLdsAD7TPbxh"
      },
      "execution_count": null,
      "outputs": []
    },
    {
      "cell_type": "code",
      "source": [
        "dictionary1[12]"
      ],
      "metadata": {
        "id": "Gg1VchxvPhhZ"
      },
      "execution_count": null,
      "outputs": []
    },
    {
      "cell_type": "code",
      "source": [
        "dict={5:25,6:50,7:'brother'}"
      ],
      "metadata": {
        "id": "e4b77cDkP2Kw"
      },
      "execution_count": null,
      "outputs": []
    },
    {
      "cell_type": "code",
      "source": [
        "dict[7]"
      ],
      "metadata": {
        "id": "DqBDU0J2QM1x"
      },
      "execution_count": null,
      "outputs": []
    },
    {
      "cell_type": "code",
      "source": [
        "d_1={'k1':True, 'k2':False}"
      ],
      "metadata": {
        "id": "cD2mvXO8QaEP"
      },
      "execution_count": null,
      "outputs": []
    },
    {
      "cell_type": "code",
      "source": [
        "d_1['k1']"
      ],
      "metadata": {
        "id": "JbWFca2wQvzH"
      },
      "execution_count": null,
      "outputs": []
    },
    {
      "cell_type": "code",
      "source": [
        "print(d_1['k1'])"
      ],
      "metadata": {
        "id": "2HjgN2wmQ9oy"
      },
      "execution_count": null,
      "outputs": []
    },
    {
      "cell_type": "code",
      "source": [
        "dict_two={'key1':10,'key2':4.9,'key3':[3,8],'key4':dict}"
      ],
      "metadata": {
        "id": "LmDUMy-HRO6R"
      },
      "execution_count": null,
      "outputs": []
    },
    {
      "cell_type": "code",
      "source": [
        "dict_two['key4']"
      ],
      "metadata": {
        "id": "AaWXHO1IRran"
      },
      "execution_count": null,
      "outputs": []
    },
    {
      "cell_type": "code",
      "source": [
        "dict_two['key3']"
      ],
      "metadata": {
        "id": "lE2Ho_KbR40h"
      },
      "execution_count": null,
      "outputs": []
    },
    {
      "cell_type": "code",
      "source": [
        ""
      ],
      "metadata": {
        "id": "MvtCbEHgSfLe"
      },
      "execution_count": null,
      "outputs": []
    },
    {
      "cell_type": "code",
      "source": [
        "dict_two={'key1':10,'key2':4.9,'key3':list(range(3,8,2)),'key4':dict}"
      ],
      "metadata": {
        "id": "bOUV0sxySfiy"
      },
      "execution_count": null,
      "outputs": []
    },
    {
      "cell_type": "code",
      "source": [
        "dict_two['key4']"
      ],
      "metadata": {
        "id": "ZvUZOo87SmFt"
      },
      "execution_count": null,
      "outputs": []
    },
    {
      "cell_type": "code",
      "source": [
        "dict_two['key3']"
      ],
      "metadata": {
        "id": "ghYswwPNStGV"
      },
      "execution_count": null,
      "outputs": []
    },
    {
      "cell_type": "code",
      "source": [
        "dict_3={}"
      ],
      "metadata": {
        "id": "gOIKEGGuTI7_"
      },
      "execution_count": null,
      "outputs": []
    },
    {
      "cell_type": "code",
      "source": [
        "dict_3['key1']=10"
      ],
      "metadata": {
        "id": "KHfObon6TNaM"
      },
      "execution_count": null,
      "outputs": []
    },
    {
      "cell_type": "code",
      "source": [
        "dict_3"
      ],
      "metadata": {
        "id": "BgwQOExyTWPM"
      },
      "execution_count": null,
      "outputs": []
    },
    {
      "cell_type": "code",
      "source": [
        "print(dict_two.keys())"
      ],
      "metadata": {
        "id": "cX1y8gCiTZX1"
      },
      "execution_count": null,
      "outputs": []
    },
    {
      "cell_type": "code",
      "source": [
        "print(dict_two.values())"
      ],
      "metadata": {
        "id": "yBT8Hz6-T2hU"
      },
      "execution_count": null,
      "outputs": []
    },
    {
      "cell_type": "code",
      "source": [
        "list3=list(dict_two.keys())"
      ],
      "metadata": {
        "id": "ZzC7hjBEUMCm"
      },
      "execution_count": null,
      "outputs": []
    },
    {
      "cell_type": "code",
      "source": [
        "print(list3)"
      ],
      "metadata": {
        "id": "5uB6oWaqUZIb"
      },
      "execution_count": null,
      "outputs": []
    },
    {
      "cell_type": "code",
      "source": [
        "print(dict_two.items())"
      ],
      "metadata": {
        "id": "T0DElTTJUoDL"
      },
      "execution_count": null,
      "outputs": []
    },
    {
      "cell_type": "code",
      "source": [
        "11==10"
      ],
      "metadata": {
        "id": "yueLcGt9VFIM"
      },
      "execution_count": null,
      "outputs": []
    },
    {
      "cell_type": "code",
      "source": [
        "3>5"
      ],
      "metadata": {
        "id": "JLq2Gcq0VIBN"
      },
      "execution_count": null,
      "outputs": []
    },
    {
      "cell_type": "code",
      "source": [
        "5>1"
      ],
      "metadata": {
        "id": "3_vUWqWGVKiS"
      },
      "execution_count": null,
      "outputs": []
    },
    {
      "cell_type": "code",
      "source": [
        "tup_1=(20,5)"
      ],
      "metadata": {
        "id": "itFInuF4WAd5"
      },
      "execution_count": null,
      "outputs": []
    },
    {
      "cell_type": "code",
      "source": [
        "print(tup_1)"
      ],
      "metadata": {
        "id": "nJ-zuo5fWJAx"
      },
      "execution_count": null,
      "outputs": []
    },
    {
      "cell_type": "code",
      "source": [
        "tup_1[1]=100"
      ],
      "metadata": {
        "id": "RzzIAdr0Wd6K"
      },
      "execution_count": null,
      "outputs": []
    },
    {
      "cell_type": "code",
      "source": [
        "tup_1.append(3)"
      ],
      "metadata": {
        "id": "mobxCTMJWv5p"
      },
      "execution_count": null,
      "outputs": []
    },
    {
      "cell_type": "code",
      "source": [
        "tup2=(10, 20, 'note', 6.2,100, 20,'book',[2,3,5])"
      ],
      "metadata": {
        "id": "rHNKV-jzW5dq"
      },
      "execution_count": null,
      "outputs": []
    },
    {
      "cell_type": "code",
      "source": [
        "print(tup2[6])"
      ],
      "metadata": {
        "id": "OIl6Hfg6XHlS"
      },
      "execution_count": null,
      "outputs": []
    },
    {
      "cell_type": "code",
      "source": [
        "tup2.index(6.2)"
      ],
      "metadata": {
        "id": "B4tGiayfXMlf"
      },
      "execution_count": null,
      "outputs": []
    },
    {
      "cell_type": "code",
      "source": [
        "tup2.index(20)"
      ],
      "metadata": {
        "id": "BGgCw_5HXWtt"
      },
      "execution_count": null,
      "outputs": []
    },
    {
      "cell_type": "code",
      "source": [
        "tup2.count(20)"
      ],
      "metadata": {
        "id": "Y0m06QbnXgQA"
      },
      "execution_count": null,
      "outputs": []
    },
    {
      "cell_type": "code",
      "source": [
        "set1=(100)\n",
        "print(set1)\n",
        "set1.add(20)\n",
        "set1.add(40)\n",
        "print(set1)\n",
        "set1.add(70)\n",
        "print(set1)"
      ],
      "metadata": {
        "id": "9l0_X23tYUAR"
      },
      "execution_count": null,
      "outputs": []
    },
    {
      "cell_type": "code",
      "source": [
        ""
      ],
      "metadata": {
        "id": "kPcuSIxlZTXw"
      },
      "execution_count": null,
      "outputs": []
    },
    {
      "cell_type": "code",
      "source": [
        "set1=(100)\n",
        "print(set1)\n",
        "set1.add(20)\n",
        "set1.add(40)\n",
        "print(set1)\n",
        "set1.add(70)\n",
        "print(set1)"
      ],
      "metadata": {
        "id": "htbe6UiZZT06"
      },
      "execution_count": null,
      "outputs": []
    },
    {
      "cell_type": "code",
      "source": [
        "a='abc'\n",
        "print(a)"
      ],
      "metadata": {
        "id": "IyLLfoGtZcH-"
      },
      "execution_count": null,
      "outputs": []
    },
    {
      "cell_type": "code",
      "source": [
        "print(type(a))"
      ],
      "metadata": {
        "id": "k6EQse5GZiBF"
      },
      "execution_count": null,
      "outputs": []
    },
    {
      "cell_type": "code",
      "source": [
        "num1=None"
      ],
      "metadata": {
        "id": "PIyTh-XTZnL_"
      },
      "execution_count": null,
      "outputs": []
    },
    {
      "cell_type": "code",
      "source": [
        "print(type(num1))"
      ],
      "metadata": {
        "id": "7FRaF4MWZp3l"
      },
      "execution_count": null,
      "outputs": []
    },
    {
      "cell_type": "code",
      "source": [
        "10.5 and (1>2)"
      ],
      "metadata": {
        "id": "yso8ejtbaASc"
      },
      "execution_count": null,
      "outputs": []
    },
    {
      "cell_type": "code",
      "source": [
        "a=20\n",
        "if(a>10):\n",
        "  print(a)\n",
        "  print(a+5)"
      ],
      "metadata": {
        "id": "1a-4acpjaa5V"
      },
      "execution_count": null,
      "outputs": []
    },
    {
      "cell_type": "code",
      "source": [
        "a=100\n",
        "if (a==100):\n",
        "  print(\"Greetings\")"
      ],
      "metadata": {
        "id": "stDrg1kodwL5"
      },
      "execution_count": null,
      "outputs": []
    },
    {
      "cell_type": "code",
      "source": [
        "x=30\n",
        "if(x==30):\n",
        "  print('Number is 30')\n",
        "else:\n",
        "  print('Number is not 30')\n",
        "print('ok')"
      ],
      "metadata": {
        "id": "pxnippVZeN_R"
      },
      "execution_count": null,
      "outputs": []
    },
    {
      "cell_type": "code",
      "source": [
        "z=int(input('enter value:' ))\n",
        "if(z>0):\n",
        "  print('positive number')\n",
        "if(z<0):\n",
        "  print('negetive number')\n",
        "if(z==0):\n",
        "  print('zero')"
      ],
      "metadata": {
        "id": "10WPlQaUe9R6"
      },
      "execution_count": null,
      "outputs": []
    },
    {
      "cell_type": "code",
      "source": [
        "x=20<10\n",
        "if x:\n",
        "  print('this is executed')\n",
        "else:\n",
        "  print('this is executed bro')"
      ],
      "metadata": {
        "id": "dKV0JA6hgYXv"
      },
      "execution_count": null,
      "outputs": []
    },
    {
      "cell_type": "code",
      "source": [
        "list = []\n",
        "\n",
        "# number of elements as input\n",
        "n = int(input(\"Enter number of elements : \"))\n",
        "\n",
        "# iterating till the range\n",
        "for i in range(0, n):\n",
        "  ele = int(input())\n",
        "\n",
        "  list.append(ele) # adding the element\n",
        "  \n",
        "print(list)\n",
        "\n",
        "target = int(input(\"enter the target number\")) \n",
        "for i in range(len(list)):\n",
        "    num = target-list[i]\n",
        "    for j in range(i+1, len(list)):\n",
        "        if list[j] == num:\n",
        "            print (list[i], list[j])\n"
      ],
      "metadata": {
        "id": "0_kile6BZPR0"
      },
      "execution_count": null,
      "outputs": []
    },
    {
      "cell_type": "code",
      "source": [
        "#while lool\n",
        "\n",
        "i=1\n",
        "\n",
        "while(i<=10):\n",
        "    print(i)\n",
        "    i=i+1\n"
      ],
      "metadata": {
        "id": "26YslQv4Q42w"
      },
      "execution_count": null,
      "outputs": []
    },
    {
      "cell_type": "code",
      "source": [
        "#range function\n",
        "\n",
        "list(range(1,16,1))"
      ],
      "metadata": {
        "id": "LCjzVv8jUSQp"
      },
      "execution_count": null,
      "outputs": []
    },
    {
      "cell_type": "code",
      "source": [
        ""
      ],
      "metadata": {
        "id": "4a6avJ6BUvyf"
      },
      "execution_count": null,
      "outputs": []
    },
    {
      "cell_type": "code",
      "source": [
        "list(range(1,16,3))"
      ],
      "metadata": {
        "id": "TaECHxVJUwV0"
      },
      "execution_count": null,
      "outputs": []
    },
    {
      "cell_type": "code",
      "source": [
        ""
      ],
      "metadata": {
        "id": "X5rPgQbsU1v_"
      },
      "execution_count": null,
      "outputs": []
    },
    {
      "cell_type": "code",
      "source": [
        "\n",
        "\n",
        "list(range(15,0,-1))"
      ],
      "metadata": {
        "id": "UdZEN5-_U2fz"
      },
      "execution_count": null,
      "outputs": []
    },
    {
      "cell_type": "code",
      "source": [
        ""
      ],
      "metadata": {
        "id": "QzVWmLkcVPsW"
      },
      "execution_count": null,
      "outputs": []
    },
    {
      "cell_type": "code",
      "source": [
        "#range function\n",
        "\n",
        "list(range(10,1,-1))"
      ],
      "metadata": {
        "id": "EgYtmjXwVQB-"
      },
      "execution_count": null,
      "outputs": []
    },
    {
      "cell_type": "markdown",
      "source": [
        "in python everything is an object"
      ],
      "metadata": {
        "id": "poQQc7pPVbqv"
      }
    },
    {
      "cell_type": "code",
      "source": [
        "list1=list(range(100,69,-4))"
      ],
      "metadata": {
        "id": "oDe4zPr4Vex3"
      },
      "execution_count": null,
      "outputs": []
    },
    {
      "cell_type": "code",
      "source": [
        "print(list1)\n",
        "for i in list1:\n",
        "  print(str(i)+\" UBER\")"
      ],
      "metadata": {
        "id": "zftXdspXWTIl"
      },
      "execution_count": null,
      "outputs": []
    },
    {
      "cell_type": "code",
      "source": [
        "for i in 'VARAD MAHATME':\n",
        "  print(i)"
      ],
      "metadata": {
        "id": "gqKdsV2vWyiy"
      },
      "execution_count": null,
      "outputs": []
    },
    {
      "cell_type": "code",
      "source": [
        "a=int(input(\"enter number to convert to a table\"))\n",
        "for i in range(1,11,1):\n",
        "  print(a,\"x\",i,\"=\",a*i)"
      ],
      "metadata": {
        "id": "t9wvYwiLW9Fj"
      },
      "execution_count": null,
      "outputs": []
    },
    {
      "cell_type": "code",
      "source": [
        "#cube & cube root of nos from 1 to 100\n",
        "for i in range(1,101,1):\n",
        "  print(\"number=\",i,\"cube is \",i**3,\"cube root is \",i**(1/3))"
      ],
      "metadata": {
        "id": "f9OjSQkuYTRl"
      },
      "execution_count": null,
      "outputs": []
    },
    {
      "cell_type": "code",
      "source": [
        "i2=range(1,10,1)\n",
        "for i in i2:\n",
        "  print(i**3)"
      ],
      "metadata": {
        "id": "OusBr-eNa_Et"
      },
      "execution_count": null,
      "outputs": []
    },
    {
      "cell_type": "code",
      "source": [
        "#by default dict will print keys in stead of value\n",
        "dict1={'key1':100,'key2':12,'key3':42}\n",
        "for i in dict1:\n",
        "  print(i)"
      ],
      "metadata": {
        "id": "e3Zqu0YybVMt"
      },
      "execution_count": null,
      "outputs": []
    },
    {
      "cell_type": "code",
      "source": [
        "#by default dict will print keys in stead of value\n",
        "dict1={'key1':100,'key2':12,'key3':42}\n",
        "for i in dict1:\n",
        "  print(dict1[i])"
      ],
      "metadata": {
        "id": "nuy2sY1Sbp_O"
      },
      "execution_count": null,
      "outputs": []
    },
    {
      "cell_type": "code",
      "source": [
        "#print only numbers divisible by 2 in a list\n",
        "list2=[101,102,55,56,4,8,13,18]\n",
        "for i in list2:\n",
        "  if i%2==0:\n",
        "    print(i)"
      ],
      "metadata": {
        "id": "ZCsio1zXcsuU"
      },
      "execution_count": null,
      "outputs": []
    },
    {
      "cell_type": "code",
      "source": [
        "#creating a function in python\n",
        "#functions are defined and called within a main program\n",
        "\n",
        "def find_area(b,h):\n",
        "  area_1=b*h\n",
        "  return area_1"
      ],
      "metadata": {
        "id": "xXoGPnJrel3J"
      },
      "execution_count": null,
      "outputs": []
    },
    {
      "cell_type": "code",
      "source": [
        "#calling function\n",
        "num1= int(input(\"enter b\"))\n",
        "num2= int(input(\"enter h\"))\n",
        "var1=find_area(num1,num2)\n",
        "print(var1)"
      ],
      "metadata": {
        "id": "LXhjatWgf2bK"
      },
      "execution_count": null,
      "outputs": []
    },
    {
      "cell_type": "code",
      "source": [
        ""
      ],
      "metadata": {
        "id": "zksJuhCkg1DF"
      },
      "execution_count": null,
      "outputs": []
    },
    {
      "cell_type": "code",
      "metadata": {
        "id": "OJbt3V_F2VpY"
      },
      "source": [
        "# def keyword is used to define a function\n",
        "import math\n",
        "def area_of_circle(radius):\n",
        "    Area_circ= math.pi* radius * radius\n",
        "    return Area_circ\n",
        "\n",
        "r1 =input(\"Enter a radius value:\")\n",
        "\n",
        "r1_num=float(r1)\n",
        "\n",
        "Val_from_fn = area_of_circle(r1_num)\n",
        "print(\"The Area of circle is {}\".format(Val_from_fn))\n"
      ],
      "execution_count": null,
      "outputs": []
    },
    {
      "cell_type": "code",
      "source": [
        "import math\n",
        "def perimeter(radius):\n",
        "  peri=2*math.pi*radius\n",
        "  return peri\n",
        "\n",
        "rad=float(input(\"enter the raius value: \"))\n",
        "\n",
        "val_peri=perimeter(rad)\n",
        "print(val_peri)\n",
        "\n"
      ],
      "metadata": {
        "id": "pIXKjtCbhPYe"
      },
      "execution_count": null,
      "outputs": []
    },
    {
      "cell_type": "code",
      "source": [
        "import math\n",
        "print(math.pi)"
      ],
      "metadata": {
        "id": "Hnw4cUXkjOYz"
      },
      "execution_count": null,
      "outputs": []
    },
    {
      "cell_type": "code",
      "source": [
        "pip install numpy"
      ],
      "metadata": {
        "id": "yShr0CQ8mU5n"
      },
      "execution_count": null,
      "outputs": []
    },
    {
      "cell_type": "code",
      "source": [
        "import numpy as np"
      ],
      "metadata": {
        "id": "Xc5cLKz8mclv"
      },
      "execution_count": null,
      "outputs": []
    },
    {
      "cell_type": "code",
      "source": [
        "list_1=[3,4,5,6]\n",
        "x=np.array(list_1)\n",
        "type(x) #Data type of python is different than numpy. List in python, ndarray in numpy. "
      ],
      "metadata": {
        "id": "PzPyhaudmxjw"
      },
      "execution_count": null,
      "outputs": []
    },
    {
      "cell_type": "code",
      "source": [
        "# Generation of numpy using built in techniques\n",
        "np_arr=np.arange(3,6,2)\n",
        "print(np_arr)"
      ],
      "metadata": {
        "id": "zgiickPjnegK"
      },
      "execution_count": null,
      "outputs": []
    },
    {
      "cell_type": "code",
      "source": [
        "import numpy as np\n",
        "np_arr1=np.ones(5,dtype='float32')\n",
        "print(np_arr1)\n",
        "type(np_arr1)"
      ],
      "metadata": {
        "id": "M26HXohPnxOe"
      },
      "execution_count": null,
      "outputs": []
    },
    {
      "cell_type": "code",
      "source": [
        "#LINKED LISTS\n",
        "\n",
        "# A simple Python program to introduce a linked list\n",
        "\n",
        "# Node class\n",
        "class Node:\n",
        "\n",
        "\t# Function to initialise the node object\n",
        "\tdef __init__(self, data):\n",
        "\t\tself.data = data # Assign data\n",
        "\t\tself.next = None # Initialize next as null\n",
        "\n",
        "\n",
        "# Linked List class contains a Node object\n",
        "class LinkedList:\n",
        "\n",
        "\t# Function to initialize head\n",
        "\tdef __init__(self):\n",
        "\t\tself.head = None\n",
        "\n",
        "\n",
        "# Code execution starts here\n",
        "if __name__=='__main__':\n",
        "\n",
        "\t# Start with the empty list\n",
        "\tllist = LinkedList()\n",
        "\n",
        "\tllist.head = Node(1)\n",
        "\tsecond = Node(2)\n",
        "\tthird = Node(3)\n",
        "\n",
        "\t'''\n",
        "\tThree nodes have been created.\n",
        "\tWe have references to these three blocks as head,\n",
        "\tsecond and third\n",
        "\n",
        "\tllist.head\t second\t\t\t third\n",
        "\t\t|\t\t\t |\t\t\t\t |\n",
        "\t\t|\t\t\t |\t\t\t\t |\n",
        "\t+----+------+\t +----+------+\t +----+------+\n",
        "\t| 1 | None |\t | 2 | None |\t | 3 | None |\n",
        "\t+----+------+\t +----+------+\t +----+------+\n",
        "\t'''\n",
        "\n",
        "\tllist.head.next = second; # Link first node with second\n",
        "\n",
        "\t'''\n",
        "\tNow next of first Node refers to second. So they\n",
        "\tboth are linked.\n",
        "\n",
        "\tllist.head\t second\t\t\t third\n",
        "\t\t|\t\t\t |\t\t\t\t |\n",
        "\t\t|\t\t\t |\t\t\t\t |\n",
        "\t+----+------+\t +----+------+\t +----+------+\n",
        "\t| 1 | o-------->| 2 | null |\t | 3 | null |\n",
        "\t+----+------+\t +----+------+\t +----+------+\n",
        "\t'''\n",
        "\n",
        "\tsecond.next = third; # Link second node with the third node\n",
        "\n",
        "\t'''\n",
        "\tNow next of second Node refers to third. So all three\n",
        "\tnodes are linked.\n",
        "\n",
        "\tllist.head\t second\t\t\t third\n",
        "\t\t|\t\t\t |\t\t\t\t |\n",
        "\t\t|\t\t\t |\t\t\t\t |\n",
        "\t+----+------+\t +----+------+\t +----+------+\n",
        "\t| 1 | o-------->| 2 | o-------->| 3 | null |\n",
        "\t+----+------+\t +----+------+\t +----+------+\n",
        "\t'''\n",
        "\n"
      ],
      "metadata": {
        "id": "5wwgIRA_bZKo"
      },
      "execution_count": null,
      "outputs": []
    },
    {
      "cell_type": "code",
      "source": [
        "# A simple Python program for traversal of a linked list\n",
        "\n",
        "# Node class\n",
        "class Node:\n",
        "\n",
        "\t# Function to initialise the node object\n",
        "\tdef __init__(self, data):\n",
        "\t\tself.data = data # Assign data\n",
        "\t\tself.next = None # Initialize next as null\n",
        "\n",
        "\n",
        "# Linked List class contains a Node object\n",
        "class LinkedList:\n",
        "\n",
        "\t# Function to initialize head\n",
        "\tdef __init__(self):\n",
        "\t\tself.head = None\n",
        "\n",
        "\t# This function prints contents of linked list\n",
        "\t# starting from head\n",
        "\tdef printList(self):\n",
        "\t\ttemp = self.head\n",
        "\t\twhile (temp):\n",
        "\t\t\tprint (temp.data)\n",
        "\t\t\ttemp = temp.next\n",
        "\n",
        "\n",
        "# Code execution starts here\n",
        "if __name__=='__main__':\n",
        "\n",
        "\t# Start with the empty list\n",
        "\tllist = LinkedList()\n",
        "\n",
        "\tllist.head = Node(1)\n",
        "\tsecond = Node(2)\n",
        "\tthird = Node(3)\n",
        "\n",
        "\tllist.head.next = second; # Link first node with second\n",
        "\tsecond.next = third; # Link second node with the third node\n",
        "\n",
        "\tllist.printList()\n",
        "\n"
      ],
      "metadata": {
        "id": "LtEZ5uV4ffVH"
      },
      "execution_count": null,
      "outputs": []
    },
    {
      "cell_type": "code",
      "source": [
        "import numpy as np"
      ],
      "metadata": {
        "id": "9lzGAnMJk0KE"
      },
      "execution_count": null,
      "outputs": []
    },
    {
      "cell_type": "code",
      "source": [
        "#generation of numpy array from python lists\n",
        "list_1=[10,2,35,40]"
      ],
      "metadata": {
        "id": "Zvn-wanKk-kr"
      },
      "execution_count": null,
      "outputs": []
    },
    {
      "cell_type": "code",
      "source": [
        "type(list_1)"
      ],
      "metadata": {
        "id": "_ZsQL5yIldWS"
      },
      "execution_count": null,
      "outputs": []
    },
    {
      "cell_type": "code",
      "source": [
        "type(list_1[0])"
      ],
      "metadata": {
        "id": "NRWD5z7Xlf-h"
      },
      "execution_count": null,
      "outputs": []
    },
    {
      "cell_type": "code",
      "source": [
        "np.ndarray"
      ],
      "metadata": {
        "id": "67gXtBOylkFD"
      },
      "execution_count": null,
      "outputs": []
    },
    {
      "cell_type": "code",
      "source": [
        "list_2=[[1,4],[-8,3]]"
      ],
      "metadata": {
        "id": "f1b8tUjplrbB"
      },
      "execution_count": null,
      "outputs": []
    },
    {
      "cell_type": "code",
      "source": [
        "np.array(list_2)"
      ],
      "metadata": {
        "id": "LcvDqeQ4l0Ik"
      },
      "execution_count": null,
      "outputs": []
    },
    {
      "cell_type": "code",
      "source": [
        "type(list_2[0])"
      ],
      "metadata": {
        "id": "j1NzOJ1rl40Y"
      },
      "execution_count": null,
      "outputs": []
    },
    {
      "cell_type": "code",
      "source": [
        "list_3=[[1,4,2],[-8,3,4],[2,6,9]]"
      ],
      "metadata": {
        "id": "Grwe367QmCgx"
      },
      "execution_count": null,
      "outputs": []
    },
    {
      "cell_type": "code",
      "source": [
        "#arange is the command is used for creating arrays using built in techniques\n",
        "np_arr1=np.arange(3,6,2)"
      ],
      "metadata": {
        "id": "uFCSsYQ5mLyL"
      },
      "execution_count": null,
      "outputs": []
    },
    {
      "cell_type": "code",
      "source": [
        "print(np_arr1)"
      ],
      "metadata": {
        "id": "yFXa8qD5mhGS"
      },
      "execution_count": null,
      "outputs": []
    },
    {
      "cell_type": "code",
      "source": [
        "np_arr1=np.arange(1,6,3)\n",
        "print(np_arr1)"
      ],
      "metadata": {
        "id": "j6kzpgRomrJg"
      },
      "execution_count": null,
      "outputs": []
    },
    {
      "cell_type": "code",
      "source": [
        "import numpy as np\n",
        "np_arr2=np.ones(5,dtype='int32') # vector 1-D\n",
        "print(np_arr2)"
      ],
      "metadata": {
        "id": "YqmtmsOlmyEv"
      },
      "execution_count": null,
      "outputs": []
    },
    {
      "cell_type": "code",
      "source": [
        "np_arr3=500*np.ones(10,dtype='int32')\n",
        "print(np_arr3)"
      ],
      "metadata": {
        "id": "pFv_DnIpnUzp"
      },
      "execution_count": null,
      "outputs": []
    },
    {
      "cell_type": "code",
      "source": [
        "np_arr3=np.ones((32,35),dtype='int32')\n",
        "print(np_arr3)"
      ],
      "metadata": {
        "id": "DzV72h8ynkZP"
      },
      "execution_count": null,
      "outputs": []
    },
    {
      "cell_type": "code",
      "source": [
        "np_arr4=np.zeros(9)\n",
        "print(np_arr4)"
      ],
      "metadata": {
        "id": "MSaG7FBtoBve"
      },
      "execution_count": null,
      "outputs": []
    },
    {
      "cell_type": "code",
      "source": [
        "np_arr4=np.zeros(9,dtype='int32')\n",
        "print(np_arr4)"
      ],
      "metadata": {
        "id": "RHN1Wz48oO_u"
      },
      "execution_count": null,
      "outputs": []
    },
    {
      "cell_type": "code",
      "source": [
        "np_arr6=np.linspace(1,10,3)\n",
        "print(np_arr6)"
      ],
      "metadata": {
        "id": "9QDG1j37oxgX"
      },
      "execution_count": null,
      "outputs": []
    },
    {
      "cell_type": "code",
      "source": [
        "np_arr6=np.linspace(2,10,4)\n",
        "print(np_arr6)"
      ],
      "metadata": {
        "id": "11KKGzROpDyG"
      },
      "execution_count": null,
      "outputs": []
    },
    {
      "cell_type": "code",
      "source": [
        "np_arr7=np.eye(3)\n",
        "print(np_arr7)"
      ],
      "metadata": {
        "id": "uFwPyaplpLBG"
      },
      "execution_count": null,
      "outputs": []
    },
    {
      "cell_type": "code",
      "source": [
        "np_arr8=np.random.rand(4) #span from [0,1]\n",
        "print(np_arr8)"
      ],
      "metadata": {
        "id": "CDn_iZBwqRxn"
      },
      "execution_count": null,
      "outputs": []
    },
    {
      "cell_type": "code",
      "source": [
        "np_arr8=np.random.randn(4) #span from [0,1]\n",
        "print(np_arr8)"
      ],
      "metadata": {
        "id": "oZ1udkZlqqrc"
      },
      "execution_count": null,
      "outputs": []
    },
    {
      "cell_type": "code",
      "source": [
        "np_arr9=np.random.rand(4,5)\n",
        "print(np_arr9)"
      ],
      "metadata": {
        "id": "6vJwdrpgq6bs"
      },
      "execution_count": null,
      "outputs": []
    },
    {
      "cell_type": "code",
      "source": [
        "np_arr9.reshape(2,10)"
      ],
      "metadata": {
        "id": "dqNdI8XKq9er"
      },
      "execution_count": null,
      "outputs": []
    },
    {
      "cell_type": "code",
      "source": [
        "y=np_arr9.reshape(4,5)\n",
        "print(y)"
      ],
      "metadata": {
        "id": "R4QQ7HrfrjZc"
      },
      "execution_count": null,
      "outputs": []
    },
    {
      "cell_type": "code",
      "source": [
        "print(np_arr9.max()) #value"
      ],
      "metadata": {
        "id": "ks0qrDr-r2ak"
      },
      "execution_count": null,
      "outputs": []
    },
    {
      "cell_type": "code",
      "source": [
        "print(np_arr9.argmax()) #position"
      ],
      "metadata": {
        "id": "yGBs5770sJHS"
      },
      "execution_count": null,
      "outputs": []
    },
    {
      "cell_type": "code",
      "source": [
        "type(np_arr9.shape)"
      ],
      "metadata": {
        "id": "uqNYL2bzsPHb"
      },
      "execution_count": null,
      "outputs": []
    },
    {
      "cell_type": "code",
      "source": [
        "np_arr9.dtype"
      ],
      "metadata": {
        "id": "O-LEwUa8sbTE"
      },
      "execution_count": null,
      "outputs": []
    },
    {
      "cell_type": "code",
      "source": [
        "np_arr9>0.2"
      ],
      "metadata": {
        "id": "oi6fUVyGsmTl"
      },
      "execution_count": null,
      "outputs": []
    },
    {
      "cell_type": "code",
      "source": [
        "!pip install scipy"
      ],
      "metadata": {
        "id": "dn4Igp2CsrTR"
      },
      "execution_count": null,
      "outputs": []
    },
    {
      "cell_type": "code",
      "source": [
        "import numpy as np\n",
        "from scipy import linalg\n",
        "numpy_mat=np.array([[3,2,2],[5,5,2],[7,8,69]])\n",
        "linalg.det(numpy_mat)"
      ],
      "metadata": {
        "id": "JzBbbLPbv1fP"
      },
      "execution_count": null,
      "outputs": []
    },
    {
      "cell_type": "code",
      "source": [
        "EW, EV = linalg.eig(numpy_mat)\n",
        "print(EW)\n",
        "print('\\n')\n",
        "print(EV)"
      ],
      "metadata": {
        "id": "NBnxJhr1wOW_"
      },
      "execution_count": null,
      "outputs": []
    },
    {
      "cell_type": "code",
      "source": [
        "from numpy import poly1d\n",
        "p = poly1d([5,3,2,1])\n",
        "print(p)"
      ],
      "metadata": {
        "id": "mOpj8r5Qwfei"
      },
      "execution_count": null,
      "outputs": []
    },
    {
      "cell_type": "code",
      "source": [
        "print(p.deriv()) # derivative of above polynomial"
      ],
      "metadata": {
        "id": "9Ptr3smQwuvV"
      },
      "execution_count": null,
      "outputs": []
    },
    {
      "cell_type": "code",
      "source": [
        "#Computation of FFT\n",
        "from scipy.fftpack import fft,ifft\n",
        "import numpy as np\n",
        "#Numpy array generation\n",
        "x = np.array([1.0, 1.0, 1.0, 1.0])\n",
        "\n",
        "#Applying the fft function\n",
        "y = fft(x)\n",
        "print(y)"
      ],
      "metadata": {
        "id": "CwdlPT7zxJ32"
      },
      "execution_count": null,
      "outputs": []
    },
    {
      "cell_type": "code",
      "source": [
        "yinv = ifft(y)\n",
        "print(yinv)"
      ],
      "metadata": {
        "id": "lJ95Fv_xx1kl"
      },
      "execution_count": null,
      "outputs": []
    },
    {
      "cell_type": "code",
      "source": [
        "#pandas\n",
        "#used for data analysis & visualization\n",
        "!pip install pandas\n"
      ],
      "metadata": {
        "id": "0WNq9cDZyl69"
      },
      "execution_count": null,
      "outputs": []
    },
    {
      "cell_type": "code",
      "source": [
        "%matplotlib inline\n",
        "import pandas as pd"
      ],
      "metadata": {
        "id": "9rsVnDeWcXT5"
      },
      "execution_count": null,
      "outputs": []
    },
    {
      "cell_type": "code",
      "source": [
        "df = pd.DataFrame({'Marks':[None,55,66,46,34,22,18,55],'Name':['def','pqr','gpi','xyz','abc','ccv','otp','por']})\n",
        "df.head() #will show first 5 rows"
      ],
      "metadata": {
        "id": "RxbmgIJ3ddMz"
      },
      "execution_count": null,
      "outputs": []
    },
    {
      "cell_type": "code",
      "source": [
        "df = pd.DataFrame({'Marks':[None,55,66,46,34,22,18,55],'Name':['def','pqr','gpi','xyz','abc','ccv','otp','por']})\n",
        "df"
      ],
      "metadata": {
        "id": "Uzju9TEHd2Ry"
      },
      "execution_count": null,
      "outputs": []
    },
    {
      "cell_type": "code",
      "source": [
        "print(df.to_string()) #better way"
      ],
      "metadata": {
        "id": "-YdGZlZPeB3q"
      },
      "execution_count": null,
      "outputs": []
    },
    {
      "cell_type": "code",
      "source": [
        "df['Marks'].value_counts() #shows how many times a number has appeared"
      ],
      "metadata": {
        "id": "RDMuMzZueisD"
      },
      "execution_count": null,
      "outputs": []
    },
    {
      "cell_type": "code",
      "source": [
        "df['Marks']"
      ],
      "metadata": {
        "id": "UI4VyO-dexyB"
      },
      "execution_count": null,
      "outputs": []
    },
    {
      "cell_type": "code",
      "source": [
        "df['Name'].value_counts()"
      ],
      "metadata": {
        "id": "2GuOQKxCfVj6"
      },
      "execution_count": null,
      "outputs": []
    },
    {
      "cell_type": "code",
      "source": [
        "df['Name'].nunique()\n"
      ],
      "metadata": {
        "id": "c1sPd1yufZ-R"
      },
      "execution_count": null,
      "outputs": []
    },
    {
      "cell_type": "code",
      "source": [
        "df['Marks'].nunique() #shows the number of only unique elements"
      ],
      "metadata": {
        "id": "0I3GrgFofikD"
      },
      "execution_count": null,
      "outputs": []
    },
    {
      "cell_type": "code",
      "source": [
        "ans_arr=df['Name'].unique()\n",
        "print(ans_arr)"
      ],
      "metadata": {
        "id": "upWZ6vVCfvJg"
      },
      "execution_count": null,
      "outputs": []
    },
    {
      "cell_type": "code",
      "source": [
        "ans_arr.dtype"
      ],
      "metadata": {
        "id": "g1h768s9f4x8"
      },
      "execution_count": null,
      "outputs": []
    },
    {
      "cell_type": "code",
      "source": [
        "df\n"
      ],
      "metadata": {
        "id": "4L3ne2_of7z4"
      },
      "execution_count": null,
      "outputs": []
    },
    {
      "cell_type": "code",
      "source": [
        "df.info()"
      ],
      "metadata": {
        "id": "pQp9ypzSf-jv"
      },
      "execution_count": null,
      "outputs": []
    },
    {
      "cell_type": "code",
      "source": [
        "df.describe('')"
      ],
      "metadata": {
        "id": "xUjZLxL4gL9a"
      },
      "execution_count": null,
      "outputs": []
    },
    {
      "cell_type": "code",
      "source": [
        "# selection of data from dataframe\n",
        "df_2=df[df['Marks']>50]\n",
        "print(df_2)"
      ],
      "metadata": {
        "id": "mbYr-K9FgRrY"
      },
      "execution_count": null,
      "outputs": []
    },
    {
      "cell_type": "code",
      "source": [
        "def pract_marks(data1):\n",
        "    return data1+5\n",
        "\n",
        "\n",
        "df_3=df['Marks'].apply(pract_marks)\n",
        "df_3 #marks increased by 5"
      ],
      "metadata": {
        "id": "8bJl8kRegc-U"
      },
      "execution_count": null,
      "outputs": []
    },
    {
      "cell_type": "code",
      "source": [
        "df_3.head()"
      ],
      "metadata": {
        "id": "1c-hi_WQgiYU"
      },
      "execution_count": null,
      "outputs": []
    },
    {
      "cell_type": "code",
      "source": [
        "df_2 #previous index remains"
      ],
      "metadata": {
        "id": "1aS-u0migvBf"
      },
      "execution_count": null,
      "outputs": []
    },
    {
      "cell_type": "code",
      "source": [
        "df.columns"
      ],
      "metadata": {
        "id": "hgf3xIwig1F4"
      },
      "execution_count": null,
      "outputs": []
    },
    {
      "cell_type": "code",
      "source": [
        "df.sort_values(by='Name')"
      ],
      "metadata": {
        "id": "QP6ix2cNhgae"
      },
      "execution_count": null,
      "outputs": []
    },
    {
      "cell_type": "code",
      "source": [
        "df.isnull()"
      ],
      "metadata": {
        "id": "wugDBNwHhlfZ"
      },
      "execution_count": null,
      "outputs": []
    },
    {
      "cell_type": "code",
      "source": [
        "from numpy.random import randn\n",
        "df = pd.DataFrame(randn(4,4),index='e1 e2 e3 e4'.split(),columns='f1 f2 f3 f4'.split())\n",
        "df"
      ],
      "metadata": {
        "id": "-2SJr14Ejvor"
      },
      "execution_count": null,
      "outputs": []
    },
    {
      "cell_type": "code",
      "source": [
        "df[['f3','f4']]"
      ],
      "metadata": {
        "id": "T3ViXYPhkWsD"
      },
      "execution_count": null,
      "outputs": []
    },
    {
      "cell_type": "code",
      "source": [
        "df['f5'] = df['f3'] + df['f2']\n",
        "df"
      ],
      "metadata": {
        "id": "4eADMivykhIb"
      },
      "execution_count": null,
      "outputs": []
    },
    {
      "cell_type": "code",
      "source": [
        "df.loc['e1']  # Retrieval of data from rows"
      ],
      "metadata": {
        "id": "qUgOMIr5kvlz"
      },
      "execution_count": null,
      "outputs": []
    },
    {
      "cell_type": "code",
      "source": [
        "df>0"
      ],
      "metadata": {
        "id": "9EaUwhmek6Gc"
      },
      "execution_count": null,
      "outputs": []
    },
    {
      "cell_type": "code",
      "source": [
        "df['f1'].hist() #plots a histogram"
      ],
      "metadata": {
        "id": "pNbom8hclDip"
      },
      "execution_count": null,
      "outputs": []
    },
    {
      "cell_type": "code",
      "source": [
        "import matplotlib.pyplot as plt\n",
        "plt.style.use('ggplot')  #  A style from R language\n",
        "df['f1'].hist()  "
      ],
      "metadata": {
        "id": "LzeFS5r6lP8b"
      },
      "execution_count": null,
      "outputs": []
    },
    {
      "cell_type": "code",
      "source": [
        "plt.style.use('dark_background')\n",
        "df['f1'].hist()"
      ],
      "metadata": {
        "id": "z_ey-fBNliHQ"
      },
      "execution_count": null,
      "outputs": []
    },
    {
      "cell_type": "code",
      "source": [
        "print(df['f1'])\n",
        "\n",
        "plt.style.use('ggplot')\n",
        "df.plot.line(y='f1',figsize=(5,5))"
      ],
      "metadata": {
        "id": "_vFOTT9dlpQB"
      },
      "execution_count": null,
      "outputs": []
    },
    {
      "cell_type": "code",
      "source": [
        "print(df['f1'])\n",
        "print(df['f2'])\n",
        "df.plot.scatter(x='f1',y='f2')"
      ],
      "metadata": {
        "id": "iggRshxhlwNP"
      },
      "execution_count": null,
      "outputs": []
    },
    {
      "cell_type": "code",
      "source": [
        "#Matplotlib \n",
        "!pip install matplotlib"
      ],
      "metadata": {
        "id": "5-M2WOeql6fi"
      },
      "execution_count": null,
      "outputs": []
    },
    {
      "cell_type": "code",
      "source": [
        "import numpy as np"
      ],
      "metadata": {
        "id": "wD9uOcQkm-co"
      },
      "execution_count": null,
      "outputs": []
    },
    {
      "cell_type": "code",
      "source": [
        "# pyplot is a OOP library for plotting\n",
        "from matplotlib import pyplot as plt"
      ],
      "metadata": {
        "id": "0HvE5829nC8A"
      },
      "execution_count": null,
      "outputs": []
    },
    {
      "cell_type": "code",
      "source": [
        "var_on_x = np.linspace(-np.pi, np.pi, 256, endpoint=True) #pi values\n",
        "print(var_on_x)"
      ],
      "metadata": {
        "id": "tJHx9FYpnEZo"
      },
      "execution_count": null,
      "outputs": []
    },
    {
      "cell_type": "code",
      "source": [
        "my_cos = np.cos(var_on_x) #cos function\n",
        "print(my_cos)"
      ],
      "metadata": {
        "id": "LBwU3tpGoknJ"
      },
      "execution_count": null,
      "outputs": []
    },
    {
      "cell_type": "code",
      "source": [
        "import numpy as np\n",
        "import matplotlib.pyplot as plt\n",
        "\n",
        "var_on_x = np.linspace(-np.pi, np.pi, 5, endpoint=True) # data on x axis\n",
        "\n",
        "my_cos = np.cos(var_on_x) # data on y axis\n",
        "\n",
        "\n",
        "var_on_y_sin= np.sin(var_on_x)\n",
        "\n",
        "plt.plot(var_on_x, my_cos)\n",
        "\n",
        "plt.plot(var_on_x, var_on_y_sin)\n",
        "\n",
        "plt.show()"
      ],
      "metadata": {
        "id": "SolodLQoou-4"
      },
      "execution_count": null,
      "outputs": []
    },
    {
      "cell_type": "code",
      "source": [
        "import numpy as np\n",
        "import matplotlib.pyplot as plt\n",
        "\n",
        "var_on_x = np.linspace(-np.pi, np.pi, 10, endpoint=True) # data on x axis\n",
        "\n",
        "my_cos = np.cos(var_on_x) # data on y axis\n",
        "\n",
        "\n",
        "var_on_y_sin= np.sin(var_on_x)\n",
        "\n",
        "plt.plot(var_on_x, my_cos)\n",
        "\n",
        "plt.plot(var_on_x, var_on_y_sin)\n",
        "\n",
        "plt.show()"
      ],
      "metadata": {
        "id": "Mbq4LYxmp-mA"
      },
      "execution_count": null,
      "outputs": []
    },
    {
      "cell_type": "code",
      "source": [
        "import numpy as np\n",
        "import matplotlib.pyplot as plt\n",
        "\n",
        "var_on_x = np.linspace(-np.pi, np.pi, 15, endpoint=True) # data on x axis\n",
        "\n",
        "my_cos = np.cos(var_on_x) # data on y axis\n",
        "\n",
        "\n",
        "var_on_y_sin= np.sin(var_on_x)\n",
        "\n",
        "plt.plot(var_on_x, my_cos)\n",
        "\n",
        "plt.plot(var_on_x, var_on_y_sin)\n",
        "\n",
        "plt.show()"
      ],
      "metadata": {
        "id": "kXBL_dEdqApt"
      },
      "execution_count": null,
      "outputs": []
    },
    {
      "cell_type": "code",
      "source": [
        "import numpy as np\n",
        "import matplotlib.pyplot as plt\n",
        "\n",
        "var_on_x = np.linspace(-np.pi, np.pi, 50, endpoint=True) # data on x axis\n",
        "\n",
        "my_cos = np.cos(var_on_x) # data on y axis\n",
        "\n",
        "\n",
        "var_on_y_sin= np.sin(var_on_x)\n",
        "\n",
        "plt.plot(var_on_x, my_cos)\n",
        "\n",
        "plt.plot(var_on_x, var_on_y_sin)\n",
        "\n",
        "plt.show()"
      ],
      "metadata": {
        "id": "C3Ijl0GSqFDT"
      },
      "execution_count": null,
      "outputs": []
    },
    {
      "cell_type": "code",
      "source": [
        "import numpy as np\n",
        "import matplotlib.pyplot as plt\n",
        "\n",
        "var_on_x = np.linspace(-np.pi, np.pi, 256, endpoint=True) # data on x axis\n",
        "\n",
        "my_cos = np.cos(var_on_x) # data on y axis\n",
        "\n",
        "\n",
        "var_on_y_sin= np.sin(var_on_x)\n",
        "\n",
        "plt.plot(var_on_x, my_cos)\n",
        "\n",
        "plt.plot(var_on_x, var_on_y_sin)\n",
        "\n",
        "plt.show()"
      ],
      "metadata": {
        "id": "CHgPLJUxqHMO"
      },
      "execution_count": null,
      "outputs": []
    },
    {
      "cell_type": "code",
      "source": [
        "import numpy as np\n",
        "import matplotlib.pyplot as plt\n",
        "\n",
        "# Create a figure of size 15x12 inches, 1500 dots per inch\n",
        "plt.figure(figsize=(15, 12), dpi=3000) #crashes for high value\n",
        "\n",
        "var_on_x = np.linspace(-np.pi, np.pi, 256, endpoint=True)\n",
        "\n",
        "my_cos = np.cos(var_on_x)\n",
        "var_on_y_sin= np.sin(var_on_x)\n",
        "\n",
        "plt.plot(var_on_x, my_cos)\n",
        "plt.plot(var_on_x, var_on_y_sin)\n",
        "\n",
        "plt.show()"
      ],
      "metadata": {
        "id": "ZnlsUNEJrrba"
      },
      "execution_count": null,
      "outputs": []
    },
    {
      "cell_type": "code",
      "source": [
        "import numpy as np\n",
        "import matplotlib.pyplot as plt\n",
        "\n",
        "# Create a figure of size 15x12 inches, 1500 dots per inch\n",
        "plt.figure(figsize=(6, 6), dpi=1500)\n",
        "\n",
        "var_on_x = np.linspace(-np.pi, np.pi, 256, endpoint=True)\n",
        "\n",
        "my_cos = np.cos(var_on_x)\n",
        "var_on_y_sin= np.sin(var_on_x)\n",
        "\n",
        "plt.plot(var_on_x, my_cos)\n",
        "plt.plot(var_on_x, var_on_y_sin)\n",
        "\n",
        "plt.show()"
      ],
      "metadata": {
        "id": "Cf2g_u4sshGz"
      },
      "execution_count": null,
      "outputs": []
    },
    {
      "cell_type": "code",
      "source": [
        "import numpy as np\n",
        "import matplotlib.pyplot as plt\n",
        "\n",
        "\n",
        "plt.figure(figsize=(5, 5), dpi=150)\n",
        "var_on_x = np.linspace(-np.pi, np.pi, 256, endpoint=True)\n",
        "\n",
        "my_cos = np.cos(var_on_x)\n",
        "var_on_y_sin= np.sin(var_on_x)\n",
        "\n",
        "\n",
        "plt.plot(var_on_x, my_cos, color=\"magenta\", linewidth=1.0, linestyle=\"--\")\n",
        "plt.plot(var_on_x, var_on_y_sin, color=\"yellow\", linewidth=2.0, linestyle=\"-.\")\n",
        "\n",
        "# Set x limits\n",
        "#plt.xlim(-5, 5)\n",
        "# Set y limits\n",
        "#plt.ylim(-1.5, 1.5)\n",
        "\n",
        "\n",
        "plt.show()\n",
        "# Save figure \n",
        "plt.savefig(\"output_1.png\", dpi=150)"
      ],
      "metadata": {
        "id": "MpXXBC9hsnqP"
      },
      "execution_count": null,
      "outputs": []
    },
    {
      "cell_type": "code",
      "source": [
        "import numpy as np\n",
        "x_data = np.linspace(0, 10, 11)\n",
        "y_data = x_data ** 3\n",
        "print(x_data)\n",
        "print(y_data)"
      ],
      "metadata": {
        "id": "IlgAppnWsscD"
      },
      "execution_count": null,
      "outputs": []
    },
    {
      "cell_type": "code",
      "source": [
        "plt.figure(dpi=100)\n",
        "plt.plot(x_data, y_data, 'g') # 'g' is the color green\n",
        "plt.xlabel('numbers used in this expt ')\n",
        "plt.ylabel('their respective cubes')\n",
        "plt.title('No.s vs Cubes graph')\n",
        "plt.show()"
      ],
      "metadata": {
        "id": "og61BpYUtSTB"
      },
      "execution_count": null,
      "outputs": []
    },
    {
      "cell_type": "code",
      "source": [
        "# subplot commands\n",
        "# Syntax: plt.subplot(num_rows, num_cols, plot_seq)\n",
        "plt.subplot(2,1,1)\n",
        "plt.plot(x_data, y_data, 'y--') # More on color options later\n",
        "plt.subplot(2,1,2)\n",
        "plt.plot(y_data, x_data, 'm*-');"
      ],
      "metadata": {
        "id": "nVnBc1WruKUn"
      },
      "execution_count": null,
      "outputs": []
    },
    {
      "cell_type": "code",
      "source": [
        "# subplot commands\n",
        "# Syntax: plt.subplot(num_rows, num_cols, plot_seq)\n",
        "plt.subplot(1,2,1)\n",
        "plt.plot(x_data, y_data, 'y--') # More on color options later\n",
        "plt.subplot(1,2,2)\n",
        "plt.plot(y_data, x_data, 'm*-');"
      ],
      "metadata": {
        "id": "moRKswIkuNAc"
      },
      "execution_count": null,
      "outputs": []
    },
    {
      "cell_type": "code",
      "source": [
        "# subplot commands\n",
        "# Syntax: plt.subplot(num_rows, num_cols, plot_seq)\n",
        "plt.subplot(1,2,1)\n",
        "plt.plot(x_data, y_data, 'y--') # More on color options later\n",
        "\n",
        "\n",
        "'''\n",
        "plt.subplot(1,2,2)\n",
        "plt.plot(y_data, x_data, 'm*-');\n",
        "'''"
      ],
      "metadata": {
        "id": "qysyGPUhuS_V"
      },
      "execution_count": null,
      "outputs": []
    },
    {
      "cell_type": "code",
      "source": [
        "#image processing\n",
        "import cv2\n"
      ],
      "metadata": {
        "id": "WFQ116Prua1A"
      },
      "execution_count": null,
      "outputs": []
    },
    {
      "cell_type": "code",
      "source": [
        "import numpy as np\n",
        "import matplotlib.pyplot as plt\n",
        "import pandas as pd"
      ],
      "metadata": {
        "id": "oErz-INFTh-Q"
      },
      "execution_count": null,
      "outputs": []
    },
    {
      "cell_type": "code",
      "source": [
        "url = \"https://archive.ics.uci.edu/ml/machine-learning-databases/iris/iris.data\""
      ],
      "metadata": {
        "id": "asMBgxnoT6H2"
      },
      "execution_count": null,
      "outputs": []
    },
    {
      "cell_type": "code",
      "source": [
        "# Assign column names to the dataset\n",
        "colnames = ['sepal-length', 'sepal-width', 'petal-length', 'petal-width', 'Class']"
      ],
      "metadata": {
        "id": "18BW4kYhT8lW"
      },
      "execution_count": null,
      "outputs": []
    },
    {
      "cell_type": "code",
      "source": [
        "# Read dataset to pandas dataframe\n",
        "irisdata = pd.read_csv(url, names=colnames)"
      ],
      "metadata": {
        "id": "QouZLylgUOnP"
      },
      "execution_count": null,
      "outputs": []
    },
    {
      "cell_type": "code",
      "source": [
        "irisdata"
      ],
      "metadata": {
        "id": "75KkaqeuUR_f"
      },
      "execution_count": null,
      "outputs": []
    },
    {
      "cell_type": "code",
      "source": [
        "X = irisdata.drop('Class', axis=1)\n",
        "y = irisdata['Class']"
      ],
      "metadata": {
        "id": "lOt9qO3aUVTO"
      },
      "execution_count": null,
      "outputs": []
    },
    {
      "cell_type": "code",
      "source": [
        "print(y)"
      ],
      "metadata": {
        "id": "X2KkTbUCUWU_"
      },
      "execution_count": null,
      "outputs": []
    },
    {
      "cell_type": "code",
      "source": [
        "print(X)"
      ],
      "metadata": {
        "id": "yihdrXNNUYmx"
      },
      "execution_count": null,
      "outputs": []
    },
    {
      "cell_type": "code",
      "source": [
        "from sklearn.model_selection import train_test_split\n",
        "X_train, X_test, y_train, y_test = train_test_split(X, y, test_size = 0.20)"
      ],
      "metadata": {
        "id": "E5WNVcSfUdNx"
      },
      "execution_count": null,
      "outputs": []
    },
    {
      "cell_type": "code",
      "source": [
        "from sklearn.svm import SVC\n",
        "svclassifier = SVC(kernel='poly', degree=1, C=10)\n",
        "svclassifier.fit(X_train, y_train)"
      ],
      "metadata": {
        "id": "INDUTYeQUhEU"
      },
      "execution_count": null,
      "outputs": []
    },
    {
      "cell_type": "code",
      "source": [
        "y_pred = svclassifier.predict(X_test)"
      ],
      "metadata": {
        "id": "6lQL2w9SUiBX"
      },
      "execution_count": null,
      "outputs": []
    },
    {
      "cell_type": "code",
      "source": [
        "print(y_pred)"
      ],
      "metadata": {
        "id": "2d_rLFA0UmwQ"
      },
      "execution_count": null,
      "outputs": []
    },
    {
      "cell_type": "code",
      "source": [
        "from sklearn.metrics import classification_report, confusion_matrix\n",
        "print(confusion_matrix(y_test, y_pred))\n",
        "print(classification_report(y_test, y_pred))\n"
      ],
      "metadata": {
        "id": "Si5cFbyLUq6t"
      },
      "execution_count": null,
      "outputs": []
    },
    {
      "cell_type": "code",
      "source": [
        "from sklearn.svm import SVC\n",
        "svclassifier = SVC(kernel='rbf')\n",
        "svclassifier.fit(X_train, y_train)"
      ],
      "metadata": {
        "id": "NT4Lp2-nUtrX"
      },
      "execution_count": null,
      "outputs": []
    },
    {
      "cell_type": "code",
      "source": [
        "y_pred = svclassifier.predict(X_test)"
      ],
      "metadata": {
        "id": "OyVQJL5pU6ak"
      },
      "execution_count": null,
      "outputs": []
    },
    {
      "cell_type": "code",
      "source": [
        "from sklearn.metrics import classification_report, confusion_matrix\n",
        "print(confusion_matrix(y_test, y_pred))\n",
        "print(classification_report(y_test, y_pred))"
      ],
      "metadata": {
        "id": "wTUi8qvwU_pV"
      },
      "execution_count": null,
      "outputs": []
    },
    {
      "cell_type": "code",
      "source": [
        "from sklearn.svm import SVC\n",
        "svclassifier = SVC(kernel='sigmoid')\n",
        "svclassifier.fit(X_train, y_train)"
      ],
      "metadata": {
        "id": "p37uKR__VCcd"
      },
      "execution_count": null,
      "outputs": []
    },
    {
      "cell_type": "code",
      "source": [
        "from sklearn.metrics import classification_report, confusion_matrix\n",
        "print(confusion_matrix(y_test, y_pred))\n",
        "print(classification_report(y_test, y_pred))"
      ],
      "metadata": {
        "id": "-RndKN2PVLFS"
      },
      "execution_count": null,
      "outputs": []
    },
    {
      "cell_type": "code",
      "source": [
        "from sklearn.svm import SVC\n",
        "svclassifier = SVC(kernel='linear')\n",
        "svclassifier.fit(X_train, y_train)"
      ],
      "metadata": {
        "id": "qQm4MUmWVNEO"
      },
      "execution_count": null,
      "outputs": []
    },
    {
      "cell_type": "code",
      "source": [
        "y_pred = svclassifier.predict(X_test)"
      ],
      "metadata": {
        "id": "PZO7NblNVTRg"
      },
      "execution_count": null,
      "outputs": []
    },
    {
      "cell_type": "code",
      "source": [
        "from sklearn.metrics import classification_report, confusion_matrix\n",
        "print(confusion_matrix(y_test, y_pred))\n",
        "print(classification_report(y_test, y_pred))"
      ],
      "metadata": {
        "id": "W1iVraa1VUje"
      },
      "execution_count": null,
      "outputs": []
    },
    {
      "cell_type": "markdown",
      "source": [
        "UPLOADED BANK NOTE AUTHENTICITY IN FOLDER"
      ],
      "metadata": {
        "id": "y3k7cCFVV7cH"
      }
    },
    {
      "cell_type": "code",
      "source": [
        "import pandas as pd\n",
        "import numpy as np\n",
        "import matplotlib.pyplot as plt\n",
        "%matplotlib inline"
      ],
      "metadata": {
        "id": "0enWpho_WAEg"
      },
      "execution_count": null,
      "outputs": []
    },
    {
      "cell_type": "code",
      "source": [
        "bankdata = pd.read_csv(\"data_banknote_authentication.txt\")"
      ],
      "metadata": {
        "id": "7coiEWjtWHsu"
      },
      "execution_count": null,
      "outputs": []
    },
    {
      "cell_type": "code",
      "source": [
        "bankdata.shape"
      ],
      "metadata": {
        "id": "tTdXvEY3WJJ3"
      },
      "execution_count": null,
      "outputs": []
    },
    {
      "cell_type": "code",
      "source": [
        "bankdata.columns =['F1', 'F2', 'F3', 'F4','Class']"
      ],
      "metadata": {
        "id": "mhGdIRKmWSmH"
      },
      "execution_count": null,
      "outputs": []
    },
    {
      "cell_type": "code",
      "source": [
        "bankdata.head()"
      ],
      "metadata": {
        "id": "hOoWp7SNWVOr"
      },
      "execution_count": null,
      "outputs": []
    },
    {
      "cell_type": "code",
      "source": [
        "X = bankdata.drop('Class', axis=1)\n",
        "y = bankdata['Class']"
      ],
      "metadata": {
        "id": "ACckgM3KWYrm"
      },
      "execution_count": null,
      "outputs": []
    },
    {
      "cell_type": "code",
      "source": [
        "y.shape"
      ],
      "metadata": {
        "id": "U1X8V74rWbOZ"
      },
      "execution_count": null,
      "outputs": []
    },
    {
      "cell_type": "code",
      "source": [
        "X.shape"
      ],
      "metadata": {
        "id": "DrSYCPQrWdRp"
      },
      "execution_count": null,
      "outputs": []
    },
    {
      "cell_type": "code",
      "source": [
        "1371*0.7"
      ],
      "metadata": {
        "id": "nsUG0vwyWll6"
      },
      "execution_count": null,
      "outputs": []
    },
    {
      "cell_type": "code",
      "source": [
        "from sklearn.model_selection import train_test_split\n",
        "X_train, X_test, y_train, y_test = train_test_split(X, y, test_size = 0.30)"
      ],
      "metadata": {
        "id": "Bu59frQ2WmnB"
      },
      "execution_count": null,
      "outputs": []
    },
    {
      "cell_type": "code",
      "source": [
        "X_train.shape"
      ],
      "metadata": {
        "id": "wXkiFgIAWo72"
      },
      "execution_count": null,
      "outputs": []
    },
    {
      "cell_type": "code",
      "source": [
        "from sklearn.svm import SVC\n",
        "svclassifier = SVC(kernel='linear',C=1.0)\n",
        "svclassifier.fit(X_train, y_train)"
      ],
      "metadata": {
        "id": "Scae0igPWq_n"
      },
      "execution_count": null,
      "outputs": []
    },
    {
      "cell_type": "code",
      "source": [
        "y_pred = svclassifier.predict(X_test)"
      ],
      "metadata": {
        "id": "JzJJJMZGW39k"
      },
      "execution_count": null,
      "outputs": []
    },
    {
      "cell_type": "code",
      "source": [
        "from sklearn.metrics import classification_report, confusion_matrix\n",
        "print(confusion_matrix(y_test,y_pred))\n",
        "print(classification_report(y_test,y_pred))"
      ],
      "metadata": {
        "id": "5XlgrDIoW-qx"
      },
      "execution_count": null,
      "outputs": []
    },
    {
      "cell_type": "code",
      "source": [
        "from sklearn.model_selection import GridSearchCV \n",
        "\n",
        "# defining parameter range \n",
        "param_grid = {'C': [0.1, 0.2, 0.3, 1, 5, 8, 10, 20, 30, 40, 50, 60, 70, 80, 90, 100, 1000], \n",
        "\t\t\t'gamma': [1, 0.1, 0.01, 0.001, 0.0001, 0.00001], \n",
        "\t\t\t'kernel': ['rbf']} \n",
        "\n",
        "grid = GridSearchCV(SVC(), param_grid, refit = True, verbose = 3) "
      ],
      "metadata": {
        "id": "JtZKWn8vW_bL"
      },
      "execution_count": null,
      "outputs": []
    },
    {
      "cell_type": "code",
      "source": [
        "# fitting the model for grid search \n",
        "grid.fit(X_train, y_train) "
      ],
      "metadata": {
        "id": "CSJdZRGtXJZq"
      },
      "execution_count": null,
      "outputs": []
    },
    {
      "cell_type": "code",
      "source": [
        "# print best parameter after tuning \n",
        "print(grid.best_params_) \n",
        "\n",
        "# print how our model looks after hyper-parameter tuning \n",
        "print(grid.best_estimator_) "
      ],
      "metadata": {
        "id": "S0WKJ4mTXMbJ"
      },
      "execution_count": null,
      "outputs": []
    },
    {
      "cell_type": "code",
      "source": [
        "grid_predictions = grid.predict(X_test) \n",
        "\n",
        "# print classification report \n",
        "print(confusion_matrix(y_test,grid_predictions))\n",
        "print(classification_report(y_test, grid_predictions))"
      ],
      "metadata": {
        "id": "Mx-ViThsXRzt"
      },
      "execution_count": null,
      "outputs": []
    },
    {
      "cell_type": "code",
      "source": [
        "#ANN\n",
        "\n"
      ],
      "metadata": {
        "id": "ZMRdDgmXcxSp"
      },
      "execution_count": null,
      "outputs": []
    },
    {
      "cell_type": "code",
      "source": [
        "from joblib.numpy_pickle_utils import xrange\n",
        "from numpy import *"
      ],
      "metadata": {
        "id": "L2BFEBN-c5nc"
      },
      "execution_count": null,
      "outputs": []
    },
    {
      "cell_type": "code",
      "source": [
        "class NeuralNet(object):\n",
        "    def __init__(self):\n",
        "        # Generate random numbers\n",
        "        random.seed(1)\n",
        "  \n",
        "        # Assign random weights to a 4 x 1 matrix,\n",
        "        self.synaptic_weights = 2 * random.random((4, 1)) - 1\n",
        "  \n",
        "    # The Sigmoid function\n",
        "    def __sigmoid(self, x):\n",
        "        return 1 / (1 + exp(-x))\n",
        "  \n",
        "    # The derivative of the Sigmoid function.\n",
        "    # This is the gradient of the Sigmoid curve.\n",
        "    def __sigmoid_derivative(self, x):\n",
        "        return x * (1 - x)\n",
        "  \n",
        "    # Train the neural network and adjust the weights each time.\n",
        "    def train(self, inputs, outputs, training_iterations):\n",
        "        for iteration in xrange(training_iterations):\n",
        "            # Pass the training set through the network.\n",
        "            output = self.learn(inputs)\n",
        "  \n",
        "            # Calculate the error\n",
        "            error = outputs - output\n",
        "  \n",
        "            # Adjust the weights by a factor\n",
        "            factor = dot(inputs.T, error * self.__sigmoid_derivative(output))\n",
        "            self.synaptic_weights += factor\n",
        "            print(iteration)\n",
        "            print(self.synaptic_weights)\n",
        " \n",
        "        # The neural network thinks.\n",
        "  \n",
        "    def learn(self, inputs):\n",
        "        return self.__sigmoid(dot(inputs, self.synaptic_weights))"
      ],
      "metadata": {
        "id": "D_4rV10rc9dZ"
      },
      "execution_count": null,
      "outputs": []
    },
    {
      "cell_type": "code",
      "source": [
        "if __name__ == \"__main__\":\n",
        "    # Initialize\n",
        "    neural_network = NeuralNet()\n",
        "  \n",
        "    # The training set.\n",
        "    inputs = array([[0, 0, 1, 1], [0, 0, 1.25, 1.5], [0, 0, 1,2], [0, 0, 1,3], [0, 0, 2,2],[2,2,0,0],[5,4,0,0],[12,5,0,0], [4,7,0,0],[12,2,0,0]])\n",
        "    outputs = array([[0,0,0,0,0,1,1,1,1,1]]).T\n",
        "  \n",
        "    # Train the neural network\n",
        "    neural_network.train(inputs, outputs, 100)\n",
        "  "
      ],
      "metadata": {
        "id": "QXJfIcx3dDAs"
      },
      "execution_count": null,
      "outputs": []
    },
    {
      "cell_type": "code",
      "source": [
        "print(neural_network.learn(array([12,15,0,0])))"
      ],
      "metadata": {
        "id": "085fdl51dF3h"
      },
      "execution_count": null,
      "outputs": []
    },
    {
      "cell_type": "code",
      "source": [
        "#CNN\n"
      ],
      "metadata": {
        "id": "Kp68aMB05ffk"
      },
      "execution_count": null,
      "outputs": []
    },
    {
      "cell_type": "code",
      "source": [
        "from tensorflow.keras.datasets import mnist\n",
        "(train_images, train_labels), (test_images, test_labels) = mnist.load_data()"
      ],
      "metadata": {
        "id": "n3nCvVe-5urj"
      },
      "execution_count": null,
      "outputs": []
    },
    {
      "cell_type": "code",
      "source": [
        "train_images.shape"
      ],
      "metadata": {
        "id": "Mq0de2lH5yl5"
      },
      "execution_count": null,
      "outputs": []
    },
    {
      "cell_type": "code",
      "source": [
        "len(train_labels)"
      ],
      "metadata": {
        "id": "x6CYcxzS6GL6"
      },
      "execution_count": null,
      "outputs": []
    },
    {
      "cell_type": "code",
      "source": [
        "train_labels"
      ],
      "metadata": {
        "id": "Ih-vzDcY6iXo"
      },
      "execution_count": null,
      "outputs": []
    },
    {
      "cell_type": "code",
      "source": [
        "test_images.shape"
      ],
      "metadata": {
        "id": "6Ctf-V9b8SIj"
      },
      "execution_count": null,
      "outputs": []
    },
    {
      "cell_type": "code",
      "source": [
        "len(test_labels)"
      ],
      "metadata": {
        "id": "UJ5SwHhC83KC"
      },
      "execution_count": null,
      "outputs": []
    },
    {
      "cell_type": "code",
      "source": [
        "test_labels"
      ],
      "metadata": {
        "id": "bfXA8Haf89rX"
      },
      "execution_count": null,
      "outputs": []
    },
    {
      "cell_type": "code",
      "source": [
        "28*28"
      ],
      "metadata": {
        "id": "1bD3e6GX8-wr"
      },
      "execution_count": null,
      "outputs": []
    },
    {
      "cell_type": "code",
      "source": [
        "from tensorflow import keras\n",
        "from tensorflow.keras import layers\n",
        "model = keras.Sequential([\n",
        "    layers.Dense(512, activation=\"relu\"),\n",
        "    layers.Dense(10, activation=\"softmax\")\n",
        "])"
      ],
      "metadata": {
        "id": "2Wp4l7if9BbB"
      },
      "execution_count": null,
      "outputs": []
    },
    {
      "cell_type": "code",
      "source": [
        "model.compile(optimizer=\"rmsprop\",\n",
        "              loss=\"sparse_categorical_crossentropy\",\n",
        "              metrics=[\"accuracy\"])"
      ],
      "metadata": {
        "id": "AftZD6Px9Dmp"
      },
      "execution_count": null,
      "outputs": []
    },
    {
      "cell_type": "code",
      "source": [
        "train_images = train_images.reshape((60000, 28 * 28))\n",
        "train_images = train_images.astype(\"float32\") / 255\n",
        "test_images = test_images.reshape((10000, 28 * 28))\n",
        "test_images = test_images.astype(\"float32\") / 255"
      ],
      "metadata": {
        "id": "TpK5czWS9Hyp"
      },
      "execution_count": null,
      "outputs": []
    },
    {
      "cell_type": "code",
      "source": [
        "model.fit(train_images, train_labels, epochs=5, batch_size=128)"
      ],
      "metadata": {
        "id": "sOZ9sSw49Ky_"
      },
      "execution_count": null,
      "outputs": []
    },
    {
      "cell_type": "code",
      "source": [
        "test_digits = test_images[0:10]\n",
        "predictions = model.predict(test_digits)\n",
        "predictions[0]"
      ],
      "metadata": {
        "id": "sy9FE2cQ9V6I"
      },
      "execution_count": null,
      "outputs": []
    },
    {
      "cell_type": "code",
      "source": [
        "predictions[0].argmax()"
      ],
      "metadata": {
        "id": "tx-OmI_o9ibE"
      },
      "execution_count": null,
      "outputs": []
    },
    {
      "cell_type": "code",
      "source": [
        "predictions[0][7]"
      ],
      "metadata": {
        "id": "T01G4W1L9m6I"
      },
      "execution_count": null,
      "outputs": []
    },
    {
      "cell_type": "code",
      "source": [
        "test_labels[0]"
      ],
      "metadata": {
        "id": "xhRv1odc9pW_"
      },
      "execution_count": null,
      "outputs": []
    },
    {
      "cell_type": "code",
      "source": [
        "test_loss, test_acc = model.evaluate(test_images, test_labels)\n",
        "print(f\"test_acc: {test_acc}\")"
      ],
      "metadata": {
        "id": "ryKIcD_-9v_J"
      },
      "execution_count": null,
      "outputs": []
    },
    {
      "cell_type": "code",
      "source": [
        "#Instantiating a small convnet\n",
        "\n",
        "# a collection of Conv2D and Maxpooling layers followed by a Dense layer"
      ],
      "metadata": {
        "id": "FOF8qwAC9xkt"
      },
      "execution_count": null,
      "outputs": []
    },
    {
      "cell_type": "code",
      "source": [
        "from tensorflow import keras\n",
        "from tensorflow.keras import layers\n",
        "inputs = keras.Input(shape=(28, 28, 1))#(shape=(img height,width,channels))\n",
        "x = layers.Conv2D(filters=32, kernel_size=3, activation=\"relu\")(inputs)\n",
        "x = layers.MaxPooling2D(pool_size=2)(x)\n",
        "x = layers.Conv2D(filters=64, kernel_size=3, activation=\"relu\")(x)\n",
        "x = layers.MaxPooling2D(pool_size=2)(x)\n",
        "x = layers.Conv2D(filters=128, kernel_size=3, activation=\"relu\")(x)\n",
        "x = layers.Flatten()(x)\n",
        "outputs = layers.Dense(10, activation=\"softmax\")(x)\n",
        "model = keras.Model(inputs=inputs, outputs=outputs)"
      ],
      "metadata": {
        "id": "3OGUjME393hH"
      },
      "execution_count": null,
      "outputs": []
    },
    {
      "cell_type": "code",
      "source": [
        "model.summary()"
      ],
      "metadata": {
        "id": "ut-s-hxL9-m_"
      },
      "execution_count": null,
      "outputs": []
    },
    {
      "cell_type": "code",
      "source": [
        "3*3*128"
      ],
      "metadata": {
        "id": "gJSMPFmJ-AWP"
      },
      "execution_count": null,
      "outputs": []
    },
    {
      "cell_type": "code",
      "source": [
        "from tensorflow.keras.datasets import mnist\n",
        "\n",
        "(train_images, train_labels), (test_images, test_labels) = mnist.load_data()\n",
        "train_images = train_images.reshape((60000, 28, 28, 1))\n",
        "train_images = train_images.astype(\"float32\") / 255\n",
        "test_images = test_images.reshape((10000, 28, 28, 1))\n",
        "test_images = test_images.astype(\"float32\") / 255\n",
        "model.compile(optimizer=\"rmsprop\",\n",
        "    loss=\"sparse_categorical_crossentropy\",\n",
        "    metrics=[\"accuracy\"])\n",
        "model.fit(train_images, train_labels, epochs=5, batch_size=64)"
      ],
      "metadata": {
        "id": "i9_VtoKB-DUg"
      },
      "execution_count": null,
      "outputs": []
    },
    {
      "cell_type": "code",
      "source": [
        "test_loss, test_acc = model.evaluate(test_images, test_labels)\n",
        "print(f\"Test accuracy: {test_acc:.3f}\")"
      ],
      "metadata": {
        "id": "PItoLusR_N4U"
      },
      "execution_count": null,
      "outputs": []
    },
    {
      "cell_type": "code",
      "source": [
        "from keras.datasets import cifar10\n",
        "from matplotlib import pyplot\n",
        "# load data\n",
        "(X_train, y_train), (X_test, y_test) = cifar10.load_data()\n",
        "# create a grid of 3x3 images\n",
        "for i in range(0, 9):\n",
        "\tpyplot.subplot(330 + 1 + i)\n",
        "\tpyplot.imshow(X_train[i])\n",
        "# show the plot\n",
        "pyplot.show()"
      ],
      "metadata": {
        "id": "aK0Dofo7BF9Y"
      },
      "execution_count": null,
      "outputs": []
    },
    {
      "cell_type": "code",
      "source": [
        "#Simple Convolutional Neural Network for CIFAR-10"
      ],
      "metadata": {
        "id": "EEyd5YI8GhGb"
      },
      "execution_count": null,
      "outputs": []
    },
    {
      "cell_type": "code",
      "source": [
        "# Simple CNN model for CIFAR-10\n",
        "from keras.datasets import cifar10\n",
        "from keras.models import Sequential\n",
        "from keras.layers import Dense\n",
        "from keras.layers import Dropout\n",
        "from keras.layers import Flatten\n",
        "from keras.constraints import maxnorm\n",
        "from tensorflow.keras.optimizers import SGD\n",
        "from keras.layers.convolutional import Conv2D\n",
        "from keras.layers.convolutional import MaxPooling2D\n",
        "from keras.utils import np_utils"
      ],
      "metadata": {
        "id": "Fkfxv5NCGpEk"
      },
      "execution_count": null,
      "outputs": []
    },
    {
      "cell_type": "code",
      "source": [
        "# load data\n",
        "(X_train, y_train), (X_test, y_test) = cifar10.load_data()"
      ],
      "metadata": {
        "id": "g9Y7PTv0GtUr"
      },
      "execution_count": null,
      "outputs": []
    },
    {
      "cell_type": "code",
      "source": [
        "X_train.shape"
      ],
      "metadata": {
        "id": "_gZl6dPSGwYd"
      },
      "execution_count": null,
      "outputs": []
    },
    {
      "cell_type": "code",
      "source": [
        "y_train.shape"
      ],
      "metadata": {
        "id": "XK6Fy9mQGye2"
      },
      "execution_count": null,
      "outputs": []
    },
    {
      "cell_type": "code",
      "source": [
        "X_test.shape"
      ],
      "metadata": {
        "id": "7JJ9mlIUG1_j"
      },
      "execution_count": null,
      "outputs": []
    },
    {
      "cell_type": "code",
      "source": [
        "y_test.shape"
      ],
      "metadata": {
        "id": "XoaeASM7G4gR"
      },
      "execution_count": null,
      "outputs": []
    },
    {
      "cell_type": "code",
      "source": [
        "# normalize inputs from 0-255 to 0.0-1.0\n",
        "X_train = X_train.astype('float32')\n",
        "X_test = X_test.astype('float32')\n",
        "X_train = X_train / 255.0\n",
        "X_test = X_test / 255.0"
      ],
      "metadata": {
        "id": "wUbkuf-EG5mz"
      },
      "execution_count": null,
      "outputs": []
    },
    {
      "cell_type": "code",
      "source": [
        "y_test"
      ],
      "metadata": {
        "id": "zplEbdlkG84N"
      },
      "execution_count": null,
      "outputs": []
    },
    {
      "cell_type": "code",
      "source": [
        "# one hot encode outputs\n",
        "y_train = np_utils.to_categorical(y_train)\n",
        "y_test = np_utils.to_categorical(y_test)\n",
        "num_classes = y_test.shape[1]"
      ],
      "metadata": {
        "id": "EZrUW0LRHaWc"
      },
      "execution_count": null,
      "outputs": []
    },
    {
      "cell_type": "code",
      "source": [
        "print(num_classes)"
      ],
      "metadata": {
        "id": "imrRem0mH1AL"
      },
      "execution_count": null,
      "outputs": []
    },
    {
      "cell_type": "code",
      "source": [
        "print(y_test)"
      ],
      "metadata": {
        "id": "Had7eFpeH4Rv"
      },
      "execution_count": null,
      "outputs": []
    },
    {
      "cell_type": "markdown",
      "source": [
        "![image.png](data:image/png;base64,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)"
      ],
      "metadata": {
        "id": "tkhGrNfXH7SJ"
      }
    },
    {
      "cell_type": "code",
      "source": [
        "# Create the model\n",
        "model = Sequential()\n",
        "model.add(Conv2D(32, (3, 3), input_shape=(32, 32, 3), padding='same', activation='relu', kernel_constraint=maxnorm(3)))\n",
        "model.add(Dropout(0.2))\n",
        "model.add(Conv2D(32, (3, 3), activation='relu', padding='same', kernel_constraint=maxnorm(3)))\n",
        "model.add(MaxPooling2D(pool_size=(2, 2)))\n",
        "model.add(Flatten())\n",
        "model.add(Dense(512, activation='relu', kernel_constraint=maxnorm(3)))\n",
        "model.add(Dropout(0.5))\n",
        "model.add(Dense(num_classes, activation='softmax'))\n",
        "# Compile model\n",
        "epochs = 25\n",
        "lrate = 0.01\n",
        "decay = lrate/epochs\n",
        "sgd = SGD(lr=lrate, momentum=0.9, decay=decay, nesterov=False)\n",
        "model.compile(loss='categorical_crossentropy', optimizer=sgd, metrics=['accuracy'])\n",
        "print(model.summary())"
      ],
      "metadata": {
        "id": "joC-0RCAH-42"
      },
      "execution_count": null,
      "outputs": []
    },
    {
      "cell_type": "code",
      "source": [
        "# Fit the model\n",
        "model.fit(X_train, y_train, validation_data=(X_test, y_test), epochs=epochs, batch_size=32)\n",
        "# Final evaluation of the model\n",
        "scores = model.evaluate(X_test, y_test, verbose=0)\n",
        "print(\"Accuracy: %.2f%%\" % (scores[1]*100))"
      ],
      "metadata": {
        "id": "NVppSpW-IGwM"
      },
      "execution_count": null,
      "outputs": []
    },
    {
      "cell_type": "markdown",
      "source": [
        "Larger Convolutional Neural Network for CIFAR-10"
      ],
      "metadata": {
        "id": "bs7NByyAIJUK"
      }
    },
    {
      "cell_type": "markdown",
      "source": [
        "![image.png](data:image/png;base64,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)"
      ],
      "metadata": {
        "id": "pBAqjsKhIKD6"
      }
    },
    {
      "cell_type": "code",
      "source": [
        "# Create the model\n",
        "model = Sequential()\n",
        "model.add(Conv2D(32, (3, 3), input_shape=(32, 32, 3), activation='relu', padding='same'))\n",
        "model.add(Dropout(0.2))\n",
        "model.add(Conv2D(32, (3, 3), activation='relu', padding='same'))\n",
        "model.add(MaxPooling2D())\n",
        "model.add(Conv2D(64, (3, 3), activation='relu', padding='same'))\n",
        "model.add(Dropout(0.2))\n",
        "model.add(Conv2D(64, (3, 3), activation='relu', padding='same'))\n",
        "model.add(MaxPooling2D())\n",
        "model.add(Conv2D(128, (3, 3), activation='relu', padding='same'))\n",
        "model.add(Dropout(0.2))\n",
        "model.add(Conv2D(128, (3, 3), activation='relu', padding='same'))\n",
        "model.add(MaxPooling2D())\n",
        "model.add(Flatten())\n",
        "model.add(Dropout(0.2))\n",
        "model.add(Dense(1024, activation='relu', kernel_constraint=maxnorm(3)))\n",
        "model.add(Dropout(0.2))\n",
        "model.add(Dense(512, activation='relu', kernel_constraint=maxnorm(3)))\n",
        "model.add(Dropout(0.2))\n",
        "model.add(Dense(num_classes, activation='softmax'))\n",
        "# Compile model\n",
        "epochs = 25\n",
        "lrate = 0.01\n",
        "decay = lrate/epochs\n",
        "sgd = SGD(lr=lrate, momentum=0.9, decay=decay, nesterov=False)\n",
        "model.compile(loss='categorical_crossentropy', optimizer=sgd, metrics=['accuracy'])\n",
        "model.summary()"
      ],
      "metadata": {
        "id": "Hg6pWkiGIMHn"
      },
      "execution_count": null,
      "outputs": []
    },
    {
      "cell_type": "code",
      "source": [
        "#21/05/22\n",
        "\n",
        "#image augmentation\n",
        "\n",
        "from keras.preprocessing.image import ImageDataGenerator\n",
        "from skimage import io"
      ],
      "metadata": {
        "id": "_xFUjOC-CE_S"
      },
      "execution_count": null,
      "outputs": []
    },
    {
      "cell_type": "code",
      "source": [
        "datagen = ImageDataGenerator(        \n",
        "        rotation_range = 10,\n",
        "        shear_range = 0.1,\n",
        "        zoom_range = 0.1,\n",
        "        horizontal_flip = True,\n",
        "        brightness_range = (0.5, 1.5))"
      ],
      "metadata": {
        "id": "jkLhtAX4HO4o"
      },
      "execution_count": null,
      "outputs": []
    },
    {
      "cell_type": "code",
      "source": [
        "import numpy as np\n",
        "import os\n",
        "from PIL import Image"
      ],
      "metadata": {
        "id": "X2d6s6l6HSVe"
      },
      "execution_count": null,
      "outputs": []
    },
    {
      "cell_type": "code",
      "source": [
        "image_directory = r'/content/Original_Image/'\n",
        "SIZE = 224\n",
        "dataset = []"
      ],
      "metadata": {
        "id": "Z9ch6_vlHVC6"
      },
      "execution_count": null,
      "outputs": []
    },
    {
      "cell_type": "code",
      "source": [
        "my_images = os.listdir(image_directory)\n",
        "for i, image_name in enumerate(my_images):    \n",
        "    if (image_name.split('.')[1] == 'png'):        \n",
        "        image = io.imread(image_directory + image_name)        \n",
        "        image = Image.fromarray(image, 'RGB')        \n",
        "        image = image.resize((SIZE,SIZE)) \n",
        "        dataset.append(np.array(image))\n",
        "x = np.array(dataset)\n",
        "i = 0\n",
        "for batch in datagen.flow(x, batch_size=16,\n",
        "                          save_to_dir= r'/content/Aug2/',\n",
        "                          save_prefix='aug_',\n",
        "                          save_format='png'):    \n",
        "    i += 1    \n",
        "    if i > 1000:        \n",
        "        break"
      ],
      "metadata": {
        "id": "3pi0wKJFHboB"
      },
      "execution_count": null,
      "outputs": []
    },
    {
      "cell_type": "code",
      "source": [
        "!zip -r temp_mobile.zip Aug2/"
      ],
      "metadata": {
        "id": "SqGx931oKLTm"
      },
      "execution_count": null,
      "outputs": []
    },
    {
      "cell_type": "code",
      "source": [
        ""
      ],
      "metadata": {
        "id": "88HQhSwxOVLl"
      },
      "execution_count": null,
      "outputs": []
    },
    {
      "cell_type": "code",
      "source": [
        "image_directory = r'/content/Orig_image/'\n",
        "SIZE = 224\n",
        "dataset = []"
      ],
      "metadata": {
        "id": "ne2A1jHfLAjX"
      },
      "execution_count": null,
      "outputs": []
    },
    {
      "cell_type": "code",
      "source": [
        "my_images = os.listdir(image_directory)\n",
        "for i, image_name in enumerate(my_images):    \n",
        "    if (image_name.split('.')[1] == 'jpeg'):        \n",
        "        image = io.imread(image_directory + image_name)        \n",
        "        image = Image.fromarray(image, 'RGB')        \n",
        "        image = image.resize((SIZE,SIZE)) \n",
        "        dataset.append(np.array(image))\n",
        "x = np.array(dataset)\n",
        "i = 0\n",
        "for batch in datagen.flow(x, batch_size=16,\n",
        "                          save_to_dir= r'/content/Aug3/',\n",
        "                          save_prefix='aug_',\n",
        "                          save_format='jpeg'):    \n",
        "    i += 1    \n",
        "    if i > 1000:        \n",
        "        break"
      ],
      "metadata": {
        "id": "gt8002tmL22m"
      },
      "execution_count": null,
      "outputs": []
    },
    {
      "cell_type": "code",
      "source": [
        "!zip -r temp_wheel.zip Aug3/"
      ],
      "metadata": {
        "id": "5ZkM8lq1MKDd"
      },
      "execution_count": null,
      "outputs": []
    },
    {
      "cell_type": "code",
      "source": [
        "image_directory = r'/content/Original_Image/'\n",
        "SIZE = 224\n",
        "dataset = []"
      ],
      "metadata": {
        "id": "tgXR3WxQOXJv"
      },
      "execution_count": null,
      "outputs": []
    },
    {
      "cell_type": "code",
      "source": [
        "my_images = os.listdir(image_directory)\n",
        "for i, image_name in enumerate(my_images):    \n",
        "    if (image_name.split('.')[1] == 'jpeg'):        \n",
        "        image = io.imread(image_directory + image_name)        \n",
        "        image = Image.fromarray(image, 'RGB')        \n",
        "        image = image.resize((SIZE,SIZE)) \n",
        "        dataset.append(np.array(image))\n",
        "x = np.array(dataset)\n",
        "i = 0\n",
        "for batch in datagen.flow(x, batch_size=16,\n",
        "                          save_to_dir= r'/content/Aug4/',\n",
        "                          save_prefix='aug_',\n",
        "                          save_format='jpeg'):    \n",
        "    i += 1    \n",
        "    if i > 1000:        \n",
        "        break"
      ],
      "metadata": {
        "id": "I7MaITMJOe8Q"
      },
      "execution_count": null,
      "outputs": []
    },
    {
      "cell_type": "code",
      "source": [
        "!zip -r temp_mobile.zip Aug4/"
      ],
      "metadata": {
        "id": "WlRo0jKxO2Rs"
      },
      "execution_count": null,
      "outputs": []
    },
    {
      "cell_type": "code",
      "source": [
        "!ls"
      ],
      "metadata": {
        "colab": {
          "base_uri": "https://localhost:8080/"
        },
        "id": "oVR9m40uO_bu",
        "outputId": "928d51c8-57e5-45a9-dc8e-a923c0be1eef"
      },
      "execution_count": 1,
      "outputs": [
        {
          "output_type": "stream",
          "name": "stdout",
          "text": [
            "sample_data  Training_data.zip\n"
          ]
        }
      ]
    },
    {
      "cell_type": "code",
      "source": [
        "!unzip Training_data.zip -d training_folder"
      ],
      "metadata": {
        "colab": {
          "base_uri": "https://localhost:8080/"
        },
        "id": "DalipQlMRFAU",
        "outputId": "f64ba6ec-4a49-4858-fe09-df7fcbcbe111"
      },
      "execution_count": 2,
      "outputs": [
        {
          "output_type": "stream",
          "name": "stdout",
          "text": [
            "Archive:  Training_data.zip\n",
            "   creating: training_folder/Training_data/\n",
            "   creating: training_folder/Training_data/Aug4/\n",
            "  inflating: training_folder/__MACOSX/Training_data/._Aug4  \n",
            "  inflating: training_folder/Training_data/.DS_Store  \n",
            "  inflating: training_folder/__MACOSX/Training_data/._.DS_Store  \n",
            "   creating: training_folder/Training_data/wheel/\n",
            "  inflating: training_folder/__MACOSX/Training_data/._wheel  \n",
            "  inflating: training_folder/Training_data/Aug4/aug__0_7902.jpeg  \n",
            "  inflating: training_folder/__MACOSX/Training_data/Aug4/._aug__0_7902.jpeg  \n",
            "  inflating: training_folder/Training_data/Aug4/aug__0_3941.jpeg  \n",
            "  inflating: training_folder/__MACOSX/Training_data/Aug4/._aug__0_3941.jpeg  \n",
            "  inflating: training_folder/Training_data/Aug4/aug__0_2829.jpeg  \n",
            "  inflating: training_folder/__MACOSX/Training_data/Aug4/._aug__0_2829.jpeg  \n",
            "  inflating: training_folder/Training_data/Aug4/aug__0_4504.jpeg  \n",
            "  inflating: training_folder/__MACOSX/Training_data/Aug4/._aug__0_4504.jpeg  \n",
            "  inflating: training_folder/Training_data/Aug4/aug__0_8527.jpeg  \n",
            "  inflating: training_folder/__MACOSX/Training_data/Aug4/._aug__0_8527.jpeg  \n",
            "  inflating: training_folder/Training_data/Aug4/aug__0_473.jpeg  \n",
            "  inflating: training_folder/__MACOSX/Training_data/Aug4/._aug__0_473.jpeg  \n",
            "  inflating: training_folder/Training_data/Aug4/aug__0_2080.jpeg  \n",
            "  inflating: training_folder/__MACOSX/Training_data/Aug4/._aug__0_2080.jpeg  \n",
            "  inflating: training_folder/Training_data/Aug4/aug__0_3015.jpeg  \n",
            "  inflating: training_folder/__MACOSX/Training_data/Aug4/._aug__0_3015.jpeg  \n",
            "  inflating: training_folder/Training_data/Aug4/aug__0_9418.jpeg  \n",
            "  inflating: training_folder/__MACOSX/Training_data/Aug4/._aug__0_9418.jpeg  \n",
            "  inflating: training_folder/Training_data/Aug4/aug__0_218.jpeg  \n",
            "  inflating: training_folder/__MACOSX/Training_data/Aug4/._aug__0_218.jpeg  \n",
            "  inflating: training_folder/Training_data/Aug4/aug__0_7543.jpeg  \n",
            "  inflating: training_folder/__MACOSX/Training_data/Aug4/._aug__0_7543.jpeg  \n",
            "  inflating: training_folder/Training_data/Aug4/aug__0_9674.jpeg  \n",
            "  inflating: training_folder/__MACOSX/Training_data/Aug4/._aug__0_9674.jpeg  \n",
            "  inflating: training_folder/Training_data/Aug4/aug__0_561.jpeg  \n",
            "  inflating: training_folder/__MACOSX/Training_data/Aug4/._aug__0_561.jpeg  \n",
            "  inflating: training_folder/Training_data/Aug4/aug__0_2468.jpeg  \n",
            "  inflating: training_folder/__MACOSX/Training_data/Aug4/._aug__0_2468.jpeg  \n",
            "  inflating: training_folder/Training_data/Aug4/aug__0_6978.jpeg  \n",
            "  inflating: training_folder/__MACOSX/Training_data/Aug4/._aug__0_6978.jpeg  \n",
            "  inflating: training_folder/Training_data/Aug4/aug__0_8823.jpeg  \n",
            "  inflating: training_folder/__MACOSX/Training_data/Aug4/._aug__0_8823.jpeg  \n",
            "  inflating: training_folder/Training_data/Aug4/aug__0_9731.jpeg  \n",
            "  inflating: training_folder/__MACOSX/Training_data/Aug4/._aug__0_9731.jpeg  \n",
            "  inflating: training_folder/Training_data/Aug4/aug__0_6094.jpeg  \n",
            "  inflating: training_folder/__MACOSX/Training_data/Aug4/._aug__0_6094.jpeg  \n",
            "  inflating: training_folder/Training_data/Aug4/aug__0_7943.jpeg  \n",
            "  inflating: training_folder/__MACOSX/Training_data/Aug4/._aug__0_7943.jpeg  \n",
            "  inflating: training_folder/Training_data/Aug4/aug__0_4379.jpeg  \n",
            "  inflating: training_folder/__MACOSX/Training_data/Aug4/._aug__0_4379.jpeg  \n",
            "  inflating: training_folder/Training_data/Aug4/aug__0_5211.jpeg  \n",
            "  inflating: training_folder/__MACOSX/Training_data/Aug4/._aug__0_5211.jpeg  \n",
            "  inflating: training_folder/Training_data/Aug4/aug__0_9398.jpeg  \n",
            "  inflating: training_folder/__MACOSX/Training_data/Aug4/._aug__0_9398.jpeg  \n",
            "  inflating: training_folder/Training_data/Aug4/aug__0_2887.jpeg  \n",
            "  inflating: training_folder/__MACOSX/Training_data/Aug4/._aug__0_2887.jpeg  \n",
            "  inflating: training_folder/Training_data/Aug4/aug__0_6082.jpeg  \n",
            "  inflating: training_folder/__MACOSX/Training_data/Aug4/._aug__0_6082.jpeg  \n",
            "  inflating: training_folder/Training_data/Aug4/aug__0_5704.jpeg  \n",
            "  inflating: training_folder/__MACOSX/Training_data/Aug4/._aug__0_5704.jpeg  \n",
            "  inflating: training_folder/Training_data/Aug4/aug__0_2215.jpeg  \n",
            "  inflating: training_folder/__MACOSX/Training_data/Aug4/._aug__0_2215.jpeg  \n",
            "  inflating: training_folder/Training_data/Aug4/aug__0_5180.jpeg  \n",
            "  inflating: training_folder/__MACOSX/Training_data/Aug4/._aug__0_5180.jpeg  \n",
            "  inflating: training_folder/Training_data/Aug4/aug__0_2700.jpeg  \n",
            "  inflating: training_folder/__MACOSX/Training_data/Aug4/._aug__0_2700.jpeg  \n",
            "  inflating: training_folder/Training_data/Aug4/aug__0_7502.jpeg  \n",
            "  inflating: training_folder/__MACOSX/Training_data/Aug4/._aug__0_7502.jpeg  \n",
            "  inflating: training_folder/Training_data/Aug4/aug__0_9770.jpeg  \n",
            "  inflating: training_folder/__MACOSX/Training_data/Aug4/._aug__0_9770.jpeg  \n",
            "  inflating: training_folder/Training_data/Aug4/aug__0_8376.jpeg  \n",
            "  inflating: training_folder/__MACOSX/Training_data/Aug4/._aug__0_8376.jpeg  \n",
            "  inflating: training_folder/Training_data/Aug4/aug__0_672.jpeg  \n",
            "  inflating: training_folder/__MACOSX/Training_data/Aug4/._aug__0_672.jpeg  \n",
            "  inflating: training_folder/Training_data/Aug4/aug__0_2281.jpeg  \n",
            "  inflating: training_folder/__MACOSX/Training_data/Aug4/._aug__0_2281.jpeg  \n",
            "  inflating: training_folder/Training_data/Aug4/aug__0_5051.jpeg  \n",
            "  inflating: training_folder/__MACOSX/Training_data/Aug4/._aug__0_5051.jpeg  \n",
            "  inflating: training_folder/Training_data/Aug4/aug__0_5952.jpeg  \n",
            "  inflating: training_folder/__MACOSX/Training_data/Aug4/._aug__0_5952.jpeg  \n",
            "  inflating: training_folder/Training_data/Aug4/aug__0_6807.jpeg  \n",
            "  inflating: training_folder/__MACOSX/Training_data/Aug4/._aug__0_6807.jpeg  \n",
            "  inflating: training_folder/Training_data/Aug4/aug__0_7345.jpeg  \n",
            "  inflating: training_folder/__MACOSX/Training_data/Aug4/._aug__0_7345.jpeg  \n",
            "  inflating: training_folder/Training_data/Aug4/aug__0_4093.jpeg  \n",
            "  inflating: training_folder/__MACOSX/Training_data/Aug4/._aug__0_4093.jpeg  \n",
            "  inflating: training_folder/Training_data/Aug4/aug__0_4586.jpeg  \n",
            "  inflating: training_folder/__MACOSX/Training_data/Aug4/._aug__0_4586.jpeg  \n",
            "  inflating: training_folder/Training_data/Aug4/aug__0_3994.jpeg  \n",
            "  inflating: training_folder/__MACOSX/Training_data/Aug4/._aug__0_3994.jpeg  \n",
            "  inflating: training_folder/Training_data/Aug4/aug__0_1045.jpeg  \n",
            "  inflating: training_folder/__MACOSX/Training_data/Aug4/._aug__0_1045.jpeg  \n",
            "  inflating: training_folder/Training_data/Aug4/aug__0_9025.jpeg  \n",
            "  inflating: training_folder/__MACOSX/Training_data/Aug4/._aug__0_9025.jpeg  \n",
            "  inflating: training_folder/Training_data/Aug4/aug__0_1946.jpeg  \n",
            "  inflating: training_folder/__MACOSX/Training_data/Aug4/._aug__0_1946.jpeg  \n",
            "  inflating: training_folder/Training_data/Aug4/aug__0_8264.jpeg  \n",
            "  inflating: training_folder/__MACOSX/Training_data/Aug4/._aug__0_8264.jpeg  \n",
            "  inflating: training_folder/Training_data/Aug4/aug__0_5456.jpeg  \n",
            "  inflating: training_folder/__MACOSX/Training_data/Aug4/._aug__0_5456.jpeg  \n",
            "  inflating: training_folder/Training_data/Aug4/aug__0_330.jpeg  \n",
            "  inflating: training_folder/__MACOSX/Training_data/Aug4/._aug__0_330.jpeg  \n",
            "  inflating: training_folder/Training_data/Aug4/aug__0_1696.jpeg  \n",
            "  inflating: training_folder/__MACOSX/Training_data/Aug4/._aug__0_1696.jpeg  \n",
            "  inflating: training_folder/Training_data/Aug4/aug__0_5440.jpeg  \n",
            "  inflating: training_folder/__MACOSX/Training_data/Aug4/._aug__0_5440.jpeg  \n",
            "  inflating: training_folder/Training_data/Aug4/aug__0_776.jpeg  \n",
            "  inflating: training_folder/__MACOSX/Training_data/Aug4/._aug__0_776.jpeg  \n",
            "  inflating: training_folder/Training_data/Aug4/aug__0_9199.jpeg  \n",
            "  inflating: training_folder/__MACOSX/Training_data/Aug4/._aug__0_9199.jpeg  \n",
            "  inflating: training_folder/Training_data/Aug4/aug__0_1680.jpeg  \n",
            "  inflating: training_folder/__MACOSX/Training_data/Aug4/._aug__0_1680.jpeg  \n",
            "  inflating: training_folder/Training_data/Aug4/aug__0_4894.jpeg  \n",
            "  inflating: training_folder/__MACOSX/Training_data/Aug4/._aug__0_4894.jpeg  \n",
            "  inflating: training_folder/Training_data/Aug4/aug__0_3193.jpeg  \n",
            "  inflating: training_folder/__MACOSX/Training_data/Aug4/._aug__0_3193.jpeg  \n",
            "  inflating: training_folder/Training_data/Aug4/aug__0_3740.jpeg  \n",
            "  inflating: training_folder/__MACOSX/Training_data/Aug4/._aug__0_3740.jpeg  \n",
            "  inflating: training_folder/Training_data/Aug4/aug__0_6542.jpeg  \n",
            "  inflating: training_folder/__MACOSX/Training_data/Aug4/._aug__0_6542.jpeg  \n",
            "  inflating: training_folder/Training_data/Aug4/aug__0_3310.jpeg  \n",
            "  inflating: training_folder/__MACOSX/Training_data/Aug4/._aug__0_3310.jpeg  \n",
            "  inflating: training_folder/Training_data/Aug4/aug__0_869.jpeg  \n",
            "  inflating: training_folder/__MACOSX/Training_data/Aug4/._aug__0_869.jpeg  \n",
            "  inflating: training_folder/Training_data/Aug4/aug__0_3388.jpeg  \n",
            "  inflating: training_folder/__MACOSX/Training_data/Aug4/._aug__0_3388.jpeg  \n",
            "  inflating: training_folder/Training_data/Aug4/aug__0_7261.jpeg  \n",
            "  inflating: training_folder/__MACOSX/Training_data/Aug4/._aug__0_7261.jpeg  \n",
            "  inflating: training_folder/Training_data/Aug4/aug__0_5749.jpeg  \n",
            "  inflating: training_folder/__MACOSX/Training_data/Aug4/._aug__0_5749.jpeg  \n",
            "  inflating: training_folder/Training_data/Aug4/aug__0_7774.jpeg  \n",
            "  inflating: training_folder/__MACOSX/Training_data/Aug4/._aug__0_7774.jpeg  \n",
            "  inflating: training_folder/Training_data/Aug4/aug__0_2126.jpeg  \n",
            "  inflating: training_folder/__MACOSX/Training_data/Aug4/._aug__0_2126.jpeg  \n",
            "  inflating: training_folder/Training_data/Aug4/aug__0_6535.jpeg  \n",
            "  inflating: training_folder/__MACOSX/Training_data/Aug4/._aug__0_6535.jpeg  \n",
            "  inflating: training_folder/Training_data/Aug4/aug__0_9156.jpeg  \n",
            "  inflating: training_folder/__MACOSX/Training_data/Aug4/._aug__0_9156.jpeg  \n",
            "  inflating: training_folder/Training_data/Aug4/aug__0_8317.jpeg  \n",
            "  inflating: training_folder/__MACOSX/Training_data/Aug4/._aug__0_8317.jpeg  \n",
            "  inflating: training_folder/Training_data/Aug4/aug__0_2034.jpeg  \n",
            "  inflating: training_folder/__MACOSX/Training_data/Aug4/._aug__0_2034.jpeg  \n",
            "  inflating: training_folder/Training_data/Aug4/aug__0_6974.jpeg  \n",
            "  inflating: training_folder/__MACOSX/Training_data/Aug4/._aug__0_6974.jpeg  \n",
            "  inflating: training_folder/Training_data/Aug4/aug__0_2937.jpeg  \n",
            "  inflating: training_folder/__MACOSX/Training_data/Aug4/._aug__0_2937.jpeg  \n",
            "  inflating: training_folder/Training_data/Aug4/aug__0_1618.jpeg  \n",
            "  inflating: training_folder/__MACOSX/Training_data/Aug4/._aug__0_1618.jpeg  \n",
            "  inflating: training_folder/Training_data/Aug4/aug__0_9678.jpeg  \n",
            "  inflating: training_folder/__MACOSX/Training_data/Aug4/._aug__0_9678.jpeg  \n",
            "  inflating: training_folder/Training_data/Aug4/aug__0_3330.jpeg  \n",
            "  inflating: training_folder/__MACOSX/Training_data/Aug4/._aug__0_3330.jpeg  \n",
            "  inflating: training_folder/Training_data/Aug4/aug__0_9414.jpeg  \n",
            "  inflating: training_folder/__MACOSX/Training_data/Aug4/._aug__0_9414.jpeg  \n",
            "  inflating: training_folder/Training_data/Aug4/aug__0_4226.jpeg  \n",
            "  inflating: training_folder/__MACOSX/Training_data/Aug4/._aug__0_4226.jpeg  \n",
            "  inflating: training_folder/Training_data/Aug4/aug__0_9044.jpeg  \n",
            "  inflating: training_folder/__MACOSX/Training_data/Aug4/._aug__0_9044.jpeg  \n",
            "  inflating: training_folder/Training_data/Aug4/aug__0_4676.jpeg  \n",
            "  inflating: training_folder/__MACOSX/Training_data/Aug4/._aug__0_4676.jpeg  \n",
            "  inflating: training_folder/Training_data/Aug4/aug__0_5964.jpeg  \n",
            "  inflating: training_folder/__MACOSX/Training_data/Aug4/._aug__0_5964.jpeg  \n",
            "  inflating: training_folder/Training_data/Aug4/aug__0_5572.jpeg  \n",
            "  inflating: training_folder/__MACOSX/Training_data/Aug4/._aug__0_5572.jpeg  \n",
            "  inflating: training_folder/Training_data/Aug4/aug__0_8340.jpeg  \n",
            "  inflating: training_folder/__MACOSX/Training_data/Aug4/._aug__0_8340.jpeg  \n",
            "  inflating: training_folder/Training_data/Aug4/aug__0_4699.jpeg  \n",
            "  inflating: training_folder/__MACOSX/Training_data/Aug4/._aug__0_4699.jpeg  \n",
            "  inflating: training_folder/Training_data/Aug4/aug__0_5821.jpeg  \n",
            "  inflating: training_folder/__MACOSX/Training_data/Aug4/._aug__0_5821.jpeg  \n",
            "  inflating: training_folder/Training_data/Aug4/aug__0_3263.jpeg  \n",
            "  inflating: training_folder/__MACOSX/Training_data/Aug4/._aug__0_3263.jpeg  \n",
            "  inflating: training_folder/Training_data/Aug4/aug__0_3633.jpeg  \n",
            "  inflating: training_folder/__MACOSX/Training_data/Aug4/._aug__0_3633.jpeg  \n",
            "  inflating: training_folder/Training_data/Aug4/aug__0_7365.jpeg  \n",
            "  inflating: training_folder/__MACOSX/Training_data/Aug4/._aug__0_7365.jpeg  \n",
            "  inflating: training_folder/Training_data/Aug4/aug__0_347.jpeg  \n",
            "  inflating: training_folder/__MACOSX/Training_data/Aug4/._aug__0_347.jpeg  \n",
            "  inflating: training_folder/Training_data/Aug4/aug__0_9117.jpeg  \n",
            "  inflating: training_folder/__MACOSX/Training_data/Aug4/._aug__0_9117.jpeg  \n",
            "  inflating: training_folder/Training_data/Aug4/aug__0_652.jpeg  \n",
            "  inflating: training_folder/__MACOSX/Training_data/Aug4/._aug__0_652.jpeg  \n",
            "  inflating: training_folder/Training_data/Aug4/aug__0_6935.jpeg  \n",
            "  inflating: training_folder/__MACOSX/Training_data/Aug4/._aug__0_6935.jpeg  \n",
            "  inflating: training_folder/Training_data/Aug4/aug__0_469.jpeg  \n",
            "  inflating: training_folder/__MACOSX/Training_data/Aug4/._aug__0_469.jpeg  \n",
            "  inflating: training_folder/Training_data/Aug4/aug__0_2560.jpeg  \n",
            "  inflating: training_folder/__MACOSX/Training_data/Aug4/._aug__0_2560.jpeg  \n",
            "  inflating: training_folder/Training_data/Aug4/aug__0_193.jpeg  \n",
            "  inflating: training_folder/__MACOSX/Training_data/Aug4/._aug__0_193.jpeg  \n",
            "  inflating: training_folder/Training_data/Aug4/aug__0_7918.jpeg  \n",
            "  inflating: training_folder/__MACOSX/Training_data/Aug4/._aug__0_7918.jpeg  \n",
            "  inflating: training_folder/Training_data/Aug4/aug__0_1823.jpeg  \n",
            "  inflating: training_folder/__MACOSX/Training_data/Aug4/._aug__0_1823.jpeg  \n",
            "  inflating: training_folder/Training_data/Aug4/aug__0_8751.jpeg  \n",
            "  inflating: training_folder/__MACOSX/Training_data/Aug4/._aug__0_8751.jpeg  \n",
            "  inflating: training_folder/Training_data/Aug4/aug__0_2848.jpeg  \n",
            "  inflating: training_folder/__MACOSX/Training_data/Aug4/._aug__0_2848.jpeg  \n",
            "  inflating: training_folder/Training_data/Aug4/aug__0_8815.jpeg  \n",
            "  inflating: training_folder/__MACOSX/Training_data/Aug4/._aug__0_8815.jpeg  \n",
            "  inflating: training_folder/Training_data/Aug4/aug__0_8116.jpeg  \n",
            "  inflating: training_folder/__MACOSX/Training_data/Aug4/._aug__0_8116.jpeg  \n",
            "  inflating: training_folder/Training_data/Aug4/aug__0_5118.jpeg  \n",
            "  inflating: training_folder/__MACOSX/Training_data/Aug4/._aug__0_5118.jpeg  \n",
            "  inflating: training_folder/Training_data/Aug4/aug__0_7125.jpeg  \n",
            "  inflating: training_folder/__MACOSX/Training_data/Aug4/._aug__0_7125.jpeg  \n",
            "  inflating: training_folder/Training_data/Aug4/aug__0_6734.jpeg  \n",
            "  inflating: training_folder/__MACOSX/Training_data/Aug4/._aug__0_6734.jpeg  \n",
            "  inflating: training_folder/Training_data/Aug4/aug__0_3536.jpeg  \n",
            "  inflating: training_folder/__MACOSX/Training_data/Aug4/._aug__0_3536.jpeg  \n",
            "  inflating: training_folder/Training_data/Aug4/aug__0_4498.jpeg  \n",
            "  inflating: training_folder/__MACOSX/Training_data/Aug4/._aug__0_4498.jpeg  \n",
            "  inflating: training_folder/Training_data/Aug4/aug__0_9245.jpeg  \n",
            "  inflating: training_folder/__MACOSX/Training_data/Aug4/._aug__0_9245.jpeg  \n",
            "  inflating: training_folder/Training_data/Aug4/aug__0_150.jpeg  \n",
            "  inflating: training_folder/__MACOSX/Training_data/Aug4/._aug__0_150.jpeg  \n",
            "  inflating: training_folder/Training_data/Aug4/aug__0_783.jpeg  \n",
            "  inflating: training_folder/__MACOSX/Training_data/Aug4/._aug__0_783.jpeg  \n",
            "  inflating: training_folder/Training_data/Aug4/aug__0_8268.jpeg  \n",
            "  inflating: training_folder/__MACOSX/Training_data/Aug4/._aug__0_8268.jpeg  \n",
            "  inflating: training_folder/Training_data/Aug4/aug__0_9316.jpeg  \n",
            "  inflating: training_folder/__MACOSX/Training_data/Aug4/._aug__0_9316.jpeg  \n",
            "  inflating: training_folder/Training_data/Aug4/aug__0_5335.jpeg  \n",
            "  inflating: training_folder/__MACOSX/Training_data/Aug4/._aug__0_5335.jpeg  \n",
            "  inflating: training_folder/Training_data/Aug4/aug__0_146.jpeg  \n",
            "  inflating: training_folder/__MACOSX/Training_data/Aug4/._aug__0_146.jpeg  \n",
            "  inflating: training_folder/Training_data/Aug4/aug__0_845.jpeg  \n",
            "  inflating: training_folder/__MACOSX/Training_data/Aug4/._aug__0_845.jpeg  \n",
            "  inflating: training_folder/Training_data/Aug4/aug__0_9896.jpeg  \n",
            "  inflating: training_folder/__MACOSX/Training_data/Aug4/._aug__0_9896.jpeg  \n",
            "  inflating: training_folder/Training_data/Aug4/aug__0_280.jpeg  \n",
            "  inflating: training_folder/__MACOSX/Training_data/Aug4/._aug__0_280.jpeg  \n",
            "  inflating: training_folder/Training_data/Aug4/aug__0_8803.jpeg  \n",
            "  inflating: training_folder/__MACOSX/Training_data/Aug4/._aug__0_8803.jpeg  \n",
            "  inflating: training_folder/Training_data/Aug4/aug__0_957.jpeg  \n",
            "  inflating: training_folder/__MACOSX/Training_data/Aug4/._aug__0_957.jpeg  \n",
            "  inflating: training_folder/Training_data/Aug4/aug__0_5227.jpeg  \n",
            "  inflating: training_folder/__MACOSX/Training_data/Aug4/._aug__0_5227.jpeg  \n",
            "  inflating: training_folder/Training_data/Aug4/aug__0_3520.jpeg  \n",
            "  inflating: training_folder/__MACOSX/Training_data/Aug4/._aug__0_3520.jpeg  \n",
            "  inflating: training_folder/Training_data/Aug4/aug__0_6722.jpeg  \n",
            "  inflating: training_folder/__MACOSX/Training_data/Aug4/._aug__0_6722.jpeg  \n",
            "  inflating: training_folder/Training_data/Aug4/aug__0_6372.jpeg  \n",
            "  inflating: training_folder/__MACOSX/Training_data/Aug4/._aug__0_6372.jpeg  \n",
            "  inflating: training_folder/Training_data/Aug4/aug__0_7133.jpeg  \n",
            "  inflating: training_folder/__MACOSX/Training_data/Aug4/._aug__0_7133.jpeg  \n",
            "  inflating: training_folder/Training_data/Aug4/aug__0_2274.jpeg  \n",
            "  inflating: training_folder/__MACOSX/Training_data/Aug4/._aug__0_2274.jpeg  \n",
            "  inflating: training_folder/Training_data/Aug4/aug__0_8679.jpeg  \n",
            "  inflating: training_folder/__MACOSX/Training_data/Aug4/._aug__0_8679.jpeg  \n",
            "  inflating: training_folder/Training_data/Aug4/aug__0_6667.jpeg  \n",
            "  inflating: training_folder/__MACOSX/Training_data/Aug4/._aug__0_6667.jpeg  \n",
            "  inflating: training_folder/Training_data/Aug4/aug__0_3465.jpeg  \n",
            "  inflating: training_folder/__MACOSX/Training_data/Aug4/._aug__0_3465.jpeg  \n",
            "  inflating: training_folder/Training_data/Aug4/aug__0_31.jpeg  \n",
            "  inflating: training_folder/__MACOSX/Training_data/Aug4/._aug__0_31.jpeg  \n",
            "  inflating: training_folder/Training_data/Aug4/aug__0_2625.jpeg  \n",
            "  inflating: training_folder/__MACOSX/Training_data/Aug4/._aug__0_2625.jpeg  \n",
            "  inflating: training_folder/Training_data/Aug4/aug__0_8802.jpeg  \n",
            "  inflating: training_folder/__MACOSX/Training_data/Aug4/._aug__0_8802.jpeg  \n",
            "  inflating: training_folder/Training_data/Aug4/aug__0_4067.jpeg  \n",
            "  inflating: training_folder/__MACOSX/Training_data/Aug4/._aug__0_4067.jpeg  \n",
            "  inflating: training_folder/Training_data/Aug4/aug__0_4437.jpeg  \n",
            "  inflating: training_folder/__MACOSX/Training_data/Aug4/._aug__0_4437.jpeg  \n",
            "  inflating: training_folder/Training_data/Aug4/aug__0_110.jpeg  \n",
            "  inflating: training_folder/__MACOSX/Training_data/Aug4/._aug__0_110.jpeg  \n",
            "  inflating: training_folder/Training_data/Aug4/aug__0_7470.jpeg  \n",
            "  inflating: training_folder/__MACOSX/Training_data/Aug4/._aug__0_7470.jpeg  \n",
            "  inflating: training_folder/Training_data/Aug4/aug__0_2222.jpeg  \n",
            "  inflating: training_folder/__MACOSX/Training_data/Aug4/._aug__0_2222.jpeg  \n",
            "  inflating: training_folder/Training_data/Aug4/aug__0_7870.jpeg  \n",
            "  inflating: training_folder/__MACOSX/Training_data/Aug4/._aug__0_7870.jpeg  \n",
            "  inflating: training_folder/Training_data/Aug4/aug__0_70.jpeg  \n",
            "  inflating: training_folder/__MACOSX/Training_data/Aug4/._aug__0_70.jpeg  \n",
            "  inflating: training_folder/Training_data/Aug4/aug__0_5908.jpeg  \n",
            "  inflating: training_folder/__MACOSX/Training_data/Aug4/._aug__0_5908.jpeg  \n",
            "  inflating: training_folder/Training_data/Aug4/aug__0_6277.jpeg  \n",
            "  inflating: training_folder/__MACOSX/Training_data/Aug4/._aug__0_6277.jpeg  \n",
            "  inflating: training_folder/Training_data/Aug4/aug__0_5772.jpeg  \n",
            "  inflating: training_folder/__MACOSX/Training_data/Aug4/._aug__0_5772.jpeg  \n",
            "  inflating: training_folder/Training_data/Aug4/aug__0_8510.jpeg  \n",
            "  inflating: training_folder/__MACOSX/Training_data/Aug4/._aug__0_8510.jpeg  \n",
            "  inflating: training_folder/Training_data/Aug4/aug__0_852.jpeg  \n",
            "  inflating: training_folder/__MACOSX/Training_data/Aug4/._aug__0_852.jpeg  \n",
            "  inflating: training_folder/Training_data/Aug4/aug__0_2058.jpeg  \n",
            "  inflating: training_folder/__MACOSX/Training_data/Aug4/._aug__0_2058.jpeg  \n",
            "  inflating: training_folder/Training_data/Aug4/aug__0_3167.jpeg  \n",
            "  inflating: training_folder/__MACOSX/Training_data/Aug4/._aug__0_3167.jpeg  \n",
            "  inflating: training_folder/Training_data/Aug4/aug__0_7827.jpeg  \n",
            "  inflating: training_folder/__MACOSX/Training_data/Aug4/._aug__0_7827.jpeg  \n",
            "  inflating: training_folder/Training_data/Aug4/aug__0_3188.jpeg  \n",
            "  inflating: training_folder/__MACOSX/Training_data/Aug4/._aug__0_3188.jpeg  \n",
            "  inflating: training_folder/Training_data/Aug4/aug__0_4636.jpeg  \n",
            "  inflating: training_folder/__MACOSX/Training_data/Aug4/._aug__0_4636.jpeg  \n",
            "  inflating: training_folder/Training_data/Aug4/aug__0_8245.jpeg  \n",
            "  inflating: training_folder/__MACOSX/Training_data/Aug4/._aug__0_8245.jpeg  \n",
            "  inflating: training_folder/Training_data/Aug4/aug__0_1967.jpeg  \n",
            "  inflating: training_folder/__MACOSX/Training_data/Aug4/._aug__0_1967.jpeg  \n",
            "  inflating: training_folder/Training_data/Aug4/aug__0_5532.jpeg  \n",
            "  inflating: training_folder/__MACOSX/Training_data/Aug4/._aug__0_5532.jpeg  \n",
            "  inflating: training_folder/Training_data/Aug4/aug__0_604.jpeg  \n",
            "  inflating: training_folder/__MACOSX/Training_data/Aug4/._aug__0_604.jpeg  \n",
            "  inflating: training_folder/Training_data/Aug4/aug__0_4323.jpeg  \n",
            "  inflating: training_folder/__MACOSX/Training_data/Aug4/._aug__0_4323.jpeg  \n",
            "  inflating: training_folder/Training_data/Aug4/aug__0_2561.jpeg  \n",
            "  inflating: training_folder/__MACOSX/Training_data/Aug4/._aug__0_2561.jpeg  \n",
            "  inflating: training_folder/Training_data/Aug4/aug__0_6871.jpeg  \n",
            "  inflating: training_folder/__MACOSX/Training_data/Aug4/._aug__0_6871.jpeg  \n",
            "  inflating: training_folder/Training_data/Aug4/aug__0_9403.jpeg  \n",
            "  inflating: training_folder/__MACOSX/Training_data/Aug4/._aug__0_9403.jpeg  \n",
            "  inflating: training_folder/Training_data/Aug4/aug__0_5836.jpeg  \n",
            "  inflating: training_folder/__MACOSX/Training_data/Aug4/._aug__0_5836.jpeg  \n",
            "  inflating: training_folder/Training_data/Aug4/aug__0_653.jpeg  \n",
            "  inflating: training_folder/__MACOSX/Training_data/Aug4/._aug__0_653.jpeg  \n",
            "  inflating: training_folder/Training_data/Aug4/aug__0_2473.jpeg  \n",
            "  inflating: training_folder/__MACOSX/Training_data/Aug4/._aug__0_2473.jpeg  \n",
            "  inflating: training_folder/Training_data/Aug4/aug__0_8091.jpeg  \n",
            "  inflating: training_folder/__MACOSX/Training_data/Aug4/._aug__0_8091.jpeg  \n",
            "  inflating: training_folder/Training_data/Aug4/aug__0_4227.jpeg  \n",
            "  inflating: training_folder/__MACOSX/Training_data/Aug4/._aug__0_4227.jpeg  \n",
            "  inflating: training_folder/Training_data/Aug4/aug__0_2259.jpeg  \n",
            "  inflating: training_folder/__MACOSX/Training_data/Aug4/._aug__0_2259.jpeg  \n",
            "  inflating: training_folder/Training_data/Aug4/aug__0_7237.jpeg  \n",
            "  inflating: training_folder/__MACOSX/Training_data/Aug4/._aug__0_7237.jpeg  \n",
            "  inflating: training_folder/Training_data/Aug4/aug__0_8068.jpeg  \n",
            "  inflating: training_folder/__MACOSX/Training_data/Aug4/._aug__0_8068.jpeg  \n",
            "  inflating: training_folder/Training_data/Aug4/aug__0_1567.jpeg  \n",
            "  inflating: training_folder/__MACOSX/Training_data/Aug4/._aug__0_1567.jpeg  \n",
            "  inflating: training_folder/Training_data/Aug4/aug__0_3223.jpeg  \n",
            "  inflating: training_folder/__MACOSX/Training_data/Aug4/._aug__0_3223.jpeg  \n",
            "  inflating: training_folder/Training_data/Aug4/aug__0_7630.jpeg  \n",
            "  inflating: training_folder/__MACOSX/Training_data/Aug4/._aug__0_7630.jpeg  \n",
            "  inflating: training_folder/Training_data/Aug4/aug__0_2062.jpeg  \n",
            "  inflating: training_folder/__MACOSX/Training_data/Aug4/._aug__0_2062.jpeg  \n",
            "  inflating: training_folder/Training_data/Aug4/aug__0_8195.jpeg  \n",
            "  inflating: training_folder/__MACOSX/Training_data/Aug4/._aug__0_8195.jpeg  \n",
            "  inflating: training_folder/Training_data/Aug4/aug__0_7775.jpeg  \n",
            "  inflating: training_folder/__MACOSX/Training_data/Aug4/._aug__0_7775.jpeg  \n",
            "  inflating: training_folder/Training_data/Aug4/aug__0_7702.jpeg  \n",
            "  inflating: training_folder/__MACOSX/Training_data/Aug4/._aug__0_7702.jpeg  \n",
            "  inflating: training_folder/Training_data/Aug4/aug__0_2916.jpeg  \n",
            "  inflating: training_folder/__MACOSX/Training_data/Aug4/._aug__0_2916.jpeg  \n",
            "  inflating: training_folder/Training_data/Aug4/aug__0_8361.jpeg  \n",
            "  inflating: training_folder/__MACOSX/Training_data/Aug4/._aug__0_8361.jpeg  \n",
            "  inflating: training_folder/Training_data/Aug4/aug__0_1455.jpeg  \n",
            "  inflating: training_folder/__MACOSX/Training_data/Aug4/._aug__0_1455.jpeg  \n",
            "  inflating: training_folder/Training_data/Aug4/aug__0_4657.jpeg  \n",
            "  inflating: training_folder/__MACOSX/Training_data/Aug4/._aug__0_4657.jpeg  \n",
            "  inflating: training_folder/Training_data/Aug4/aug__0_2412.jpeg  \n",
            "  inflating: training_folder/__MACOSX/Training_data/Aug4/._aug__0_2412.jpeg  \n",
            "  inflating: training_folder/Training_data/Aug4/aug__0_3983.jpeg  \n",
            "  inflating: training_folder/__MACOSX/Training_data/Aug4/._aug__0_3983.jpeg  \n",
            "  inflating: training_folder/Training_data/Aug4/aug__0_8336.jpeg  \n",
            "  inflating: training_folder/__MACOSX/Training_data/Aug4/._aug__0_8336.jpeg  \n",
            "  inflating: training_folder/Training_data/Aug4/aug__0_9931.jpeg  \n",
            "  inflating: training_folder/__MACOSX/Training_data/Aug4/._aug__0_9931.jpeg  \n",
            "  inflating: training_folder/Training_data/Aug4/aug__0_7186.jpeg  \n",
            "  inflating: training_folder/__MACOSX/Training_data/Aug4/._aug__0_7186.jpeg  \n",
            "  inflating: training_folder/Training_data/Aug4/aug__0_5912.jpeg  \n",
            "  inflating: training_folder/__MACOSX/Training_data/Aug4/._aug__0_5912.jpeg  \n",
            "  inflating: training_folder/Training_data/Aug4/aug__0_9032.jpeg  \n",
            "  inflating: training_folder/__MACOSX/Training_data/Aug4/._aug__0_9032.jpeg  \n",
            "  inflating: training_folder/Training_data/Aug4/aug__0_7885.jpeg  \n",
            "  inflating: training_folder/__MACOSX/Training_data/Aug4/._aug__0_7885.jpeg  \n",
            "  inflating: training_folder/Training_data/Aug4/aug__0_5512.jpeg  \n",
            "  inflating: training_folder/__MACOSX/Training_data/Aug4/._aug__0_5512.jpeg  \n",
            "  inflating: training_folder/Training_data/Aug4/aug__0_624.jpeg  \n",
            "  inflating: training_folder/__MACOSX/Training_data/Aug4/._aug__0_624.jpeg  \n",
            "  inflating: training_folder/Training_data/Aug4/aug__0_9531.jpeg  \n",
            "  inflating: training_folder/__MACOSX/Training_data/Aug4/._aug__0_9531.jpeg  \n",
            "  inflating: training_folder/Training_data/Aug4/aug__0_4753.jpeg  \n",
            "  inflating: training_folder/__MACOSX/Training_data/Aug4/._aug__0_4753.jpeg  \n",
            "  inflating: training_folder/Training_data/Aug4/aug__0_6781.jpeg  \n",
            "  inflating: training_folder/__MACOSX/Training_data/Aug4/._aug__0_6781.jpeg  \n",
            "  inflating: training_folder/Training_data/Aug4/aug__0_3429.jpeg  \n",
            "  inflating: training_folder/__MACOSX/Training_data/Aug4/._aug__0_3429.jpeg  \n",
            "  inflating: training_folder/Training_data/Aug4/aug__0_1414.jpeg  \n",
            "  inflating: training_folder/__MACOSX/Training_data/Aug4/._aug__0_1414.jpeg  \n",
            "  inflating: training_folder/Training_data/Aug4/aug__0_4616.jpeg  \n",
            "  inflating: training_folder/__MACOSX/Training_data/Aug4/._aug__0_4616.jpeg  \n",
            "  inflating: training_folder/Training_data/Aug4/aug__0_2668.jpeg  \n",
            "  inflating: training_folder/__MACOSX/Training_data/Aug4/._aug__0_2668.jpeg  \n",
            "  inflating: training_folder/Training_data/Aug4/aug__0_2392.jpeg  \n",
            "  inflating: training_folder/__MACOSX/Training_data/Aug4/._aug__0_2392.jpeg  \n",
            "  inflating: training_folder/Training_data/Aug4/aug__0_9927.jpeg  \n",
            "  inflating: training_folder/__MACOSX/Training_data/Aug4/._aug__0_9927.jpeg  \n",
            "  inflating: training_folder/Training_data/Aug4/aug__0_8635.jpeg  \n",
            "  inflating: training_folder/__MACOSX/Training_data/Aug4/._aug__0_8635.jpeg  \n",
            "  inflating: training_folder/Training_data/Aug4/aug__0_5379.jpeg  \n",
            "  inflating: training_folder/__MACOSX/Training_data/Aug4/._aug__0_5379.jpeg  \n",
            "  inflating: training_folder/Training_data/Aug4/aug__0_5683.jpeg  \n",
            "  inflating: training_folder/__MACOSX/Training_data/Aug4/._aug__0_5683.jpeg  \n",
            "  inflating: training_folder/Training_data/Aug4/aug__0_1785.jpeg  \n",
            "  inflating: training_folder/__MACOSX/Training_data/Aug4/._aug__0_1785.jpeg  \n",
            "  inflating: training_folder/Training_data/Aug4/aug__0_3612.jpeg  \n",
            "  inflating: training_folder/__MACOSX/Training_data/Aug4/._aug__0_3612.jpeg  \n",
            "  inflating: training_folder/Training_data/Aug4/aug__0_2453.jpeg  \n",
            "  inflating: training_folder/__MACOSX/Training_data/Aug4/._aug__0_2453.jpeg  \n",
            "  inflating: training_folder/Training_data/Aug4/aug__0_2280.jpeg  \n",
            "  inflating: training_folder/__MACOSX/Training_data/Aug4/._aug__0_2280.jpeg  \n",
            "  inflating: training_folder/Training_data/Aug4/aug__0_5050.jpeg  \n",
            "  inflating: training_folder/__MACOSX/Training_data/Aug4/._aug__0_5050.jpeg  \n",
            "  inflating: training_folder/Training_data/Aug4/aug__0_366.jpeg  \n",
            "  inflating: training_folder/__MACOSX/Training_data/Aug4/._aug__0_366.jpeg  \n",
            "  inflating: training_folder/Training_data/Aug4/aug__0_2428.jpeg  \n",
            "  inflating: training_folder/__MACOSX/Training_data/Aug4/._aug__0_2428.jpeg  \n",
            "  inflating: training_folder/Training_data/Aug4/aug__0_6938.jpeg  \n",
            "  inflating: training_folder/__MACOSX/Training_data/Aug4/._aug__0_6938.jpeg  \n",
            "  inflating: training_folder/Training_data/Aug4/aug__0_2078.jpeg  \n",
            "  inflating: training_folder/__MACOSX/Training_data/Aug4/._aug__0_2078.jpeg  \n",
            "  inflating: training_folder/Training_data/Aug4/aug__0_4143.jpeg  \n",
            "  inflating: training_folder/__MACOSX/Training_data/Aug4/._aug__0_4143.jpeg  \n",
            "  inflating: training_folder/Training_data/Aug4/aug__0_2214.jpeg  \n",
            "  inflating: training_folder/__MACOSX/Training_data/Aug4/._aug__0_2214.jpeg  \n",
            "  inflating: training_folder/Training_data/Aug4/aug__0_5181.jpeg  \n",
            "  inflating: training_folder/__MACOSX/Training_data/Aug4/._aug__0_5181.jpeg  \n",
            "  inflating: training_folder/Training_data/Aug4/aug__0_6742.jpeg  \n",
            "  inflating: training_folder/__MACOSX/Training_data/Aug4/._aug__0_6742.jpeg  \n",
            "  inflating: training_folder/Training_data/Aug4/aug__0_6596.jpeg  \n",
            "  inflating: training_folder/__MACOSX/Training_data/Aug4/._aug__0_6596.jpeg  \n",
            "  inflating: training_folder/Training_data/Aug4/aug__0_4544.jpeg  \n",
            "  inflating: training_folder/__MACOSX/Training_data/Aug4/._aug__0_4544.jpeg  \n",
            "  inflating: training_folder/Training_data/Aug4/aug__0_7692.jpeg  \n",
            "  inflating: training_folder/__MACOSX/Training_data/Aug4/._aug__0_7692.jpeg  \n",
            "  inflating: training_folder/Training_data/Aug4/aug__0_3452.jpeg  \n",
            "  inflating: training_folder/__MACOSX/Training_data/Aug4/._aug__0_3452.jpeg  \n",
            "  inflating: training_folder/Training_data/Aug4/aug__0_7041.jpeg  \n",
            "  inflating: training_folder/__MACOSX/Training_data/Aug4/._aug__0_7041.jpeg  \n",
            "  inflating: training_folder/Training_data/Aug4/aug__0_2756.jpeg  \n",
            "  inflating: training_folder/__MACOSX/Training_data/Aug4/._aug__0_2756.jpeg  \n",
            "  inflating: training_folder/Training_data/Aug4/aug__0_4728.jpeg  \n",
            "  inflating: training_folder/__MACOSX/Training_data/Aug4/._aug__0_4728.jpeg  \n",
            "  inflating: training_folder/Training_data/Aug4/aug__0_6580.jpeg  \n",
            "  inflating: training_folder/__MACOSX/Training_data/Aug4/._aug__0_6580.jpeg  \n",
            "  inflating: training_folder/Training_data/Aug4/aug__0_560.jpeg  \n",
            "  inflating: training_folder/__MACOSX/Training_data/Aug4/._aug__0_560.jpeg  \n",
            "  inflating: training_folder/Training_data/Aug4/aug__0_5713.jpeg  \n",
            "  inflating: training_folder/__MACOSX/Training_data/Aug4/._aug__0_5713.jpeg  \n",
            "  inflating: training_folder/Training_data/Aug4/aug__0_1300.jpeg  \n",
            "  inflating: training_folder/__MACOSX/Training_data/Aug4/._aug__0_1300.jpeg  \n",
            "  inflating: training_folder/Training_data/Aug4/aug__0_1750.jpeg  \n",
            "  inflating: training_folder/__MACOSX/Training_data/Aug4/._aug__0_1750.jpeg  \n",
            "  inflating: training_folder/Training_data/Aug4/aug__0_2255.jpeg  \n",
            "  inflating: training_folder/__MACOSX/Training_data/Aug4/._aug__0_2255.jpeg  \n",
            "  inflating: training_folder/Training_data/Aug4/aug__0_6646.jpeg  \n",
            "  inflating: training_folder/__MACOSX/Training_data/Aug4/._aug__0_6646.jpeg  \n",
            "  inflating: training_folder/Training_data/Aug4/aug__0_4694.jpeg  \n",
            "  inflating: training_folder/__MACOSX/Training_data/Aug4/._aug__0_4694.jpeg  \n",
            "  inflating: training_folder/Training_data/Aug4/aug__0_6884.jpeg  \n",
            "  inflating: training_folder/__MACOSX/Training_data/Aug4/._aug__0_6884.jpeg  \n",
            "  inflating: training_folder/Training_data/Aug4/aug__0_537.jpeg  \n",
            "  inflating: training_folder/__MACOSX/Training_data/Aug4/._aug__0_537.jpeg  \n",
            "  inflating: training_folder/Training_data/Aug4/aug__0_6187.jpeg  \n",
            "  inflating: training_folder/__MACOSX/Training_data/Aug4/._aug__0_6187.jpeg  \n",
            "  inflating: training_folder/Training_data/Aug4/aug__0_4505.jpeg  \n",
            "  inflating: training_folder/__MACOSX/Training_data/Aug4/._aug__0_4505.jpeg  \n",
            "  inflating: training_folder/Training_data/Aug4/aug__0_8526.jpeg  \n",
            "  inflating: training_folder/__MACOSX/Training_data/Aug4/._aug__0_8526.jpeg  \n",
            "  inflating: training_folder/Training_data/Aug4/aug__0_2717.jpeg  \n",
            "  inflating: training_folder/__MACOSX/Training_data/Aug4/._aug__0_2717.jpeg  \n",
            "  inflating: training_folder/Training_data/Aug4/aug__0_6304.jpeg  \n",
            "  inflating: training_folder/__MACOSX/Training_data/Aug4/._aug__0_6304.jpeg  \n",
            "  inflating: training_folder/Training_data/Aug4/aug__0_7846.jpeg  \n",
            "  inflating: training_folder/__MACOSX/Training_data/Aug4/._aug__0_7846.jpeg  \n",
            "  inflating: training_folder/Training_data/Aug4/aug__0_8038.jpeg  \n",
            "  inflating: training_folder/__MACOSX/Training_data/Aug4/._aug__0_8038.jpeg  \n",
            "  inflating: training_folder/Training_data/Aug4/aug__0_2065.jpeg  \n",
            "  inflating: training_folder/__MACOSX/Training_data/Aug4/._aug__0_2065.jpeg  \n",
            "  inflating: training_folder/Training_data/Aug4/aug__0_1649.jpeg  \n",
            "  inflating: training_folder/__MACOSX/Training_data/Aug4/._aug__0_1649.jpeg  \n",
            "  inflating: training_folder/Training_data/Aug4/aug__0_2989.jpeg  \n",
            "  inflating: training_folder/__MACOSX/Training_data/Aug4/._aug__0_2989.jpeg  \n",
            "  inflating: training_folder/Training_data/Aug4/aug__0_2120.jpeg  \n",
            "  inflating: training_folder/__MACOSX/Training_data/Aug4/._aug__0_2120.jpeg  \n",
            "  inflating: training_folder/Training_data/Aug4/aug__0_245.jpeg  \n",
            "  inflating: training_folder/__MACOSX/Training_data/Aug4/._aug__0_245.jpeg  \n",
            "  inflating: training_folder/Training_data/Aug4/aug__0_1833.jpeg  \n",
            "  inflating: training_folder/__MACOSX/Training_data/Aug4/._aug__0_1833.jpeg  \n",
            "  inflating: training_folder/Training_data/Aug4/aug__0_9150.jpeg  \n",
            "  inflating: training_folder/__MACOSX/Training_data/Aug4/._aug__0_9150.jpeg  \n",
            "  inflating: training_folder/Training_data/Aug4/aug__0_1560.jpeg  \n",
            "  inflating: training_folder/__MACOSX/Training_data/Aug4/._aug__0_1560.jpeg  \n",
            "  inflating: training_folder/Training_data/Aug4/aug__0_6972.jpeg  \n",
            "  inflating: training_folder/__MACOSX/Training_data/Aug4/._aug__0_6972.jpeg  \n",
            "  inflating: training_folder/Training_data/Aug4/aug__0_2177.jpeg  \n",
            "  inflating: training_folder/__MACOSX/Training_data/Aug4/._aug__0_2177.jpeg  \n",
            "  inflating: training_folder/Training_data/Aug4/aug__0_6837.jpeg  \n",
            "  inflating: training_folder/__MACOSX/Training_data/Aug4/._aug__0_6837.jpeg  \n",
            "  inflating: training_folder/Training_data/Aug4/aug__0_6134.jpeg  \n",
            "  inflating: training_folder/__MACOSX/Training_data/Aug4/._aug__0_6134.jpeg  \n",
            "  inflating: training_folder/Training_data/Aug4/aug__0_5061.jpeg  \n",
            "  inflating: training_folder/__MACOSX/Training_data/Aug4/._aug__0_5061.jpeg  \n",
            "  inflating: training_folder/Training_data/Aug4/aug__0_1472.jpeg  \n",
            "  inflating: training_folder/__MACOSX/Training_data/Aug4/._aug__0_1472.jpeg  \n",
            "  inflating: training_folder/Training_data/Aug4/aug__0_4365.jpeg  \n",
            "  inflating: training_folder/__MACOSX/Training_data/Aug4/._aug__0_4365.jpeg  \n",
            "  inflating: training_folder/Training_data/Aug4/aug__0_9804.jpeg  \n",
            "  inflating: training_folder/__MACOSX/Training_data/Aug4/._aug__0_9804.jpeg  \n",
            "  inflating: training_folder/Training_data/Aug4/aug__0_5124.jpeg  \n",
            "  inflating: training_folder/__MACOSX/Training_data/Aug4/._aug__0_5124.jpeg  \n",
            "  inflating: training_folder/Training_data/Aug4/aug__0_7226.jpeg  \n",
            "  inflating: training_folder/__MACOSX/Training_data/Aug4/._aug__0_7226.jpeg  \n",
            "  inflating: training_folder/Training_data/Aug4/aug__0_3265.jpeg  \n",
            "  inflating: training_folder/__MACOSX/Training_data/Aug4/._aug__0_3265.jpeg  \n",
            "  inflating: training_folder/Training_data/Aug4/aug__0_1258.jpeg  \n",
            "  inflating: training_folder/__MACOSX/Training_data/Aug4/._aug__0_1258.jpeg  \n",
            "  inflating: training_folder/Training_data/Aug4/aug__0_1608.jpeg  \n",
            "  inflating: training_folder/__MACOSX/Training_data/Aug4/._aug__0_1608.jpeg  \n",
            "  inflating: training_folder/Training_data/Aug4/aug__0_6122.jpeg  \n",
            "  inflating: training_folder/__MACOSX/Training_data/Aug4/._aug__0_6122.jpeg  \n",
            "  inflating: training_folder/Training_data/Aug4/aug__0_2531.jpeg  \n",
            "  inflating: training_folder/__MACOSX/Training_data/Aug4/._aug__0_2531.jpeg  \n",
            "  inflating: training_folder/Training_data/Aug4/aug__0_6821.jpeg  \n",
            "  inflating: training_folder/__MACOSX/Training_data/Aug4/._aug__0_6821.jpeg  \n",
            "  inflating: training_folder/Training_data/Aug4/aug__0_3009.jpeg  \n",
            "  inflating: training_folder/__MACOSX/Training_data/Aug4/._aug__0_3009.jpeg  \n",
            "  inflating: training_folder/Training_data/Aug4/aug__0_4236.jpeg  \n",
            "  inflating: training_folder/__MACOSX/Training_data/Aug4/._aug__0_4236.jpeg  \n",
            "  inflating: training_folder/Training_data/Aug4/aug__0_711.jpeg  \n",
            "  inflating: training_folder/__MACOSX/Training_data/Aug4/._aug__0_711.jpeg  \n",
            "  inflating: training_folder/Training_data/Aug4/aug__0_654.jpeg  \n",
            "  inflating: training_folder/__MACOSX/Training_data/Aug4/._aug__0_654.jpeg  \n",
            "  inflating: training_folder/Training_data/Aug4/aug__0_9111.jpeg  \n",
            "  inflating: training_folder/__MACOSX/Training_data/Aug4/._aug__0_9111.jpeg  \n",
            "  inflating: training_folder/Training_data/Aug4/aug__0_3662.jpeg  \n",
            "  inflating: training_folder/__MACOSX/Training_data/Aug4/._aug__0_3662.jpeg  \n",
            "  inflating: training_folder/Training_data/Aug4/aug__0_7621.jpeg  \n",
            "  inflating: training_folder/__MACOSX/Training_data/Aug4/._aug__0_7621.jpeg  \n",
            "  inflating: training_folder/Training_data/Aug4/aug__0_5309.jpeg  \n",
            "  inflating: training_folder/__MACOSX/Training_data/Aug4/._aug__0_5309.jpeg  \n",
            "  inflating: training_folder/Training_data/Aug4/aug__0_5889.jpeg  \n",
            "  inflating: training_folder/__MACOSX/Training_data/Aug4/._aug__0_5889.jpeg  \n",
            "  inflating: training_folder/Training_data/Aug4/aug__0_4631.jpeg  \n",
            "  inflating: training_folder/__MACOSX/Training_data/Aug4/._aug__0_4631.jpeg  \n",
            "  inflating: training_folder/Training_data/Aug4/aug__0_6319.jpeg  \n",
            "  inflating: training_folder/__MACOSX/Training_data/Aug4/._aug__0_6319.jpeg  \n",
            "  inflating: training_folder/Training_data/Aug4/aug__0_5866.jpeg  \n",
            "  inflating: training_folder/__MACOSX/Training_data/Aug4/._aug__0_5866.jpeg  \n",
            "  inflating: training_folder/Training_data/Aug4/aug__0_5688.jpeg  \n",
            "  inflating: training_folder/__MACOSX/Training_data/Aug4/._aug__0_5688.jpeg  \n",
            "  inflating: training_folder/Training_data/Aug4/aug__0_1331.jpeg  \n",
            "  inflating: training_folder/__MACOSX/Training_data/Aug4/._aug__0_1331.jpeg  \n",
            "  inflating: training_folder/Training_data/Aug4/aug__0_8956.jpeg  \n",
            "  inflating: training_folder/__MACOSX/Training_data/Aug4/._aug__0_8956.jpeg  \n",
            "  inflating: training_folder/Training_data/Aug4/aug__0_3160.jpeg  \n",
            "  inflating: training_folder/__MACOSX/Training_data/Aug4/._aug__0_3160.jpeg  \n",
            "  inflating: training_folder/Training_data/Aug4/aug__0_2771.jpeg  \n",
            "  inflating: training_folder/__MACOSX/Training_data/Aug4/._aug__0_2771.jpeg  \n",
            "  inflating: training_folder/Training_data/Aug4/aug__0_8393.jpeg  \n",
            "  inflating: training_folder/__MACOSX/Training_data/Aug4/._aug__0_8393.jpeg  \n",
            "  inflating: training_folder/Training_data/Aug4/aug__0_7965.jpeg  \n",
            "  inflating: training_folder/__MACOSX/Training_data/Aug4/._aug__0_7965.jpeg  \n",
            "  inflating: training_folder/Training_data/Aug4/aug__0_6677.jpeg  \n",
            "  inflating: training_folder/__MACOSX/Training_data/Aug4/._aug__0_6677.jpeg  \n",
            "  inflating: training_folder/Training_data/Aug4/aug__0_8844.jpeg  \n",
            "  inflating: training_folder/__MACOSX/Training_data/Aug4/._aug__0_8844.jpeg  \n",
            "  inflating: training_folder/Training_data/Aug4/aug__0_6159.jpeg  \n",
            "  inflating: training_folder/__MACOSX/Training_data/Aug4/._aug__0_6159.jpeg  \n",
            "  inflating: training_folder/Training_data/Aug4/aug__0_910.jpeg  \n",
            "  inflating: training_folder/__MACOSX/Training_data/Aug4/._aug__0_910.jpeg  \n",
            "  inflating: training_folder/Training_data/Aug4/aug__0_4534.jpeg  \n",
            "  inflating: training_folder/__MACOSX/Training_data/Aug4/._aug__0_4534.jpeg  \n",
            "  inflating: training_folder/Training_data/Aug4/aug__0_7748.jpeg  \n",
            "  inflating: training_folder/__MACOSX/Training_data/Aug4/._aug__0_7748.jpeg  \n",
            "  inflating: training_folder/Training_data/Aug4/aug__0_8901.jpeg  \n",
            "  inflating: training_folder/__MACOSX/Training_data/Aug4/._aug__0_8901.jpeg  \n",
            "  inflating: training_folder/Training_data/Aug4/aug__0_1389.jpeg  \n",
            "  inflating: training_folder/__MACOSX/Training_data/Aug4/._aug__0_1389.jpeg  \n",
            "  inflating: training_folder/Training_data/Aug4/aug__0_7174.jpeg  \n",
            "  inflating: training_folder/__MACOSX/Training_data/Aug4/._aug__0_7174.jpeg  \n",
            "  inflating: training_folder/Training_data/Aug4/aug__0_7932.jpeg  \n",
            "  inflating: training_folder/__MACOSX/Training_data/Aug4/._aug__0_7932.jpeg  \n",
            "  inflating: training_folder/Training_data/Aug4/aug__0_2233.jpeg  \n",
            "  inflating: training_folder/__MACOSX/Training_data/Aug4/._aug__0_2233.jpeg  \n",
            "  inflating: training_folder/Training_data/Aug4/aug__0_2663.jpeg  \n",
            "  inflating: training_folder/__MACOSX/Training_data/Aug4/._aug__0_2663.jpeg  \n",
            "  inflating: training_folder/Training_data/Aug4/aug__0_1370.jpeg  \n",
            "  inflating: training_folder/__MACOSX/Training_data/Aug4/._aug__0_1370.jpeg  \n",
            "  inflating: training_folder/Training_data/Aug4/aug__0_269.jpeg  \n",
            "  inflating: training_folder/__MACOSX/Training_data/Aug4/._aug__0_269.jpeg  \n",
            "  inflating: training_folder/Training_data/Aug4/aug__0_3967.jpeg  \n",
            "  inflating: training_folder/__MACOSX/Training_data/Aug4/._aug__0_3967.jpeg  \n",
            "  inflating: training_folder/Training_data/Aug4/aug__0_1777.jpeg  \n",
            "  inflating: training_folder/__MACOSX/Training_data/Aug4/._aug__0_1777.jpeg  \n",
            "  inflating: training_folder/Training_data/Aug4/aug__0_547.jpeg  \n",
            "  inflating: training_folder/__MACOSX/Training_data/Aug4/._aug__0_547.jpeg  \n",
            "  inflating: training_folder/Training_data/Aug4/aug__0_4060.jpeg  \n",
            "  inflating: training_folder/__MACOSX/Training_data/Aug4/._aug__0_4060.jpeg  \n",
            "  inflating: training_folder/Training_data/Aug4/aug__0_9828.jpeg  \n",
            "  inflating: training_folder/__MACOSX/Training_data/Aug4/._aug__0_9828.jpeg  \n",
            "  inflating: training_folder/Training_data/Aug4/aug__0_2767.jpeg  \n",
            "  inflating: training_folder/__MACOSX/Training_data/Aug4/._aug__0_2767.jpeg  \n",
            "  inflating: training_folder/Training_data/Aug4/aug__0_3176.jpeg  \n",
            "  inflating: training_folder/__MACOSX/Training_data/Aug4/._aug__0_3176.jpeg  \n",
            "  inflating: training_folder/Training_data/Aug4/aug__0_2272.jpeg  \n",
            "  inflating: training_folder/__MACOSX/Training_data/Aug4/._aug__0_2272.jpeg  \n",
            "  inflating: training_folder/Training_data/Aug4/aug__0_36.jpeg  \n",
            "  inflating: training_folder/__MACOSX/Training_data/Aug4/._aug__0_36.jpeg  \n",
            "  inflating: training_folder/Training_data/Aug4/aug__0_2622.jpeg  \n",
            "  inflating: training_folder/__MACOSX/Training_data/Aug4/._aug__0_2622.jpeg  \n",
            "  inflating: training_folder/Training_data/Aug4/aug__0_8258.jpeg  \n",
            "  inflating: training_folder/__MACOSX/Training_data/Aug4/._aug__0_8258.jpeg  \n",
            "  inflating: training_folder/Training_data/Aug4/aug__0_1429.jpeg  \n",
            "  inflating: training_folder/__MACOSX/Training_data/Aug4/._aug__0_1429.jpeg  \n",
            "  inflating: training_folder/Training_data/Aug4/aug__0_3802.jpeg  \n",
            "  inflating: training_folder/__MACOSX/Training_data/Aug4/._aug__0_3802.jpeg  \n",
            "  inflating: training_folder/Training_data/Aug4/aug__0_3382.jpeg  \n",
            "  inflating: training_folder/__MACOSX/Training_data/Aug4/._aug__0_3382.jpeg  \n",
            "  inflating: training_folder/Training_data/Aug4/aug__0_2593.jpeg  \n",
            "  inflating: training_folder/__MACOSX/Training_data/Aug4/._aug__0_2593.jpeg  \n",
            "  inflating: training_folder/Training_data/Aug4/aug__0_4386.jpeg  \n",
            "  inflating: training_folder/__MACOSX/Training_data/Aug4/._aug__0_4386.jpeg  \n",
            "  inflating: training_folder/Training_data/Aug4/aug__0_1184.jpeg  \n",
            "  inflating: training_folder/__MACOSX/Training_data/Aug4/._aug__0_1184.jpeg  \n",
            "  inflating: training_folder/Training_data/Aug4/aug__0_16.jpeg  \n",
            "  inflating: training_folder/__MACOSX/Training_data/Aug4/._aug__0_16.jpeg  \n",
            "  inflating: training_folder/Training_data/Aug4/aug__0_1612.jpeg  \n",
            "  inflating: training_folder/__MACOSX/Training_data/Aug4/._aug__0_1612.jpeg  \n",
            "  inflating: training_folder/Training_data/Aug4/aug__0_6138.jpeg  \n",
            "  inflating: training_folder/__MACOSX/Training_data/Aug4/._aug__0_6138.jpeg  \n",
            "  inflating: training_folder/Training_data/Aug4/aug__0_6568.jpeg  \n",
            "  inflating: training_folder/__MACOSX/Training_data/Aug4/._aug__0_6568.jpeg  \n",
            "  inflating: training_folder/Training_data/Aug4/aug__0_422.jpeg  \n",
            "  inflating: training_folder/__MACOSX/Training_data/Aug4/._aug__0_422.jpeg  \n",
            "  inflating: training_folder/Training_data/Aug4/aug__0_8649.jpeg  \n",
            "  inflating: training_folder/__MACOSX/Training_data/Aug4/._aug__0_8649.jpeg  \n",
            "  inflating: training_folder/Training_data/Aug4/aug__0_3005.jpeg  \n",
            "  inflating: training_folder/__MACOSX/Training_data/Aug4/._aug__0_3005.jpeg  \n",
            "  inflating: training_folder/Training_data/Aug4/aug__0_5978.jpeg  \n",
            "  inflating: training_folder/__MACOSX/Training_data/Aug4/._aug__0_5978.jpeg  \n",
            "  inflating: training_folder/Training_data/Aug4/aug__0_3455.jpeg  \n",
            "  inflating: training_folder/__MACOSX/Training_data/Aug4/._aug__0_3455.jpeg  \n",
            "  inflating: training_folder/Training_data/Aug4/aug__0_6712.jpeg  \n",
            "  inflating: training_folder/__MACOSX/Training_data/Aug4/._aug__0_6712.jpeg  \n",
            "  inflating: training_folder/Training_data/Aug4/aug__0_1604.jpeg  \n",
            "  inflating: training_folder/__MACOSX/Training_data/Aug4/._aug__0_1604.jpeg  \n",
            "  inflating: training_folder/Training_data/Aug4/aug__0_4056.jpeg  \n",
            "  inflating: training_folder/__MACOSX/Training_data/Aug4/._aug__0_4056.jpeg  \n",
            "  inflating: training_folder/Training_data/Aug4/aug__0_8425.jpeg  \n",
            "  inflating: training_folder/__MACOSX/Training_data/Aug4/._aug__0_8425.jpeg  \n",
            "  inflating: training_folder/Training_data/Aug4/aug__0_8075.jpeg  \n",
            "  inflating: training_folder/__MACOSX/Training_data/Aug4/._aug__0_8075.jpeg  \n",
            "  inflating: training_folder/Training_data/Aug4/aug__0_5647.jpeg  \n",
            "  inflating: training_folder/__MACOSX/Training_data/Aug4/._aug__0_5647.jpeg  \n",
            "  inflating: training_folder/Training_data/Aug4/aug__0_1741.jpeg  \n",
            "  inflating: training_folder/__MACOSX/Training_data/Aug4/._aug__0_1741.jpeg  \n",
            "  inflating: training_folder/Training_data/Aug4/aug__0_9721.jpeg  \n",
            "  inflating: training_folder/__MACOSX/Training_data/Aug4/._aug__0_9721.jpeg  \n",
            "  inflating: training_folder/Training_data/Aug4/aug__0_4797.jpeg  \n",
            "  inflating: training_folder/__MACOSX/Training_data/Aug4/._aug__0_4797.jpeg  \n",
            "  inflating: training_folder/Training_data/Aug4/aug__0_1595.jpeg  \n",
            "  inflating: training_folder/__MACOSX/Training_data/Aug4/._aug__0_1595.jpeg  \n",
            "  inflating: training_folder/Training_data/Aug4/aug__0_5186.jpeg  \n",
            "  inflating: training_folder/__MACOSX/Training_data/Aug4/._aug__0_5186.jpeg  \n",
            "  inflating: training_folder/Training_data/Aug4/aug__0_2356.jpeg  \n",
            "  inflating: training_folder/__MACOSX/Training_data/Aug4/._aug__0_2356.jpeg  \n",
            "  inflating: training_folder/Training_data/Aug4/aug__0_5610.jpeg  \n",
            "  inflating: training_folder/__MACOSX/Training_data/Aug4/._aug__0_5610.jpeg  \n",
            "  inflating: training_folder/Training_data/Aug4/aug__0_8472.jpeg  \n",
            "  inflating: training_folder/__MACOSX/Training_data/Aug4/._aug__0_8472.jpeg  \n",
            "  inflating: training_folder/Training_data/Aug4/aug__0_9799.jpeg  \n",
            "  inflating: training_folder/__MACOSX/Training_data/Aug4/._aug__0_9799.jpeg  \n",
            "  inflating: training_folder/Training_data/Aug4/aug__0_6196.jpeg  \n",
            "  inflating: training_folder/__MACOSX/Training_data/Aug4/._aug__0_6196.jpeg  \n",
            "  inflating: training_folder/Training_data/Aug4/aug__0_4514.jpeg  \n",
            "  inflating: training_folder/__MACOSX/Training_data/Aug4/._aug__0_4514.jpeg  \n",
            "  inflating: training_folder/Training_data/Aug4/aug__0_7768.jpeg  \n",
            "  inflating: training_folder/__MACOSX/Training_data/Aug4/._aug__0_7768.jpeg  \n",
            "  inflating: training_folder/Training_data/Aug4/aug__0_4847.jpeg  \n",
            "  inflating: training_folder/__MACOSX/Training_data/Aug4/._aug__0_4847.jpeg  \n",
            "  inflating: training_folder/Training_data/Aug4/aug__0_9998.jpeg  \n",
            "  inflating: training_folder/__MACOSX/Training_data/Aug4/._aug__0_9998.jpeg  \n",
            "  inflating: training_folder/Training_data/Aug4/aug__0_4703.jpeg  \n",
            "  inflating: training_folder/__MACOSX/Training_data/Aug4/._aug__0_4703.jpeg  \n",
            "  inflating: training_folder/Training_data/Aug4/aug__0_1151.jpeg  \n",
            "  inflating: training_folder/__MACOSX/Training_data/Aug4/._aug__0_1151.jpeg  \n",
            "  inflating: training_folder/Training_data/Aug4/aug__0_7590.jpeg  \n",
            "  inflating: training_folder/__MACOSX/Training_data/Aug4/._aug__0_7590.jpeg  \n",
            "  inflating: training_folder/Training_data/Aug4/aug__0_8235.jpeg  \n",
            "  inflating: training_folder/__MACOSX/Training_data/Aug4/._aug__0_8235.jpeg  \n",
            "  inflating: training_folder/Training_data/Aug4/aug__0_5407.jpeg  \n",
            "  inflating: training_folder/__MACOSX/Training_data/Aug4/._aug__0_5407.jpeg  \n",
            "  inflating: training_folder/Training_data/Aug4/aug__0_6047.jpeg  \n",
            "  inflating: training_folder/__MACOSX/Training_data/Aug4/._aug__0_6047.jpeg  \n",
            "  inflating: training_folder/Training_data/Aug4/aug__0_3091.jpeg  \n",
            "  inflating: training_folder/__MACOSX/Training_data/Aug4/._aug__0_3091.jpeg  \n",
            "  inflating: training_folder/Training_data/Aug4/aug__0_4754.jpeg  \n",
            "  inflating: training_folder/__MACOSX/Training_data/Aug4/._aug__0_4754.jpeg  \n",
            "  inflating: training_folder/Training_data/Aug4/aug__0_9865.jpeg  \n",
            "  inflating: training_folder/__MACOSX/Training_data/Aug4/._aug__0_9865.jpeg  \n",
            "  inflating: training_folder/Training_data/Aug4/aug__0_8777.jpeg  \n",
            "  inflating: training_folder/__MACOSX/Training_data/Aug4/._aug__0_8777.jpeg  \n",
            "  inflating: training_folder/Training_data/Aug4/aug__0_1940.jpeg  \n",
            "  inflating: training_folder/__MACOSX/Training_data/Aug4/._aug__0_1940.jpeg  \n",
            "  inflating: training_folder/Training_data/Aug4/aug__0_3212.jpeg  \n",
            "  inflating: training_folder/__MACOSX/Training_data/Aug4/._aug__0_3212.jpeg  \n",
            "  inflating: training_folder/Training_data/Aug4/aug__0_4884.jpeg  \n",
            "  inflating: training_folder/__MACOSX/Training_data/Aug4/._aug__0_4884.jpeg  \n",
            "  inflating: training_folder/Training_data/Aug4/aug__0_7601.jpeg  \n",
            "  inflating: training_folder/__MACOSX/Training_data/Aug4/._aug__0_7601.jpeg  \n",
            "  inflating: training_folder/Training_data/Aug4/aug__0_8761.jpeg  \n",
            "  inflating: training_folder/__MACOSX/Training_data/Aug4/._aug__0_8761.jpeg  \n",
            "  inflating: training_folder/Training_data/Aug4/aug__0_9520.jpeg  \n",
            "  inflating: training_folder/__MACOSX/Training_data/Aug4/._aug__0_9520.jpeg  \n",
            "  inflating: training_folder/Training_data/Aug4/aug__0_1405.jpeg  \n",
            "  inflating: training_folder/__MACOSX/Training_data/Aug4/._aug__0_1405.jpeg  \n",
            "  inflating: training_folder/Training_data/Aug4/aug__0_4607.jpeg  \n",
            "  inflating: training_folder/__MACOSX/Training_data/Aug4/._aug__0_4607.jpeg  \n",
            "  inflating: training_folder/Training_data/Aug4/aug__0_7928.jpeg  \n",
            "  inflating: training_folder/__MACOSX/Training_data/Aug4/._aug__0_7928.jpeg  \n",
            "  inflating: training_folder/Training_data/Aug4/aug__0_2229.jpeg  \n",
            "  inflating: training_folder/__MACOSX/Training_data/Aug4/._aug__0_2229.jpeg  \n",
            "  inflating: training_folder/Training_data/Aug4/aug__0_2679.jpeg  \n",
            "  inflating: training_folder/__MACOSX/Training_data/Aug4/._aug__0_2679.jpeg  \n",
            "  inflating: training_folder/Training_data/Aug4/aug__0_3341.jpeg  \n",
            "  inflating: training_folder/__MACOSX/Training_data/Aug4/._aug__0_3341.jpeg  \n",
            "  inflating: training_folder/Training_data/Aug4/aug__0_2100.jpeg  \n",
            "  inflating: training_folder/__MACOSX/Training_data/Aug4/._aug__0_2100.jpeg  \n",
            "  inflating: training_folder/Training_data/Aug4/aug__0_8018.jpeg  \n",
            "  inflating: training_folder/__MACOSX/Training_data/Aug4/._aug__0_8018.jpeg  \n",
            "  inflating: training_folder/Training_data/Aug4/aug__0_1239.jpeg  \n",
            "  inflating: training_folder/__MACOSX/Training_data/Aug4/._aug__0_1239.jpeg  \n",
            "  inflating: training_folder/Training_data/Aug4/aug__0_9824.jpeg  \n",
            "  inflating: training_folder/__MACOSX/Training_data/Aug4/._aug__0_9824.jpeg  \n",
            "  inflating: training_folder/Training_data/Aug4/aug__0_7139.jpeg  \n",
            "  inflating: training_folder/__MACOSX/Training_data/Aug4/._aug__0_7139.jpeg  \n",
            "  inflating: training_folder/Training_data/Aug4/aug__0_3195.jpeg  \n",
            "  inflating: training_folder/__MACOSX/Training_data/Aug4/._aug__0_3195.jpeg  \n",
            "  inflating: training_folder/Training_data/Aug4/aug__0_6397.jpeg  \n",
            "  inflating: training_folder/__MACOSX/Training_data/Aug4/._aug__0_6397.jpeg  \n",
            "  inflating: training_folder/Training_data/Aug4/aug__0_6817.jpeg  \n",
            "  inflating: training_folder/__MACOSX/Training_data/Aug4/._aug__0_6817.jpeg  \n",
            "  inflating: training_folder/Training_data/Aug4/aug__0_4596.jpeg  \n",
            "  inflating: training_folder/__MACOSX/Training_data/Aug4/._aug__0_4596.jpeg  \n",
            "  inflating: training_folder/Training_data/Aug4/aug__0_7210.jpeg  \n",
            "  inflating: training_folder/__MACOSX/Training_data/Aug4/._aug__0_7210.jpeg  \n",
            "  inflating: training_folder/Training_data/Aug4/aug__0_4082.jpeg  \n",
            "  inflating: training_folder/__MACOSX/Training_data/Aug4/._aug__0_4082.jpeg  \n",
            "  inflating: training_folder/Training_data/Aug4/aug__0_7641.jpeg  \n",
            "  inflating: training_folder/__MACOSX/Training_data/Aug4/._aug__0_7641.jpeg  \n",
            "  inflating: training_folder/Training_data/Aug4/aug__0_9126.jpeg  \n",
            "  inflating: training_folder/__MACOSX/Training_data/Aug4/._aug__0_9126.jpeg  \n",
            "  inflating: training_folder/Training_data/Aug4/aug__0_663.jpeg  \n",
            "  inflating: training_folder/__MACOSX/Training_data/Aug4/._aug__0_663.jpeg  \n",
            "  inflating: training_folder/Training_data/Aug4/aug__0_9960.jpeg  \n",
            "  inflating: training_folder/__MACOSX/Training_data/Aug4/._aug__0_9960.jpeg  \n",
            "  inflating: training_folder/Training_data/Aug4/aug__0_1687.jpeg  \n",
            "  inflating: training_folder/__MACOSX/Training_data/Aug4/._aug__0_1687.jpeg  \n",
            "  inflating: training_folder/Training_data/Aug4/aug__0_1238.jpeg  \n",
            "  inflating: training_folder/__MACOSX/Training_data/Aug4/._aug__0_1238.jpeg  \n",
            "  inflating: training_folder/Training_data/Aug4/aug__0_5152.jpeg  \n",
            "  inflating: training_folder/__MACOSX/Training_data/Aug4/._aug__0_5152.jpeg  \n",
            "  inflating: training_folder/Training_data/Aug4/aug__0_8760.jpeg  \n",
            "  inflating: training_folder/__MACOSX/Training_data/Aug4/._aug__0_8760.jpeg  \n",
            "  inflating: training_folder/Training_data/Aug4/aug__0_1541.jpeg  \n",
            "  inflating: training_folder/__MACOSX/Training_data/Aug4/._aug__0_1541.jpeg  \n",
            "  inflating: training_folder/Training_data/Aug4/aug__0_1404.jpeg  \n",
            "  inflating: training_folder/__MACOSX/Training_data/Aug4/._aug__0_1404.jpeg  \n",
            "  inflating: training_folder/Training_data/Aug4/aug__0_5017.jpeg  \n",
            "  inflating: training_folder/__MACOSX/Training_data/Aug4/._aug__0_5017.jpeg  \n",
            "  inflating: training_folder/Training_data/Aug4/aug__0_7180.jpeg  \n",
            "  inflating: training_folder/__MACOSX/Training_data/Aug4/._aug__0_7180.jpeg  \n",
            "  inflating: training_folder/Training_data/Aug4/aug__0_2052.jpeg  \n",
            "  inflating: training_folder/__MACOSX/Training_data/Aug4/._aug__0_2052.jpeg  \n",
            "  inflating: training_folder/Training_data/Aug4/aug__0_3839.jpeg  \n",
            "  inflating: training_folder/__MACOSX/Training_data/Aug4/._aug__0_3839.jpeg  \n",
            "  inflating: training_folder/Training_data/Aug4/aug__0_9472.jpeg  \n",
            "  inflating: training_folder/__MACOSX/Training_data/Aug4/._aug__0_9472.jpeg  \n",
            "  inflating: training_folder/Training_data/Aug4/aug__0_4610.jpeg  \n",
            "  inflating: training_folder/__MACOSX/Training_data/Aug4/._aug__0_4610.jpeg  \n",
            "  inflating: training_folder/Training_data/Aug4/aug__0_6103.jpeg  \n",
            "  inflating: training_folder/__MACOSX/Training_data/Aug4/._aug__0_6103.jpeg  \n",
            "  inflating: training_folder/Training_data/Aug4/aug__0_2843.jpeg  \n",
            "  inflating: training_folder/__MACOSX/Training_data/Aug4/._aug__0_2843.jpeg  \n",
            "  inflating: training_folder/Training_data/Aug4/aug__0_1296.jpeg  \n",
            "  inflating: training_folder/__MACOSX/Training_data/Aug4/._aug__0_1296.jpeg  \n",
            "  inflating: training_folder/Training_data/Aug4/aug__0_2510.jpeg  \n",
            "  inflating: training_folder/__MACOSX/Training_data/Aug4/._aug__0_2510.jpeg  \n",
            "  inflating: training_folder/Training_data/Aug4/aug__0_8408.jpeg  \n",
            "  inflating: training_folder/__MACOSX/Training_data/Aug4/._aug__0_8408.jpeg  \n",
            "  inflating: training_folder/Training_data/Aug4/aug__0_5113.jpeg  \n",
            "  inflating: training_folder/__MACOSX/Training_data/Aug4/._aug__0_5113.jpeg  \n",
            "  inflating: training_folder/Training_data/Aug4/aug__0_2286.jpeg  \n",
            "  inflating: training_folder/__MACOSX/Training_data/Aug4/._aug__0_2286.jpeg  \n",
            "  inflating: training_folder/Training_data/Aug4/aug__0_9130.jpeg  \n",
            "  inflating: training_folder/__MACOSX/Training_data/Aug4/._aug__0_9130.jpeg  \n",
            "  inflating: training_folder/Training_data/Aug4/aug__0_4352.jpeg  \n",
            "  inflating: training_folder/__MACOSX/Training_data/Aug4/._aug__0_4352.jpeg  \n",
            "  inflating: training_folder/Training_data/Aug4/aug__0_2584.jpeg  \n",
            "  inflating: training_folder/__MACOSX/Training_data/Aug4/._aug__0_2584.jpeg  \n",
            "  inflating: training_folder/Training_data/Aug4/aug__0_6894.jpeg  \n",
            "  inflating: training_folder/__MACOSX/Training_data/Aug4/._aug__0_6894.jpeg  \n",
            "  inflating: training_folder/Training_data/Aug4/aug__0_9798.jpeg  \n",
            "  inflating: training_folder/__MACOSX/Training_data/Aug4/._aug__0_9798.jpeg  \n",
            "  inflating: training_folder/Training_data/Aug4/aug__0_874.jpeg  \n",
            "  inflating: training_folder/__MACOSX/Training_data/Aug4/._aug__0_874.jpeg  \n",
            "  inflating: training_folder/Training_data/Aug4/aug__0_9777.jpeg  \n",
            "  inflating: training_folder/__MACOSX/Training_data/Aug4/._aug__0_9777.jpeg  \n",
            "  inflating: training_folder/Training_data/Aug4/aug__0_8166.jpeg  \n",
            "  inflating: training_folder/__MACOSX/Training_data/Aug4/._aug__0_8166.jpeg  \n",
            "  inflating: training_folder/Training_data/Aug4/aug__0_198.jpeg  \n",
            "  inflating: training_folder/__MACOSX/Training_data/Aug4/._aug__0_198.jpeg  \n",
            "  inflating: training_folder/Training_data/Aug4/aug__0_7339.jpeg  \n",
            "  inflating: training_folder/__MACOSX/Training_data/Aug4/._aug__0_7339.jpeg  \n",
            "  inflating: training_folder/Training_data/Aug4/aug__0_56.jpeg  \n",
            "  inflating: training_folder/__MACOSX/Training_data/Aug4/._aug__0_56.jpeg  \n",
            "  inflating: training_folder/Training_data/Aug4/aug__0_7155.jpeg  \n",
            "  inflating: training_folder/__MACOSX/Training_data/Aug4/._aug__0_7155.jpeg  \n",
            "  inflating: training_folder/Training_data/Aug4/aug__0_5168.jpeg  \n",
            "  inflating: training_folder/__MACOSX/Training_data/Aug4/._aug__0_5168.jpeg  \n",
            "  inflating: training_folder/Training_data/Aug4/aug__0_2357.jpeg  \n",
            "  inflating: training_folder/__MACOSX/Training_data/Aug4/._aug__0_2357.jpeg  \n",
            "  inflating: training_folder/Training_data/Aug4/aug__0_3815.jpeg  \n",
            "  inflating: training_folder/__MACOSX/Training_data/Aug4/._aug__0_3815.jpeg  \n",
            "  inflating: training_folder/Training_data/Aug4/aug__0_6314.jpeg  \n",
            "  inflating: training_folder/__MACOSX/Training_data/Aug4/._aug__0_6314.jpeg  \n",
            "  inflating: training_folder/Training_data/Aug4/aug__0_1255.jpeg  \n",
            "  inflating: training_folder/__MACOSX/Training_data/Aug4/._aug__0_1255.jpeg  \n",
            "  inflating: training_folder/Training_data/Aug4/aug__0_570.jpeg  \n",
            "  inflating: training_folder/__MACOSX/Training_data/Aug4/._aug__0_570.jpeg  \n",
            "  inflating: training_folder/Training_data/Aug4/aug__0_6969.jpeg  \n",
            "  inflating: training_folder/__MACOSX/Training_data/Aug4/._aug__0_6969.jpeg  \n",
            "  inflating: training_folder/Training_data/Aug4/aug__0_4954.jpeg  \n",
            "  inflating: training_folder/__MACOSX/Training_data/Aug4/._aug__0_4954.jpeg  \n",
            "  inflating: training_folder/Training_data/Aug4/aug__0_8561.jpeg  \n",
            "  inflating: training_folder/__MACOSX/Training_data/Aug4/._aug__0_8561.jpeg  \n",
            "  inflating: training_folder/Training_data/Aug4/aug__0_6986.jpeg  \n",
            "  inflating: training_folder/__MACOSX/Training_data/Aug4/._aug__0_6986.jpeg  \n",
            "  inflating: training_folder/Training_data/Aug4/aug__0_3907.jpeg  \n",
            "  inflating: training_folder/__MACOSX/Training_data/Aug4/._aug__0_3907.jpeg  \n",
            "  inflating: training_folder/Training_data/Aug4/aug__0_2896.jpeg  \n",
            "  inflating: training_folder/__MACOSX/Training_data/Aug4/._aug__0_2896.jpeg  \n",
            "  inflating: training_folder/Training_data/Aug4/aug__0_8961.jpeg  \n",
            "  inflating: training_folder/__MACOSX/Training_data/Aug4/._aug__0_8961.jpeg  \n",
            "  inflating: training_folder/Training_data/Aug4/aug__0_1613.jpeg  \n",
            "  inflating: training_folder/__MACOSX/Training_data/Aug4/._aug__0_1613.jpeg  \n",
            "  inflating: training_folder/Training_data/Aug4/aug__0_8824.jpeg  \n",
            "  inflating: training_folder/__MACOSX/Training_data/Aug4/._aug__0_8824.jpeg  \n",
            "  inflating: training_folder/Training_data/Aug4/aug__0_9366.jpeg  \n",
            "  inflating: training_folder/__MACOSX/Training_data/Aug4/._aug__0_9366.jpeg  \n",
            "  inflating: training_folder/Training_data/Aug4/aug__0_5715.jpeg  \n",
            "  inflating: training_folder/__MACOSX/Training_data/Aug4/._aug__0_5715.jpeg  \n",
            "  inflating: training_folder/Training_data/Aug4/aug__0_8577.jpeg  \n",
            "  inflating: training_folder/__MACOSX/Training_data/Aug4/._aug__0_8577.jpeg  \n",
            "  inflating: training_folder/Training_data/Aug4/aug__0_7378.jpeg  \n",
            "  inflating: training_folder/__MACOSX/Training_data/Aug4/._aug__0_7378.jpeg  \n",
            "  inflating: training_folder/Training_data/Aug4/aug__0_5579.jpeg  \n",
            "  inflating: training_folder/__MACOSX/Training_data/Aug4/._aug__0_5579.jpeg  \n",
            "  inflating: training_folder/Training_data/Aug4/aug__0_7544.jpeg  \n",
            "  inflating: training_folder/__MACOSX/Training_data/Aug4/._aug__0_7544.jpeg  \n",
            "  inflating: training_folder/Training_data/Aug4/aug__0_6355.jpeg  \n",
            "  inflating: training_folder/__MACOSX/Training_data/Aug4/._aug__0_6355.jpeg  \n",
            "  inflating: training_folder/Training_data/Aug4/aug__0_8035.jpeg  \n",
            "  inflating: training_folder/__MACOSX/Training_data/Aug4/._aug__0_8035.jpeg  \n",
            "  inflating: training_folder/Training_data/Aug4/aug__0_4915.jpeg  \n",
            "  inflating: training_folder/__MACOSX/Training_data/Aug4/._aug__0_4915.jpeg  \n",
            "  inflating: training_folder/Training_data/Aug4/aug__0_2087.jpeg  \n",
            "  inflating: training_folder/__MACOSX/Training_data/Aug4/._aug__0_2087.jpeg  \n",
            "  inflating: training_folder/Training_data/Aug4/aug__0_7285.jpeg  \n",
            "  inflating: training_folder/__MACOSX/Training_data/Aug4/._aug__0_7285.jpeg  \n",
            "  inflating: training_folder/Training_data/Aug4/aug__0_474.jpeg  \n",
            "  inflating: training_folder/__MACOSX/Training_data/Aug4/._aug__0_474.jpeg  \n",
            "  inflating: training_folder/Training_data/Aug4/aug__0_4503.jpeg  \n",
            "  inflating: training_folder/__MACOSX/Training_data/Aug4/._aug__0_4503.jpeg  \n",
            "  inflating: training_folder/Training_data/Aug4/aug__0_9331.jpeg  \n",
            "  inflating: training_folder/__MACOSX/Training_data/Aug4/._aug__0_9331.jpeg  \n",
            "  inflating: training_folder/Training_data/Aug4/aug__0_5191.jpeg  \n",
            "  inflating: training_folder/__MACOSX/Training_data/Aug4/._aug__0_5191.jpeg  \n",
            "  inflating: training_folder/Training_data/Aug4/aug__0_5484.jpeg  \n",
            "  inflating: training_folder/__MACOSX/Training_data/Aug4/._aug__0_5484.jpeg  \n",
            "  inflating: training_folder/Training_data/Aug4/aug__0_3527.jpeg  \n",
            "  inflating: training_folder/__MACOSX/Training_data/Aug4/._aug__0_3527.jpeg  \n",
            "  inflating: training_folder/Training_data/Aug4/aug__0_3462.jpeg  \n",
            "  inflating: training_folder/__MACOSX/Training_data/Aug4/._aug__0_3462.jpeg  \n",
            "  inflating: training_folder/Training_data/Aug4/aug__0_2859.jpeg  \n",
            "  inflating: training_folder/__MACOSX/Training_data/Aug4/._aug__0_2859.jpeg  \n",
            "  inflating: training_folder/Training_data/Aug4/aug__0_403.jpeg  \n",
            "  inflating: training_folder/__MACOSX/Training_data/Aug4/._aug__0_403.jpeg  \n",
            "  inflating: training_folder/Training_data/Aug4/aug__0_8412.jpeg  \n",
            "  inflating: training_folder/__MACOSX/Training_data/Aug4/._aug__0_8412.jpeg  \n",
            "  inflating: training_folder/Training_data/Aug4/aug__0_287.jpeg  \n",
            "  inflating: training_folder/__MACOSX/Training_data/Aug4/._aug__0_287.jpeg  \n",
            "  inflating: training_folder/Training_data/Aug4/aug__0_9468.jpeg  \n",
            "  inflating: training_folder/__MACOSX/Training_data/Aug4/._aug__0_9468.jpeg  \n",
            "  inflating: training_folder/Training_data/Aug4/aug__0_5918.jpeg  \n",
            "  inflating: training_folder/__MACOSX/Training_data/Aug4/._aug__0_5918.jpeg  \n",
            "  inflating: training_folder/Training_data/Aug4/aug__0_454.jpeg  \n",
            "  inflating: training_folder/__MACOSX/Training_data/Aug4/._aug__0_454.jpeg  \n",
            "  inflating: training_folder/Training_data/Aug4/aug__0_9311.jpeg  \n",
            "  inflating: training_folder/__MACOSX/Training_data/Aug4/._aug__0_9311.jpeg  \n",
            "  inflating: training_folder/Training_data/Aug4/aug__0_1371.jpeg  \n",
            "  inflating: training_folder/__MACOSX/Training_data/Aug4/._aug__0_1371.jpeg  \n",
            "  inflating: training_folder/Training_data/Aug4/aug__0_3659.jpeg  \n",
            "  inflating: training_folder/__MACOSX/Training_data/Aug4/._aug__0_3659.jpeg  \n",
            "  inflating: training_folder/Training_data/Aug4/aug__0_511.jpeg  \n",
            "  inflating: training_folder/__MACOSX/Training_data/Aug4/._aug__0_511.jpeg  \n",
            "  inflating: training_folder/Training_data/Aug4/aug__0_4935.jpeg  \n",
            "  inflating: training_folder/__MACOSX/Training_data/Aug4/._aug__0_4935.jpeg  \n",
            "  inflating: training_folder/Training_data/Aug4/aug__0_7175.jpeg  \n",
            "  inflating: training_folder/__MACOSX/Training_data/Aug4/._aug__0_7175.jpeg  \n",
            "  inflating: training_folder/Training_data/Aug4/aug__0_2377.jpeg  \n",
            "  inflating: training_folder/__MACOSX/Training_data/Aug4/._aug__0_2377.jpeg  \n",
            "  inflating: training_folder/Training_data/Aug4/aug__0_9868.jpeg  \n",
            "  inflating: training_folder/__MACOSX/Training_data/Aug4/._aug__0_9868.jpeg  \n",
            "  inflating: training_folder/Training_data/Aug4/aug__0_9491.jpeg  \n",
            "  inflating: training_folder/__MACOSX/Training_data/Aug4/._aug__0_9491.jpeg  \n",
            "  inflating: training_folder/Training_data/Aug4/aug__0_3970.jpeg  \n",
            "  inflating: training_folder/__MACOSX/Training_data/Aug4/._aug__0_3970.jpeg  \n",
            "  inflating: training_folder/Training_data/Aug4/aug__0_8795.jpeg  \n",
            "  inflating: training_folder/__MACOSX/Training_data/Aug4/._aug__0_8795.jpeg  \n",
            "  inflating: training_folder/Training_data/Aug4/aug__0_4535.jpeg  \n",
            "  inflating: training_folder/__MACOSX/Training_data/Aug4/._aug__0_4535.jpeg  \n",
            "  inflating: training_folder/Training_data/Aug4/aug__0_8453.jpeg  \n",
            "  inflating: training_folder/__MACOSX/Training_data/Aug4/._aug__0_8453.jpeg  \n",
            "  inflating: training_folder/Training_data/Aug4/aug__0_3161.jpeg  \n",
            "  inflating: training_folder/__MACOSX/Training_data/Aug4/._aug__0_3161.jpeg  \n",
            "  inflating: training_folder/Training_data/Aug4/aug__0_2770.jpeg  \n",
            "  inflating: training_folder/__MACOSX/Training_data/Aug4/._aug__0_2770.jpeg  \n",
            "  inflating: training_folder/Training_data/Aug4/aug__0_6226.jpeg  \n",
            "  inflating: training_folder/__MACOSX/Training_data/Aug4/._aug__0_6226.jpeg  \n",
            "  inflating: training_folder/Training_data/Aug4/aug__0_9350.jpeg  \n",
            "  inflating: training_folder/__MACOSX/Training_data/Aug4/._aug__0_9350.jpeg  \n",
            "  inflating: training_folder/Training_data/Aug4/aug__0_1330.jpeg  \n",
            "  inflating: training_folder/__MACOSX/Training_data/Aug4/._aug__0_1330.jpeg  \n",
            "  inflating: training_folder/Training_data/Aug4/aug__0_3248.jpeg  \n",
            "  inflating: training_folder/__MACOSX/Training_data/Aug4/._aug__0_3248.jpeg  \n",
            "  inflating: training_folder/Training_data/Aug4/aug__0_100.jpeg  \n",
            "  inflating: training_folder/__MACOSX/Training_data/Aug4/._aug__0_100.jpeg  \n",
            "  inflating: training_folder/Training_data/Aug4/aug__0_5471.jpeg  \n",
            "  inflating: training_folder/__MACOSX/Training_data/Aug4/._aug__0_5471.jpeg  \n",
            "  inflating: training_folder/Training_data/Aug4/aug__0_1961.jpeg  \n",
            "  inflating: training_folder/__MACOSX/Training_data/Aug4/._aug__0_1961.jpeg  \n",
            "  inflating: training_folder/Training_data/Aug4/aug__0_5021.jpeg  \n",
            "  inflating: training_folder/__MACOSX/Training_data/Aug4/._aug__0_5021.jpeg  \n",
            "  inflating: training_folder/Training_data/Aug4/aug__0_4775.jpeg  \n",
            "  inflating: training_folder/__MACOSX/Training_data/Aug4/._aug__0_4775.jpeg  \n",
            "  inflating: training_folder/Training_data/Aug4/aug__0_8756.jpeg  \n",
            "  inflating: training_folder/__MACOSX/Training_data/Aug4/._aug__0_8756.jpeg  \n",
            "  inflating: training_folder/Training_data/Aug4/aug__0_8490.jpeg  \n",
            "  inflating: training_folder/__MACOSX/Training_data/Aug4/._aug__0_8490.jpeg  \n",
            "  inflating: training_folder/Training_data/Aug4/aug__0_4149.jpeg  \n",
            "  inflating: training_folder/__MACOSX/Training_data/Aug4/._aug__0_4149.jpeg  \n",
            "  inflating: training_folder/Training_data/Aug4/aug__0_8869.jpeg  \n",
            "  inflating: training_folder/__MACOSX/Training_data/Aug4/._aug__0_8869.jpeg  \n",
            "  inflating: training_folder/Training_data/Aug4/aug__0_5076.jpeg  \n",
            "  inflating: training_folder/__MACOSX/Training_data/Aug4/._aug__0_5076.jpeg  \n",
            "  inflating: training_folder/Training_data/Aug4/aug__0_5133.jpeg  \n",
            "  inflating: training_folder/__MACOSX/Training_data/Aug4/._aug__0_5133.jpeg  \n",
            "  inflating: training_folder/Training_data/Aug4/aug__0_8351.jpeg  \n",
            "  inflating: training_folder/__MACOSX/Training_data/Aug4/._aug__0_8351.jpeg  \n",
            "  inflating: training_folder/Training_data/Aug4/aug__0_4688.jpeg  \n",
            "  inflating: training_folder/__MACOSX/Training_data/Aug4/._aug__0_4688.jpeg  \n",
            "  inflating: training_folder/Training_data/Aug4/aug__0_7677.jpeg  \n",
            "  inflating: training_folder/__MACOSX/Training_data/Aug4/._aug__0_7677.jpeg  \n",
            "  inflating: training_folder/Training_data/Aug4/aug__0_8428.jpeg  \n",
            "  inflating: training_folder/__MACOSX/Training_data/Aug4/._aug__0_8428.jpeg  \n",
            "  inflating: training_folder/Training_data/Aug4/aug__0_1259.jpeg  \n",
            "  inflating: training_folder/__MACOSX/Training_data/Aug4/._aug__0_1259.jpeg  \n",
            "  inflating: training_folder/Training_data/Aug4/aug__0_356.jpeg  \n",
            "  inflating: training_folder/__MACOSX/Training_data/Aug4/._aug__0_356.jpeg  \n",
            "  inflating: training_folder/Training_data/Aug4/aug__0_1023.jpeg  \n",
            "  inflating: training_folder/__MACOSX/Training_data/Aug4/._aug__0_1023.jpeg  \n",
            "  inflating: training_folder/Training_data/Aug4/aug__0_1166.jpeg  \n",
            "  inflating: training_folder/__MACOSX/Training_data/Aug4/._aug__0_1166.jpeg  \n",
            "  inflating: training_folder/Training_data/Aug4/aug__0_3788.jpeg  \n",
            "  inflating: training_folder/__MACOSX/Training_data/Aug4/._aug__0_3788.jpeg  \n",
            "  inflating: training_folder/Training_data/Aug4/aug__0_7661.jpeg  \n",
            "  inflating: training_folder/__MACOSX/Training_data/Aug4/._aug__0_7661.jpeg  \n",
            "  inflating: training_folder/Training_data/Aug4/aug__0_1424.jpeg  \n",
            "  inflating: training_folder/__MACOSX/Training_data/Aug4/._aug__0_1424.jpeg  \n",
            "  inflating: training_folder/Training_data/Aug4/aug__0_2658.jpeg  \n",
            "  inflating: training_folder/__MACOSX/Training_data/Aug4/._aug__0_2658.jpeg  \n",
            "  inflating: training_folder/Training_data/Aug4/aug__0_5172.jpeg  \n",
            "  inflating: training_folder/__MACOSX/Training_data/Aug4/._aug__0_5172.jpeg  \n",
            "  inflating: training_folder/Training_data/Aug4/aug__0_5522.jpeg  \n",
            "  inflating: training_folder/__MACOSX/Training_data/Aug4/._aug__0_5522.jpeg  \n",
            "  inflating: training_folder/Training_data/Aug4/aug__0_9501.jpeg  \n",
            "  inflating: training_folder/__MACOSX/Training_data/Aug4/._aug__0_9501.jpeg  \n",
            "  inflating: training_folder/Training_data/Aug4/aug__0_6924.jpeg  \n",
            "  inflating: training_folder/__MACOSX/Training_data/Aug4/._aug__0_6924.jpeg  \n",
            "  inflating: training_folder/Training_data/Aug4/aug__0_4919.jpeg  \n",
            "  inflating: training_folder/__MACOSX/Training_data/Aug4/._aug__0_4919.jpeg  \n",
            "  inflating: training_folder/Training_data/Aug4/aug__0_2434.jpeg  \n",
            "  inflating: training_folder/__MACOSX/Training_data/Aug4/._aug__0_2434.jpeg  \n",
            "  inflating: training_folder/Training_data/Aug4/aug__0_497.jpeg  \n",
            "  inflating: training_folder/__MACOSX/Training_data/Aug4/._aug__0_497.jpeg  \n",
            "  inflating: training_folder/Training_data/Aug4/aug__0_6027.jpeg  \n",
            "  inflating: training_folder/__MACOSX/Training_data/Aug4/._aug__0_6027.jpeg  \n",
            "  inflating: training_folder/Training_data/Aug4/aug__0_2.jpeg  \n",
            "  inflating: training_folder/__MACOSX/Training_data/Aug4/._aug__0_2.jpeg  \n",
            "  inflating: training_folder/Training_data/Aug4/aug__0_881.jpeg  \n",
            "  inflating: training_folder/__MACOSX/Training_data/Aug4/._aug__0_881.jpeg  \n",
            "  inflating: training_folder/Training_data/Aug4/aug__0_182.jpeg  \n",
            "  inflating: training_folder/__MACOSX/Training_data/Aug4/._aug__0_182.jpeg  \n",
            "  inflating: training_folder/Training_data/Aug4/aug__0_7588.jpeg  \n",
            "  inflating: training_folder/__MACOSX/Training_data/Aug4/._aug__0_7588.jpeg  \n",
            "  inflating: training_folder/Training_data/Aug4/aug__0_9596.jpeg  \n",
            "  inflating: training_folder/__MACOSX/Training_data/Aug4/._aug__0_9596.jpeg  \n",
            "  inflating: training_folder/Training_data/Aug4/aug__0_9129.jpeg  \n",
            "  inflating: training_folder/__MACOSX/Training_data/Aug4/._aug__0_9129.jpeg  \n",
            "  inflating: training_folder/Training_data/Aug4/aug__0_9579.jpeg  \n",
            "  inflating: training_folder/__MACOSX/Training_data/Aug4/._aug__0_9579.jpeg  \n",
            "  inflating: training_folder/Training_data/Aug4/aug__0_4598.jpeg  \n",
            "  inflating: training_folder/__MACOSX/Training_data/Aug4/._aug__0_4598.jpeg  \n",
            "  inflating: training_folder/Training_data/Aug4/aug__0_3318.jpeg  \n",
            "  inflating: training_folder/__MACOSX/Training_data/Aug4/._aug__0_3318.jpeg  \n",
            "  inflating: training_folder/Training_data/Aug4/aug__0_1958.jpeg  \n",
            "  inflating: training_folder/__MACOSX/Training_data/Aug4/._aug__0_1958.jpeg  \n",
            "  inflating: training_folder/Training_data/Aug4/aug__0_2227.jpeg  \n",
            "  inflating: training_folder/__MACOSX/Training_data/Aug4/._aug__0_2227.jpeg  \n",
            "  inflating: training_folder/Training_data/Aug4/aug__0_2362.jpeg  \n",
            "  inflating: training_folder/__MACOSX/Training_data/Aug4/._aug__0_2362.jpeg  \n",
            "  inflating: training_folder/Training_data/Aug4/aug__0_841.jpeg  \n",
            "  inflating: training_folder/__MACOSX/Training_data/Aug4/._aug__0_841.jpeg  \n",
            "  inflating: training_folder/Training_data/Aug4/aug__0_9607.jpeg  \n",
            "  inflating: training_folder/__MACOSX/Training_data/Aug4/._aug__0_9607.jpeg  \n",
            "  inflating: training_folder/Training_data/Aug4/aug__0_4035.jpeg  \n",
            "  inflating: training_folder/__MACOSX/Training_data/Aug4/._aug__0_4035.jpeg  \n",
            "  inflating: training_folder/Training_data/Aug4/aug__0_904.jpeg  \n",
            "  inflating: training_folder/__MACOSX/Training_data/Aug4/._aug__0_904.jpeg  \n",
            "  inflating: training_folder/Training_data/Aug4/aug__0_8153.jpeg  \n",
            "  inflating: training_folder/__MACOSX/Training_data/Aug4/._aug__0_8153.jpeg  \n",
            "  inflating: training_folder/Training_data/Aug4/aug__0_4473.jpeg  \n",
            "  inflating: training_folder/__MACOSX/Training_data/Aug4/._aug__0_4473.jpeg  \n",
            "  inflating: training_folder/Training_data/Aug4/aug__0_1671.jpeg  \n",
            "  inflating: training_folder/__MACOSX/Training_data/Aug4/._aug__0_1671.jpeg  \n",
            "  inflating: training_folder/Training_data/Aug4/aug__0_5798.jpeg  \n",
            "  inflating: training_folder/__MACOSX/Training_data/Aug4/._aug__0_5798.jpeg  \n",
            "  inflating: training_folder/Training_data/Aug4/aug__0_5327.jpeg  \n",
            "  inflating: training_folder/__MACOSX/Training_data/Aug4/._aug__0_5327.jpeg  \n",
            "  inflating: training_folder/Training_data/Aug4/aug__0_9304.jpeg  \n",
            "  inflating: training_folder/__MACOSX/Training_data/Aug4/._aug__0_9304.jpeg  \n",
            "  inflating: training_folder/Training_data/Aug4/aug__0_9580.jpeg  \n",
            "  inflating: training_folder/__MACOSX/Training_data/Aug4/._aug__0_9580.jpeg  \n",
            "  inflating: training_folder/Training_data/Aug4/aug__0_6360.jpeg  \n",
            "  inflating: training_folder/__MACOSX/Training_data/Aug4/._aug__0_6360.jpeg  \n",
            "  inflating: training_folder/Training_data/Aug4/aug__0_8954.jpeg  \n",
            "  inflating: training_folder/__MACOSX/Training_data/Aug4/._aug__0_8954.jpeg  \n",
            "  inflating: training_folder/Training_data/Aug4/aug__0_5720.jpeg  \n",
            "  inflating: training_folder/__MACOSX/Training_data/Aug4/._aug__0_5720.jpeg  \n",
            "  inflating: training_folder/Training_data/Aug4/aug__0_1124.jpeg  \n",
            "  inflating: training_folder/__MACOSX/Training_data/Aug4/._aug__0_1124.jpeg  \n",
            "  inflating: training_folder/Training_data/Aug4/aug__0_4263.jpeg  \n",
            "  inflating: training_folder/__MACOSX/Training_data/Aug4/._aug__0_4263.jpeg  \n",
            "  inflating: training_folder/Training_data/Aug4/aug__0_4633.jpeg  \n",
            "  inflating: training_folder/__MACOSX/Training_data/Aug4/._aug__0_4633.jpeg  \n",
            "  inflating: training_folder/Training_data/Aug4/aug__0_744.jpeg  \n",
            "  inflating: training_folder/__MACOSX/Training_data/Aug4/._aug__0_744.jpeg  \n",
            "  inflating: training_folder/Training_data/Aug4/aug__0_5022.jpeg  \n",
            "  inflating: training_folder/__MACOSX/Training_data/Aug4/._aug__0_5022.jpeg  \n",
            "  inflating: training_folder/Training_data/Aug4/aug__0_7336.jpeg  \n",
            "  inflating: training_folder/__MACOSX/Training_data/Aug4/._aug__0_7336.jpeg  \n",
            "  inflating: training_folder/Training_data/Aug4/aug__0_6462.jpeg  \n",
            "  inflating: training_folder/__MACOSX/Training_data/Aug4/._aug__0_6462.jpeg  \n",
            "  inflating: training_folder/Training_data/Aug4/aug__0_4371.jpeg  \n",
            "  inflating: training_folder/__MACOSX/Training_data/Aug4/._aug__0_4371.jpeg  \n",
            "  inflating: training_folder/Training_data/Aug4/aug__0_1870.jpeg  \n",
            "  inflating: training_folder/__MACOSX/Training_data/Aug4/._aug__0_1870.jpeg  \n",
            "  inflating: training_folder/Training_data/Aug4/aug__0_3908.jpeg  \n",
            "  inflating: training_folder/__MACOSX/Training_data/Aug4/._aug__0_3908.jpeg  \n",
            "  inflating: training_folder/Training_data/Aug4/aug__0_9056.jpeg  \n",
            "  inflating: training_folder/__MACOSX/Training_data/Aug4/._aug__0_9056.jpeg  \n",
            "  inflating: training_folder/Training_data/Aug4/aug__0_5976.jpeg  \n",
            "  inflating: training_folder/__MACOSX/Training_data/Aug4/._aug__0_5976.jpeg  \n",
            "  inflating: training_folder/Training_data/Aug4/aug__0_2163.jpeg  \n",
            "  inflating: training_folder/__MACOSX/Training_data/Aug4/._aug__0_2163.jpeg  \n",
            "  inflating: training_folder/Training_data/Aug4/aug__0_9685.jpeg  \n",
            "  inflating: training_folder/__MACOSX/Training_data/Aug4/._aug__0_9685.jpeg  \n",
            "  inflating: training_folder/Training_data/Aug4/aug__0_6065.jpeg  \n",
            "  inflating: training_folder/__MACOSX/Training_data/Aug4/._aug__0_6065.jpeg  \n",
            "  inflating: training_folder/Training_data/Aug4/aug__0_2026.jpeg  \n",
            "  inflating: training_folder/__MACOSX/Training_data/Aug4/._aug__0_2026.jpeg  \n",
            "  inflating: training_folder/Training_data/Aug4/aug__0_7818.jpeg  \n",
            "  inflating: training_folder/__MACOSX/Training_data/Aug4/._aug__0_7818.jpeg  \n",
            "  inflating: training_folder/Training_data/Aug4/aug__0_4737.jpeg  \n",
            "  inflating: training_folder/__MACOSX/Training_data/Aug4/._aug__0_4737.jpeg  \n",
            "  inflating: training_folder/Training_data/Aug4/aug__0_8578.jpeg  \n",
            "  inflating: training_folder/__MACOSX/Training_data/Aug4/._aug__0_8578.jpeg  \n",
            "  inflating: training_folder/Training_data/Aug4/aug__0_3621.jpeg  \n",
            "  inflating: training_folder/__MACOSX/Training_data/Aug4/._aug__0_3621.jpeg  \n",
            "  inflating: training_folder/Training_data/Aug4/aug__0_247.jpeg  \n",
            "  inflating: training_folder/__MACOSX/Training_data/Aug4/._aug__0_247.jpeg  \n",
            "  inflating: training_folder/Training_data/Aug4/aug__0_4275.jpeg  \n",
            "  inflating: training_folder/__MACOSX/Training_data/Aug4/._aug__0_4275.jpeg  \n",
            "  inflating: training_folder/Training_data/Aug4/aug__0_7320.jpeg  \n",
            "  inflating: training_folder/__MACOSX/Training_data/Aug4/._aug__0_7320.jpeg  \n",
            "  inflating: training_folder/Training_data/Aug4/aug__0_6474.jpeg  \n",
            "  inflating: training_folder/__MACOSX/Training_data/Aug4/._aug__0_6474.jpeg  \n",
            "  inflating: training_folder/Training_data/Aug4/aug__0_8893.jpeg  \n",
            "  inflating: training_folder/__MACOSX/Training_data/Aug4/._aug__0_8893.jpeg  \n",
            "  inflating: training_folder/Training_data/Aug4/aug__0_7635.jpeg  \n",
            "  inflating: training_folder/__MACOSX/Training_data/Aug4/._aug__0_7635.jpeg  \n",
            "  inflating: training_folder/Training_data/Aug4/aug__0_5258.jpeg  \n",
            "  inflating: training_folder/__MACOSX/Training_data/Aug4/._aug__0_5258.jpeg  \n",
            "  inflating: training_folder/Training_data/Aug4/aug__0_549.jpeg  \n",
            "  inflating: training_folder/__MACOSX/Training_data/Aug4/._aug__0_549.jpeg  \n",
            "  inflating: training_folder/Training_data/Aug4/aug__0_3251.jpeg  \n",
            "  inflating: training_folder/__MACOSX/Training_data/Aug4/._aug__0_3251.jpeg  \n",
            "  inflating: training_folder/Training_data/Aug4/aug__0_2856.jpeg  \n",
            "  inflating: training_folder/__MACOSX/Training_data/Aug4/._aug__0_2856.jpeg  \n",
            "  inflating: training_folder/Training_data/Aug4/aug__0_5690.jpeg  \n",
            "  inflating: training_folder/__MACOSX/Training_data/Aug4/._aug__0_5690.jpeg  \n",
            "  inflating: training_folder/Training_data/Aug4/aug__0_8221.jpeg  \n",
            "  inflating: training_folder/__MACOSX/Training_data/Aug4/._aug__0_8221.jpeg  \n",
            "  inflating: training_folder/Training_data/Aug4/aug__0_2769.jpeg  \n",
            "  inflating: training_folder/__MACOSX/Training_data/Aug4/._aug__0_2769.jpeg  \n",
            "  inflating: training_folder/Training_data/Aug4/aug__0_7992.jpeg  \n",
            "  inflating: training_folder/__MACOSX/Training_data/Aug4/._aug__0_7992.jpeg  \n",
            "  inflating: training_folder/Training_data/Aug4/aug__0_3482.jpeg  \n",
            "  inflating: training_folder/__MACOSX/Training_data/Aug4/._aug__0_3482.jpeg  \n",
            "  inflating: training_folder/Training_data/Aug4/aug__0_4605.jpeg  \n",
            "  inflating: training_folder/__MACOSX/Training_data/Aug4/._aug__0_4605.jpeg  \n",
            "  inflating: training_folder/Training_data/Aug4/aug__0_1112.jpeg  \n",
            "  inflating: training_folder/__MACOSX/Training_data/Aug4/._aug__0_1112.jpeg  \n",
            "  inflating: training_folder/Training_data/Aug4/aug__0_5151.jpeg  \n",
            "  inflating: training_folder/__MACOSX/Training_data/Aug4/._aug__0_5151.jpeg  \n",
            "  inflating: training_folder/Training_data/Aug4/aug__0_8763.jpeg  \n",
            "  inflating: training_folder/__MACOSX/Training_data/Aug4/._aug__0_8763.jpeg  \n",
            "  inflating: training_folder/Training_data/Aug4/aug__0_3640.jpeg  \n",
            "  inflating: training_folder/__MACOSX/Training_data/Aug4/._aug__0_3640.jpeg  \n",
            "  inflating: training_folder/Training_data/Aug4/aug__0_8519.jpeg  \n",
            "  inflating: training_folder/__MACOSX/Training_data/Aug4/._aug__0_8519.jpeg  \n",
            "  inflating: training_folder/Training_data/Aug4/aug__0_8149.jpeg  \n",
            "  inflating: training_folder/__MACOSX/Training_data/Aug4/._aug__0_8149.jpeg  \n",
            "  inflating: training_folder/Training_data/Aug4/aug__0_7195.jpeg  \n",
            "  inflating: training_folder/__MACOSX/Training_data/Aug4/._aug__0_7195.jpeg  \n",
            "  inflating: training_folder/Training_data/Aug4/aug__0_8630.jpeg  \n",
            "  inflating: training_folder/__MACOSX/Training_data/Aug4/._aug__0_8630.jpeg  \n",
            "  inflating: training_folder/Training_data/Aug4/aug__0_6415.jpeg  \n",
            "  inflating: training_folder/__MACOSX/Training_data/Aug4/._aug__0_6415.jpeg  \n",
            "  inflating: training_folder/Training_data/Aug4/aug__0_6803.jpeg  \n",
            "  inflating: training_folder/__MACOSX/Training_data/Aug4/._aug__0_6803.jpeg  \n",
            "  inflating: training_folder/Training_data/Aug4/aug__0_7711.jpeg  \n",
            "  inflating: training_folder/__MACOSX/Training_data/Aug4/._aug__0_7711.jpeg  \n",
            "  inflating: training_folder/Training_data/Aug4/aug__0_3752.jpeg  \n",
            "  inflating: training_folder/__MACOSX/Training_data/Aug4/._aug__0_3752.jpeg  \n",
            "  inflating: training_folder/Training_data/Aug4/aug__0_363.jpeg  \n",
            "  inflating: training_folder/__MACOSX/Training_data/Aug4/._aug__0_363.jpeg  \n",
            "  inflating: training_folder/Training_data/Aug4/aug__0_2790.jpeg  \n",
            "  inflating: training_folder/__MACOSX/Training_data/Aug4/._aug__0_2790.jpeg  \n",
            "  inflating: training_folder/Training_data/Aug4/aug__0_226.jpeg  \n",
            "  inflating: training_folder/__MACOSX/Training_data/Aug4/._aug__0_226.jpeg  \n",
            "  inflating: training_folder/Training_data/Aug4/aug__0_461.jpeg  \n",
            "  inflating: training_folder/__MACOSX/Training_data/Aug4/._aug__0_461.jpeg  \n",
            "  inflating: training_folder/Training_data/Aug4/aug__0_5307.jpeg  \n",
            "  inflating: training_folder/__MACOSX/Training_data/Aug4/._aug__0_5307.jpeg  \n",
            "  inflating: training_folder/Training_data/Aug4/aug__0_5242.jpeg  \n",
            "  inflating: training_folder/__MACOSX/Training_data/Aug4/._aug__0_5242.jpeg  \n",
            "  inflating: training_folder/Training_data/Aug4/aug__0_4280.jpeg  \n",
            "  inflating: training_folder/__MACOSX/Training_data/Aug4/._aug__0_4280.jpeg  \n",
            "  inflating: training_folder/Training_data/Aug4/aug__0_2704.jpeg  \n",
            "  inflating: training_folder/__MACOSX/Training_data/Aug4/._aug__0_2704.jpeg  \n",
            "  inflating: training_folder/Training_data/Aug4/aug__0_8309.jpeg  \n",
            "  inflating: training_folder/__MACOSX/Training_data/Aug4/._aug__0_8309.jpeg  \n",
            "  inflating: training_folder/Training_data/Aug4/aug__0_2641.jpeg  \n",
            "  inflating: training_folder/__MACOSX/Training_data/Aug4/._aug__0_2641.jpeg  \n",
            "  inflating: training_folder/Training_data/Aug4/aug__0_3841.jpeg  \n",
            "  inflating: training_folder/__MACOSX/Training_data/Aug4/._aug__0_3841.jpeg  \n",
            "  inflating: training_folder/Training_data/Aug4/aug__0_4238.jpeg  \n",
            "  inflating: training_folder/__MACOSX/Training_data/Aug4/._aug__0_4238.jpeg  \n",
            "  inflating: training_folder/Training_data/Aug4/aug__0_7414.jpeg  \n",
            "  inflating: training_folder/__MACOSX/Training_data/Aug4/._aug__0_7414.jpeg  \n",
            "  inflating: training_folder/Training_data/Aug4/aug__0_1305.jpeg  \n",
            "  inflating: training_folder/__MACOSX/Training_data/Aug4/._aug__0_1305.jpeg  \n",
            "  inflating: training_folder/Training_data/Aug4/aug__0_4557.jpeg  \n",
            "  inflating: training_folder/__MACOSX/Training_data/Aug4/._aug__0_4557.jpeg  \n",
            "  inflating: training_folder/Training_data/Aug4/aug__0_4412.jpeg  \n",
            "  inflating: training_folder/__MACOSX/Training_data/Aug4/._aug__0_4412.jpeg  \n",
            "  inflating: training_folder/Training_data/Aug4/aug__0_5653.jpeg  \n",
            "  inflating: training_folder/__MACOSX/Training_data/Aug4/._aug__0_5653.jpeg  \n",
            "  inflating: training_folder/Training_data/Aug4/aug__0_2196.jpeg  \n",
            "  inflating: training_folder/__MACOSX/Training_data/Aug4/._aug__0_2196.jpeg  \n",
            "  inflating: training_folder/Training_data/Aug4/aug__0_3912.jpeg  \n",
            "  inflating: training_folder/__MACOSX/Training_data/Aug4/._aug__0_3912.jpeg  \n",
            "  inflating: training_folder/Training_data/Aug4/aug__0_9762.jpeg  \n",
            "  inflating: training_folder/__MACOSX/Training_data/Aug4/._aug__0_9762.jpeg  \n",
            "  inflating: training_folder/Training_data/Aug4/aug__0_2084.jpeg  \n",
            "  inflating: training_folder/__MACOSX/Training_data/Aug4/._aug__0_2084.jpeg  \n",
            "  inflating: training_folder/Training_data/Aug4/aug__0_7269.jpeg  \n",
            "  inflating: training_folder/__MACOSX/Training_data/Aug4/._aug__0_7269.jpeg  \n",
            "  inflating: training_folder/Training_data/Aug4/aug__0_6182.jpeg  \n",
            "  inflating: training_folder/__MACOSX/Training_data/Aug4/._aug__0_6182.jpeg  \n",
            "  inflating: training_folder/Training_data/Aug4/aug__0_9277.jpeg  \n",
            "  inflating: training_folder/__MACOSX/Training_data/Aug4/._aug__0_9277.jpeg  \n",
            "  inflating: training_folder/Training_data/Aug4/aug__0_3380.jpeg  \n",
            "  inflating: training_folder/__MACOSX/Training_data/Aug4/._aug__0_3380.jpeg  \n",
            "  inflating: training_folder/Training_data/Aug4/aug__0_1217.jpeg  \n",
            "  inflating: training_folder/__MACOSX/Training_data/Aug4/._aug__0_1217.jpeg  \n",
            "  inflating: training_folder/Training_data/Aug4/aug__0_3103.jpeg  \n",
            "  inflating: training_folder/__MACOSX/Training_data/Aug4/._aug__0_3103.jpeg  \n",
            "  inflating: training_folder/Training_data/Aug4/aug__0_7843.jpeg  \n",
            "  inflating: training_folder/__MACOSX/Training_data/Aug4/._aug__0_7843.jpeg  \n",
            "  inflating: training_folder/Training_data/Aug4/aug__0_5468.jpeg  \n",
            "  inflating: training_folder/__MACOSX/Training_data/Aug4/._aug__0_5468.jpeg  \n",
            "  inflating: training_folder/Training_data/Aug4/aug__0_43.jpeg  \n",
            "  inflating: training_folder/__MACOSX/Training_data/Aug4/._aug__0_43.jpeg  \n",
            "  inflating: training_folder/Training_data/Aug4/aug__0_1095.jpeg  \n",
            "  inflating: training_folder/__MACOSX/Training_data/Aug4/._aug__0_1095.jpeg  \n",
            "  inflating: training_folder/Training_data/Aug4/aug__0_4628.jpeg  \n",
            "  inflating: training_folder/__MACOSX/Training_data/Aug4/._aug__0_4628.jpeg  \n",
            "  inflating: training_folder/Training_data/Aug4/aug__0_6615.jpeg  \n",
            "  inflating: training_folder/__MACOSX/Training_data/Aug4/._aug__0_6615.jpeg  \n",
            "  inflating: training_folder/Training_data/Aug4/aug__0_3417.jpeg  \n",
            "  inflating: training_folder/__MACOSX/Training_data/Aug4/._aug__0_3417.jpeg  \n",
            "  inflating: training_folder/Training_data/Aug4/aug__0_925.jpeg  \n",
            "  inflating: training_folder/__MACOSX/Training_data/Aug4/._aug__0_925.jpeg  \n",
            "  inflating: training_folder/Training_data/Aug4/aug__0_9333.jpeg  \n",
            "  inflating: training_folder/__MACOSX/Training_data/Aug4/._aug__0_9333.jpeg  \n",
            "  inflating: training_folder/Training_data/Aug4/aug__0_3694.jpeg  \n",
            "  inflating: training_folder/__MACOSX/Training_data/Aug4/._aug__0_3694.jpeg  \n",
            "  inflating: training_folder/Training_data/Aug4/aug__0_6496.jpeg  \n",
            "  inflating: training_folder/__MACOSX/Training_data/Aug4/._aug__0_6496.jpeg  \n",
            "  inflating: training_folder/Training_data/Aug4/aug__0_163.jpeg  \n",
            "  inflating: training_folder/__MACOSX/Training_data/Aug4/._aug__0_163.jpeg  \n",
            "  inflating: training_folder/Training_data/Aug4/aug__0_9558.jpeg  \n",
            "  inflating: training_folder/__MACOSX/Training_data/Aug4/._aug__0_9558.jpeg  \n",
            "  inflating: training_folder/Training_data/Aug4/aug__0_4385.jpeg  \n",
            "  inflating: training_folder/__MACOSX/Training_data/Aug4/._aug__0_4385.jpeg  \n",
            "  inflating: training_folder/Training_data/Aug4/aug__0_6642.jpeg  \n",
            "  inflating: training_folder/__MACOSX/Training_data/Aug4/._aug__0_6642.jpeg  \n",
            "  inflating: training_folder/Training_data/Aug4/aug__0_3010.jpeg  \n",
            "  inflating: training_folder/__MACOSX/Training_data/Aug4/._aug__0_3010.jpeg  \n",
            "  inflating: training_folder/Training_data/Aug4/aug__0_6992.jpeg  \n",
            "  inflating: training_folder/__MACOSX/Training_data/Aug4/._aug__0_6992.jpeg  \n",
            "  inflating: training_folder/Training_data/Aug4/aug__0_5347.jpeg  \n",
            "  inflating: training_folder/__MACOSX/Training_data/Aug4/._aug__0_5347.jpeg  \n",
            "  inflating: training_folder/Training_data/Aug4/aug__0_4106.jpeg  \n",
            "  inflating: training_folder/__MACOSX/Training_data/Aug4/._aug__0_4106.jpeg  \n",
            "  inflating: training_folder/Training_data/Aug4/aug__0_6584.jpeg  \n",
            "  inflating: training_folder/__MACOSX/Training_data/Aug4/._aug__0_6584.jpeg  \n",
            "  inflating: training_folder/Training_data/Aug4/aug__0_4413.jpeg  \n",
            "  inflating: training_folder/__MACOSX/Training_data/Aug4/._aug__0_4413.jpeg  \n",
            "  inflating: training_folder/Training_data/Aug4/aug__0_8430.jpeg  \n",
            "  inflating: training_folder/__MACOSX/Training_data/Aug4/._aug__0_8430.jpeg  \n",
            "  inflating: training_folder/Training_data/Aug4/aug__0_6341.jpeg  \n",
            "  inflating: training_folder/__MACOSX/Training_data/Aug4/._aug__0_6341.jpeg  \n",
            "  inflating: training_folder/Training_data/Aug4/aug__0_6654.jpeg  \n",
            "  inflating: training_folder/__MACOSX/Training_data/Aug4/._aug__0_6654.jpeg  \n",
            "  inflating: training_folder/Training_data/Aug4/aug__0_4393.jpeg  \n",
            "  inflating: training_folder/__MACOSX/Training_data/Aug4/._aug__0_4393.jpeg  \n",
            "  inflating: training_folder/Training_data/Aug4/aug__0_7415.jpeg  \n",
            "  inflating: training_folder/__MACOSX/Training_data/Aug4/._aug__0_7415.jpeg  \n",
            "  inflating: training_folder/Training_data/Aug4/aug__0_2617.jpeg  \n",
            "  inflating: training_folder/__MACOSX/Training_data/Aug4/._aug__0_2617.jpeg  \n",
            "  inflating: training_folder/Training_data/Aug4/aug__0_2247.jpeg  \n",
            "  inflating: training_folder/__MACOSX/Training_data/Aug4/._aug__0_2247.jpeg  \n",
            "  inflating: training_folder/Training_data/Aug4/aug__0_9372.jpeg  \n",
            "  inflating: training_folder/__MACOSX/Training_data/Aug4/._aug__0_9372.jpeg  \n",
            "  inflating: training_folder/Training_data/Aug4/aug__0_1312.jpeg  \n",
            "  inflating: training_folder/__MACOSX/Training_data/Aug4/._aug__0_1312.jpeg  \n",
            "  inflating: training_folder/Training_data/Aug4/aug__0_5701.jpeg  \n",
            "  inflating: training_folder/__MACOSX/Training_data/Aug4/._aug__0_5701.jpeg  \n",
            "  inflating: training_folder/Training_data/Aug4/aug__0_7679.jpeg  \n",
            "  inflating: training_folder/__MACOSX/Training_data/Aug4/._aug__0_7679.jpeg  \n",
            "  inflating: training_folder/Training_data/Aug4/aug__0_2181.jpeg  \n",
            "  inflating: training_folder/__MACOSX/Training_data/Aug4/._aug__0_2181.jpeg  \n",
            "  inflating: training_folder/Training_data/Aug4/aug__0_5644.jpeg  \n",
            "  inflating: training_folder/__MACOSX/Training_data/Aug4/._aug__0_5644.jpeg  \n",
            "  inflating: training_folder/Training_data/Aug4/aug__0_7157.jpeg  \n",
            "  inflating: training_folder/__MACOSX/Training_data/Aug4/._aug__0_7157.jpeg  \n",
            "  inflating: training_folder/Training_data/Aug4/aug__0_7442.jpeg  \n",
            "  inflating: training_folder/__MACOSX/Training_data/Aug4/._aug__0_7442.jpeg  \n",
            "  inflating: training_folder/Training_data/Aug4/aug__0_7291.jpeg  \n",
            "  inflating: training_folder/__MACOSX/Training_data/Aug4/._aug__0_7291.jpeg  \n",
            "  inflating: training_folder/Training_data/Aug4/aug__0_8164.jpeg  \n",
            "  inflating: training_folder/__MACOSX/Training_data/Aug4/._aug__0_8164.jpeg  \n",
            "  inflating: training_folder/Training_data/Aug4/aug__0_2093.jpeg  \n",
            "  inflating: training_folder/__MACOSX/Training_data/Aug4/._aug__0_2093.jpeg  \n",
            "  inflating: training_folder/Training_data/Aug4/aug__0_1345.jpeg  \n",
            "  inflating: training_folder/__MACOSX/Training_data/Aug4/._aug__0_1345.jpeg  \n",
            "  inflating: training_folder/Training_data/Aug4/aug__0_3682.jpeg  \n",
            "  inflating: training_folder/__MACOSX/Training_data/Aug4/._aug__0_3682.jpeg  \n",
            "  inflating: training_folder/Training_data/Aug4/aug__0_1715.jpeg  \n",
            "  inflating: training_folder/__MACOSX/Training_data/Aug4/._aug__0_1715.jpeg  \n",
            "  inflating: training_folder/Training_data/Aug4/aug__0_9325.jpeg  \n",
            "  inflating: training_folder/__MACOSX/Training_data/Aug4/._aug__0_9325.jpeg  \n",
            "  inflating: training_folder/Training_data/Aug4/aug__0_9630.jpeg  \n",
            "  inflating: training_folder/__MACOSX/Training_data/Aug4/._aug__0_9630.jpeg  \n",
            "  inflating: training_folder/Training_data/Aug4/aug__0_5054.jpeg  \n",
            "  inflating: training_folder/__MACOSX/Training_data/Aug4/._aug__0_5054.jpeg  \n",
            "  inflating: training_folder/Training_data/Aug4/aug__0_1017.jpeg  \n",
            "  inflating: training_folder/__MACOSX/Training_data/Aug4/._aug__0_1017.jpeg  \n",
            "  inflating: training_folder/Training_data/Aug4/aug__0_1502.jpeg  \n",
            "  inflating: training_folder/__MACOSX/Training_data/Aug4/._aug__0_1502.jpeg  \n",
            "  inflating: training_folder/Training_data/Aug4/aug__0_9132.jpeg  \n",
            "  inflating: training_folder/__MACOSX/Training_data/Aug4/._aug__0_9132.jpeg  \n",
            "  inflating: training_folder/Training_data/Aug4/aug__0_8373.jpeg  \n",
            "  inflating: training_folder/__MACOSX/Training_data/Aug4/._aug__0_8373.jpeg  \n",
            "  inflating: training_folder/Training_data/Aug4/aug__0_8959.jpeg  \n",
            "  inflating: training_folder/__MACOSX/Training_data/Aug4/._aug__0_8959.jpeg  \n",
            "  inflating: training_folder/Training_data/Aug4/aug__0_4583.jpeg  \n",
            "  inflating: training_folder/__MACOSX/Training_data/Aug4/._aug__0_4583.jpeg  \n",
            "  inflating: training_folder/Training_data/Aug4/aug__0_2512.jpeg  \n",
            "  inflating: training_folder/__MACOSX/Training_data/Aug4/._aug__0_2512.jpeg  \n",
            "  inflating: training_folder/Training_data/Aug4/aug__0_4995.jpeg  \n",
            "  inflating: training_folder/__MACOSX/Training_data/Aug4/._aug__0_4995.jpeg  \n",
            "  inflating: training_folder/Training_data/Aug4/aug__0_6785.jpeg  \n",
            "  inflating: training_folder/__MACOSX/Training_data/Aug4/._aug__0_6785.jpeg  \n",
            "  inflating: training_folder/Training_data/Aug4/aug__0_7897.jpeg  \n",
            "  inflating: training_folder/__MACOSX/Training_data/Aug4/._aug__0_7897.jpeg  \n",
            "  inflating: training_folder/Training_data/Aug4/aug__0_5146.jpeg  \n",
            "  inflating: training_folder/__MACOSX/Training_data/Aug4/._aug__0_5146.jpeg  \n",
            "  inflating: training_folder/Training_data/Aug4/aug__0_3138.jpeg  \n",
            "  inflating: training_folder/__MACOSX/Training_data/Aug4/._aug__0_3138.jpeg  \n",
            "  inflating: training_folder/Training_data/Aug4/aug__0_3568.jpeg  \n",
            "  inflating: training_folder/__MACOSX/Training_data/Aug4/._aug__0_3568.jpeg  \n",
            "  inflating: training_folder/Training_data/Aug4/aug__0_6506.jpeg  \n",
            "  inflating: training_folder/__MACOSX/Training_data/Aug4/._aug__0_6506.jpeg  \n",
            "  inflating: training_folder/Training_data/Aug4/aug__0_9309.jpeg  \n",
            "  inflating: training_folder/__MACOSX/Training_data/Aug4/._aug__0_9309.jpeg  \n",
            "  inflating: training_folder/Training_data/Aug4/aug__0_5280.jpeg  \n",
            "  inflating: training_folder/__MACOSX/Training_data/Aug4/._aug__0_5280.jpeg  \n",
            "  inflating: training_folder/Training_data/Aug4/aug__0_8627.jpeg  \n",
            "  inflating: training_folder/__MACOSX/Training_data/Aug4/._aug__0_8627.jpeg  \n",
            "  inflating: training_folder/Training_data/Aug4/aug__0_2380.jpeg  \n",
            "  inflating: training_folder/__MACOSX/Training_data/Aug4/._aug__0_2380.jpeg  \n",
            "  inflating: training_folder/Training_data/Aug4/aug__0_289.jpeg  \n",
            "  inflating: training_folder/__MACOSX/Training_data/Aug4/._aug__0_289.jpeg  \n",
            "  inflating: training_folder/Training_data/Aug4/aug__0_4604.jpeg  \n",
            "  inflating: training_folder/__MACOSX/Training_data/Aug4/._aug__0_4604.jpeg  \n",
            "  inflating: training_folder/Training_data/Aug4/aug__0_6793.jpeg  \n",
            "  inflating: training_folder/__MACOSX/Training_data/Aug4/._aug__0_6793.jpeg  \n",
            "  inflating: training_folder/Training_data/Aug4/aug__0_5853.jpeg  \n",
            "  inflating: training_folder/__MACOSX/Training_data/Aug4/._aug__0_5853.jpeg  \n",
            "  inflating: training_folder/Training_data/Aug4/aug__0_1543.jpeg  \n",
            "  inflating: training_folder/__MACOSX/Training_data/Aug4/._aug__0_1543.jpeg  \n",
            "  inflating: training_folder/Training_data/Aug4/aug__0_3207.jpeg  \n",
            "  inflating: training_folder/__MACOSX/Training_data/Aug4/._aug__0_3207.jpeg  \n",
            "  inflating: training_folder/Training_data/Aug4/aug__0_8918.jpeg  \n",
            "  inflating: training_folder/__MACOSX/Training_data/Aug4/._aug__0_8918.jpeg  \n",
            "  inflating: training_folder/Training_data/Aug4/aug__0_2945.jpeg  \n",
            "  inflating: training_folder/__MACOSX/Training_data/Aug4/._aug__0_2945.jpeg  \n",
            "  inflating: training_folder/Training_data/Aug4/aug__0_5279.jpeg  \n",
            "  inflating: training_folder/__MACOSX/Training_data/Aug4/._aug__0_5279.jpeg  \n",
            "  inflating: training_folder/Training_data/Aug4/aug__0_2103.jpeg  \n",
            "  inflating: training_folder/__MACOSX/Training_data/Aug4/._aug__0_2103.jpeg  \n",
            "  inflating: training_folder/Training_data/Aug4/aug__0_909.jpeg  \n",
            "  inflating: training_folder/__MACOSX/Training_data/Aug4/._aug__0_909.jpeg  \n",
            "  inflating: training_folder/Training_data/Aug4/aug__0_1001.jpeg  \n",
            "  inflating: training_folder/__MACOSX/Training_data/Aug4/._aug__0_1001.jpeg  \n",
            "  inflating: training_folder/Training_data/Aug4/aug__0_1451.jpeg  \n",
            "  inflating: training_folder/__MACOSX/Training_data/Aug4/._aug__0_1451.jpeg  \n",
            "  inflating: training_folder/Training_data/Aug4/aug__0_374.jpeg  \n",
            "  inflating: training_folder/__MACOSX/Training_data/Aug4/._aug__0_374.jpeg  \n",
            "  inflating: training_folder/Training_data/Aug4/aug__0_2441.jpeg  \n",
            "  inflating: training_folder/__MACOSX/Training_data/Aug4/._aug__0_2441.jpeg  \n",
            "  inflating: training_folder/Training_data/Aug4/aug__0_6951.jpeg  \n",
            "  inflating: training_folder/__MACOSX/Training_data/Aug4/._aug__0_6951.jpeg  \n",
            "  inflating: training_folder/Training_data/Aug4/aug__0_2912.jpeg  \n",
            "  inflating: training_folder/__MACOSX/Training_data/Aug4/._aug__0_2912.jpeg  \n",
            "  inflating: training_folder/Training_data/Aug4/aug__0_5691.jpeg  \n",
            "  inflating: training_folder/__MACOSX/Training_data/Aug4/._aug__0_5691.jpeg  \n",
            "  inflating: training_folder/Training_data/Aug4/aug__0_0.jpeg  \n",
            "  inflating: training_folder/__MACOSX/Training_data/Aug4/._aug__0_0.jpeg  \n",
            "  inflating: training_folder/Training_data/Aug4/aug__0_8892.jpeg  \n",
            "  inflating: training_folder/__MACOSX/Training_data/Aug4/._aug__0_8892.jpeg  \n",
            "  inflating: training_folder/Training_data/Aug4/aug__0_5259.jpeg  \n",
            "  inflating: training_folder/__MACOSX/Training_data/Aug4/._aug__0_5259.jpeg  \n",
            "  inflating: training_folder/Training_data/Aug4/aug__0_303.jpeg  \n",
            "  inflating: training_folder/__MACOSX/Training_data/Aug4/._aug__0_303.jpeg  \n",
            "  inflating: training_folder/Training_data/Aug4/aug__0_3948.jpeg  \n",
            "  inflating: training_folder/__MACOSX/Training_data/Aug4/._aug__0_3948.jpeg  \n",
            "  inflating: training_folder/Training_data/Aug4/aug__0_991.jpeg  \n",
            "  inflating: training_folder/__MACOSX/Training_data/Aug4/._aug__0_991.jpeg  \n",
            "  inflating: training_folder/Training_data/Aug4/aug__0_9554.jpeg  \n",
            "  inflating: training_folder/__MACOSX/Training_data/Aug4/._aug__0_9554.jpeg  \n",
            "  inflating: training_folder/Training_data/Aug4/aug__0_5961.jpeg  \n",
            "  inflating: training_folder/__MACOSX/Training_data/Aug4/._aug__0_5961.jpeg  \n",
            "  inflating: training_folder/Training_data/Aug4/aug__0_704.jpeg  \n",
            "  inflating: training_folder/__MACOSX/Training_data/Aug4/._aug__0_704.jpeg  \n",
            "  inflating: training_folder/Training_data/Aug4/aug__0_2498.jpeg  \n",
            "  inflating: training_folder/__MACOSX/Training_data/Aug4/._aug__0_2498.jpeg  \n",
            "  inflating: training_folder/Training_data/Aug4/aug__0_8979.jpeg  \n",
            "  inflating: training_folder/__MACOSX/Training_data/Aug4/._aug__0_8979.jpeg  \n",
            "  inflating: training_folder/Training_data/Aug4/aug__0_6434.jpeg  \n",
            "  inflating: training_folder/__MACOSX/Training_data/Aug4/._aug__0_6434.jpeg  \n",
            "  inflating: training_folder/Training_data/Aug4/aug__0_3636.jpeg  \n",
            "  inflating: training_folder/__MACOSX/Training_data/Aug4/._aug__0_3636.jpeg  \n",
            "  inflating: training_folder/Training_data/Aug4/aug__0_7225.jpeg  \n",
            "  inflating: training_folder/__MACOSX/Training_data/Aug4/._aug__0_7225.jpeg  \n",
            "  inflating: training_folder/Training_data/Aug4/aug__0_207.jpeg  \n",
            "  inflating: training_folder/__MACOSX/Training_data/Aug4/._aug__0_207.jpeg  \n",
            "  inflating: training_folder/Training_data/Aug4/aug__0_8646.jpeg  \n",
            "  inflating: training_folder/__MACOSX/Training_data/Aug4/._aug__0_8646.jpeg  \n",
            "  inflating: training_folder/Training_data/Aug4/aug__0_5074.jpeg  \n",
            "  inflating: training_folder/__MACOSX/Training_data/Aug4/._aug__0_5074.jpeg  \n",
            "  inflating: training_folder/Training_data/Aug4/aug__0_3724.jpeg  \n",
            "  inflating: training_folder/__MACOSX/Training_data/Aug4/._aug__0_3724.jpeg  \n",
            "  inflating: training_folder/Training_data/Aug4/aug__0_9283.jpeg  \n",
            "  inflating: training_folder/__MACOSX/Training_data/Aug4/._aug__0_9283.jpeg  \n",
            "  inflating: training_folder/Training_data/Aug4/aug__0_7337.jpeg  \n",
            "  inflating: training_folder/__MACOSX/Training_data/Aug4/._aug__0_7337.jpeg  \n",
            "  inflating: training_folder/Training_data/Aug4/aug__0_4848.jpeg  \n",
            "  inflating: training_folder/__MACOSX/Training_data/Aug4/._aug__0_4848.jpeg  \n",
            "  inflating: training_folder/Training_data/Aug4/aug__0_7767.jpeg  \n",
            "  inflating: training_folder/__MACOSX/Training_data/Aug4/._aug__0_7767.jpeg  \n",
            "  inflating: training_folder/Training_data/Aug4/aug__0_8168.jpeg  \n",
            "  inflating: training_folder/__MACOSX/Training_data/Aug4/._aug__0_8168.jpeg  \n",
            "  inflating: training_folder/Training_data/Aug4/aug__0_8884.jpeg  \n",
            "  inflating: training_folder/__MACOSX/Training_data/Aug4/._aug__0_8884.jpeg  \n",
            "  inflating: training_folder/Training_data/Aug4/aug__0_4327.jpeg  \n",
            "  inflating: training_folder/__MACOSX/Training_data/Aug4/._aug__0_4327.jpeg  \n",
            "  inflating: training_folder/Training_data/Aug4/aug__0_7858.jpeg  \n",
            "  inflating: training_folder/__MACOSX/Training_data/Aug4/._aug__0_7858.jpeg  \n",
            "  inflating: training_folder/Training_data/Aug4/aug__0_4976.jpeg  \n",
            "  inflating: training_folder/__MACOSX/Training_data/Aug4/._aug__0_4976.jpeg  \n",
            "  inflating: training_folder/Training_data/Aug4/aug__0_6048.jpeg  \n",
            "  inflating: training_folder/__MACOSX/Training_data/Aug4/._aug__0_6048.jpeg  \n",
            "  inflating: training_folder/Training_data/Aug4/aug__0_9352.jpeg  \n",
            "  inflating: training_folder/__MACOSX/Training_data/Aug4/._aug__0_9352.jpeg  \n",
            "  inflating: training_folder/Training_data/Aug4/aug__0_4649.jpeg  \n",
            "  inflating: training_folder/__MACOSX/Training_data/Aug4/._aug__0_4649.jpeg  \n",
            "  inflating: training_folder/Training_data/Aug4/aug__0_2267.jpeg  \n",
            "  inflating: training_folder/__MACOSX/Training_data/Aug4/._aug__0_2267.jpeg  \n",
            "  inflating: training_folder/Training_data/Aug4/aug__0_9997.jpeg  \n",
            "  inflating: training_folder/__MACOSX/Training_data/Aug4/._aug__0_9997.jpeg  \n",
            "  inflating: training_folder/Training_data/Aug4/aug__0_381.jpeg  \n",
            "  inflating: training_folder/__MACOSX/Training_data/Aug4/._aug__0_381.jpeg  \n",
            "  inflating: training_folder/Training_data/Aug4/aug__0_4921.jpeg  \n",
            "  inflating: training_folder/__MACOSX/Training_data/Aug4/._aug__0_4921.jpeg  \n",
            "  inflating: training_folder/Training_data/Aug4/aug__0_1365.jpeg  \n",
            "  inflating: training_folder/__MACOSX/Training_data/Aug4/._aug__0_1365.jpeg  \n",
            "  inflating: training_folder/Training_data/Aug4/aug__0_74.jpeg  \n",
            "  inflating: training_folder/__MACOSX/Training_data/Aug4/._aug__0_74.jpeg  \n",
            "  inflating: training_folder/Training_data/Aug4/aug__0_339.jpeg  \n",
            "  inflating: training_folder/__MACOSX/Training_data/Aug4/._aug__0_339.jpeg  \n",
            "  inflating: training_folder/Training_data/Aug4/aug__0_9885.jpeg  \n",
            "  inflating: training_folder/__MACOSX/Training_data/Aug4/._aug__0_9885.jpeg  \n",
            "  inflating: training_folder/Training_data/Aug4/aug__0_9169.jpeg  \n",
            "  inflating: training_folder/__MACOSX/Training_data/Aug4/._aug__0_9169.jpeg  \n",
            "  inflating: training_folder/Training_data/Aug4/aug__0_7527.jpeg  \n",
            "  inflating: training_folder/__MACOSX/Training_data/Aug4/._aug__0_7527.jpeg  \n",
            "  inflating: training_folder/Training_data/Aug4/aug__0_5275.jpeg  \n",
            "  inflating: training_folder/__MACOSX/Training_data/Aug4/._aug__0_5275.jpeg  \n",
            "  inflating: training_folder/Training_data/Aug4/aug__0_4937.jpeg  \n",
            "  inflating: training_folder/__MACOSX/Training_data/Aug4/._aug__0_4937.jpeg  \n",
            "  inflating: training_folder/Training_data/Aug4/aug__0_840.jpeg  \n",
            "  inflating: training_folder/__MACOSX/Training_data/Aug4/._aug__0_840.jpeg  \n",
            "  inflating: training_folder/Training_data/Aug4/aug__0_6009.jpeg  \n",
            "  inflating: training_folder/__MACOSX/Training_data/Aug4/._aug__0_6009.jpeg  \n",
            "  inflating: training_folder/Training_data/Aug4/aug__0_3437.jpeg  \n",
            "  inflating: training_folder/__MACOSX/Training_data/Aug4/._aug__0_3437.jpeg  \n",
            "  inflating: training_folder/Training_data/Aug4/aug__0_2363.jpeg  \n",
            "  inflating: training_folder/__MACOSX/Training_data/Aug4/._aug__0_2363.jpeg  \n",
            "  inflating: training_folder/Training_data/Aug4/aug__0_8294.jpeg  \n",
            "  inflating: training_folder/__MACOSX/Training_data/Aug4/._aug__0_8294.jpeg  \n",
            "  inflating: training_folder/Training_data/Aug4/aug__0_3088.jpeg  \n",
            "  inflating: training_folder/__MACOSX/Training_data/Aug4/._aug__0_3088.jpeg  \n",
            "  inflating: training_folder/Training_data/Aug4/aug__0_1261.jpeg  \n",
            "  inflating: training_folder/__MACOSX/Training_data/Aug4/._aug__0_1261.jpeg  \n",
            "  inflating: training_folder/Training_data/Aug4/aug__0_2158.jpeg  \n",
            "  inflating: training_folder/__MACOSX/Training_data/Aug4/._aug__0_2158.jpeg  \n",
            "  inflating: training_folder/Training_data/Aug4/aug__0_682.jpeg  \n",
            "  inflating: training_folder/__MACOSX/Training_data/Aug4/._aug__0_682.jpeg  \n",
            "  inflating: training_folder/Training_data/Aug4/aug__0_3899.jpeg  \n",
            "  inflating: training_folder/__MACOSX/Training_data/Aug4/._aug__0_3899.jpeg  \n",
            "  inflating: training_folder/Training_data/Aug4/aug__0_7073.jpeg  \n",
            "  inflating: training_folder/__MACOSX/Training_data/Aug4/._aug__0_7073.jpeg  \n",
            "  inflating: training_folder/Training_data/Aug4/aug__0_6398.jpeg  \n",
            "  inflating: training_folder/__MACOSX/Training_data/Aug4/._aug__0_6398.jpeg  \n",
            "  inflating: training_folder/Training_data/Aug4/aug__0_7835.jpeg  \n",
            "  inflating: training_folder/__MACOSX/Training_data/Aug4/._aug__0_7835.jpeg  \n",
            "  inflating: training_folder/Training_data/Aug4/aug__0_3175.jpeg  \n",
            "  inflating: training_folder/__MACOSX/Training_data/Aug4/._aug__0_3175.jpeg  \n",
            "  inflating: training_folder/Training_data/Aug4/aug__0_3876.jpeg  \n",
            "  inflating: training_folder/__MACOSX/Training_data/Aug4/._aug__0_3876.jpeg  \n",
            "  inflating: training_folder/Training_data/Aug4/aug__0_3257.jpeg  \n",
            "  inflating: training_folder/__MACOSX/Training_data/Aug4/._aug__0_3257.jpeg  \n",
            "  inflating: training_folder/Training_data/Aug4/aug__0_6956.jpeg  \n",
            "  inflating: training_folder/__MACOSX/Training_data/Aug4/._aug__0_6956.jpeg  \n",
            "  inflating: training_folder/Training_data/Aug4/aug__0_5383.jpeg  \n",
            "  inflating: training_folder/__MACOSX/Training_data/Aug4/._aug__0_5383.jpeg  \n",
            "  inflating: training_folder/Training_data/Aug4/aug__0_3742.jpeg  \n",
            "  inflating: training_folder/__MACOSX/Training_data/Aug4/._aug__0_3742.jpeg  \n",
            "  inflating: training_folder/Training_data/Aug4/aug__0_8227.jpeg  \n",
            "  inflating: training_folder/__MACOSX/Training_data/Aug4/._aug__0_8227.jpeg  \n",
            "  inflating: training_folder/Training_data/Aug4/aug__0_9965.jpeg  \n",
            "  inflating: training_folder/__MACOSX/Training_data/Aug4/._aug__0_9965.jpeg  \n",
            "  inflating: training_folder/Training_data/Aug4/aug__0_8677.jpeg  \n",
            "  inflating: training_folder/__MACOSX/Training_data/Aug4/._aug__0_8677.jpeg  \n",
            "  inflating: training_folder/Training_data/Aug4/aug__0_1006.jpeg  \n",
            "  inflating: training_folder/__MACOSX/Training_data/Aug4/._aug__0_1006.jpeg  \n",
            "  inflating: training_folder/Training_data/Aug4/aug__0_4341.jpeg  \n",
            "  inflating: training_folder/__MACOSX/Training_data/Aug4/._aug__0_4341.jpeg  \n",
            "  inflating: training_folder/Training_data/Aug4/aug__0_2295.jpeg  \n",
            "  inflating: training_folder/__MACOSX/Training_data/Aug4/._aug__0_2295.jpeg  \n",
            "  inflating: training_folder/Training_data/Aug4/aug__0_4896.jpeg  \n",
            "  inflating: training_folder/__MACOSX/Training_data/Aug4/._aug__0_4896.jpeg  \n",
            "  inflating: training_folder/Training_data/Aug4/aug__0_3200.jpeg  \n",
            "  inflating: training_folder/__MACOSX/Training_data/Aug4/._aug__0_3200.jpeg  \n",
            "  inflating: training_folder/Training_data/Aug4/aug__0_1397.jpeg  \n",
            "  inflating: training_folder/__MACOSX/Training_data/Aug4/._aug__0_1397.jpeg  \n",
            "  inflating: training_folder/Training_data/Aug4/aug__0_1378.jpeg  \n",
            "  inflating: training_folder/__MACOSX/Training_data/Aug4/._aug__0_1378.jpeg  \n",
            "  inflating: training_folder/Training_data/Aug4/aug__0_8509.jpeg  \n",
            "  inflating: training_folder/__MACOSX/Training_data/Aug4/._aug__0_8509.jpeg  \n",
            "  inflating: training_folder/Training_data/Aug4/aug__0_1817.jpeg  \n",
            "  inflating: training_folder/__MACOSX/Training_data/Aug4/._aug__0_1817.jpeg  \n",
            "  inflating: training_folder/Training_data/Aug4/aug__0_4316.jpeg  \n",
            "  inflating: training_folder/__MACOSX/Training_data/Aug4/._aug__0_4316.jpeg  \n",
            "  inflating: training_folder/Training_data/Aug4/aug__0_2407.jpeg  \n",
            "  inflating: training_folder/__MACOSX/Training_data/Aug4/._aug__0_2407.jpeg  \n",
            "  inflating: training_folder/Training_data/Aug4/aug__0_3703.jpeg  \n",
            "  inflating: training_folder/__MACOSX/Training_data/Aug4/._aug__0_3703.jpeg  \n",
            "  inflating: training_folder/Training_data/Aug4/aug__0_918.jpeg  \n",
            "  inflating: training_folder/__MACOSX/Training_data/Aug4/._aug__0_918.jpeg  \n",
            "  inflating: training_folder/Training_data/Aug4/aug__0_762.jpeg  \n",
            "  inflating: training_folder/__MACOSX/Training_data/Aug4/._aug__0_762.jpeg  \n",
            "  inflating: training_folder/Training_data/Aug4/aug__0_5454.jpeg  \n",
            "  inflating: training_folder/__MACOSX/Training_data/Aug4/._aug__0_5454.jpeg  \n",
            "  inflating: training_folder/Training_data/Aug4/aug__0_6782.jpeg  \n",
            "  inflating: training_folder/__MACOSX/Training_data/Aug4/._aug__0_6782.jpeg  \n",
            "  inflating: training_folder/Training_data/Aug4/aug__0_4245.jpeg  \n",
            "  inflating: training_folder/__MACOSX/Training_data/Aug4/._aug__0_4245.jpeg  \n",
            "  inflating: training_folder/Training_data/Aug4/aug__0_9162.jpeg  \n",
            "  inflating: training_folder/__MACOSX/Training_data/Aug4/._aug__0_9162.jpeg  \n",
            "  inflating: training_folder/Training_data/Aug4/aug__0_8323.jpeg  \n",
            "  inflating: training_folder/__MACOSX/Training_data/Aug4/._aug__0_8323.jpeg  \n",
            "  inflating: training_folder/Training_data/Aug4/aug__0_7652.jpeg  \n",
            "  inflating: training_folder/__MACOSX/Training_data/Aug4/._aug__0_7652.jpeg  \n",
            "  inflating: training_folder/Training_data/Aug4/aug__0_1786.jpeg  \n",
            "  inflating: training_folder/__MACOSX/Training_data/Aug4/._aug__0_1786.jpeg  \n",
            "  inflating: training_folder/Training_data/Aug4/aug__0_6413.jpeg  \n",
            "  inflating: training_folder/__MACOSX/Training_data/Aug4/._aug__0_6413.jpeg  \n",
            "  inflating: training_folder/Training_data/Aug4/aug__0_4992.jpeg  \n",
            "  inflating: training_folder/__MACOSX/Training_data/Aug4/._aug__0_4992.jpeg  \n",
            "  inflating: training_folder/Training_data/Aug4/aug__0_7594.jpeg  \n",
            "  inflating: training_folder/__MACOSX/Training_data/Aug4/._aug__0_7594.jpeg  \n",
            "  inflating: training_folder/Training_data/Aug4/aug__0_9836.jpeg  \n",
            "  inflating: training_folder/__MACOSX/Training_data/Aug4/._aug__0_9836.jpeg  \n",
            "  inflating: training_folder/Training_data/Aug4/aug__0_3685.jpeg  \n",
            "  inflating: training_folder/__MACOSX/Training_data/Aug4/._aug__0_3685.jpeg  \n",
            "  inflating: training_folder/Training_data/Aug4/aug__0_8860.jpeg  \n",
            "  inflating: training_folder/__MACOSX/Training_data/Aug4/._aug__0_8860.jpeg  \n",
            "  inflating: training_folder/Training_data/Aug4/aug__0_8476.jpeg  \n",
            "  inflating: training_folder/__MACOSX/Training_data/Aug4/._aug__0_8476.jpeg  \n",
            "  inflating: training_folder/Training_data/Aug4/aug__0_7279.jpeg  \n",
            "  inflating: training_folder/__MACOSX/Training_data/Aug4/._aug__0_7279.jpeg  \n",
            "  inflating: training_folder/Training_data/Aug4/aug__0_2352.jpeg  \n",
            "  inflating: training_folder/__MACOSX/Training_data/Aug4/._aug__0_2352.jpeg  \n",
            "  inflating: training_folder/Training_data/Aug4/aug__0_6311.jpeg  \n",
            "  inflating: training_folder/__MACOSX/Training_data/Aug4/._aug__0_6311.jpeg  \n",
            "  inflating: training_folder/Training_data/Aug4/aug__0_4269.jpeg  \n",
            "  inflating: training_folder/__MACOSX/Training_data/Aug4/._aug__0_4269.jpeg  \n",
            "  inflating: training_folder/Training_data/Aug4/aug__0_7015.jpeg  \n",
            "  inflating: training_folder/__MACOSX/Training_data/Aug4/._aug__0_7015.jpeg  \n",
            "  inflating: training_folder/Training_data/Aug4/aug__0_53.jpeg  \n",
            "  inflating: training_folder/__MACOSX/Training_data/Aug4/._aug__0_53.jpeg  \n",
            "  inflating: training_folder/Training_data/Aug4/aug__0_2169.jpeg  \n",
            "  inflating: training_folder/__MACOSX/Training_data/Aug4/._aug__0_2169.jpeg  \n",
            "  inflating: training_folder/Training_data/Aug4/aug__0_3282.jpeg  \n",
            "  inflating: training_folder/__MACOSX/Training_data/Aug4/._aug__0_3282.jpeg  \n",
            "  inflating: training_folder/Training_data/Aug4/aug__0_826.jpeg  \n",
            "  inflating: training_folder/__MACOSX/Training_data/Aug4/._aug__0_826.jpeg  \n",
            "  inflating: training_folder/Training_data/Aug4/aug__0_5213.jpeg  \n",
            "  inflating: training_folder/__MACOSX/Training_data/Aug4/._aug__0_5213.jpeg  \n",
            "  inflating: training_folder/Training_data/Aug4/aug__0_125.jpeg  \n",
            "  inflating: training_folder/__MACOSX/Training_data/Aug4/._aug__0_125.jpeg  \n",
            "  inflating: training_folder/Training_data/Aug4/aug__0_6346.jpeg  \n",
            "  inflating: training_folder/__MACOSX/Training_data/Aug4/._aug__0_6346.jpeg  \n",
            "  inflating: training_folder/Training_data/Aug4/aug__0_7107.jpeg  \n",
            "  inflating: training_folder/__MACOSX/Training_data/Aug4/._aug__0_7107.jpeg  \n",
            "  inflating: training_folder/Training_data/Aug4/aug__0_7042.jpeg  \n",
            "  inflating: training_folder/__MACOSX/Training_data/Aug4/._aug__0_7042.jpeg  \n",
            "  inflating: training_folder/Training_data/Aug4/aug__0_8821.jpeg  \n",
            "  inflating: training_folder/__MACOSX/Training_data/Aug4/._aug__0_8821.jpeg  \n",
            "  inflating: training_folder/Training_data/Aug4/aug__0_975.jpeg  \n",
            "  inflating: training_folder/__MACOSX/Training_data/Aug4/._aug__0_975.jpeg  \n",
            "  inflating: training_folder/Training_data/Aug4/aug__0_8572.jpeg  \n",
            "  inflating: training_folder/__MACOSX/Training_data/Aug4/._aug__0_8572.jpeg  \n",
            "  inflating: training_folder/Training_data/Aug4/aug__0_7668.jpeg  \n",
            "  inflating: training_folder/__MACOSX/Training_data/Aug4/._aug__0_7668.jpeg  \n",
            "  inflating: training_folder/Training_data/Aug4/aug__0_5205.jpeg  \n",
            "  inflating: training_folder/__MACOSX/Training_data/Aug4/._aug__0_5205.jpeg  \n",
            "  inflating: training_folder/Training_data/Aug4/aug__0_9676.jpeg  \n",
            "  inflating: training_folder/__MACOSX/Training_data/Aug4/._aug__0_9676.jpeg  \n",
            "  inflating: training_folder/Training_data/Aug4/aug__0_3851.jpeg  \n",
            "  inflating: training_folder/__MACOSX/Training_data/Aug4/._aug__0_3851.jpeg  \n",
            "  inflating: training_folder/Training_data/Aug4/aug__0_7541.jpeg  \n",
            "  inflating: training_folder/__MACOSX/Training_data/Aug4/._aug__0_7541.jpeg  \n",
            "  inflating: training_folder/Training_data/Aug4/aug__0_2256.jpeg  \n",
            "  inflating: training_folder/__MACOSX/Training_data/Aug4/._aug__0_2256.jpeg  \n",
            "  inflating: training_folder/Training_data/Aug4/aug__0_1704.jpeg  \n",
            "  inflating: training_folder/__MACOSX/Training_data/Aug4/._aug__0_1704.jpeg  \n",
            "  inflating: training_folder/Training_data/Aug4/aug__0_8876.jpeg  \n",
            "  inflating: training_folder/__MACOSX/Training_data/Aug4/._aug__0_8876.jpeg  \n",
            "  inflating: training_folder/Training_data/Aug4/aug__0_5252.jpeg  \n",
            "  inflating: training_folder/__MACOSX/Training_data/Aug4/._aug__0_5252.jpeg  \n",
            "  inflating: training_folder/Training_data/Aug4/aug__0_8030.jpeg  \n",
            "  inflating: training_folder/__MACOSX/Training_data/Aug4/._aug__0_8030.jpeg  \n",
            "  inflating: training_folder/Training_data/Aug4/aug__0_3555.jpeg  \n",
            "  inflating: training_folder/__MACOSX/Training_data/Aug4/._aug__0_3555.jpeg  \n",
            "  inflating: training_folder/Training_data/Aug4/aug__0_2201.jpeg  \n",
            "  inflating: training_folder/__MACOSX/Training_data/Aug4/._aug__0_2201.jpeg  \n",
            "  inflating: training_folder/Training_data/Aug4/aug__0_4785.jpeg  \n",
            "  inflating: training_folder/__MACOSX/Training_data/Aug4/._aug__0_4785.jpeg  \n",
            "  inflating: training_folder/Training_data/Aug4/aug__0_3410.jpeg  \n",
            "  inflating: training_folder/__MACOSX/Training_data/Aug4/._aug__0_3410.jpeg  \n",
            "  inflating: training_folder/Training_data/Aug4/aug__0_4658.jpeg  \n",
            "  inflating: training_folder/__MACOSX/Training_data/Aug4/._aug__0_4658.jpeg  \n",
            "  inflating: training_folder/Training_data/Aug4/aug__0_9986.jpeg  \n",
            "  inflating: training_folder/__MACOSX/Training_data/Aug4/._aug__0_9986.jpeg  \n",
            "  inflating: training_folder/Training_data/Aug4/aug__0_6370.jpeg  \n",
            "  inflating: training_folder/__MACOSX/Training_data/Aug4/._aug__0_6370.jpeg  \n",
            "  inflating: training_folder/Training_data/Aug4/aug__0_7648.jpeg  \n",
            "  inflating: training_folder/__MACOSX/Training_data/Aug4/._aug__0_7648.jpeg  \n",
            "  inflating: training_folder/Training_data/Aug4/aug__0_1636.jpeg  \n",
            "  inflating: training_folder/__MACOSX/Training_data/Aug4/._aug__0_1636.jpeg  \n",
            "  inflating: training_folder/Training_data/Aug4/aug__0_8801.jpeg  \n",
            "  inflating: training_folder/__MACOSX/Training_data/Aug4/._aug__0_8801.jpeg  \n",
            "  inflating: training_folder/Training_data/Aug4/aug__0_4822.jpeg  \n",
            "  inflating: training_folder/__MACOSX/Training_data/Aug4/._aug__0_4822.jpeg  \n",
            "  inflating: training_folder/Training_data/Aug4/aug__0_8102.jpeg  \n",
            "  inflating: training_folder/__MACOSX/Training_data/Aug4/._aug__0_8102.jpeg  \n",
            "  inflating: training_folder/Training_data/Aug4/aug__0_5360.jpeg  \n",
            "  inflating: training_folder/__MACOSX/Training_data/Aug4/._aug__0_5360.jpeg  \n",
            "  inflating: training_folder/Training_data/Aug4/aug__0_7473.jpeg  \n",
            "  inflating: training_folder/__MACOSX/Training_data/Aug4/._aug__0_7473.jpeg  \n",
            "  inflating: training_folder/Training_data/Aug4/aug__0_328.jpeg  \n",
            "  inflating: training_folder/__MACOSX/Training_data/Aug4/._aug__0_328.jpeg  \n",
            "  inflating: training_folder/Training_data/Aug4/aug__0_65.jpeg  \n",
            "  inflating: training_folder/__MACOSX/Training_data/Aug4/._aug__0_65.jpeg  \n",
            "  inflating: training_folder/Training_data/Aug4/aug__0_2221.jpeg  \n",
            "  inflating: training_folder/__MACOSX/Training_data/Aug4/._aug__0_2221.jpeg  \n",
            "  inflating: training_folder/Training_data/Aug4/aug__0_7920.jpeg  \n",
            "  inflating: training_folder/__MACOSX/Training_data/Aug4/._aug__0_7920.jpeg  \n",
            "  inflating: training_folder/Training_data/Aug4/aug__0_2734.jpeg  \n",
            "  inflating: training_folder/__MACOSX/Training_data/Aug4/._aug__0_2734.jpeg  \n",
            "  inflating: training_folder/Training_data/Aug4/aug__0_1661.jpeg  \n",
            "  inflating: training_folder/__MACOSX/Training_data/Aug4/._aug__0_1661.jpeg  \n",
            "  inflating: training_folder/Training_data/Aug4/aug__0_847.jpeg  \n",
            "  inflating: training_folder/__MACOSX/Training_data/Aug4/._aug__0_847.jpeg  \n",
            "  inflating: training_folder/Training_data/Aug4/aug__0_9251.jpeg  \n",
            "  inflating: training_folder/__MACOSX/Training_data/Aug4/._aug__0_9251.jpeg  \n",
            "  inflating: training_folder/Training_data/Aug4/aug__0_9601.jpeg  \n",
            "  inflating: training_folder/__MACOSX/Training_data/Aug4/._aug__0_9601.jpeg  \n",
            "  inflating: training_folder/Training_data/Aug4/aug__0_5622.jpeg  \n",
            "  inflating: training_folder/__MACOSX/Training_data/Aug4/._aug__0_5622.jpeg  \n",
            "  inflating: training_folder/Training_data/Aug4/aug__0_8010.jpeg  \n",
            "  inflating: training_folder/__MACOSX/Training_data/Aug4/._aug__0_8010.jpeg  \n",
            "  inflating: training_folder/Training_data/Aug4/aug__0_3349.jpeg  \n",
            "  inflating: training_folder/__MACOSX/Training_data/Aug4/._aug__0_3349.jpeg  \n",
            "  inflating: training_folder/Training_data/Aug4/aug__0_4619.jpeg  \n",
            "  inflating: training_folder/__MACOSX/Training_data/Aug4/._aug__0_4619.jpeg  \n",
            "  inflating: training_folder/Training_data/Aug4/aug__0_7936.jpeg  \n",
            "  inflating: training_folder/__MACOSX/Training_data/Aug4/._aug__0_7936.jpeg  \n",
            "  inflating: training_folder/Training_data/Aug4/aug__0_6761.jpeg  \n",
            "  inflating: training_folder/__MACOSX/Training_data/Aug4/._aug__0_6761.jpeg  \n",
            "  inflating: training_folder/Training_data/Aug4/aug__0_152.jpeg  \n",
            "  inflating: training_folder/__MACOSX/Training_data/Aug4/._aug__0_152.jpeg  \n",
            "  inflating: training_folder/Training_data/Aug4/aug__0_4025.jpeg  \n",
            "  inflating: training_folder/__MACOSX/Training_data/Aug4/._aug__0_4025.jpeg  \n",
            "  inflating: training_folder/Training_data/Aug4/aug__0_2958.jpeg  \n",
            "  inflating: training_folder/__MACOSX/Training_data/Aug4/._aug__0_2958.jpeg  \n",
            "  inflating: training_folder/Training_data/Aug4/aug__0_1677.jpeg  \n",
            "  inflating: training_folder/__MACOSX/Training_data/Aug4/._aug__0_1677.jpeg  \n",
            "  inflating: training_folder/Training_data/Aug4/aug__0_739.jpeg  \n",
            "  inflating: training_folder/__MACOSX/Training_data/Aug4/._aug__0_739.jpeg  \n",
            "  inflating: training_folder/Training_data/Aug4/aug__0_7432.jpeg  \n",
            "  inflating: training_folder/__MACOSX/Training_data/Aug4/._aug__0_7432.jpeg  \n",
            "  inflating: training_folder/Training_data/Aug4/aug__0_9586.jpeg  \n",
            "  inflating: training_folder/__MACOSX/Training_data/Aug4/._aug__0_9586.jpeg  \n",
            "  inflating: training_folder/Training_data/Aug4/aug__0_3164.jpeg  \n",
            "  inflating: training_folder/__MACOSX/Training_data/Aug4/._aug__0_3164.jpeg  \n",
            "  inflating: training_folder/Training_data/Aug4/aug__0_8401.jpeg  \n",
            "  inflating: training_folder/__MACOSX/Training_data/Aug4/._aug__0_8401.jpeg  \n",
            "  inflating: training_folder/Training_data/Aug4/aug__0_4834.jpeg  \n",
            "  inflating: training_folder/__MACOSX/Training_data/Aug4/._aug__0_4834.jpeg  \n",
            "  inflating: training_folder/Training_data/Aug4/aug__0_1088.jpeg  \n",
            "  inflating: training_folder/__MACOSX/Training_data/Aug4/._aug__0_1088.jpeg  \n",
            "  inflating: training_folder/Training_data/Aug4/aug__0_5531.jpeg  \n",
            "  inflating: training_folder/__MACOSX/Training_data/Aug4/._aug__0_5531.jpeg  \n",
            "  inflating: training_folder/Training_data/Aug4/aug__0_7760.jpeg  \n",
            "  inflating: training_folder/__MACOSX/Training_data/Aug4/._aug__0_7760.jpeg  \n",
            "  inflating: training_folder/Training_data/Aug4/aug__0_3373.jpeg  \n",
            "  inflating: training_folder/__MACOSX/Training_data/Aug4/._aug__0_3373.jpeg  \n",
            "  inflating: training_folder/Training_data/Aug4/aug__0_484.jpeg  \n",
            "  inflating: training_folder/__MACOSX/Training_data/Aug4/._aug__0_484.jpeg  \n",
            "  inflating: training_folder/Training_data/Aug4/aug__0_2077.jpeg  \n",
            "  inflating: training_folder/__MACOSX/Training_data/Aug4/._aug__0_2077.jpeg  \n",
            "  inflating: training_folder/Training_data/Aug4/aug__0_5618.jpeg  \n",
            "  inflating: training_folder/__MACOSX/Training_data/Aug4/._aug__0_5618.jpeg  \n",
            "  inflating: training_folder/Training_data/Aug4/aug__0_1876.jpeg  \n",
            "  inflating: training_folder/__MACOSX/Training_data/Aug4/._aug__0_1876.jpeg  \n",
            "  inflating: training_folder/Training_data/Aug4/aug__0_1030.jpeg  \n",
            "  inflating: training_folder/__MACOSX/Training_data/Aug4/._aug__0_1030.jpeg  \n",
            "  inflating: training_folder/Training_data/Aug4/aug__0_3774.jpeg  \n",
            "  inflating: training_folder/__MACOSX/Training_data/Aug4/._aug__0_3774.jpeg  \n",
            "  inflating: training_folder/Training_data/Aug4/aug__0_129.jpeg  \n",
            "  inflating: training_folder/__MACOSX/Training_data/Aug4/._aug__0_129.jpeg  \n",
            "  inflating: training_folder/Training_data/Aug4/aug__0_2889.jpeg  \n",
            "  inflating: training_folder/__MACOSX/Training_data/Aug4/._aug__0_2889.jpeg  \n",
            "  inflating: training_folder/Training_data/Aug4/aug__0_1499.jpeg  \n",
            "  inflating: training_folder/__MACOSX/Training_data/Aug4/._aug__0_1499.jpeg  \n",
            "  inflating: training_folder/Training_data/Aug4/aug__0_646.jpeg  \n",
            "  inflating: training_folder/__MACOSX/Training_data/Aug4/._aug__0_646.jpeg  \n",
            "  inflating: training_folder/Training_data/Aug4/aug__0_6999.jpeg  \n",
            "  inflating: training_folder/__MACOSX/Training_data/Aug4/._aug__0_6999.jpeg  \n",
            "  inflating: training_folder/Training_data/Aug4/aug__0_7371.jpeg  \n",
            "  inflating: training_folder/__MACOSX/Training_data/Aug4/._aug__0_7371.jpeg  \n",
            "  inflating: training_folder/Training_data/Aug4/aug__0_6976.jpeg  \n",
            "  inflating: training_folder/__MACOSX/Training_data/Aug4/._aug__0_6976.jpeg  \n",
            "  inflating: training_folder/Training_data/Aug4/aug__0_8745.jpeg  \n",
            "  inflating: training_folder/__MACOSX/Training_data/Aug4/._aug__0_8745.jpeg  \n",
            "  inflating: training_folder/Training_data/Aug4/aug__0_5874.jpeg  \n",
            "  inflating: training_folder/__MACOSX/Training_data/Aug4/._aug__0_5874.jpeg  \n",
            "  inflating: training_folder/Training_data/Aug4/aug__0_5931.jpeg  \n",
            "  inflating: training_folder/__MACOSX/Training_data/Aug4/._aug__0_5931.jpeg  \n",
            "  inflating: training_folder/Training_data/Aug4/aug__0_304.jpeg  \n",
            "  inflating: training_folder/__MACOSX/Training_data/Aug4/._aug__0_304.jpeg  \n",
            "  inflating: training_folder/Training_data/Aug4/aug__0_8250.jpeg  \n",
            "  inflating: training_folder/__MACOSX/Training_data/Aug4/._aug__0_8250.jpeg  \n",
            "  inflating: training_folder/Training_data/Aug4/aug__0_884.jpeg  \n",
            "  inflating: training_folder/__MACOSX/Training_data/Aug4/._aug__0_884.jpeg  \n",
            "  inflating: training_folder/Training_data/Aug4/aug__0_8197.jpeg  \n",
            "  inflating: training_folder/__MACOSX/Training_data/Aug4/._aug__0_8197.jpeg  \n",
            "  inflating: training_folder/Training_data/Aug4/aug__0_7262.jpeg  \n",
            "  inflating: training_folder/__MACOSX/Training_data/Aug4/._aug__0_7262.jpeg  \n",
            "  inflating: training_folder/Training_data/Aug4/aug__0_9786.jpeg  \n",
            "  inflating: training_folder/__MACOSX/Training_data/Aug4/._aug__0_9786.jpeg  \n",
            "  inflating: training_folder/Training_data/Aug4/aug__0_8894.jpeg  \n",
            "  inflating: training_folder/__MACOSX/Training_data/Aug4/._aug__0_8894.jpeg  \n",
            "  inflating: training_folder/Training_data/Aug4/aug__0_9010.jpeg  \n",
            "  inflating: training_folder/__MACOSX/Training_data/Aug4/._aug__0_9010.jpeg  \n",
            "  inflating: training_folder/Training_data/Aug4/aug__0_9913.jpeg  \n",
            "  inflating: training_folder/__MACOSX/Training_data/Aug4/._aug__0_9913.jpeg  \n",
            "  inflating: training_folder/Training_data/Aug4/aug__0_48.jpeg  \n",
            "  inflating: training_folder/__MACOSX/Training_data/Aug4/._aug__0_48.jpeg  \n",
            "  inflating: training_folder/Training_data/Aug4/aug__0_8085.jpeg  \n",
            "  inflating: training_folder/__MACOSX/Training_data/Aug4/._aug__0_8085.jpeg  \n",
            "  inflating: training_folder/Training_data/Aug4/aug__0_3763.jpeg  \n",
            "  inflating: training_folder/__MACOSX/Training_data/Aug4/._aug__0_3763.jpeg  \n",
            "  inflating: training_folder/Training_data/Aug4/aug__0_6561.jpeg  \n",
            "  inflating: training_folder/__MACOSX/Training_data/Aug4/._aug__0_6561.jpeg  \n",
            "  inflating: training_folder/Training_data/Aug4/aug__0_3276.jpeg  \n",
            "  inflating: training_folder/__MACOSX/Training_data/Aug4/._aug__0_3276.jpeg  \n",
            "  inflating: training_folder/Training_data/Aug4/aug__0_5208.jpeg  \n",
            "  inflating: training_folder/__MACOSX/Training_data/Aug4/._aug__0_5208.jpeg  \n",
            "  inflating: training_folder/Training_data/Aug4/aug__0_1498.jpeg  \n",
            "  inflating: training_folder/__MACOSX/Training_data/Aug4/._aug__0_1498.jpeg  \n",
            "  inflating: training_folder/Training_data/Aug4/aug__0_5571.jpeg  \n",
            "  inflating: training_folder/__MACOSX/Training_data/Aug4/._aug__0_5571.jpeg  \n",
            "  inflating: training_folder/Training_data/Aug4/aug__0_3919.jpeg  \n",
            "  inflating: training_folder/__MACOSX/Training_data/Aug4/._aug__0_3919.jpeg  \n",
            "  inflating: training_folder/Training_data/Aug4/aug__0_9047.jpeg  \n",
            "  inflating: training_folder/__MACOSX/Training_data/Aug4/._aug__0_9047.jpeg  \n",
            "  inflating: training_folder/Training_data/Aug4/aug__0_5967.jpeg  \n",
            "  inflating: training_folder/__MACOSX/Training_data/Aug4/._aug__0_5967.jpeg  \n",
            "  inflating: training_folder/Training_data/Aug4/aug__0_6824.jpeg  \n",
            "  inflating: training_folder/__MACOSX/Training_data/Aug4/._aug__0_6824.jpeg  \n",
            "  inflating: training_folder/Training_data/Aug4/aug__0_8586.jpeg  \n",
            "  inflating: training_folder/__MACOSX/Training_data/Aug4/._aug__0_8586.jpeg  \n",
            "  inflating: training_folder/Training_data/Aug4/aug__0_128.jpeg  \n",
            "  inflating: training_folder/__MACOSX/Training_data/Aug4/._aug__0_128.jpeg  \n",
            "  inflating: training_folder/Training_data/Aug4/aug__0_651.jpeg  \n",
            "  inflating: training_folder/__MACOSX/Training_data/Aug4/._aug__0_651.jpeg  \n",
            "  inflating: training_folder/Training_data/Aug4/aug__0_4663.jpeg  \n",
            "  inflating: training_folder/__MACOSX/Training_data/Aug4/._aug__0_4663.jpeg  \n",
            "  inflating: training_folder/Training_data/Aug4/aug__0_9051.jpeg  \n",
            "  inflating: training_folder/__MACOSX/Training_data/Aug4/._aug__0_9051.jpeg  \n",
            "  inflating: training_folder/Training_data/Aug4/aug__0_7331.jpeg  \n",
            "  inflating: training_folder/__MACOSX/Training_data/Aug4/._aug__0_7331.jpeg  \n",
            "  inflating: training_folder/Training_data/Aug4/aug__0_1123.jpeg  \n",
            "  inflating: training_folder/__MACOSX/Training_data/Aug4/._aug__0_1123.jpeg  \n",
            "  inflating: training_folder/Training_data/Aug4/aug__0_9641.jpeg  \n",
            "  inflating: training_folder/__MACOSX/Training_data/Aug4/._aug__0_9641.jpeg  \n",
            "  inflating: training_folder/Training_data/Aug4/aug__0_8050.jpeg  \n",
            "  inflating: training_folder/__MACOSX/Training_data/Aug4/._aug__0_8050.jpeg  \n",
            "  inflating: training_folder/Training_data/Aug4/aug__0_411.jpeg  \n",
            "  inflating: training_folder/__MACOSX/Training_data/Aug4/._aug__0_411.jpeg  \n",
            "  inflating: training_folder/Training_data/Aug4/aug__0_25.jpeg  \n",
            "  inflating: training_folder/__MACOSX/Training_data/Aug4/._aug__0_25.jpeg  \n",
            "  inflating: training_folder/Training_data/Aug4/aug__0_1158.jpeg  \n",
            "  inflating: training_folder/__MACOSX/Training_data/Aug4/._aug__0_1158.jpeg  \n",
            "  inflating: training_folder/Training_data/Aug4/aug__0_7576.jpeg  \n",
            "  inflating: training_folder/__MACOSX/Training_data/Aug4/._aug__0_7576.jpeg  \n",
            "  inflating: training_folder/Training_data/Aug4/aug__0_8683.jpeg  \n",
            "  inflating: training_folder/__MACOSX/Training_data/Aug4/._aug__0_8683.jpeg  \n",
            "  inflating: training_folder/Training_data/Aug4/aug__0_4474.jpeg  \n",
            "  inflating: training_folder/__MACOSX/Training_data/Aug4/._aug__0_4474.jpeg  \n",
            "  inflating: training_folder/Training_data/Aug4/aug__0_4161.jpeg  \n",
            "  inflating: training_folder/__MACOSX/Training_data/Aug4/._aug__0_4161.jpeg  \n",
            "  inflating: training_folder/Training_data/Aug4/aug__0_7937.jpeg  \n",
            "  inflating: training_folder/__MACOSX/Training_data/Aug4/._aug__0_7937.jpeg  \n",
            "  inflating: training_folder/Training_data/Aug4/aug__0_9180.jpeg  \n",
            "  inflating: training_folder/__MACOSX/Training_data/Aug4/._aug__0_9180.jpeg  \n",
            "  inflating: training_folder/Training_data/Aug4/aug__0_295.jpeg  \n",
            "  inflating: training_folder/__MACOSX/Training_data/Aug4/._aug__0_295.jpeg  \n",
            "  inflating: training_folder/Training_data/Aug4/aug__0_1949.jpeg  \n",
            "  inflating: training_folder/__MACOSX/Training_data/Aug4/._aug__0_1949.jpeg  \n",
            "  inflating: training_folder/Training_data/Aug4/aug__0_780.jpeg  \n",
            "  inflating: training_folder/__MACOSX/Training_data/Aug4/._aug__0_780.jpeg  \n",
            "  inflating: training_folder/Training_data/Aug4/aug__0_8284.jpeg  \n",
            "  inflating: training_folder/__MACOSX/Training_data/Aug4/._aug__0_8284.jpeg  \n",
            "  inflating: training_folder/Training_data/Aug4/aug__0_4198.jpeg  \n",
            "  inflating: training_folder/__MACOSX/Training_data/Aug4/._aug__0_4198.jpeg  \n",
            "  inflating: training_folder/Training_data/Aug4/aug__0_5273.jpeg  \n",
            "  inflating: training_folder/__MACOSX/Training_data/Aug4/._aug__0_5273.jpeg  \n",
            "  inflating: training_folder/Training_data/Aug4/aug__0_515.jpeg  \n",
            "  inflating: training_folder/__MACOSX/Training_data/Aug4/._aug__0_515.jpeg  \n",
            "  inflating: training_folder/Training_data/Aug4/aug__0_2109.jpeg  \n",
            "  inflating: training_folder/__MACOSX/Training_data/Aug4/._aug__0_2109.jpeg  \n",
            "  inflating: training_folder/Training_data/Aug4/aug__0_6849.jpeg  \n",
            "  inflating: training_folder/__MACOSX/Training_data/Aug4/._aug__0_6849.jpeg  \n",
            "  inflating: training_folder/Training_data/Aug4/aug__0_9196.jpeg  \n",
            "  inflating: training_folder/__MACOSX/Training_data/Aug4/._aug__0_9196.jpeg  \n",
            "  inflating: training_folder/Training_data/Aug4/aug__0_8292.jpeg  \n",
            "  inflating: training_folder/__MACOSX/Training_data/Aug4/._aug__0_8292.jpeg  \n",
            "  inflating: training_folder/Training_data/Aug4/aug__0_796.jpeg  \n",
            "  inflating: training_folder/__MACOSX/Training_data/Aug4/._aug__0_796.jpeg  \n",
            "  inflating: training_folder/Training_data/Aug4/aug__0_5224.jpeg  \n",
            "  inflating: training_folder/__MACOSX/Training_data/Aug4/._aug__0_5224.jpeg  \n",
            "  inflating: training_folder/Training_data/Aug4/aug__0_407.jpeg  \n",
            "  inflating: training_folder/__MACOSX/Training_data/Aug4/._aug__0_407.jpeg  \n",
            "  inflating: training_folder/Training_data/Aug4/aug__0_4209.jpeg  \n",
            "  inflating: training_folder/__MACOSX/Training_data/Aug4/._aug__0_4209.jpeg  \n",
            "  inflating: training_folder/Training_data/Aug4/aug__0_5418.jpeg  \n",
            "  inflating: training_folder/__MACOSX/Training_data/Aug4/._aug__0_5418.jpeg  \n",
            "  inflating: training_folder/Training_data/Aug4/aug__0_7147.jpeg  \n",
            "  inflating: training_folder/__MACOSX/Training_data/Aug4/._aug__0_7147.jpeg  \n",
            "  inflating: training_folder/Training_data/Aug4/aug__0_5195.jpeg  \n",
            "  inflating: training_folder/__MACOSX/Training_data/Aug4/._aug__0_5195.jpeg  \n",
            "  inflating: training_folder/Training_data/Aug4/aug__0_1586.jpeg  \n",
            "  inflating: training_folder/__MACOSX/Training_data/Aug4/._aug__0_1586.jpeg  \n",
            "  inflating: training_folder/Training_data/Aug4/aug__0_5746.jpeg  \n",
            "  inflating: training_folder/__MACOSX/Training_data/Aug4/._aug__0_5746.jpeg  \n",
            "  inflating: training_folder/Training_data/Aug4/aug__0_9335.jpeg  \n",
            "  inflating: training_folder/__MACOSX/Training_data/Aug4/._aug__0_9335.jpeg  \n",
            "  inflating: training_folder/Training_data/Aug4/aug__0_1355.jpeg  \n",
            "  inflating: training_folder/__MACOSX/Training_data/Aug4/._aug__0_1355.jpeg  \n",
            "  inflating: training_folder/Training_data/Aug4/aug__0_8898.jpeg  \n",
            "  inflating: training_folder/__MACOSX/Training_data/Aug4/._aug__0_8898.jpeg  \n",
            "  inflating: training_folder/Training_data/Aug4/aug__0_2596.jpeg  \n",
            "  inflating: training_folder/__MACOSX/Training_data/Aug4/._aug__0_2596.jpeg  \n",
            "  inflating: training_folder/Training_data/Aug4/aug__0_4911.jpeg  \n",
            "  inflating: training_folder/__MACOSX/Training_data/Aug4/._aug__0_4911.jpeg  \n",
            "  inflating: training_folder/Training_data/Aug4/aug__0_1928.jpeg  \n",
            "  inflating: training_folder/__MACOSX/Training_data/Aug4/._aug__0_1928.jpeg  \n",
            "  inflating: training_folder/Training_data/Aug4/aug__0_5711.jpeg  \n",
            "  inflating: training_folder/__MACOSX/Training_data/Aug4/._aug__0_5711.jpeg  \n",
            "  inflating: training_folder/Training_data/Aug4/aug__0_4803.jpeg  \n",
            "  inflating: training_folder/__MACOSX/Training_data/Aug4/._aug__0_4803.jpeg  \n",
            "  inflating: training_folder/Training_data/Aug4/aug__0_4415.jpeg  \n",
            "  inflating: training_folder/__MACOSX/Training_data/Aug4/._aug__0_4415.jpeg  \n",
            "  inflating: training_folder/Training_data/Aug4/aug__0_2304.jpeg  \n",
            "  inflating: training_folder/__MACOSX/Training_data/Aug4/._aug__0_2304.jpeg  \n",
            "  inflating: training_folder/Training_data/Aug4/aug__0_8135.jpeg  \n",
            "  inflating: training_folder/__MACOSX/Training_data/Aug4/._aug__0_8135.jpeg  \n",
            "  inflating: training_folder/Training_data/Aug4/aug__0_9374.jpeg  \n",
            "  inflating: training_folder/__MACOSX/Training_data/Aug4/._aug__0_9374.jpeg  \n",
            "  inflating: training_folder/Training_data/Aug4/aug__0_3283.jpeg  \n",
            "  inflating: training_folder/__MACOSX/Training_data/Aug4/._aug__0_3283.jpeg  \n",
            "  inflating: training_folder/Training_data/Aug4/aug__0_3329.jpeg  \n",
            "  inflating: training_folder/__MACOSX/Training_data/Aug4/._aug__0_3329.jpeg  \n",
            "  inflating: training_folder/Training_data/Aug4/aug__0_4287.jpeg  \n",
            "  inflating: training_folder/__MACOSX/Training_data/Aug4/._aug__0_4287.jpeg  \n",
            "  inflating: training_folder/Training_data/Aug4/aug__0_466.jpeg  \n",
            "  inflating: training_folder/__MACOSX/Training_data/Aug4/._aug__0_466.jpeg  \n",
            "  inflating: training_folder/Training_data/Aug4/aug__0_8162.jpeg  \n",
            "  inflating: training_folder/__MACOSX/Training_data/Aug4/._aug__0_8162.jpeg  \n",
            "  inflating: training_folder/Training_data/Aug4/aug__0_3186.jpeg  \n",
            "  inflating: training_folder/__MACOSX/Training_data/Aug4/._aug__0_3186.jpeg  \n",
            "  inflating: training_folder/Training_data/Aug4/aug__0_29.jpeg  \n",
            "  inflating: training_folder/__MACOSX/Training_data/Aug4/._aug__0_29.jpeg  \n",
            "  inflating: training_folder/Training_data/Aug4/aug__0_5402.jpeg  \n",
            "  inflating: training_folder/__MACOSX/Training_data/Aug4/._aug__0_5402.jpeg  \n",
            "  inflating: training_folder/Training_data/Aug4/aug__0_2778.jpeg  \n",
            "  inflating: training_folder/__MACOSX/Training_data/Aug4/._aug__0_2778.jpeg  \n",
            "  inflating: training_folder/Training_data/Aug4/aug__0_4706.jpeg  \n",
            "  inflating: training_folder/__MACOSX/Training_data/Aug4/._aug__0_4706.jpeg  \n",
            "  inflating: training_folder/Training_data/Aug4/aug__0_9564.jpeg  \n",
            "  inflating: training_folder/__MACOSX/Training_data/Aug4/._aug__0_9564.jpeg  \n",
            "  inflating: training_folder/Training_data/Aug4/aug__0_1103.jpeg  \n",
            "  inflating: training_folder/__MACOSX/Training_data/Aug4/._aug__0_1103.jpeg  \n",
            "  inflating: training_folder/Training_data/Aug4/aug__0_4478.jpeg  \n",
            "  inflating: training_folder/__MACOSX/Training_data/Aug4/._aug__0_4478.jpeg  \n",
            "  inflating: training_folder/Training_data/Aug4/aug__0_7254.jpeg  \n",
            "  inflating: training_folder/__MACOSX/Training_data/Aug4/._aug__0_7254.jpeg  \n",
            "  inflating: training_folder/Training_data/Aug4/aug__0_5793.jpeg  \n",
            "  inflating: training_folder/__MACOSX/Training_data/Aug4/._aug__0_5793.jpeg  \n",
            "  inflating: training_folder/Training_data/Aug4/aug__0_5286.jpeg  \n",
            "  inflating: training_folder/__MACOSX/Training_data/Aug4/._aug__0_5286.jpeg  \n",
            "  inflating: training_folder/Training_data/Aug4/aug__0_2810.jpeg  \n",
            "  inflating: training_folder/__MACOSX/Training_data/Aug4/._aug__0_2810.jpeg  \n",
            "  inflating: training_folder/Training_data/Aug4/aug__0_6795.jpeg  \n",
            "  inflating: training_folder/__MACOSX/Training_data/Aug4/._aug__0_6795.jpeg  \n",
            "  inflating: training_folder/Training_data/Aug4/aug__0_630.jpeg  \n",
            "  inflating: training_folder/__MACOSX/Training_data/Aug4/._aug__0_630.jpeg  \n",
            "  inflating: training_folder/Training_data/Aug4/aug__0_2739.jpeg  \n",
            "  inflating: training_folder/__MACOSX/Training_data/Aug4/._aug__0_2739.jpeg  \n",
            "  inflating: training_folder/Training_data/Aug4/aug__0_6280.jpeg  \n",
            "  inflating: training_folder/__MACOSX/Training_data/Aug4/._aug__0_6280.jpeg  \n",
            "  inflating: training_folder/Training_data/Aug4/aug__0_4747.jpeg  \n",
            "  inflating: training_folder/__MACOSX/Training_data/Aug4/._aug__0_4747.jpeg  \n",
            "  inflating: training_folder/Training_data/Aug4/aug__0_2410.jpeg  \n",
            "  inflating: training_folder/__MACOSX/Training_data/Aug4/._aug__0_2410.jpeg  \n",
            "  inflating: training_folder/Training_data/Aug4/aug__0_519.jpeg  \n",
            "  inflating: training_folder/__MACOSX/Training_data/Aug4/._aug__0_519.jpeg  \n",
            "  inflating: training_folder/Training_data/Aug4/aug__0_4897.jpeg  \n",
            "  inflating: training_folder/__MACOSX/Training_data/Aug4/._aug__0_4897.jpeg  \n",
            "  inflating: training_folder/Training_data/Aug4/aug__0_7757.jpeg  \n",
            "  inflating: training_folder/__MACOSX/Training_data/Aug4/._aug__0_7757.jpeg  \n",
            "  inflating: training_folder/Training_data/Aug4/aug__0_6845.jpeg  \n",
            "  inflating: training_folder/__MACOSX/Training_data/Aug4/._aug__0_6845.jpeg  \n",
            "  inflating: training_folder/Training_data/Aug4/aug__0_2105.jpeg  \n",
            "  inflating: training_folder/__MACOSX/Training_data/Aug4/._aug__0_2105.jpeg  \n",
            "  inflating: training_folder/Training_data/Aug4/aug__0_8226.jpeg  \n",
            "  inflating: training_folder/__MACOSX/Training_data/Aug4/._aug__0_8226.jpeg  \n",
            "  inflating: training_folder/Training_data/Aug4/aug__0_5414.jpeg  \n",
            "  inflating: training_folder/__MACOSX/Training_data/Aug4/._aug__0_5414.jpeg  \n",
            "  inflating: training_folder/Training_data/Aug4/aug__0_5044.jpeg  \n",
            "  inflating: training_folder/__MACOSX/Training_data/Aug4/._aug__0_5044.jpeg  \n",
            "  inflating: training_folder/Training_data/Aug4/aug__0_2294.jpeg  \n",
            "  inflating: training_folder/__MACOSX/Training_data/Aug4/._aug__0_2294.jpeg  \n",
            "  inflating: training_folder/Training_data/Aug4/aug__0_7096.jpeg  \n",
            "  inflating: training_folder/__MACOSX/Training_data/Aug4/._aug__0_7096.jpeg  \n",
            "  inflating: training_folder/Training_data/Aug4/aug__0_3606.jpeg  \n",
            "  inflating: training_folder/__MACOSX/Training_data/Aug4/._aug__0_3606.jpeg  \n",
            "  inflating: training_folder/Training_data/Aug4/aug__0_7645.jpeg  \n",
            "  inflating: training_folder/__MACOSX/Training_data/Aug4/._aug__0_7645.jpeg  \n",
            "  inflating: training_folder/Training_data/Aug4/aug__0_5382.jpeg  \n",
            "  inflating: training_folder/__MACOSX/Training_data/Aug4/._aug__0_5382.jpeg  \n",
            "  inflating: training_folder/Training_data/Aug4/aug__0_2851.jpeg  \n",
            "  inflating: training_folder/__MACOSX/Training_data/Aug4/._aug__0_2851.jpeg  \n",
            "  inflating: training_folder/Training_data/wheel/aug__0_7902.jpeg  \n",
            "  inflating: training_folder/__MACOSX/Training_data/wheel/._aug__0_7902.jpeg  \n",
            "  inflating: training_folder/Training_data/wheel/aug__0_5196.jpeg  \n",
            "  inflating: training_folder/__MACOSX/Training_data/wheel/._aug__0_5196.jpeg  \n",
            "  inflating: training_folder/Training_data/wheel/aug__0_5529.jpeg  \n",
            "  inflating: training_folder/__MACOSX/Training_data/wheel/._aug__0_5529.jpeg  \n",
            "  inflating: training_folder/Training_data/wheel/aug__0_3804.jpeg  \n",
            "  inflating: training_folder/__MACOSX/Training_data/wheel/._aug__0_3804.jpeg  \n",
            "  inflating: training_folder/Training_data/wheel/aug__0_7144.jpeg  \n",
            "  inflating: training_folder/__MACOSX/Training_data/wheel/._aug__0_7144.jpeg  \n",
            "  inflating: training_folder/Training_data/wheel/aug__0_2346.jpeg  \n",
            "  inflating: training_folder/__MACOSX/Training_data/wheel/._aug__0_2346.jpeg  \n",
            "  inflating: training_folder/Training_data/wheel/aug__0_1090.jpeg  \n",
            "  inflating: training_folder/__MACOSX/Training_data/wheel/._aug__0_1090.jpeg  \n",
            "  inflating: training_folder/Training_data/wheel/aug__0_8198.jpeg  \n",
            "  inflating: training_folder/__MACOSX/Training_data/wheel/._aug__0_8198.jpeg  \n",
            "  inflating: training_folder/Training_data/wheel/aug__0_7797.jpeg  \n",
            "  inflating: training_folder/__MACOSX/Training_data/wheel/._aug__0_7797.jpeg  \n",
            "  inflating: training_folder/Training_data/wheel/aug__0_5600.jpeg  \n",
            "  inflating: training_folder/__MACOSX/Training_data/wheel/._aug__0_5600.jpeg  \n",
            "  inflating: training_folder/Training_data/wheel/aug__0_8032.jpeg  \n",
            "  inflating: training_folder/__MACOSX/Training_data/wheel/._aug__0_8032.jpeg  \n",
            "  inflating: training_folder/Training_data/wheel/aug__0_2080.jpeg  \n",
            "  inflating: training_folder/__MACOSX/Training_data/wheel/._aug__0_2080.jpeg  \n",
            "  inflating: training_folder/Training_data/wheel/aug__0_5745.jpeg  \n",
            "  inflating: training_folder/__MACOSX/Training_data/wheel/._aug__0_5745.jpeg  \n",
            "  inflating: training_folder/Training_data/wheel/aug__0_10.jpeg  \n",
            "  inflating: training_folder/__MACOSX/Training_data/wheel/._aug__0_10.jpeg  \n",
            "  inflating: training_folder/Training_data/wheel/aug__0_7406.jpeg  \n",
            "  inflating: training_folder/__MACOSX/Training_data/wheel/._aug__0_7406.jpeg  \n",
            "  inflating: training_folder/Training_data/wheel/aug__0_4695.jpeg  \n",
            "  inflating: training_folder/__MACOSX/Training_data/wheel/._aug__0_4695.jpeg  \n",
            "  inflating: training_folder/Training_data/wheel/aug__0_9224.jpeg  \n",
            "  inflating: training_folder/__MACOSX/Training_data/wheel/._aug__0_9224.jpeg  \n",
            "  inflating: training_folder/Training_data/wheel/aug__0_2192.jpeg  \n",
            "  inflating: training_folder/__MACOSX/Training_data/wheel/._aug__0_2192.jpeg  \n",
            "  inflating: training_folder/Training_data/wheel/aug__0_6201.jpeg  \n",
            "  inflating: training_folder/__MACOSX/Training_data/wheel/._aug__0_6201.jpeg  \n",
            "  inflating: training_folder/Training_data/wheel/aug__0_5568.jpeg  \n",
            "  inflating: training_folder/__MACOSX/Training_data/wheel/._aug__0_5568.jpeg  \n",
            "  inflating: training_folder/Training_data/wheel/aug__0_5092.jpeg  \n",
            "  inflating: training_folder/__MACOSX/Training_data/wheel/._aug__0_5092.jpeg  \n",
            "  inflating: training_folder/Training_data/wheel/aug__0_4729.jpeg  \n",
            "  inflating: training_folder/__MACOSX/Training_data/wheel/._aug__0_4729.jpeg  \n",
            "  inflating: training_folder/Training_data/wheel/aug__0_4953.jpeg  \n",
            "  inflating: training_folder/__MACOSX/Training_data/wheel/._aug__0_4953.jpeg  \n",
            "  inflating: training_folder/Training_data/wheel/aug__0_4400.jpeg  \n",
            "  inflating: training_folder/__MACOSX/Training_data/wheel/._aug__0_4400.jpeg  \n",
            "  inflating: training_folder/Training_data/wheel/aug__0_8970.jpeg  \n",
            "  inflating: training_folder/__MACOSX/Training_data/wheel/._aug__0_8970.jpeg  \n",
            "  inflating: training_folder/Training_data/wheel/aug__0_7693.jpeg  \n",
            "  inflating: training_folder/__MACOSX/Training_data/wheel/._aug__0_7693.jpeg  \n",
            "  inflating: training_folder/Training_data/wheel/aug__0_598.jpeg  \n",
            "  inflating: training_folder/__MACOSX/Training_data/wheel/._aug__0_598.jpeg  \n",
            "  inflating: training_folder/Training_data/wheel/aug__0_5354.jpeg  \n",
            "  inflating: training_folder/__MACOSX/Training_data/wheel/._aug__0_5354.jpeg  \n",
            "  inflating: training_folder/Training_data/wheel/aug__0_2491.jpeg  \n",
            "  inflating: training_folder/__MACOSX/Training_data/wheel/._aug__0_2491.jpeg  \n",
            "  inflating: training_folder/Training_data/wheel/aug__0_2645.jpeg  \n",
            "  inflating: training_folder/__MACOSX/Training_data/wheel/._aug__0_2645.jpeg  \n",
            "  inflating: training_folder/Training_data/wheel/aug__0_5883.jpeg  \n",
            "  inflating: training_folder/__MACOSX/Training_data/wheel/._aug__0_5883.jpeg  \n",
            "  inflating: training_folder/Training_data/wheel/aug__0_4284.jpeg  \n",
            "  inflating: training_folder/__MACOSX/Training_data/wheel/._aug__0_4284.jpeg  \n",
            "  inflating: training_folder/Training_data/wheel/aug__0_2350.jpeg  \n",
            "  inflating: training_folder/__MACOSX/Training_data/wheel/._aug__0_2350.jpeg  \n",
            "  inflating: training_folder/Training_data/wheel/aug__0_3392.jpeg  \n",
            "  inflating: training_folder/__MACOSX/Training_data/wheel/._aug__0_3392.jpeg  \n",
            "  inflating: training_folder/Training_data/wheel/aug__0_5753.jpeg  \n",
            "  inflating: training_folder/__MACOSX/Training_data/wheel/._aug__0_5753.jpeg  \n",
            "  inflating: training_folder/Training_data/wheel/aug__0_2517.jpeg  \n",
            "  inflating: training_folder/__MACOSX/Training_data/wheel/._aug__0_2517.jpeg  \n",
            "  inflating: training_folder/Training_data/wheel/aug__0_4139.jpeg  \n",
            "  inflating: training_folder/__MACOSX/Training_data/wheel/._aug__0_4139.jpeg  \n",
            "  inflating: training_folder/Training_data/wheel/aug__0_4569.jpeg  \n",
            "  inflating: training_folder/__MACOSX/Training_data/wheel/._aug__0_4569.jpeg  \n",
            "  inflating: training_folder/Training_data/wheel/aug__0_808.jpeg  \n",
            "  inflating: training_folder/__MACOSX/Training_data/wheel/._aug__0_808.jpeg  \n",
            "  inflating: training_folder/Training_data/wheel/aug__0_625.jpeg  \n",
            "  inflating: training_folder/__MACOSX/Training_data/wheel/._aug__0_625.jpeg  \n",
            "  inflating: training_folder/Training_data/wheel/aug__0_2686.jpeg  \n",
            "  inflating: training_folder/__MACOSX/Training_data/wheel/._aug__0_2686.jpeg  \n",
            "  inflating: training_folder/Training_data/wheel/aug__0_9475.jpeg  \n",
            "  inflating: training_folder/__MACOSX/Training_data/wheel/._aug__0_9475.jpeg  \n",
            "  inflating: training_folder/Training_data/wheel/aug__0_9926.jpeg  \n",
            "  inflating: training_folder/__MACOSX/Training_data/wheel/._aug__0_9926.jpeg  \n",
            "  inflating: training_folder/Training_data/wheel/aug__0_6153.jpeg  \n",
            "  inflating: training_folder/__MACOSX/Training_data/wheel/._aug__0_6153.jpeg  \n",
            "  inflating: training_folder/Training_data/wheel/aug__0_6016.jpeg  \n",
            "  inflating: training_folder/__MACOSX/Training_data/wheel/._aug__0_6016.jpeg  \n",
            "  inflating: training_folder/Training_data/wheel/aug__0_3081.jpeg  \n",
            "  inflating: training_folder/__MACOSX/Training_data/wheel/._aug__0_3081.jpeg  \n",
            "  inflating: training_folder/Training_data/wheel/aug__0_4314.jpeg  \n",
            "  inflating: training_folder/__MACOSX/Training_data/wheel/._aug__0_4314.jpeg  \n",
            "  inflating: training_folder/Training_data/wheel/aug__0_5505.jpeg  \n",
            "  inflating: training_folder/__MACOSX/Training_data/wheel/._aug__0_5505.jpeg  \n",
            "  inflating: training_folder/Training_data/wheel/aug__0_3594.jpeg  \n",
            "  inflating: training_folder/__MACOSX/Training_data/wheel/._aug__0_3594.jpeg  \n",
            "  inflating: training_folder/Training_data/wheel/aug__0_6796.jpeg  \n",
            "  inflating: training_folder/__MACOSX/Training_data/wheel/._aug__0_6796.jpeg  \n",
            "  inflating: training_folder/Training_data/wheel/aug__0_5769.jpeg  \n",
            "  inflating: training_folder/__MACOSX/Training_data/wheel/._aug__0_5769.jpeg  \n",
            "  inflating: training_folder/Training_data/wheel/aug__0_6515.jpeg  \n",
            "  inflating: training_folder/__MACOSX/Training_data/wheel/._aug__0_6515.jpeg  \n",
            "  inflating: training_folder/Training_data/wheel/aug__0_3652.jpeg  \n",
            "  inflating: training_folder/__MACOSX/Training_data/wheel/._aug__0_3652.jpeg  \n",
            "  inflating: training_folder/Training_data/wheel/aug__0_7611.jpeg  \n",
            "  inflating: training_folder/__MACOSX/Training_data/wheel/._aug__0_7611.jpeg  \n",
            "  inflating: training_folder/Training_data/wheel/aug__0_9988.jpeg  \n",
            "  inflating: training_folder/__MACOSX/Training_data/wheel/._aug__0_9988.jpeg  \n",
            "  inflating: training_folder/Training_data/wheel/aug__0_8730.jpeg  \n",
            "  inflating: training_folder/__MACOSX/Training_data/wheel/._aug__0_8730.jpeg  \n",
            "  inflating: training_folder/Training_data/wheel/aug__0_9571.jpeg  \n",
            "  inflating: training_folder/__MACOSX/Training_data/wheel/._aug__0_9571.jpeg  \n",
            "  inflating: training_folder/Training_data/wheel/aug__0_9121.jpeg  \n",
            "  inflating: training_folder/__MACOSX/Training_data/wheel/._aug__0_9121.jpeg  \n",
            "  inflating: training_folder/Training_data/wheel/aug__0_7580.jpeg  \n",
            "  inflating: training_folder/__MACOSX/Training_data/wheel/._aug__0_7580.jpeg  \n",
            "  inflating: training_folder/Training_data/wheel/aug__0_2852.jpeg  \n",
            "  inflating: training_folder/__MACOSX/Training_data/wheel/._aug__0_2852.jpeg  \n",
            "  inflating: training_folder/Training_data/wheel/aug__0_3740.jpeg  \n",
            "  inflating: training_folder/__MACOSX/Training_data/wheel/._aug__0_3740.jpeg  \n",
            "  inflating: training_folder/Training_data/wheel/aug__0_2151.jpeg  \n",
            "  inflating: training_folder/__MACOSX/Training_data/wheel/._aug__0_2151.jpeg  \n",
            "  inflating: training_folder/Training_data/wheel/aug__0_7703.jpeg  \n",
            "  inflating: training_folder/__MACOSX/Training_data/wheel/._aug__0_7703.jpeg  \n",
            "  inflating: training_folder/Training_data/wheel/aug__0_6020.jpeg  \n",
            "  inflating: training_folder/__MACOSX/Training_data/wheel/._aug__0_6020.jpeg  \n",
            "  inflating: training_folder/Training_data/wheel/aug__0_9785.jpeg  \n",
            "  inflating: training_folder/__MACOSX/Training_data/wheel/._aug__0_9785.jpeg  \n",
            "  inflating: training_folder/Training_data/wheel/aug__0_5030.jpeg  \n",
            "  inflating: training_folder/__MACOSX/Training_data/wheel/._aug__0_5030.jpeg  \n",
            "  inflating: training_folder/Training_data/wheel/aug__0_1073.jpeg  \n",
            "  inflating: training_folder/__MACOSX/Training_data/wheel/._aug__0_1073.jpeg  \n",
            "  inflating: training_folder/Training_data/wheel/aug__0_5899.jpeg  \n",
            "  inflating: training_folder/__MACOSX/Training_data/wheel/._aug__0_5899.jpeg  \n",
            "  inflating: training_folder/Training_data/wheel/aug__0_6759.jpeg  \n",
            "  inflating: training_folder/__MACOSX/Training_data/wheel/._aug__0_6759.jpeg  \n",
            "  inflating: training_folder/Training_data/wheel/aug__0_1835.jpeg  \n",
            "  inflating: training_folder/__MACOSX/Training_data/wheel/._aug__0_1835.jpeg  \n",
            "  inflating: training_folder/Training_data/wheel/aug__0_7236.jpeg  \n",
            "  inflating: training_folder/__MACOSX/Training_data/wheel/._aug__0_7236.jpeg  \n",
            "  inflating: training_folder/Training_data/wheel/aug__0_8593.jpeg  \n",
            "  inflating: training_folder/__MACOSX/Training_data/wheel/._aug__0_8593.jpeg  \n",
            "  inflating: training_folder/Training_data/wheel/aug__0_6427.jpeg  \n",
            "  inflating: training_folder/__MACOSX/Training_data/wheel/._aug__0_6427.jpeg  \n",
            "  inflating: training_folder/Training_data/wheel/aug__0_3275.jpeg  \n",
            "  inflating: training_folder/__MACOSX/Training_data/wheel/._aug__0_3275.jpeg  \n",
            "  inflating: training_folder/Training_data/wheel/aug__0_2521.jpeg  \n",
            "  inflating: training_folder/__MACOSX/Training_data/wheel/._aug__0_2521.jpeg  \n",
            "  inflating: training_folder/Training_data/wheel/aug__0_9101.jpeg  \n",
            "  inflating: training_folder/__MACOSX/Training_data/wheel/._aug__0_9101.jpeg  \n",
            "  inflating: training_folder/Training_data/wheel/aug__0_3799.jpeg  \n",
            "  inflating: training_folder/__MACOSX/Training_data/wheel/._aug__0_3799.jpeg  \n",
            "  inflating: training_folder/Training_data/wheel/aug__0_2188.jpeg  \n",
            "  inflating: training_folder/__MACOSX/Training_data/wheel/._aug__0_2188.jpeg  \n",
            "  inflating: training_folder/Training_data/wheel/aug__0_2537.jpeg  \n",
            "  inflating: training_folder/__MACOSX/Training_data/wheel/._aug__0_2537.jpeg  \n",
            "  inflating: training_folder/Training_data/wheel/aug__0_2167.jpeg  \n",
            "  inflating: training_folder/__MACOSX/Training_data/wheel/._aug__0_2167.jpeg  \n",
            "  inflating: training_folder/Training_data/wheel/aug__0_4119.jpeg  \n",
            "  inflating: training_folder/__MACOSX/Training_data/wheel/._aug__0_4119.jpeg  \n",
            "  inflating: training_folder/Training_data/wheel/aug__0_4725.jpeg  \n",
            "  inflating: training_folder/__MACOSX/Training_data/wheel/._aug__0_4725.jpeg  \n",
            "  inflating: training_folder/Training_data/wheel/aug__0_2075.jpeg  \n",
            "  inflating: training_folder/__MACOSX/Training_data/wheel/._aug__0_2075.jpeg  \n",
            "  inflating: training_folder/Training_data/wheel/aug__0_6935.jpeg  \n",
            "  inflating: training_folder/__MACOSX/Training_data/wheel/._aug__0_6935.jpeg  \n",
            "  inflating: training_folder/Training_data/wheel/aug__0_5476.jpeg  \n",
            "  inflating: training_folder/__MACOSX/Training_data/wheel/._aug__0_5476.jpeg  \n",
            "  inflating: training_folder/Training_data/wheel/aug__0_1767.jpeg  \n",
            "  inflating: training_folder/__MACOSX/Training_data/wheel/._aug__0_1767.jpeg  \n",
            "  inflating: training_folder/Training_data/wheel/aug__0_5724.jpeg  \n",
            "  inflating: training_folder/__MACOSX/Training_data/wheel/._aug__0_5724.jpeg  \n",
            "  inflating: training_folder/Training_data/wheel/aug__0_9642.jpeg  \n",
            "  inflating: training_folder/__MACOSX/Training_data/wheel/._aug__0_9642.jpeg  \n",
            "  inflating: training_folder/Training_data/wheel/aug__0_6364.jpeg  \n",
            "  inflating: training_folder/__MACOSX/Training_data/wheel/._aug__0_6364.jpeg  \n",
            "  inflating: training_folder/Training_data/wheel/aug__0_3166.jpeg  \n",
            "  inflating: training_folder/__MACOSX/Training_data/wheel/._aug__0_3166.jpeg  \n",
            "  inflating: training_folder/Training_data/wheel/aug__0_4861.jpeg  \n",
            "  inflating: training_folder/__MACOSX/Training_data/wheel/._aug__0_4861.jpeg  \n",
            "  inflating: training_folder/Training_data/wheel/aug__0_445.jpeg  \n",
            "  inflating: training_folder/__MACOSX/Training_data/wheel/._aug__0_445.jpeg  \n",
            "  inflating: training_folder/Training_data/wheel/aug__0_6299.jpeg  \n",
            "  inflating: training_folder/__MACOSX/Training_data/wheel/._aug__0_6299.jpeg  \n",
            "  inflating: training_folder/Training_data/wheel/aug__0_783.jpeg  \n",
            "  inflating: training_folder/__MACOSX/Training_data/wheel/._aug__0_783.jpeg  \n",
            "  inflating: training_folder/Training_data/wheel/aug__0_9029.jpeg  \n",
            "  inflating: training_folder/__MACOSX/Training_data/wheel/._aug__0_9029.jpeg  \n",
            "  inflating: training_folder/Training_data/wheel/aug__0_1726.jpeg  \n",
            "  inflating: training_folder/__MACOSX/Training_data/wheel/._aug__0_1726.jpeg  \n",
            "  inflating: training_folder/Training_data/wheel/aug__0_9746.jpeg  \n",
            "  inflating: training_folder/__MACOSX/Training_data/wheel/._aug__0_9746.jpeg  \n",
            "  inflating: training_folder/Training_data/wheel/aug__0_9253.jpeg  \n",
            "  inflating: training_folder/__MACOSX/Training_data/wheel/._aug__0_9253.jpeg  \n",
            "  inflating: training_folder/Training_data/wheel/aug__0_2389.jpeg  \n",
            "  inflating: training_folder/__MACOSX/Training_data/wheel/._aug__0_2389.jpeg  \n",
            "  inflating: training_folder/Training_data/wheel/aug__0_7471.jpeg  \n",
            "  inflating: training_folder/__MACOSX/Training_data/wheel/._aug__0_7471.jpeg  \n",
            "  inflating: training_folder/Training_data/wheel/aug__0_67.jpeg  \n",
            "  inflating: training_folder/__MACOSX/Training_data/wheel/._aug__0_67.jpeg  \n",
            "  inflating: training_folder/Training_data/wheel/aug__0_7021.jpeg  \n",
            "  inflating: training_folder/__MACOSX/Training_data/wheel/._aug__0_7021.jpeg  \n",
            "  inflating: training_folder/Training_data/wheel/aug__0_4820.jpeg  \n",
            "  inflating: training_folder/__MACOSX/Training_data/wheel/._aug__0_4820.jpeg  \n",
            "  inflating: training_folder/Training_data/wheel/aug__0_3609.jpeg  \n",
            "  inflating: training_folder/__MACOSX/Training_data/wheel/._aug__0_3609.jpeg  \n",
            "  inflating: training_folder/Training_data/wheel/aug__0_1634.jpeg  \n",
            "  inflating: training_folder/__MACOSX/Training_data/wheel/._aug__0_1634.jpeg  \n",
            "  inflating: training_folder/Training_data/wheel/aug__0_4965.jpeg  \n",
            "  inflating: training_folder/__MACOSX/Training_data/wheel/._aug__0_4965.jpeg  \n",
            "  inflating: training_folder/Training_data/wheel/aug__0_3520.jpeg  \n",
            "  inflating: training_folder/__MACOSX/Training_data/wheel/._aug__0_3520.jpeg  \n",
            "  inflating: training_folder/Training_data/wheel/aug__0_3873.jpeg  \n",
            "  inflating: training_folder/__MACOSX/Training_data/wheel/._aug__0_3873.jpeg  \n",
            "  inflating: training_folder/Training_data/wheel/aug__0_668.jpeg  \n",
            "  inflating: training_folder/__MACOSX/Training_data/wheel/._aug__0_668.jpeg  \n",
            "  inflating: training_folder/Training_data/wheel/aug__0_8697.jpeg  \n",
            "  inflating: training_folder/__MACOSX/Training_data/wheel/._aug__0_8697.jpeg  \n",
            "  inflating: training_folder/Training_data/wheel/aug__0_8382.jpeg  \n",
            "  inflating: training_folder/__MACOSX/Training_data/wheel/._aug__0_8382.jpeg  \n",
            "  inflating: training_folder/Training_data/wheel/aug__0_3937.jpeg  \n",
            "  inflating: training_folder/__MACOSX/Training_data/wheel/._aug__0_3937.jpeg  \n",
            "  inflating: training_folder/Training_data/wheel/aug__0_8802.jpeg  \n",
            "  inflating: training_folder/__MACOSX/Training_data/wheel/._aug__0_8802.jpeg  \n",
            "  inflating: training_folder/Training_data/wheel/aug__0_9340.jpeg  \n",
            "  inflating: training_folder/__MACOSX/Training_data/wheel/._aug__0_9340.jpeg  \n",
            "  inflating: training_folder/Training_data/wheel/aug__0_8947.jpeg  \n",
            "  inflating: training_folder/__MACOSX/Training_data/wheel/._aug__0_8947.jpeg  \n",
            "  inflating: training_folder/Training_data/wheel/aug__0_4437.jpeg  \n",
            "  inflating: training_folder/__MACOSX/Training_data/wheel/._aug__0_4437.jpeg  \n",
            "  inflating: training_folder/Training_data/wheel/aug__0_6959.jpeg  \n",
            "  inflating: training_folder/__MACOSX/Training_data/wheel/._aug__0_6959.jpeg  \n",
            "  inflating: training_folder/Training_data/wheel/aug__0_110.jpeg  \n",
            "  inflating: training_folder/__MACOSX/Training_data/wheel/._aug__0_110.jpeg  \n",
            "  inflating: training_folder/Training_data/wheel/aug__0_9194.jpeg  \n",
            "  inflating: training_folder/__MACOSX/Training_data/wheel/._aug__0_9194.jpeg  \n",
            "  inflating: training_folder/Training_data/wheel/aug__0_9317.jpeg  \n",
            "  inflating: training_folder/__MACOSX/Training_data/wheel/._aug__0_9317.jpeg  \n",
            "  inflating: training_folder/Training_data/wheel/aug__0_1398.jpeg  \n",
            "  inflating: training_folder/__MACOSX/Training_data/wheel/._aug__0_1398.jpeg  \n",
            "  inflating: training_folder/Training_data/wheel/aug__0_1662.jpeg  \n",
            "  inflating: training_folder/__MACOSX/Training_data/wheel/._aug__0_1662.jpeg  \n",
            "  inflating: training_folder/Training_data/wheel/aug__0_844.jpeg  \n",
            "  inflating: training_folder/__MACOSX/Training_data/wheel/._aug__0_844.jpeg  \n",
            "  inflating: training_folder/Training_data/wheel/aug__0_3999.jpeg  \n",
            "  inflating: training_folder/__MACOSX/Training_data/wheel/._aug__0_3999.jpeg  \n",
            "  inflating: training_folder/Training_data/wheel/aug__0_7036.jpeg  \n",
            "  inflating: training_folder/__MACOSX/Training_data/wheel/._aug__0_7036.jpeg  \n",
            "  inflating: training_folder/Training_data/wheel/aug__0_3425.jpeg  \n",
            "  inflating: training_folder/__MACOSX/Training_data/wheel/._aug__0_3425.jpeg  \n",
            "  inflating: training_folder/Training_data/wheel/aug__0_9478.jpeg  \n",
            "  inflating: training_folder/__MACOSX/Training_data/wheel/._aug__0_9478.jpeg  \n",
            "  inflating: training_folder/Training_data/wheel/aug__0_8510.jpeg  \n",
            "  inflating: training_folder/__MACOSX/Training_data/wheel/._aug__0_8510.jpeg  \n",
            "  inflating: training_folder/Training_data/wheel/aug__0_8843.jpeg  \n",
            "  inflating: training_folder/__MACOSX/Training_data/wheel/._aug__0_8843.jpeg  \n",
            "  inflating: training_folder/Training_data/wheel/aug__0_3219.jpeg  \n",
            "  inflating: training_folder/__MACOSX/Training_data/wheel/._aug__0_3219.jpeg  \n",
            "  inflating: training_folder/Training_data/wheel/aug__0_1674.jpeg  \n",
            "  inflating: training_folder/__MACOSX/Training_data/wheel/._aug__0_1674.jpeg  \n",
            "  inflating: training_folder/Training_data/wheel/aug__0_6918.jpeg  \n",
            "  inflating: training_folder/__MACOSX/Training_data/wheel/._aug__0_6918.jpeg  \n",
            "  inflating: training_folder/Training_data/wheel/aug__0_151.jpeg  \n",
            "  inflating: training_folder/__MACOSX/Training_data/wheel/._aug__0_151.jpeg  \n",
            "  inflating: training_folder/Training_data/wheel/aug__0_8681.jpeg  \n",
            "  inflating: training_folder/__MACOSX/Training_data/wheel/._aug__0_8681.jpeg  \n",
            "  inflating: training_folder/Training_data/wheel/aug__0_7827.jpeg  \n",
            "  inflating: training_folder/__MACOSX/Training_data/wheel/._aug__0_7827.jpeg  \n",
            "  inflating: training_folder/Training_data/wheel/aug__0_3537.jpeg  \n",
            "  inflating: training_folder/__MACOSX/Training_data/wheel/._aug__0_3537.jpeg  \n",
            "  inflating: training_folder/Training_data/wheel/aug__0_4134.jpeg  \n",
            "  inflating: training_folder/__MACOSX/Training_data/wheel/._aug__0_4134.jpeg  \n",
            "  inflating: training_folder/Training_data/wheel/aug__0_5660.jpeg  \n",
            "  inflating: training_folder/__MACOSX/Training_data/wheel/._aug__0_5660.jpeg  \n",
            "  inflating: training_folder/Training_data/wheel/aug__0_741.jpeg  \n",
            "  inflating: training_folder/__MACOSX/Training_data/wheel/._aug__0_741.jpeg  \n",
            "  inflating: training_folder/Training_data/wheel/aug__0_1822.jpeg  \n",
            "  inflating: training_folder/__MACOSX/Training_data/wheel/._aug__0_1822.jpeg  \n",
            "  inflating: training_folder/Training_data/wheel/aug__0_7626.jpeg  \n",
            "  inflating: training_folder/__MACOSX/Training_data/wheel/._aug__0_7626.jpeg  \n",
            "  inflating: training_folder/Training_data/wheel/aug__0_6934.jpeg  \n",
            "  inflating: training_folder/__MACOSX/Training_data/wheel/._aug__0_6934.jpeg  \n",
            "  inflating: training_folder/Training_data/wheel/aug__0_1658.jpeg  \n",
            "  inflating: training_folder/__MACOSX/Training_data/wheel/._aug__0_1658.jpeg  \n",
            "  inflating: training_folder/Training_data/wheel/aug__0_6522.jpeg  \n",
            "  inflating: training_folder/__MACOSX/Training_data/wheel/._aug__0_6522.jpeg  \n",
            "  inflating: training_folder/Training_data/wheel/aug__0_6172.jpeg  \n",
            "  inflating: training_folder/__MACOSX/Training_data/wheel/._aug__0_6172.jpeg  \n",
            "  inflating: training_folder/Training_data/wheel/aug__0_7299.jpeg  \n",
            "  inflating: training_folder/__MACOSX/Training_data/wheel/._aug__0_7299.jpeg  \n",
            "  inflating: training_folder/Training_data/wheel/aug__0_9053.jpeg  \n",
            "  inflating: training_folder/__MACOSX/Training_data/wheel/._aug__0_9053.jpeg  \n",
            "  inflating: training_folder/Training_data/wheel/aug__0_4724.jpeg  \n",
            "  inflating: training_folder/__MACOSX/Training_data/wheel/._aug__0_4724.jpeg  \n",
            "  inflating: training_folder/Training_data/wheel/aug__0_9815.jpeg  \n",
            "  inflating: training_folder/__MACOSX/Training_data/wheel/._aug__0_9815.jpeg  \n",
            "  inflating: training_folder/Training_data/wheel/aug__0_2920.jpeg  \n",
            "  inflating: training_folder/__MACOSX/Training_data/wheel/._aug__0_2920.jpeg  \n",
            "  inflating: training_folder/Training_data/wheel/aug__0_7221.jpeg  \n",
            "  inflating: training_folder/__MACOSX/Training_data/wheel/._aug__0_7221.jpeg  \n",
            "  inflating: training_folder/Training_data/wheel/aug__0_595.jpeg  \n",
            "  inflating: training_folder/__MACOSX/Training_data/wheel/._aug__0_595.jpeg  \n",
            "  inflating: training_folder/Training_data/wheel/aug__0_1475.jpeg  \n",
            "  inflating: training_folder/__MACOSX/Training_data/wheel/._aug__0_1475.jpeg  \n",
            "  inflating: training_folder/Training_data/wheel/aug__0_5066.jpeg  \n",
            "  inflating: training_folder/__MACOSX/Training_data/wheel/._aug__0_5066.jpeg  \n",
            "  inflating: training_folder/Training_data/wheel/aug__0_4362.jpeg  \n",
            "  inflating: training_folder/__MACOSX/Training_data/wheel/._aug__0_4362.jpeg  \n",
            "  inflating: training_folder/Training_data/wheel/aug__0_2465.jpeg  \n",
            "  inflating: training_folder/__MACOSX/Training_data/wheel/._aug__0_2465.jpeg  \n",
            "  inflating: training_folder/Training_data/wheel/aug__0_1249.jpeg  \n",
            "  inflating: training_folder/__MACOSX/Training_data/wheel/._aug__0_1249.jpeg  \n",
            "  inflating: training_folder/Training_data/wheel/aug__0_3761.jpeg  \n",
            "  inflating: training_folder/__MACOSX/Training_data/wheel/._aug__0_3761.jpeg  \n",
            "  inflating: training_folder/Training_data/wheel/aug__0_6563.jpeg  \n",
            "  inflating: training_folder/__MACOSX/Training_data/wheel/._aug__0_6563.jpeg  \n",
            "  inflating: training_folder/Training_data/wheel/aug__0_9911.jpeg  \n",
            "  inflating: training_folder/__MACOSX/Training_data/wheel/._aug__0_9911.jpeg  \n",
            "  inflating: training_folder/Training_data/wheel/aug__0_5932.jpeg  \n",
            "  inflating: training_folder/__MACOSX/Training_data/wheel/._aug__0_5932.jpeg  \n",
            "  inflating: training_folder/Training_data/wheel/aug__0_5174.jpeg  \n",
            "  inflating: training_folder/__MACOSX/Training_data/wheel/._aug__0_5174.jpeg  \n",
            "  inflating: training_folder/Training_data/wheel/aug__0_6471.jpeg  \n",
            "  inflating: training_folder/__MACOSX/Training_data/wheel/._aug__0_6471.jpeg  \n",
            "  inflating: training_folder/Training_data/wheel/aug__0_6867.jpeg  \n",
            "  inflating: training_folder/__MACOSX/Training_data/wheel/._aug__0_6867.jpeg  \n",
            "  inflating: training_folder/Training_data/wheel/aug__0_7775.jpeg  \n",
            "  inflating: training_folder/__MACOSX/Training_data/wheel/._aug__0_7775.jpeg  \n",
            "  inflating: training_folder/Training_data/wheel/aug__0_4159.jpeg  \n",
            "  inflating: training_folder/__MACOSX/Training_data/wheel/._aug__0_4159.jpeg  \n",
            "  inflating: training_folder/Training_data/wheel/aug__0_9291.jpeg  \n",
            "  inflating: training_folder/__MACOSX/Training_data/wheel/._aug__0_9291.jpeg  \n",
            "  inflating: training_folder/Training_data/wheel/aug__0_8879.jpeg  \n",
            "  inflating: training_folder/__MACOSX/Training_data/wheel/._aug__0_8879.jpeg  \n",
            "  inflating: training_folder/Training_data/wheel/aug__0_3366.jpeg  \n",
            "  inflating: training_folder/__MACOSX/Training_data/wheel/._aug__0_3366.jpeg  \n",
            "  inflating: training_folder/Training_data/wheel/aug__0_9209.jpeg  \n",
            "  inflating: training_folder/__MACOSX/Training_data/wheel/._aug__0_9209.jpeg  \n",
            "  inflating: training_folder/Training_data/wheel/aug__0_1793.jpeg  \n",
            "  inflating: training_folder/__MACOSX/Training_data/wheel/._aug__0_1793.jpeg  \n",
            "  inflating: training_folder/Training_data/wheel/aug__0_5553.jpeg  \n",
            "  inflating: training_folder/__MACOSX/Training_data/wheel/._aug__0_5553.jpeg  \n",
            "  inflating: training_folder/Training_data/wheel/aug__0_4342.jpeg  \n",
            "  inflating: training_folder/__MACOSX/Training_data/wheel/._aug__0_4342.jpeg  \n",
            "  inflating: training_folder/Training_data/wheel/aug__0_1510.jpeg  \n",
            "  inflating: training_folder/__MACOSX/Training_data/wheel/._aug__0_1510.jpeg  \n",
            "  inflating: training_folder/Training_data/wheel/aug__0_3891.jpeg  \n",
            "  inflating: training_folder/__MACOSX/Training_data/wheel/._aug__0_3891.jpeg  \n",
            "  inflating: training_folder/Training_data/wheel/aug__0_7305.jpeg  \n",
            "  inflating: training_folder/__MACOSX/Training_data/wheel/._aug__0_7305.jpeg  \n",
            "  inflating: training_folder/Training_data/wheel/aug__0_2107.jpeg  \n",
            "  inflating: training_folder/__MACOSX/Training_data/wheel/._aug__0_2107.jpeg  \n",
            "  inflating: training_folder/Training_data/wheel/aug__0_6514.jpeg  \n",
            "  inflating: training_folder/__MACOSX/Training_data/wheel/._aug__0_6514.jpeg  \n",
            "  inflating: training_folder/Training_data/wheel/aug__0_2412.jpeg  \n",
            "  inflating: training_folder/__MACOSX/Training_data/wheel/._aug__0_2412.jpeg  \n",
            "  inflating: training_folder/Training_data/wheel/aug__0_5857.jpeg  \n",
            "  inflating: training_folder/__MACOSX/Training_data/wheel/._aug__0_5857.jpeg  \n",
            "  inflating: training_folder/Training_data/wheel/aug__0_2384.jpeg  \n",
            "  inflating: training_folder/__MACOSX/Training_data/wheel/._aug__0_2384.jpeg  \n",
            "  inflating: training_folder/Training_data/wheel/aug__0_777.jpeg  \n",
            "  inflating: training_folder/__MACOSX/Training_data/wheel/._aug__0_777.jpeg  \n",
            "  inflating: training_folder/Training_data/wheel/aug__0_4600.jpeg  \n",
            "  inflating: training_folder/__MACOSX/Training_data/wheel/._aug__0_4600.jpeg  \n",
            "  inflating: training_folder/Training_data/wheel/aug__0_2812.jpeg  \n",
            "  inflating: training_folder/__MACOSX/Training_data/wheel/._aug__0_2812.jpeg  \n",
            "  inflating: training_folder/Training_data/wheel/aug__0_3350.jpeg  \n",
            "  inflating: training_folder/__MACOSX/Training_data/wheel/._aug__0_3350.jpeg  \n",
            "  inflating: training_folder/Training_data/wheel/aug__0_6447.jpeg  \n",
            "  inflating: training_folder/__MACOSX/Training_data/wheel/._aug__0_6447.jpeg  \n",
            "  inflating: training_folder/Training_data/wheel/aug__0_1551.jpeg  \n",
            "  inflating: training_folder/__MACOSX/Training_data/wheel/._aug__0_1551.jpeg  \n",
            "  inflating: training_folder/Training_data/wheel/aug__0_4616.jpeg  \n",
            "  inflating: training_folder/__MACOSX/Training_data/wheel/._aug__0_4616.jpeg  \n",
            "  inflating: training_folder/Training_data/wheel/aug__0_7190.jpeg  \n",
            "  inflating: training_folder/__MACOSX/Training_data/wheel/._aug__0_7190.jpeg  \n",
            "  inflating: training_folder/Training_data/wheel/aug__0_9927.jpeg  \n",
            "  inflating: training_folder/__MACOSX/Training_data/wheel/._aug__0_9927.jpeg  \n",
            "  inflating: training_folder/Training_data/wheel/aug__0_6806.jpeg  \n",
            "  inflating: training_folder/__MACOSX/Training_data/wheel/._aug__0_6806.jpeg  \n",
            "  inflating: training_folder/Training_data/wheel/aug__0_3757.jpeg  \n",
            "  inflating: training_folder/__MACOSX/Training_data/wheel/._aug__0_3757.jpeg  \n",
            "  inflating: training_folder/Training_data/wheel/aug__0_3242.jpeg  \n",
            "  inflating: training_folder/__MACOSX/Training_data/wheel/._aug__0_3242.jpeg  \n",
            "  inflating: training_folder/Training_data/wheel/aug__0_3612.jpeg  \n",
            "  inflating: training_folder/__MACOSX/Training_data/wheel/._aug__0_3612.jpeg  \n",
            "  inflating: training_folder/Training_data/wheel/aug__0_6943.jpeg  \n",
            "  inflating: training_folder/__MACOSX/Training_data/wheel/._aug__0_6943.jpeg  \n",
            "  inflating: training_folder/Training_data/wheel/aug__0_9566.jpeg  \n",
            "  inflating: training_folder/__MACOSX/Training_data/wheel/._aug__0_9566.jpeg  \n",
            "  inflating: training_folder/Training_data/wheel/aug__0_9835.jpeg  \n",
            "  inflating: training_folder/__MACOSX/Training_data/wheel/._aug__0_9835.jpeg  \n",
            "  inflating: training_folder/Training_data/wheel/aug__0_5953.jpeg  \n",
            "  inflating: training_folder/__MACOSX/Training_data/wheel/._aug__0_5953.jpeg  \n",
            "  inflating: training_folder/Training_data/wheel/aug__0_3669.jpeg  \n",
            "  inflating: training_folder/__MACOSX/Training_data/wheel/._aug__0_3669.jpeg  \n",
            "  inflating: training_folder/Training_data/wheel/aug__0_6892.jpeg  \n",
            "  inflating: training_folder/__MACOSX/Training_data/wheel/._aug__0_6892.jpeg  \n",
            "  inflating: training_folder/Training_data/wheel/aug__0_8863.jpeg  \n",
            "  inflating: training_folder/__MACOSX/Training_data/wheel/._aug__0_8863.jpeg  \n",
            "  inflating: training_folder/Training_data/wheel/aug__0_7016.jpeg  \n",
            "  inflating: training_folder/__MACOSX/Training_data/wheel/._aug__0_7016.jpeg  \n",
            "  inflating: training_folder/Training_data/wheel/aug__0_5882.jpeg  \n",
            "  inflating: training_folder/__MACOSX/Training_data/wheel/._aug__0_5882.jpeg  \n",
            "  inflating: training_folder/Training_data/wheel/aug__0_2701.jpeg  \n",
            "  inflating: training_folder/__MACOSX/Training_data/wheel/._aug__0_2701.jpeg  \n",
            "  inflating: training_folder/Training_data/wheel/aug__0_608.jpeg  \n",
            "  inflating: training_folder/__MACOSX/Training_data/wheel/._aug__0_608.jpeg  \n",
            "  inflating: training_folder/Training_data/wheel/aug__0_6083.jpeg  \n",
            "  inflating: training_folder/__MACOSX/Training_data/wheel/._aug__0_6083.jpeg  \n",
            "  inflating: training_folder/Training_data/wheel/aug__0_7692.jpeg  \n",
            "  inflating: training_folder/__MACOSX/Training_data/wheel/._aug__0_7692.jpeg  \n",
            "  inflating: training_folder/Training_data/wheel/aug__0_4817.jpeg  \n",
            "  inflating: training_folder/__MACOSX/Training_data/wheel/._aug__0_4817.jpeg  \n",
            "  inflating: training_folder/Training_data/wheel/aug__0_3901.jpeg  \n",
            "  inflating: training_folder/__MACOSX/Training_data/wheel/._aug__0_3901.jpeg  \n",
            "  inflating: training_folder/Training_data/wheel/aug__0_2756.jpeg  \n",
            "  inflating: training_folder/__MACOSX/Training_data/wheel/._aug__0_2756.jpeg  \n",
            "  inflating: training_folder/Training_data/wheel/aug__0_6715.jpeg  \n",
            "  inflating: training_folder/__MACOSX/Training_data/wheel/._aug__0_6715.jpeg  \n",
            "  inflating: training_folder/Training_data/wheel/aug__0_8967.jpeg  \n",
            "  inflating: training_folder/__MACOSX/Training_data/wheel/._aug__0_8967.jpeg  \n",
            "  inflating: training_folder/Training_data/wheel/aug__0_9225.jpeg  \n",
            "  inflating: training_folder/__MACOSX/Training_data/wheel/._aug__0_9225.jpeg  \n",
            "  inflating: training_folder/Training_data/wheel/aug__0_2039.jpeg  \n",
            "  inflating: training_folder/__MACOSX/Training_data/wheel/._aug__0_2039.jpeg  \n",
            "  inflating: training_folder/Training_data/wheel/aug__0_5713.jpeg  \n",
            "  inflating: training_folder/__MACOSX/Training_data/wheel/._aug__0_5713.jpeg  \n",
            "  inflating: training_folder/Training_data/wheel/aug__0_425.jpeg  \n",
            "  inflating: training_folder/__MACOSX/Training_data/wheel/._aug__0_425.jpeg  \n",
            "  inflating: training_folder/Training_data/wheel/aug__0_2486.jpeg  \n",
            "  inflating: training_folder/__MACOSX/Training_data/wheel/._aug__0_2486.jpeg  \n",
            "  inflating: training_folder/Training_data/wheel/aug__0_2605.jpeg  \n",
            "  inflating: training_folder/__MACOSX/Training_data/wheel/._aug__0_2605.jpeg  \n",
            "  inflating: training_folder/Training_data/wheel/aug__0_6646.jpeg  \n",
            "  inflating: training_folder/__MACOSX/Training_data/wheel/._aug__0_6646.jpeg  \n",
            "  inflating: training_folder/Training_data/wheel/aug__0_7811.jpeg  \n",
            "  inflating: training_folder/__MACOSX/Training_data/wheel/._aug__0_7811.jpeg  \n",
            "  inflating: training_folder/Training_data/wheel/aug__0_7796.jpeg  \n",
            "  inflating: training_folder/__MACOSX/Training_data/wheel/._aug__0_7796.jpeg  \n",
            "  inflating: training_folder/Training_data/wheel/aug__0_8033.jpeg  \n",
            "  inflating: training_folder/__MACOSX/Training_data/wheel/._aug__0_8033.jpeg  \n",
            "  inflating: training_folder/Training_data/wheel/aug__0_8875.jpeg  \n",
            "  inflating: training_folder/__MACOSX/Training_data/wheel/._aug__0_8875.jpeg  \n",
            "  inflating: training_folder/Training_data/wheel/aug__0_8526.jpeg  \n",
            "  inflating: training_folder/__MACOSX/Training_data/wheel/._aug__0_8526.jpeg  \n",
            "  inflating: training_folder/Training_data/wheel/aug__0_5314.jpeg  \n",
            "  inflating: training_folder/__MACOSX/Training_data/wheel/._aug__0_5314.jpeg  \n",
            "  inflating: training_folder/Training_data/wheel/aug__0_7283.jpeg  \n",
            "  inflating: training_folder/__MACOSX/Training_data/wheel/._aug__0_7283.jpeg  \n",
            "  inflating: training_folder/Training_data/wheel/aug__0_5528.jpeg  \n",
            "  inflating: training_folder/__MACOSX/Training_data/wheel/._aug__0_5528.jpeg  \n",
            "  inflating: training_folder/Training_data/wheel/aug__0_5178.jpeg  \n",
            "  inflating: training_folder/__MACOSX/Training_data/wheel/._aug__0_5178.jpeg  \n",
            "  inflating: training_folder/Training_data/wheel/aug__0_3106.jpeg  \n",
            "  inflating: training_folder/__MACOSX/Training_data/wheel/._aug__0_3106.jpeg  \n",
            "  inflating: training_folder/Training_data/wheel/aug__0_4769.jpeg  \n",
            "  inflating: training_folder/__MACOSX/Training_data/wheel/._aug__0_4769.jpeg  \n",
            "  inflating: training_folder/Training_data/wheel/aug__0_7846.jpeg  \n",
            "  inflating: training_folder/__MACOSX/Training_data/wheel/._aug__0_7846.jpeg  \n",
            "  inflating: training_folder/Training_data/wheel/aug__0_8468.jpeg  \n",
            "  inflating: training_folder/__MACOSX/Training_data/wheel/._aug__0_8468.jpeg  \n",
            "  inflating: training_folder/Training_data/wheel/aug__0_6163.jpeg  \n",
            "  inflating: training_folder/__MACOSX/Training_data/wheel/._aug__0_6163.jpeg  \n",
            "  inflating: training_folder/Training_data/wheel/aug__0_2823.jpeg  \n",
            "  inflating: training_folder/__MACOSX/Training_data/wheel/._aug__0_2823.jpeg  \n",
            "  inflating: training_folder/Training_data/wheel/aug__0_7288.jpeg  \n",
            "  inflating: training_folder/__MACOSX/Training_data/wheel/._aug__0_7288.jpeg  \n",
            "  inflating: training_folder/Training_data/wheel/aug__0_8487.jpeg  \n",
            "  inflating: training_folder/__MACOSX/Training_data/wheel/._aug__0_8487.jpeg  \n",
            "  inflating: training_folder/Training_data/wheel/aug__0_1075.jpeg  \n",
            "  inflating: training_folder/__MACOSX/Training_data/wheel/._aug__0_1075.jpeg  \n",
            "  inflating: training_folder/Training_data/wheel/aug__0_992.jpeg  \n",
            "  inflating: training_folder/__MACOSX/Training_data/wheel/._aug__0_992.jpeg  \n",
            "  inflating: training_folder/Training_data/wheel/aug__0_9691.jpeg  \n",
            "  inflating: training_folder/__MACOSX/Training_data/wheel/._aug__0_9691.jpeg  \n",
            "  inflating: training_folder/Training_data/wheel/aug__0_357.jpeg  \n",
            "  inflating: training_folder/__MACOSX/Training_data/wheel/._aug__0_357.jpeg  \n",
            "  inflating: training_folder/Training_data/wheel/aug__0_5962.jpeg  \n",
            "  inflating: training_folder/__MACOSX/Training_data/wheel/._aug__0_5962.jpeg  \n",
            "  inflating: training_folder/Training_data/wheel/aug__0_9557.jpeg  \n",
            "  inflating: training_folder/__MACOSX/Training_data/wheel/._aug__0_9557.jpeg  \n",
            "  inflating: training_folder/Training_data/wheel/aug__0_1167.jpeg  \n",
            "  inflating: training_folder/__MACOSX/Training_data/wheel/._aug__0_1167.jpeg  \n",
            "  inflating: training_folder/Training_data/wheel/aug__0_9107.jpeg  \n",
            "  inflating: training_folder/__MACOSX/Training_data/wheel/._aug__0_9107.jpeg  \n",
            "  inflating: training_folder/Training_data/wheel/aug__0_5827.jpeg  \n",
            "  inflating: training_folder/__MACOSX/Training_data/wheel/._aug__0_5827.jpeg  \n",
            "  inflating: training_folder/Training_data/wheel/aug__0_8346.jpeg  \n",
            "  inflating: training_folder/__MACOSX/Training_data/wheel/._aug__0_8346.jpeg  \n",
            "  inflating: training_folder/Training_data/wheel/aug__0_3859.jpeg  \n",
            "  inflating: training_folder/__MACOSX/Training_data/wheel/._aug__0_3859.jpeg  \n",
            "  inflating: training_folder/Training_data/wheel/aug__0_6067.jpeg  \n",
            "  inflating: training_folder/__MACOSX/Training_data/wheel/._aug__0_6067.jpeg  \n",
            "  inflating: training_folder/Training_data/wheel/aug__0_984.jpeg  \n",
            "  inflating: training_folder/__MACOSX/Training_data/wheel/._aug__0_984.jpeg  \n",
            "  inflating: training_folder/Training_data/wheel/aug__0_9668.jpeg  \n",
            "  inflating: training_folder/__MACOSX/Training_data/wheel/._aug__0_9668.jpeg  \n",
            "  inflating: training_folder/Training_data/wheel/aug__0_3635.jpeg  \n",
            "  inflating: training_folder/__MACOSX/Training_data/wheel/._aug__0_3635.jpeg  \n",
            "  inflating: training_folder/Training_data/wheel/aug__0_2927.jpeg  \n",
            "  inflating: training_folder/__MACOSX/Training_data/wheel/._aug__0_2927.jpeg  \n",
            "  inflating: training_folder/Training_data/wheel/aug__0_4666.jpeg  \n",
            "  inflating: training_folder/__MACOSX/Training_data/wheel/._aug__0_4666.jpeg  \n",
            "  inflating: training_folder/Training_data/wheel/aug__0_1034.jpeg  \n",
            "  inflating: training_folder/__MACOSX/Training_data/wheel/._aug__0_1034.jpeg  \n",
            "  inflating: training_folder/Training_data/wheel/aug__0_1872.jpeg  \n",
            "  inflating: training_folder/__MACOSX/Training_data/wheel/._aug__0_1872.jpeg  \n",
            "  inflating: training_folder/Training_data/wheel/aug__0_9541.jpeg  \n",
            "  inflating: training_folder/__MACOSX/Training_data/wheel/._aug__0_9541.jpeg  \n",
            "  inflating: training_folder/Training_data/wheel/aug__0_9795.jpeg  \n",
            "  inflating: training_folder/__MACOSX/Training_data/wheel/._aug__0_9795.jpeg  \n",
            "  inflating: training_folder/Training_data/wheel/aug__0_8184.jpeg  \n",
            "  inflating: training_folder/__MACOSX/Training_data/wheel/._aug__0_8184.jpeg  \n",
            "  inflating: training_folder/Training_data/wheel/aug__0_2566.jpeg  \n",
            "  inflating: training_folder/__MACOSX/Training_data/wheel/._aug__0_2566.jpeg  \n",
            "  inflating: training_folder/Training_data/wheel/aug__0_896.jpeg  \n",
            "  inflating: training_folder/__MACOSX/Training_data/wheel/._aug__0_896.jpeg  \n",
            "  inflating: training_folder/Training_data/wheel/aug__0_9900.jpeg  \n",
            "  inflating: training_folder/__MACOSX/Training_data/wheel/._aug__0_9900.jpeg  \n",
            "  inflating: training_folder/Training_data/wheel/aug__0_9003.jpeg  \n",
            "  inflating: training_folder/__MACOSX/Training_data/wheel/._aug__0_9003.jpeg  \n",
            "  inflating: training_folder/Training_data/wheel/aug__0_3818.jpeg  \n",
            "  inflating: training_folder/__MACOSX/Training_data/wheel/._aug__0_3818.jpeg  \n",
            "  inflating: training_folder/Training_data/wheel/aug__0_4563.jpeg  \n",
            "  inflating: training_folder/__MACOSX/Training_data/wheel/._aug__0_4563.jpeg  \n",
            "  inflating: training_folder/Training_data/wheel/aug__0_1331.jpeg  \n",
            "  inflating: training_folder/__MACOSX/Training_data/wheel/._aug__0_1331.jpeg  \n",
            "  inflating: training_folder/Training_data/wheel/aug__0_8813.jpeg  \n",
            "  inflating: training_folder/__MACOSX/Training_data/wheel/._aug__0_8813.jpeg  \n",
            "  inflating: training_folder/Training_data/wheel/aug__0_4426.jpeg  \n",
            "  inflating: training_folder/__MACOSX/Training_data/wheel/._aug__0_4426.jpeg  \n",
            "  inflating: training_folder/Training_data/wheel/aug__0_9644.jpeg  \n",
            "  inflating: training_folder/__MACOSX/Training_data/wheel/._aug__0_9644.jpeg  \n",
            "  inflating: training_folder/Training_data/wheel/aug__0_8956.jpeg  \n",
            "  inflating: training_folder/__MACOSX/Training_data/wheel/._aug__0_8956.jpeg  \n",
            "  inflating: training_folder/Training_data/wheel/aug__0_8055.jpeg  \n",
            "  inflating: training_folder/__MACOSX/Training_data/wheel/._aug__0_8055.jpeg  \n",
            "  inflating: training_folder/Training_data/wheel/aug__0_6698.jpeg  \n",
            "  inflating: training_folder/__MACOSX/Training_data/wheel/._aug__0_6698.jpeg  \n",
            "  inflating: training_folder/Training_data/wheel/aug__0_6362.jpeg  \n",
            "  inflating: training_folder/__MACOSX/Training_data/wheel/._aug__0_6362.jpeg  \n",
            "  inflating: training_folder/Training_data/wheel/aug__0_382.jpeg  \n",
            "  inflating: training_folder/__MACOSX/Training_data/wheel/._aug__0_382.jpeg  \n",
            "  inflating: training_folder/Training_data/wheel/aug__0_8686.jpeg  \n",
            "  inflating: training_folder/__MACOSX/Training_data/wheel/._aug__0_8686.jpeg  \n",
            "  inflating: training_folder/Training_data/wheel/aug__0_7066.jpeg  \n",
            "  inflating: training_folder/__MACOSX/Training_data/wheel/._aug__0_7066.jpeg  \n",
            "  inflating: training_folder/Training_data/wheel/aug__0_9428.jpeg  \n",
            "  inflating: training_folder/__MACOSX/Training_data/wheel/._aug__0_9428.jpeg  \n",
            "  inflating: training_folder/Training_data/wheel/aug__0_1018.jpeg  \n",
            "  inflating: training_folder/__MACOSX/Training_data/wheel/._aug__0_1018.jpeg  \n",
            "  inflating: training_folder/Training_data/wheel/aug__0_7965.jpeg  \n",
            "  inflating: training_folder/__MACOSX/Training_data/wheel/._aug__0_7965.jpeg  \n",
            "  inflating: training_folder/Training_data/wheel/aug__0_910.jpeg  \n",
            "  inflating: training_folder/__MACOSX/Training_data/wheel/._aug__0_910.jpeg  \n",
            "  inflating: training_folder/Training_data/wheel/aug__0_8147.jpeg  \n",
            "  inflating: training_folder/__MACOSX/Training_data/wheel/._aug__0_8147.jpeg  \n",
            "  inflating: training_folder/Training_data/wheel/aug__0_443.jpeg  \n",
            "  inflating: training_folder/__MACOSX/Training_data/wheel/._aug__0_443.jpeg  \n",
            "  inflating: training_folder/Training_data/wheel/aug__0_8901.jpeg  \n",
            "  inflating: training_folder/__MACOSX/Training_data/wheel/._aug__0_8901.jpeg  \n",
            "  inflating: training_folder/Training_data/wheel/aug__0_1389.jpeg  \n",
            "  inflating: training_folder/__MACOSX/Training_data/wheel/._aug__0_1389.jpeg  \n",
            "  inflating: training_folder/Training_data/wheel/aug__0_3567.jpeg  \n",
            "  inflating: training_folder/__MACOSX/Training_data/wheel/._aug__0_3567.jpeg  \n",
            "  inflating: training_folder/Training_data/wheel/aug__0_4308.jpeg  \n",
            "  inflating: training_folder/__MACOSX/Training_data/wheel/._aug__0_4308.jpeg  \n",
            "  inflating: training_folder/Training_data/wheel/aug__0_906.jpeg  \n",
            "  inflating: training_folder/__MACOSX/Training_data/wheel/._aug__0_906.jpeg  \n",
            "  inflating: training_folder/Training_data/wheel/aug__0_3208.jpeg  \n",
            "  inflating: training_folder/__MACOSX/Training_data/wheel/._aug__0_3208.jpeg  \n",
            "  inflating: training_folder/Training_data/wheel/aug__0_2419.jpeg  \n",
            "  inflating: training_folder/__MACOSX/Training_data/wheel/._aug__0_2419.jpeg  \n",
            "  inflating: training_folder/Training_data/wheel/aug__0_6289.jpeg  \n",
            "  inflating: training_folder/__MACOSX/Training_data/wheel/._aug__0_6289.jpeg  \n",
            "  inflating: training_folder/Training_data/wheel/aug__0_6773.jpeg  \n",
            "  inflating: training_folder/__MACOSX/Training_data/wheel/._aug__0_6773.jpeg  \n",
            "  inflating: training_folder/Training_data/wheel/aug__0_1409.jpeg  \n",
            "  inflating: training_folder/__MACOSX/Training_data/wheel/._aug__0_1409.jpeg  \n",
            "  inflating: training_folder/Training_data/wheel/aug__0_9039.jpeg  \n",
            "  inflating: training_folder/__MACOSX/Training_data/wheel/._aug__0_9039.jpeg  \n",
            "  inflating: training_folder/Training_data/wheel/aug__0_8556.jpeg  \n",
            "  inflating: training_folder/__MACOSX/Training_data/wheel/._aug__0_8556.jpeg  \n",
            "  inflating: training_folder/Training_data/wheel/aug__0_9828.jpeg  \n",
            "  inflating: training_folder/__MACOSX/Training_data/wheel/._aug__0_9828.jpeg  \n",
            "  inflating: training_folder/Training_data/wheel/aug__0_3463.jpeg  \n",
            "  inflating: training_folder/__MACOSX/Training_data/wheel/._aug__0_3463.jpeg  \n",
            "  inflating: training_folder/Training_data/wheel/aug__0_6231.jpeg  \n",
            "  inflating: training_folder/__MACOSX/Training_data/wheel/._aug__0_6231.jpeg  \n",
            "  inflating: training_folder/Training_data/wheel/aug__0_7007.jpeg  \n",
            "  inflating: training_folder/__MACOSX/Training_data/wheel/._aug__0_7007.jpeg  \n",
            "  inflating: training_folder/Training_data/wheel/aug__0_7904.jpeg  \n",
            "  inflating: training_folder/__MACOSX/Training_data/wheel/._aug__0_7904.jpeg  \n",
            "  inflating: training_folder/Training_data/wheel/aug__0_4294.jpeg  \n",
            "  inflating: training_folder/__MACOSX/Training_data/wheel/._aug__0_4294.jpeg  \n",
            "  inflating: training_folder/Training_data/wheel/aug__0_9275.jpeg  \n",
            "  inflating: training_folder/__MACOSX/Training_data/wheel/._aug__0_9275.jpeg  \n",
            "  inflating: training_folder/Training_data/wheel/aug__0_9625.jpeg  \n",
            "  inflating: training_folder/__MACOSX/Training_data/wheel/._aug__0_9625.jpeg  \n",
            "  inflating: training_folder/Training_data/wheel/aug__0_9330.jpeg  \n",
            "  inflating: training_folder/__MACOSX/Training_data/wheel/._aug__0_9330.jpeg  \n",
            "  inflating: training_folder/Training_data/wheel/aug__0_8872.jpeg  \n",
            "  inflating: training_folder/__MACOSX/Training_data/wheel/._aug__0_8872.jpeg  \n",
            "  inflating: training_folder/Training_data/wheel/aug__0_1350.jpeg  \n",
            "  inflating: training_folder/__MACOSX/Training_data/wheel/._aug__0_1350.jpeg  \n",
            "  inflating: training_folder/Training_data/wheel/aug__0_6211.jpeg  \n",
            "  inflating: training_folder/__MACOSX/Training_data/wheel/._aug__0_6211.jpeg  \n",
            "  inflating: training_folder/Training_data/wheel/aug__0_16.jpeg  \n",
            "  inflating: training_folder/__MACOSX/Training_data/wheel/._aug__0_16.jpeg  \n",
            "  inflating: training_folder/Training_data/wheel/aug__0_7545.jpeg  \n",
            "  inflating: training_folder/__MACOSX/Training_data/wheel/._aug__0_7545.jpeg  \n",
            "  inflating: training_folder/Training_data/wheel/aug__0_7816.jpeg  \n",
            "  inflating: training_folder/__MACOSX/Training_data/wheel/._aug__0_7816.jpeg  \n",
            "  inflating: training_folder/Training_data/wheel/aug__0_137.jpeg  \n",
            "  inflating: training_folder/__MACOSX/Training_data/wheel/._aug__0_137.jpeg  \n",
            "  inflating: training_folder/Training_data/wheel/aug__0_9367.jpeg  \n",
            "  inflating: training_folder/__MACOSX/Training_data/wheel/._aug__0_9367.jpeg  \n",
            "  inflating: training_folder/Training_data/wheel/aug__0_8219.jpeg  \n",
            "  inflating: training_folder/__MACOSX/Training_data/wheel/._aug__0_8219.jpeg  \n",
            "  inflating: training_folder/Training_data/wheel/aug__0_6207.jpeg  \n",
            "  inflating: training_folder/__MACOSX/Training_data/wheel/._aug__0_6207.jpeg  \n",
            "  inflating: training_folder/Training_data/wheel/aug__0_7945.jpeg  \n",
            "  inflating: training_folder/__MACOSX/Training_data/wheel/._aug__0_7945.jpeg  \n",
            "  inflating: training_folder/Training_data/wheel/aug__0_4390.jpeg  \n",
            "  inflating: training_folder/__MACOSX/Training_data/wheel/._aug__0_4390.jpeg  \n",
            "  inflating: training_folder/Training_data/wheel/aug__0_3140.jpeg  \n",
            "  inflating: training_folder/__MACOSX/Training_data/wheel/._aug__0_3140.jpeg  \n",
            "  inflating: training_folder/Training_data/wheel/aug__0_658.jpeg  \n",
            "  inflating: training_folder/__MACOSX/Training_data/wheel/._aug__0_658.jpeg  \n",
            "  inflating: training_folder/Training_data/wheel/aug__0_3639.jpeg  \n",
            "  inflating: training_folder/__MACOSX/Training_data/wheel/._aug__0_3639.jpeg  \n",
            "  inflating: training_folder/Training_data/wheel/aug__0_2881.jpeg  \n",
            "  inflating: training_folder/__MACOSX/Training_data/wheel/._aug__0_2881.jpeg  \n",
            "  inflating: training_folder/Training_data/wheel/aug__0_121.jpeg  \n",
            "  inflating: training_folder/__MACOSX/Training_data/wheel/._aug__0_121.jpeg  \n",
            "  inflating: training_folder/Training_data/wheel/aug__0_2182.jpeg  \n",
            "  inflating: training_folder/__MACOSX/Training_data/wheel/._aug__0_2182.jpeg  \n",
            "  inflating: training_folder/Training_data/wheel/aug__0_5647.jpeg  \n",
            "  inflating: training_folder/__MACOSX/Training_data/wheel/._aug__0_5647.jpeg  \n",
            "  inflating: training_folder/Training_data/wheel/aug__0_4543.jpeg  \n",
            "  inflating: training_folder/__MACOSX/Training_data/wheel/._aug__0_4543.jpeg  \n",
            "  inflating: training_folder/Training_data/wheel/aug__0_8833.jpeg  \n",
            "  inflating: training_folder/__MACOSX/Training_data/wheel/._aug__0_8833.jpeg  \n",
            "  inflating: training_folder/Training_data/wheel/aug__0_7912.jpeg  \n",
            "  inflating: training_folder/__MACOSX/Training_data/wheel/._aug__0_7912.jpeg  \n",
            "  inflating: training_folder/Training_data/wheel/aug__0_2213.jpeg  \n",
            "  inflating: training_folder/__MACOSX/Training_data/wheel/._aug__0_2213.jpeg  \n",
            "  inflating: training_folder/Training_data/wheel/aug__0_6315.jpeg  \n",
            "  inflating: training_folder/__MACOSX/Training_data/wheel/._aug__0_6315.jpeg  \n",
            "  inflating: training_folder/Training_data/wheel/aug__0_8472.jpeg  \n",
            "  inflating: training_folder/__MACOSX/Training_data/wheel/._aug__0_8472.jpeg  \n",
            "  inflating: training_folder/Training_data/wheel/aug__0_8864.jpeg  \n",
            "  inflating: training_folder/__MACOSX/Training_data/wheel/._aug__0_8864.jpeg  \n",
            "  inflating: training_folder/Training_data/wheel/aug__0_7292.jpeg  \n",
            "  inflating: training_folder/__MACOSX/Training_data/wheel/._aug__0_7292.jpeg  \n",
            "  inflating: training_folder/Training_data/wheel/aug__0_4703.jpeg  \n",
            "  inflating: training_folder/__MACOSX/Training_data/wheel/._aug__0_4703.jpeg  \n",
            "  inflating: training_folder/Training_data/wheel/aug__0_7590.jpeg  \n",
            "  inflating: training_folder/__MACOSX/Training_data/wheel/._aug__0_7590.jpeg  \n",
            "  inflating: training_folder/Training_data/wheel/aug__0_1278.jpeg  \n",
            "  inflating: training_folder/__MACOSX/Training_data/wheel/._aug__0_1278.jpeg  \n",
            "  inflating: training_folder/Training_data/wheel/aug__0_1628.jpeg  \n",
            "  inflating: training_folder/__MACOSX/Training_data/wheel/._aug__0_1628.jpeg  \n",
            "  inflating: training_folder/Training_data/wheel/aug__0_6339.jpeg  \n",
            "  inflating: training_folder/__MACOSX/Training_data/wheel/._aug__0_6339.jpeg  \n",
            "  inflating: training_folder/Training_data/wheel/aug__0_789.jpeg  \n",
            "  inflating: training_folder/__MACOSX/Training_data/wheel/._aug__0_789.jpeg  \n",
            "  inflating: training_folder/Training_data/wheel/aug__0_7178.jpeg  \n",
            "  inflating: training_folder/__MACOSX/Training_data/wheel/._aug__0_7178.jpeg  \n",
            "  inflating: training_folder/Training_data/wheel/aug__0_4538.jpeg  \n",
            "  inflating: training_folder/__MACOSX/Training_data/wheel/._aug__0_4538.jpeg  \n",
            "  inflating: training_folder/Training_data/wheel/aug__0_2403.jpeg  \n",
            "  inflating: training_folder/__MACOSX/Training_data/wheel/._aug__0_2403.jpeg  \n",
            "  inflating: training_folder/Training_data/wheel/aug__0_8448.jpeg  \n",
            "  inflating: training_folder/__MACOSX/Training_data/wheel/._aug__0_8448.jpeg  \n",
            "  inflating: training_folder/Training_data/wheel/aug__0_9259.jpeg  \n",
            "  inflating: training_folder/__MACOSX/Training_data/wheel/._aug__0_9259.jpeg  \n",
            "  inflating: training_folder/Training_data/wheel/aug__0_1844.jpeg  \n",
            "  inflating: training_folder/__MACOSX/Training_data/wheel/._aug__0_1844.jpeg  \n",
            "  inflating: training_folder/Training_data/wheel/aug__0_5041.jpeg  \n",
            "  inflating: training_folder/__MACOSX/Training_data/wheel/._aug__0_5041.jpeg  \n",
            "  inflating: training_folder/Training_data/wheel/aug__0_377.jpeg  \n",
            "  inflating: training_folder/__MACOSX/Training_data/wheel/._aug__0_377.jpeg  \n",
            "  inflating: training_folder/Training_data/wheel/aug__0_1281.jpeg  \n",
            "  inflating: training_folder/__MACOSX/Training_data/wheel/._aug__0_1281.jpeg  \n",
            "  inflating: training_folder/Training_data/wheel/aug__0_4083.jpeg  \n",
            "  inflating: training_folder/__MACOSX/Training_data/wheel/._aug__0_4083.jpeg  \n",
            "  inflating: training_folder/Training_data/wheel/aug__0_6114.jpeg  \n",
            "  inflating: training_folder/__MACOSX/Training_data/wheel/._aug__0_6114.jpeg  \n",
            "  inflating: training_folder/Training_data/wheel/aug__0_4129.jpeg  \n",
            "  inflating: training_folder/__MACOSX/Training_data/wheel/._aug__0_4129.jpeg  \n",
            "  inflating: training_folder/Training_data/wheel/aug__0_7640.jpeg  \n",
            "  inflating: training_folder/__MACOSX/Training_data/wheel/._aug__0_7640.jpeg  \n",
            "  inflating: training_folder/Training_data/wheel/aug__0_5693.jpeg  \n",
            "  inflating: training_folder/__MACOSX/Training_data/wheel/._aug__0_5693.jpeg  \n",
            "  inflating: training_folder/Training_data/wheel/aug__0_9126.jpeg  \n",
            "  inflating: training_folder/__MACOSX/Training_data/wheel/._aug__0_9126.jpeg  \n",
            "  inflating: training_folder/Training_data/wheel/aug__0_4714.jpeg  \n",
            "  inflating: training_folder/__MACOSX/Training_data/wheel/._aug__0_4714.jpeg  \n",
            "  inflating: training_folder/Training_data/wheel/aug__0_7568.jpeg  \n",
            "  inflating: training_folder/__MACOSX/Training_data/wheel/._aug__0_7568.jpeg  \n",
            "  inflating: training_folder/Training_data/wheel/aug__0_1900.jpeg  \n",
            "  inflating: training_folder/__MACOSX/Training_data/wheel/._aug__0_1900.jpeg  \n",
            "  inflating: training_folder/Training_data/wheel/aug__0_6512.jpeg  \n",
            "  inflating: training_folder/__MACOSX/Training_data/wheel/._aug__0_6512.jpeg  \n",
            "  inflating: training_folder/Training_data/wheel/aug__0_2551.jpeg  \n",
            "  inflating: training_folder/__MACOSX/Training_data/wheel/._aug__0_2551.jpeg  \n",
            "  inflating: training_folder/Training_data/wheel/aug__0_2101.jpeg  \n",
            "  inflating: training_folder/__MACOSX/Training_data/wheel/._aug__0_2101.jpeg  \n",
            "  inflating: training_folder/Training_data/wheel/aug__0_7616.jpeg  \n",
            "  inflating: training_folder/__MACOSX/Training_data/wheel/._aug__0_7616.jpeg  \n",
            "  inflating: training_folder/Training_data/wheel/aug__0_5781.jpeg  \n",
            "  inflating: training_folder/__MACOSX/Training_data/wheel/._aug__0_5781.jpeg  \n",
            "  inflating: training_folder/Training_data/wheel/aug__0_4190.jpeg  \n",
            "  inflating: training_folder/__MACOSX/Training_data/wheel/._aug__0_4190.jpeg  \n",
            "  inflating: training_folder/Training_data/wheel/aug__0_8760.jpeg  \n",
            "  inflating: training_folder/__MACOSX/Training_data/wheel/._aug__0_8760.jpeg  \n",
            "  inflating: training_folder/Training_data/wheel/aug__0_5851.jpeg  \n",
            "  inflating: training_folder/__MACOSX/Training_data/wheel/._aug__0_5851.jpeg  \n",
            "  inflating: training_folder/Training_data/wheel/aug__0_1541.jpeg  \n",
            "  inflating: training_folder/__MACOSX/Training_data/wheel/._aug__0_1541.jpeg  \n",
            "  inflating: training_folder/Training_data/wheel/aug__0_9034.jpeg  \n",
            "  inflating: training_folder/__MACOSX/Training_data/wheel/._aug__0_9034.jpeg  \n",
            "  inflating: training_folder/Training_data/wheel/aug__0_3069.jpeg  \n",
            "  inflating: training_folder/__MACOSX/Training_data/wheel/._aug__0_3069.jpeg  \n",
            "  inflating: training_folder/Training_data/wheel/aug__0_5447.jpeg  \n",
            "  inflating: training_folder/__MACOSX/Training_data/wheel/._aug__0_5447.jpeg  \n",
            "  inflating: training_folder/Training_data/wheel/aug__0_2117.jpeg  \n",
            "  inflating: training_folder/__MACOSX/Training_data/wheel/._aug__0_2117.jpeg  \n",
            "  inflating: training_folder/Training_data/wheel/aug__0_6011.jpeg  \n",
            "  inflating: training_folder/__MACOSX/Training_data/wheel/._aug__0_6011.jpeg  \n",
            "  inflating: training_folder/Training_data/wheel/aug__0_5797.jpeg  \n",
            "  inflating: training_folder/__MACOSX/Training_data/wheel/._aug__0_5797.jpeg  \n",
            "  inflating: training_folder/Training_data/wheel/aug__0_2402.jpeg  \n",
            "  inflating: training_folder/__MACOSX/Training_data/wheel/._aug__0_2402.jpeg  \n",
            "  inflating: training_folder/Training_data/wheel/aug__0_6768.jpeg  \n",
            "  inflating: training_folder/__MACOSX/Training_data/wheel/._aug__0_6768.jpeg  \n",
            "  inflating: training_folder/Training_data/wheel/aug__0_1804.jpeg  \n",
            "  inflating: training_folder/__MACOSX/Training_data/wheel/._aug__0_1804.jpeg  \n",
            "  inflating: training_folder/Training_data/wheel/aug__0_3993.jpeg  \n",
            "  inflating: training_folder/__MACOSX/Training_data/wheel/._aug__0_3993.jpeg  \n",
            "  inflating: training_folder/Training_data/wheel/aug__0_5001.jpeg  \n",
            "  inflating: training_folder/__MACOSX/Training_data/wheel/._aug__0_5001.jpeg  \n",
            "  inflating: training_folder/Training_data/wheel/aug__0_8633.jpeg  \n",
            "  inflating: training_folder/__MACOSX/Training_data/wheel/._aug__0_8633.jpeg  \n",
            "  inflating: training_folder/Training_data/wheel/aug__0_6787.jpeg  \n",
            "  inflating: training_folder/__MACOSX/Training_data/wheel/._aug__0_6787.jpeg  \n",
            "  inflating: training_folder/Training_data/wheel/aug__0_3751.jpeg  \n",
            "  inflating: training_folder/__MACOSX/Training_data/wheel/._aug__0_3751.jpeg  \n",
            "  inflating: training_folder/Training_data/wheel/aug__0_2455.jpeg  \n",
            "  inflating: training_folder/__MACOSX/Training_data/wheel/._aug__0_2455.jpeg  \n",
            "  inflating: training_folder/Training_data/wheel/aug__0_8408.jpeg  \n",
            "  inflating: training_folder/__MACOSX/Training_data/wheel/._aug__0_8408.jpeg  \n",
            "  inflating: training_folder/Training_data/wheel/aug__0_2286.jpeg  \n",
            "  inflating: training_folder/__MACOSX/Training_data/wheel/._aug__0_2286.jpeg  \n",
            "  inflating: training_folder/Training_data/wheel/aug__0_1445.jpeg  \n",
            "  inflating: training_folder/__MACOSX/Training_data/wheel/._aug__0_1445.jpeg  \n",
            "  inflating: training_folder/Training_data/wheel/aug__0_360.jpeg  \n",
            "  inflating: training_folder/__MACOSX/Training_data/wheel/._aug__0_360.jpeg  \n",
            "  inflating: training_folder/Training_data/wheel/aug__0_7591.jpeg  \n",
            "  inflating: training_folder/__MACOSX/Training_data/wheel/._aug__0_7591.jpeg  \n",
            "  inflating: training_folder/Training_data/wheel/aug__0_4903.jpeg  \n",
            "  inflating: training_folder/__MACOSX/Training_data/wheel/._aug__0_4903.jpeg  \n",
            "  inflating: training_folder/Training_data/wheel/aug__0_8189.jpeg  \n",
            "  inflating: training_folder/__MACOSX/Training_data/wheel/._aug__0_8189.jpeg  \n",
            "  inflating: training_folder/Training_data/wheel/aug__0_8536.jpeg  \n",
            "  inflating: training_folder/__MACOSX/Training_data/wheel/._aug__0_8536.jpeg  \n",
            "  inflating: training_folder/Training_data/wheel/aug__0_6251.jpeg  \n",
            "  inflating: training_folder/__MACOSX/Training_data/wheel/._aug__0_6251.jpeg  \n",
            "  inflating: training_folder/Training_data/wheel/aug__0_3815.jpeg  \n",
            "  inflating: training_folder/__MACOSX/Training_data/wheel/._aug__0_3815.jpeg  \n",
            "  inflating: training_folder/Training_data/wheel/aug__0_9235.jpeg  \n",
            "  inflating: training_folder/__MACOSX/Training_data/wheel/._aug__0_9235.jpeg  \n",
            "  inflating: training_folder/Training_data/wheel/aug__0_5646.jpeg  \n",
            "  inflating: training_folder/__MACOSX/Training_data/wheel/._aug__0_5646.jpeg  \n",
            "  inflating: training_folder/Training_data/wheel/aug__0_4954.jpeg  \n",
            "  inflating: training_folder/__MACOSX/Training_data/wheel/._aug__0_4954.jpeg  \n",
            "  inflating: training_folder/Training_data/wheel/aug__0_6986.jpeg  \n",
            "  inflating: training_folder/__MACOSX/Training_data/wheel/._aug__0_6986.jpeg  \n",
            "  inflating: training_folder/Training_data/wheel/aug__0_1310.jpeg  \n",
            "  inflating: training_folder/__MACOSX/Training_data/wheel/._aug__0_1310.jpeg  \n",
            "  inflating: training_folder/Training_data/wheel/aug__0_2615.jpeg  \n",
            "  inflating: training_folder/__MACOSX/Training_data/wheel/._aug__0_2615.jpeg  \n",
            "  inflating: training_folder/Training_data/wheel/aug__0_3004.jpeg  \n",
            "  inflating: training_folder/__MACOSX/Training_data/wheel/._aug__0_3004.jpeg  \n",
            "  inflating: training_folder/Training_data/wheel/aug__0_3454.jpeg  \n",
            "  inflating: training_folder/__MACOSX/Training_data/wheel/._aug__0_3454.jpeg  \n",
            "  inflating: training_folder/Training_data/wheel/aug__0_1486.jpeg  \n",
            "  inflating: training_folder/__MACOSX/Training_data/wheel/._aug__0_1486.jpeg  \n",
            "  inflating: training_folder/Training_data/wheel/aug__0_8598.jpeg  \n",
            "  inflating: training_folder/__MACOSX/Training_data/wheel/._aug__0_8598.jpeg  \n",
            "  inflating: training_folder/Training_data/wheel/aug__0_7397.jpeg  \n",
            "  inflating: training_folder/__MACOSX/Training_data/wheel/._aug__0_7397.jpeg  \n",
            "  inflating: training_folder/Training_data/wheel/aug__0_566.jpeg  \n",
            "  inflating: training_folder/__MACOSX/Training_data/wheel/._aug__0_566.jpeg  \n",
            "  inflating: training_folder/Training_data/wheel/aug__0_9223.jpeg  \n",
            "  inflating: training_folder/__MACOSX/Training_data/wheel/._aug__0_9223.jpeg  \n",
            "  inflating: training_folder/Training_data/wheel/aug__0_6990.jpeg  \n",
            "  inflating: training_folder/__MACOSX/Training_data/wheel/._aug__0_6990.jpeg  \n",
            "  inflating: training_folder/Training_data/wheel/aug__0_1185.jpeg  \n",
            "  inflating: training_folder/__MACOSX/Training_data/wheel/._aug__0_1185.jpeg  \n",
            "  inflating: training_folder/Training_data/wheel/aug__0_1214.jpeg  \n",
            "  inflating: training_folder/__MACOSX/Training_data/wheel/._aug__0_1214.jpeg  \n",
            "  inflating: training_folder/Training_data/wheel/aug__0_5607.jpeg  \n",
            "  inflating: training_folder/__MACOSX/Training_data/wheel/._aug__0_5607.jpeg  \n",
            "  inflating: training_folder/Training_data/wheel/aug__0_7285.jpeg  \n",
            "  inflating: training_folder/__MACOSX/Training_data/wheel/._aug__0_7285.jpeg  \n",
            "  inflating: training_folder/Training_data/wheel/aug__0_6247.jpeg  \n",
            "  inflating: training_folder/__MACOSX/Training_data/wheel/._aug__0_6247.jpeg  \n",
            "  inflating: training_folder/Training_data/wheel/aug__0_248.jpeg  \n",
            "  inflating: training_folder/__MACOSX/Training_data/wheel/._aug__0_248.jpeg  \n",
            "  inflating: training_folder/Training_data/wheel/aug__0_3931.jpeg  \n",
            "  inflating: training_folder/__MACOSX/Training_data/wheel/._aug__0_3931.jpeg  \n",
            "  inflating: training_folder/Training_data/wheel/aug__0_4124.jpeg  \n",
            "  inflating: training_folder/__MACOSX/Training_data/wheel/._aug__0_4124.jpeg  \n",
            "  inflating: training_folder/Training_data/wheel/aug__0_4574.jpeg  \n",
            "  inflating: training_folder/__MACOSX/Training_data/wheel/._aug__0_4574.jpeg  \n",
            "  inflating: training_folder/Training_data/wheel/aug__0_8107.jpeg  \n",
            "  inflating: training_folder/__MACOSX/Training_data/wheel/._aug__0_8107.jpeg  \n",
            "  inflating: training_folder/Training_data/wheel/aug__0_5735.jpeg  \n",
            "  inflating: training_folder/__MACOSX/Training_data/wheel/._aug__0_5735.jpeg  \n",
            "  inflating: training_folder/Training_data/wheel/aug__0_7358.jpeg  \n",
            "  inflating: training_folder/__MACOSX/Training_data/wheel/._aug__0_7358.jpeg  \n",
            "  inflating: training_folder/Training_data/wheel/aug__0_638.jpeg  \n",
            "  inflating: training_folder/__MACOSX/Training_data/wheel/._aug__0_638.jpeg  \n",
            "  inflating: training_folder/Training_data/wheel/aug__0_287.jpeg  \n",
            "  inflating: training_folder/__MACOSX/Training_data/wheel/._aug__0_287.jpeg  \n",
            "  inflating: training_folder/Training_data/wheel/aug__0_8279.jpeg  \n",
            "  inflating: training_folder/__MACOSX/Training_data/wheel/._aug__0_8279.jpeg  \n",
            "  inflating: training_folder/Training_data/wheel/aug__0_9311.jpeg  \n",
            "  inflating: training_folder/__MACOSX/Training_data/wheel/._aug__0_9311.jpeg  \n",
            "  inflating: training_folder/Training_data/wheel/aug__0_907.jpeg  \n",
            "  inflating: training_folder/__MACOSX/Training_data/wheel/._aug__0_907.jpeg  \n",
            "  inflating: training_folder/Training_data/wheel/aug__0_4173.jpeg  \n",
            "  inflating: training_folder/__MACOSX/Training_data/wheel/._aug__0_4173.jpeg  \n",
            "  inflating: training_folder/Training_data/wheel/aug__0_8853.jpeg  \n",
            "  inflating: training_folder/__MACOSX/Training_data/wheel/._aug__0_8853.jpeg  \n",
            "  inflating: training_folder/Training_data/wheel/aug__0_5148.jpeg  \n",
            "  inflating: training_folder/__MACOSX/Training_data/wheel/._aug__0_5148.jpeg  \n",
            "  inflating: training_folder/Training_data/wheel/aug__0_6334.jpeg  \n",
            "  inflating: training_folder/__MACOSX/Training_data/wheel/._aug__0_6334.jpeg  \n",
            "  inflating: training_folder/Training_data/wheel/aug__0_3589.jpeg  \n",
            "  inflating: training_folder/__MACOSX/Training_data/wheel/._aug__0_3589.jpeg  \n",
            "  inflating: training_folder/Training_data/wheel/aug__0_1388.jpeg  \n",
            "  inflating: training_folder/__MACOSX/Training_data/wheel/._aug__0_1388.jpeg  \n",
            "  inflating: training_folder/Training_data/wheel/aug__0_229.jpeg  \n",
            "  inflating: training_folder/__MACOSX/Training_data/wheel/._aug__0_229.jpeg  \n",
            "  inflating: training_folder/Training_data/wheel/aug__0_9583.jpeg  \n",
            "  inflating: training_folder/__MACOSX/Training_data/wheel/._aug__0_9583.jpeg  \n",
            "  inflating: training_folder/Training_data/wheel/aug__0_9215.jpeg  \n",
            "  inflating: training_folder/__MACOSX/Training_data/wheel/._aug__0_9215.jpeg  \n",
            "  inflating: training_folder/Training_data/wheel/aug__0_8054.jpeg  \n",
            "  inflating: training_folder/__MACOSX/Training_data/wheel/._aug__0_8054.jpeg  \n",
            "  inflating: training_folder/Training_data/wheel/aug__0_2459.jpeg  \n",
            "  inflating: training_folder/__MACOSX/Training_data/wheel/._aug__0_2459.jpeg  \n",
            "  inflating: training_folder/Training_data/wheel/aug__0_8613.jpeg  \n",
            "  inflating: training_folder/__MACOSX/Training_data/wheel/._aug__0_8613.jpeg  \n",
            "  inflating: training_folder/Training_data/wheel/aug__0_1598.jpeg  \n",
            "  inflating: training_folder/__MACOSX/Training_data/wheel/._aug__0_1598.jpeg  \n",
            "  inflating: training_folder/Training_data/wheel/aug__0_5888.jpeg  \n",
            "  inflating: training_folder/__MACOSX/Training_data/wheel/._aug__0_5888.jpeg  \n",
            "  inflating: training_folder/Training_data/wheel/aug__0_4630.jpeg  \n",
            "  inflating: training_folder/__MACOSX/Training_data/wheel/._aug__0_4630.jpeg  \n",
            "  inflating: training_folder/Training_data/wheel/aug__0_1432.jpeg  \n",
            "  inflating: training_folder/__MACOSX/Training_data/wheel/._aug__0_1432.jpeg  \n",
            "  inflating: training_folder/Training_data/wheel/aug__0_1577.jpeg  \n",
            "  inflating: training_folder/__MACOSX/Training_data/wheel/._aug__0_1577.jpeg  \n",
            "  inflating: training_folder/Training_data/wheel/aug__0_4775.jpeg  \n",
            "  inflating: training_folder/__MACOSX/Training_data/wheel/._aug__0_4775.jpeg  \n",
            "  inflating: training_folder/Training_data/wheel/aug__0_5164.jpeg  \n",
            "  inflating: training_folder/__MACOSX/Training_data/wheel/._aug__0_5164.jpeg  \n",
            "  inflating: training_folder/Training_data/wheel/aug__0_2971.jpeg  \n",
            "  inflating: training_folder/__MACOSX/Training_data/wheel/._aug__0_2971.jpeg  \n",
            "  inflating: training_folder/Training_data/wheel/aug__0_2072.jpeg  \n",
            "  inflating: training_folder/__MACOSX/Training_data/wheel/._aug__0_2072.jpeg  \n",
            "  inflating: training_folder/Training_data/wheel/aug__0_7270.jpeg  \n",
            "  inflating: training_folder/__MACOSX/Training_data/wheel/._aug__0_7270.jpeg  \n",
            "  inflating: training_folder/Training_data/wheel/aug__0_2422.jpeg  \n",
            "  inflating: training_folder/__MACOSX/Training_data/wheel/._aug__0_2422.jpeg  \n",
            "  inflating: training_folder/Training_data/wheel/aug__0_5308.jpeg  \n",
            "  inflating: training_folder/__MACOSX/Training_data/wheel/._aug__0_5308.jpeg  \n",
            "  inflating: training_folder/Training_data/wheel/aug__0_194.jpeg  \n",
            "  inflating: training_folder/__MACOSX/Training_data/wheel/._aug__0_194.jpeg  \n",
            "  inflating: training_folder/Training_data/wheel/aug__0_8869.jpeg  \n",
            "  inflating: training_folder/__MACOSX/Training_data/wheel/._aug__0_8869.jpeg  \n",
            "  inflating: training_folder/Training_data/wheel/aug__0_3458.jpeg  \n",
            "  inflating: training_folder/__MACOSX/Training_data/wheel/._aug__0_3458.jpeg  \n",
            "  inflating: training_folder/Training_data/wheel/aug__0_340.jpeg  \n",
            "  inflating: training_folder/__MACOSX/Training_data/wheel/._aug__0_340.jpeg  \n",
            "  inflating: training_folder/Training_data/wheel/aug__0_4722.jpeg  \n",
            "  inflating: training_folder/__MACOSX/Training_data/wheel/._aug__0_4722.jpeg  \n",
            "  inflating: training_folder/Training_data/wheel/aug__0_1170.jpeg  \n",
            "  inflating: training_folder/__MACOSX/Training_data/wheel/._aug__0_1170.jpeg  \n",
            "  inflating: training_folder/Training_data/wheel/aug__0_6965.jpeg  \n",
            "  inflating: training_folder/__MACOSX/Training_data/wheel/._aug__0_6965.jpeg  \n",
            "  inflating: training_folder/Training_data/wheel/aug__0_3634.jpeg  \n",
            "  inflating: training_folder/__MACOSX/Training_data/wheel/._aug__0_3634.jpeg  \n",
            "  inflating: training_folder/Training_data/wheel/aug__0_9686.jpeg  \n",
            "  inflating: training_folder/__MACOSX/Training_data/wheel/._aug__0_9686.jpeg  \n",
            "  inflating: training_folder/Training_data/wheel/aug__0_2160.jpeg  \n",
            "  inflating: training_folder/__MACOSX/Training_data/wheel/._aug__0_2160.jpeg  \n",
            "  inflating: training_folder/Training_data/wheel/aug__0_1166.jpeg  \n",
            "  inflating: training_folder/__MACOSX/Training_data/wheel/._aug__0_1166.jpeg  \n",
            "  inflating: training_folder/Training_data/wheel/aug__0_993.jpeg  \n",
            "  inflating: training_folder/__MACOSX/Training_data/wheel/._aug__0_993.jpeg  \n",
            "  inflating: training_folder/Training_data/wheel/aug__0_2463.jpeg  \n",
            "  inflating: training_folder/__MACOSX/Training_data/wheel/._aug__0_2463.jpeg  \n",
            "  inflating: training_folder/Training_data/wheel/aug__0_5349.jpeg  \n",
            "  inflating: training_folder/__MACOSX/Training_data/wheel/._aug__0_5349.jpeg  \n",
            "  inflating: training_folder/Training_data/wheel/aug__0_6924.jpeg  \n",
            "  inflating: training_folder/__MACOSX/Training_data/wheel/._aug__0_6924.jpeg  \n",
            "  inflating: training_folder/Training_data/wheel/aug__0_6399.jpeg  \n",
            "  inflating: training_folder/__MACOSX/Training_data/wheel/._aug__0_6399.jpeg  \n",
            "  inflating: training_folder/Training_data/wheel/aug__0_7137.jpeg  \n",
            "  inflating: training_folder/__MACOSX/Training_data/wheel/._aug__0_7137.jpeg  \n",
            "  inflating: training_folder/Training_data/wheel/aug__0_396.jpeg  \n",
            "  inflating: training_folder/__MACOSX/Training_data/wheel/._aug__0_396.jpeg  \n",
            "  inflating: training_folder/Training_data/wheel/aug__0_3877.jpeg  \n",
            "  inflating: training_folder/__MACOSX/Training_data/wheel/._aug__0_3877.jpeg  \n",
            "  inflating: training_folder/Training_data/wheel/aug__0_9200.jpeg  \n",
            "  inflating: training_folder/__MACOSX/Training_data/wheel/._aug__0_9200.jpeg  \n",
            "  inflating: training_folder/Training_data/wheel/aug__0_2159.jpeg  \n",
            "  inflating: training_folder/__MACOSX/Training_data/wheel/._aug__0_2159.jpeg  \n",
            "  inflating: training_folder/Training_data/wheel/aug__0_5366.jpeg  \n",
            "  inflating: training_folder/__MACOSX/Training_data/wheel/._aug__0_5366.jpeg  \n",
            "  inflating: training_folder/Training_data/wheel/aug__0_8780.jpeg  \n",
            "  inflating: training_folder/__MACOSX/Training_data/wheel/._aug__0_8780.jpeg  \n",
            "  inflating: training_folder/Training_data/wheel/aug__0_142.jpeg  \n",
            "  inflating: training_folder/__MACOSX/Training_data/wheel/._aug__0_142.jpeg  \n",
            "  inflating: training_folder/Training_data/wheel/aug__0_4170.jpeg  \n",
            "  inflating: training_folder/__MACOSX/Training_data/wheel/._aug__0_4170.jpeg  \n",
            "  inflating: training_folder/Training_data/wheel/aug__0_1372.jpeg  \n",
            "  inflating: training_folder/__MACOSX/Training_data/wheel/._aug__0_1372.jpeg  \n",
            "  inflating: training_folder/Training_data/wheel/aug__0_8796.jpeg  \n",
            "  inflating: training_folder/__MACOSX/Training_data/wheel/._aug__0_8796.jpeg  \n",
            "  inflating: training_folder/Training_data/wheel/aug__0_9538.jpeg  \n",
            "  inflating: training_folder/__MACOSX/Training_data/wheel/._aug__0_9538.jpeg  \n",
            "  inflating: training_folder/Training_data/wheel/aug__0_5632.jpeg  \n",
            "  inflating: training_folder/__MACOSX/Training_data/wheel/._aug__0_5632.jpeg  \n",
            "  inflating: training_folder/Training_data/wheel/aug__0_5262.jpeg  \n",
            "  inflating: training_folder/__MACOSX/Training_data/wheel/._aug__0_5262.jpeg  \n",
            "  inflating: training_folder/Training_data/wheel/aug__0_8391.jpeg  \n",
            "  inflating: training_folder/__MACOSX/Training_data/wheel/._aug__0_8391.jpeg  \n",
            "  inflating: training_folder/Training_data/wheel/aug__0_9095.jpeg  \n",
            "  inflating: training_folder/__MACOSX/Training_data/wheel/._aug__0_9095.jpeg  \n",
            "  inflating: training_folder/Training_data/wheel/aug__0_4074.jpeg  \n",
            "  inflating: training_folder/__MACOSX/Training_data/wheel/._aug__0_4074.jpeg  \n",
            "  inflating: training_folder/Training_data/wheel/aug__0_8811.jpeg  \n",
            "  inflating: training_folder/__MACOSX/Training_data/wheel/._aug__0_8811.jpeg  \n",
            "  inflating: training_folder/Training_data/wheel/aug__0_8305.jpeg  \n",
            "  inflating: training_folder/__MACOSX/Training_data/wheel/._aug__0_8305.jpeg  \n",
            "  inflating: training_folder/Training_data/wheel/aug__0_5537.jpeg  \n",
            "  inflating: training_folder/__MACOSX/Training_data/wheel/._aug__0_5537.jpeg  \n",
            "  inflating: training_folder/Training_data/wheel/aug__0_8755.jpeg  \n",
            "  inflating: training_folder/__MACOSX/Training_data/wheel/._aug__0_8755.jpeg  \n",
            "  inflating: training_folder/Training_data/wheel/aug__0_5864.jpeg  \n",
            "  inflating: training_folder/__MACOSX/Training_data/wheel/._aug__0_5864.jpeg  \n",
            "  inflating: training_folder/Training_data/wheel/aug__0_59.jpeg  \n",
            "  inflating: training_folder/__MACOSX/Training_data/wheel/._aug__0_59.jpeg  \n",
            "  inflating: training_folder/Training_data/wheel/aug__0_1348.jpeg  \n",
            "  inflating: training_folder/__MACOSX/Training_data/wheel/._aug__0_1348.jpeg  \n",
            "  inflating: training_folder/Training_data/wheel/aug__0_3375.jpeg  \n",
            "  inflating: training_folder/__MACOSX/Training_data/wheel/._aug__0_3375.jpeg  \n",
            "  inflating: training_folder/Training_data/wheel/aug__0_8493.jpeg  \n",
            "  inflating: training_folder/__MACOSX/Training_data/wheel/._aug__0_8493.jpeg  \n",
            "  inflating: training_folder/Training_data/wheel/aug__0_7623.jpeg  \n",
            "  inflating: training_folder/__MACOSX/Training_data/wheel/._aug__0_7623.jpeg  \n",
            "  inflating: training_folder/Training_data/wheel/aug__0_1523.jpeg  \n",
            "  inflating: training_folder/__MACOSX/Training_data/wheel/._aug__0_1523.jpeg  \n",
            "  inflating: training_folder/Training_data/wheel/aug__0_5130.jpeg  \n",
            "  inflating: training_folder/__MACOSX/Training_data/wheel/._aug__0_5130.jpeg  \n",
            "  inflating: training_folder/Training_data/wheel/aug__0_8352.jpeg  \n",
            "  inflating: training_folder/__MACOSX/Training_data/wheel/._aug__0_8352.jpeg  \n",
            "  inflating: training_folder/Training_data/wheel/aug__0_8978.jpeg  \n",
            "  inflating: training_folder/__MACOSX/Training_data/wheel/._aug__0_8978.jpeg  \n",
            "  inflating: training_folder/Training_data/wheel/aug__0_5219.jpeg  \n",
            "  inflating: training_folder/__MACOSX/Training_data/wheel/._aug__0_5219.jpeg  \n",
            "  inflating: training_folder/Training_data/wheel/aug__0_1866.jpeg  \n",
            "  inflating: training_folder/__MACOSX/Training_data/wheel/._aug__0_1866.jpeg  \n",
            "  inflating: training_folder/Training_data/wheel/aug__0_8344.jpeg  \n",
            "  inflating: training_folder/__MACOSX/Training_data/wheel/._aug__0_8344.jpeg  \n",
            "  inflating: training_folder/Training_data/wheel/aug__0_4367.jpeg  \n",
            "  inflating: training_folder/__MACOSX/Training_data/wheel/._aug__0_4367.jpeg  \n",
            "  inflating: training_folder/Training_data/wheel/aug__0_9943.jpeg  \n",
            "  inflating: training_folder/__MACOSX/Training_data/wheel/._aug__0_9943.jpeg  \n",
            "  inflating: training_folder/Training_data/wheel/aug__0_9693.jpeg  \n",
            "  inflating: training_folder/__MACOSX/Training_data/wheel/._aug__0_9693.jpeg  \n",
            "  inflating: training_folder/Training_data/wheel/aug__0_3334.jpeg  \n",
            "  inflating: training_folder/__MACOSX/Training_data/wheel/._aug__0_3334.jpeg  \n",
            "  inflating: training_folder/Training_data/wheel/aug__0_7377.jpeg  \n",
            "  inflating: training_folder/__MACOSX/Training_data/wheel/._aug__0_7377.jpeg  \n",
            "  inflating: training_folder/Training_data/wheel/aug__0_139.jpeg  \n",
            "  inflating: training_folder/__MACOSX/Training_data/wheel/._aug__0_139.jpeg  \n",
            "  inflating: training_folder/Training_data/wheel/aug__0_2933.jpeg  \n",
            "  inflating: training_folder/__MACOSX/Training_data/wheel/._aug__0_2933.jpeg  \n",
            "  inflating: training_folder/Training_data/wheel/aug__0_3271.jpeg  \n",
            "  inflating: training_folder/__MACOSX/Training_data/wheel/._aug__0_3271.jpeg  \n",
            "  inflating: training_folder/Training_data/wheel/aug__0_4760.jpeg  \n",
            "  inflating: training_folder/__MACOSX/Training_data/wheel/._aug__0_4760.jpeg  \n",
            "  inflating: training_folder/Training_data/wheel/aug__0_9851.jpeg  \n",
            "  inflating: training_folder/__MACOSX/Training_data/wheel/._aug__0_9851.jpeg  \n",
            "  inflating: training_folder/Training_data/wheel/aug__0_8606.jpeg  \n",
            "  inflating: training_folder/__MACOSX/Training_data/wheel/._aug__0_8606.jpeg  \n",
            "  inflating: training_folder/Training_data/wheel/aug__0_5034.jpeg  \n",
            "  inflating: training_folder/__MACOSX/Training_data/wheel/._aug__0_5034.jpeg  \n",
            "  inflating: training_folder/Training_data/wheel/aug__0_3949.jpeg  \n",
            "  inflating: training_folder/__MACOSX/Training_data/wheel/._aug__0_3949.jpeg  \n",
            "  inflating: training_folder/Training_data/wheel/aug__0_2122.jpeg  \n",
            "  inflating: training_folder/__MACOSX/Training_data/wheel/._aug__0_2122.jpeg  \n",
            "  inflating: training_folder/Training_data/wheel/aug__0_3733.jpeg  \n",
            "  inflating: training_folder/__MACOSX/Training_data/wheel/._aug__0_3733.jpeg  \n",
            "  inflating: training_folder/Training_data/wheel/aug__0_2821.jpeg  \n",
            "  inflating: training_folder/__MACOSX/Training_data/wheel/._aug__0_2821.jpeg  \n",
            "  inflating: training_folder/Training_data/wheel/aug__0_6531.jpeg  \n",
            "  inflating: training_folder/__MACOSX/Training_data/wheel/._aug__0_6531.jpeg  \n",
            "  inflating: training_folder/Training_data/wheel/aug__0_6024.jpeg  \n",
            "  inflating: training_folder/__MACOSX/Training_data/wheel/._aug__0_6024.jpeg  \n",
            "  inflating: training_folder/Training_data/wheel/aug__0_6474.jpeg  \n",
            "  inflating: training_folder/__MACOSX/Training_data/wheel/._aug__0_6474.jpeg  \n",
            "  inflating: training_folder/Training_data/wheel/aug__0_494.jpeg  \n",
            "  inflating: training_folder/__MACOSX/Training_data/wheel/._aug__0_494.jpeg  \n",
            "  inflating: training_folder/Training_data/wheel/aug__0_119.jpeg  \n",
            "  inflating: training_folder/__MACOSX/Training_data/wheel/._aug__0_119.jpeg  \n",
            "  inflating: training_folder/Training_data/wheel/aug__0_1283.jpeg  \n",
            "  inflating: training_folder/__MACOSX/Training_data/wheel/._aug__0_1283.jpeg  \n",
            "  inflating: training_folder/Training_data/wheel/aug__0_9719.jpeg  \n",
            "  inflating: training_folder/__MACOSX/Training_data/wheel/._aug__0_9719.jpeg  \n",
            "  inflating: training_folder/Training_data/wheel/aug__0_1329.jpeg  \n",
            "  inflating: training_folder/__MACOSX/Training_data/wheel/._aug__0_1329.jpeg  \n",
            "  inflating: training_folder/Training_data/wheel/aug__0_2155.jpeg  \n",
            "  inflating: training_folder/__MACOSX/Training_data/wheel/._aug__0_2155.jpeg  \n",
            "  inflating: training_folder/Training_data/wheel/aug__0_1000.jpeg  \n",
            "  inflating: training_folder/__MACOSX/Training_data/wheel/._aug__0_1000.jpeg  \n",
            "  inflating: training_folder/Training_data/wheel/aug__0_9430.jpeg  \n",
            "  inflating: training_folder/__MACOSX/Training_data/wheel/._aug__0_9430.jpeg  \n",
            "  inflating: training_folder/Training_data/wheel/aug__0_4652.jpeg  \n",
            "  inflating: training_folder/__MACOSX/Training_data/wheel/._aug__0_4652.jpeg  \n",
            "  inflating: training_folder/Training_data/wheel/aug__0_8671.jpeg  \n",
            "  inflating: training_folder/__MACOSX/Training_data/wheel/._aug__0_8671.jpeg  \n",
            "  inflating: training_folder/Training_data/wheel/aug__0_38.jpeg  \n",
            "  inflating: training_folder/__MACOSX/Training_data/wheel/._aug__0_38.jpeg  \n",
            "  inflating: training_folder/Training_data/wheel/aug__0_5556.jpeg  \n",
            "  inflating: training_folder/__MACOSX/Training_data/wheel/._aug__0_5556.jpeg  \n",
            "  inflating: training_folder/Training_data/wheel/aug__0_2293.jpeg  \n",
            "  inflating: training_folder/__MACOSX/Training_data/wheel/._aug__0_2293.jpeg  \n",
            "  inflating: training_folder/Training_data/wheel/aug__0_3206.jpeg  \n",
            "  inflating: training_folder/__MACOSX/Training_data/wheel/._aug__0_3206.jpeg  \n",
            "  inflating: training_folder/Training_data/wheel/aug__0_6454.jpeg  \n",
            "  inflating: training_folder/__MACOSX/Training_data/wheel/._aug__0_6454.jpeg  \n",
            "  inflating: training_folder/Training_data/wheel/aug__0_772.jpeg  \n",
            "  inflating: training_folder/__MACOSX/Training_data/wheel/._aug__0_772.jpeg  \n",
            "  inflating: training_folder/Training_data/wheel/aug__0_9467.jpeg  \n",
            "  inflating: training_folder/__MACOSX/Training_data/wheel/._aug__0_9467.jpeg  \n",
            "  inflating: training_folder/Training_data/wheel/aug__0_3986.jpeg  \n",
            "  inflating: training_folder/__MACOSX/Training_data/wheel/._aug__0_3986.jpeg  \n",
            "  inflating: training_folder/Training_data/wheel/aug__0_2694.jpeg  \n",
            "  inflating: training_folder/__MACOSX/Training_data/wheel/._aug__0_2694.jpeg  \n",
            "  inflating: training_folder/Training_data/wheel/aug__0_1692.jpeg  \n",
            "  inflating: training_folder/__MACOSX/Training_data/wheel/._aug__0_1692.jpeg  \n",
            "  inflating: training_folder/Training_data/wheel/aug__0_3355.jpeg  \n",
            "  inflating: training_folder/__MACOSX/Training_data/wheel/._aug__0_3355.jpeg  \n",
            "  inflating: training_folder/Training_data/wheel/aug__0_8519.jpeg  \n",
            "  inflating: training_folder/__MACOSX/Training_data/wheel/._aug__0_8519.jpeg  \n",
            "  inflating: training_folder/Training_data/wheel/aug__0_7746.jpeg  \n",
            "  inflating: training_folder/__MACOSX/Training_data/wheel/._aug__0_7746.jpeg  \n",
            "  inflating: training_folder/Training_data/wheel/aug__0_7896.jpeg  \n",
            "  inflating: training_folder/__MACOSX/Training_data/wheel/._aug__0_7896.jpeg  \n",
            "  inflating: training_folder/Training_data/wheel/aug__0_1411.jpeg  \n",
            "  inflating: training_folder/__MACOSX/Training_data/wheel/._aug__0_1411.jpeg  \n",
            "  inflating: training_folder/Training_data/wheel/aug__0_271.jpeg  \n",
            "  inflating: training_folder/__MACOSX/Training_data/wheel/._aug__0_271.jpeg  \n",
            "  inflating: training_folder/Training_data/wheel/aug__0_4756.jpeg  \n",
            "  inflating: training_folder/__MACOSX/Training_data/wheel/._aug__0_4756.jpeg  \n",
            "  inflating: training_folder/Training_data/wheel/aug__0_7879.jpeg  \n",
            "  inflating: training_folder/__MACOSX/Training_data/wheel/._aug__0_7879.jpeg  \n",
            "  inflating: training_folder/Training_data/wheel/aug__0_8958.jpeg  \n",
            "  inflating: training_folder/__MACOSX/Training_data/wheel/._aug__0_8958.jpeg  \n",
            "  inflating: training_folder/Training_data/wheel/aug__0_2905.jpeg  \n",
            "  inflating: training_folder/__MACOSX/Training_data/wheel/._aug__0_2905.jpeg  \n",
            "  inflating: training_folder/Training_data/wheel/aug__0_5686.jpeg  \n",
            "  inflating: training_folder/__MACOSX/Training_data/wheel/._aug__0_5686.jpeg  \n",
            "  inflating: training_folder/Training_data/wheel/aug__0_3302.jpeg  \n",
            "  inflating: training_folder/__MACOSX/Training_data/wheel/._aug__0_3302.jpeg  \n",
            "  inflating: training_folder/Training_data/wheel/aug__0_9975.jpeg  \n",
            "  inflating: training_folder/__MACOSX/Training_data/wheel/._aug__0_9975.jpeg  \n",
            "  inflating: training_folder/Training_data/wheel/aug__0_226.jpeg  \n",
            "  inflating: training_folder/__MACOSX/Training_data/wheel/._aug__0_226.jpeg  \n",
            "  inflating: training_folder/Training_data/wheel/aug__0_8372.jpeg  \n",
            "  inflating: training_folder/__MACOSX/Training_data/wheel/._aug__0_8372.jpeg  \n",
            "  inflating: training_folder/Training_data/wheel/aug__0_1850.jpeg  \n",
            "  inflating: training_folder/__MACOSX/Training_data/wheel/._aug__0_1850.jpeg  \n",
            "  inflating: training_folder/Training_data/wheel/aug__0_898.jpeg  \n",
            "  inflating: training_folder/__MACOSX/Training_data/wheel/._aug__0_898.jpeg  \n",
            "  inflating: training_folder/Training_data/wheel/aug__0_4003.jpeg  \n",
            "  inflating: training_folder/__MACOSX/Training_data/wheel/._aug__0_4003.jpeg  \n",
            "  inflating: training_folder/Training_data/wheel/aug__0_9631.jpeg  \n",
            "  inflating: training_folder/__MACOSX/Training_data/wheel/._aug__0_9631.jpeg  \n",
            "  inflating: training_folder/Training_data/wheel/aug__0_4453.jpeg  \n",
            "  inflating: training_folder/__MACOSX/Training_data/wheel/._aug__0_4453.jpeg  \n",
            "  inflating: training_folder/Training_data/wheel/aug__0_2587.jpeg  \n",
            "  inflating: training_folder/__MACOSX/Training_data/wheel/._aug__0_2587.jpeg  \n",
            "  inflating: training_folder/Training_data/wheel/aug__0_1082.jpeg  \n",
            "  inflating: training_folder/__MACOSX/Training_data/wheel/._aug__0_1082.jpeg  \n",
            "  inflating: training_folder/Training_data/wheel/aug__0_3545.jpeg  \n",
            "  inflating: training_folder/__MACOSX/Training_data/wheel/._aug__0_3545.jpeg  \n",
            "  inflating: training_folder/Training_data/wheel/aug__0_9148.jpeg  \n",
            "  inflating: training_folder/__MACOSX/Training_data/wheel/._aug__0_9148.jpeg  \n",
            "  inflating: training_folder/Training_data/wheel/aug__0_4812.jpeg  \n",
            "  inflating: training_folder/__MACOSX/Training_data/wheel/._aug__0_4812.jpeg  \n",
            "  inflating: training_folder/Training_data/wheel/aug__0_7382.jpeg  \n",
            "  inflating: training_folder/__MACOSX/Training_data/wheel/._aug__0_7382.jpeg  \n",
            "  inflating: training_folder/Training_data/wheel/aug__0_9666.jpeg  \n",
            "  inflating: training_folder/__MACOSX/Training_data/wheel/._aug__0_9666.jpeg  \n",
            "  inflating: training_folder/Training_data/wheel/aug__0_2303.jpeg  \n",
            "  inflating: training_folder/__MACOSX/Training_data/wheel/._aug__0_2303.jpeg  \n",
            "  inflating: training_folder/Training_data/wheel/aug__0_5995.jpeg  \n",
            "  inflating: training_folder/__MACOSX/Training_data/wheel/._aug__0_5995.jpeg  \n",
            "  inflating: training_folder/Training_data/wheel/aug__0_4668.jpeg  \n",
            "  inflating: training_folder/__MACOSX/Training_data/wheel/._aug__0_4668.jpeg  \n",
            "  inflating: training_folder/Training_data/wheel/aug__0_2483.jpeg  \n",
            "  inflating: training_folder/__MACOSX/Training_data/wheel/._aug__0_2483.jpeg  \n",
            "  inflating: training_folder/Training_data/wheel/aug__0_1305.jpeg  \n",
            "  inflating: training_folder/__MACOSX/Training_data/wheel/._aug__0_1305.jpeg  \n",
            "  inflating: training_folder/Training_data/wheel/aug__0_973.jpeg  \n",
            "  inflating: training_folder/__MACOSX/Training_data/wheel/._aug__0_973.jpeg  \n",
            "  inflating: training_folder/Training_data/wheel/aug__0_4042.jpeg  \n",
            "  inflating: training_folder/__MACOSX/Training_data/wheel/._aug__0_4042.jpeg  \n",
            "  inflating: training_folder/Training_data/wheel/aug__0_1240.jpeg  \n",
            "  inflating: training_folder/__MACOSX/Training_data/wheel/._aug__0_1240.jpeg  \n",
            "  inflating: training_folder/Training_data/wheel/aug__0_5653.jpeg  \n",
            "  inflating: training_folder/__MACOSX/Training_data/wheel/._aug__0_5653.jpeg  \n",
            "  inflating: training_folder/Training_data/wheel/aug__0_7117.jpeg  \n",
            "  inflating: training_folder/__MACOSX/Training_data/wheel/._aug__0_7117.jpeg  \n",
            "  inflating: training_folder/Training_data/wheel/aug__0_1885.jpeg  \n",
            "  inflating: training_folder/__MACOSX/Training_data/wheel/._aug__0_1885.jpeg  \n",
            "  inflating: training_folder/Training_data/wheel/aug__0_7402.jpeg  \n",
            "  inflating: training_folder/__MACOSX/Training_data/wheel/._aug__0_7402.jpeg  \n",
            "  inflating: training_folder/Training_data/wheel/aug__0_1186.jpeg  \n",
            "  inflating: training_folder/__MACOSX/Training_data/wheel/._aug__0_1186.jpeg  \n",
            "  inflating: training_folder/Training_data/wheel/aug__0_4150.jpeg  \n",
            "  inflating: training_folder/__MACOSX/Training_data/wheel/._aug__0_4150.jpeg  \n",
            "  inflating: training_folder/Training_data/wheel/aug__0_2987.jpeg  \n",
            "  inflating: training_folder/__MACOSX/Training_data/wheel/._aug__0_2987.jpeg  \n",
            "  inflating: training_folder/Training_data/wheel/aug__0_8466.jpeg  \n",
            "  inflating: training_folder/__MACOSX/Training_data/wheel/._aug__0_8466.jpeg  \n",
            "  inflating: training_folder/Training_data/wheel/aug__0_5254.jpeg  \n",
            "  inflating: training_folder/__MACOSX/Training_data/wheel/._aug__0_5254.jpeg  \n",
            "  inflating: training_folder/Training_data/wheel/aug__0_1647.jpeg  \n",
            "  inflating: training_folder/__MACOSX/Training_data/wheel/._aug__0_1647.jpeg  \n",
            "  inflating: training_folder/Training_data/wheel/aug__0_9627.jpeg  \n",
            "  inflating: training_folder/__MACOSX/Training_data/wheel/._aug__0_9627.jpeg  \n",
            "  inflating: training_folder/Training_data/wheel/aug__0_4015.jpeg  \n",
            "  inflating: training_folder/__MACOSX/Training_data/wheel/._aug__0_4015.jpeg  \n",
            "  inflating: training_folder/Training_data/wheel/aug__0_1094.jpeg  \n",
            "  inflating: training_folder/__MACOSX/Training_data/wheel/._aug__0_1094.jpeg  \n",
            "  inflating: training_folder/Training_data/wheel/aug__0_4783.jpeg  \n",
            "  inflating: training_folder/__MACOSX/Training_data/wheel/._aug__0_4783.jpeg  \n",
            "  inflating: training_folder/Training_data/wheel/aug__0_7906.jpeg  \n",
            "  inflating: training_folder/__MACOSX/Training_data/wheel/._aug__0_7906.jpeg  \n",
            "  inflating: training_folder/Training_data/wheel/aug__0_5468.jpeg  \n",
            "  inflating: training_folder/__MACOSX/Training_data/wheel/._aug__0_5468.jpeg  \n",
            "  inflating: training_folder/Training_data/wheel/aug__0_3945.jpeg  \n",
            "  inflating: training_folder/__MACOSX/Training_data/wheel/._aug__0_3945.jpeg  \n",
            "  inflating: training_folder/Training_data/wheel/aug__0_7907.jpeg  \n",
            "  inflating: training_folder/__MACOSX/Training_data/wheel/._aug__0_7907.jpeg  \n",
            "  inflating: training_folder/Training_data/wheel/aug__0_3694.jpeg  \n",
            "  inflating: training_folder/__MACOSX/Training_data/wheel/._aug__0_3694.jpeg  \n",
            "  inflating: training_folder/Training_data/wheel/aug__0_8172.jpeg  \n",
            "  inflating: training_folder/__MACOSX/Training_data/wheel/._aug__0_8172.jpeg  \n",
            "  inflating: training_folder/Training_data/wheel/aug__0_8037.jpeg  \n",
            "  inflating: training_folder/__MACOSX/Training_data/wheel/._aug__0_8037.jpeg  \n",
            "  inflating: training_folder/Training_data/wheel/aug__0_860.jpeg  \n",
            "  inflating: training_folder/__MACOSX/Training_data/wheel/._aug__0_860.jpeg  \n",
            "  inflating: training_folder/Training_data/wheel/aug__0_1492.jpeg  \n",
            "  inflating: training_folder/__MACOSX/Training_data/wheel/._aug__0_1492.jpeg  \n",
            "  inflating: training_folder/Training_data/wheel/aug__0_8719.jpeg  \n",
            "  inflating: training_folder/__MACOSX/Training_data/wheel/._aug__0_8719.jpeg  \n",
            "  inflating: training_folder/Training_data/wheel/aug__0_5594.jpeg  \n",
            "  inflating: training_folder/__MACOSX/Training_data/wheel/._aug__0_5594.jpeg  \n",
            "  inflating: training_folder/Training_data/wheel/aug__0_7053.jpeg  \n",
            "  inflating: training_folder/__MACOSX/Training_data/wheel/._aug__0_7053.jpeg  \n",
            "  inflating: training_folder/Training_data/wheel/aug__0_2601.jpeg  \n",
            "  inflating: training_folder/__MACOSX/Training_data/wheel/._aug__0_2601.jpeg  \n",
            "  inflating: training_folder/Training_data/wheel/aug__0_7403.jpeg  \n",
            "  inflating: training_folder/__MACOSX/Training_data/wheel/._aug__0_7403.jpeg  \n",
            "  inflating: training_folder/Training_data/wheel/aug__0_6212.jpeg  \n",
            "  inflating: training_folder/__MACOSX/Training_data/wheel/._aug__0_6212.jpeg  \n",
            "  inflating: training_folder/Training_data/wheel/aug__0_9671.jpeg  \n",
            "  inflating: training_folder/__MACOSX/Training_data/wheel/._aug__0_9671.jpeg  \n",
            "  inflating: training_folder/Training_data/wheel/aug__0_6584.jpeg  \n",
            "  inflating: training_folder/__MACOSX/Training_data/wheel/._aug__0_6584.jpeg  \n",
            "  inflating: training_folder/Training_data/wheel/aug__0_837.jpeg  \n",
            "  inflating: training_folder/__MACOSX/Training_data/wheel/._aug__0_837.jpeg  \n",
            "  inflating: training_folder/Training_data/wheel/aug__0_5652.jpeg  \n",
            "  inflating: training_folder/__MACOSX/Training_data/wheel/._aug__0_5652.jpeg  \n",
            "  inflating: training_folder/Training_data/wheel/aug__0_3513.jpeg  \n",
            "  inflating: training_folder/__MACOSX/Training_data/wheel/._aug__0_3513.jpeg  \n",
            "  inflating: training_folder/Training_data/wheel/aug__0_2617.jpeg  \n",
            "  inflating: training_folder/__MACOSX/Training_data/wheel/._aug__0_2617.jpeg  \n",
            "  inflating: training_folder/Training_data/wheel/aug__0_1892.jpeg  \n",
            "  inflating: training_folder/__MACOSX/Training_data/wheel/._aug__0_1892.jpeg  \n",
            "  inflating: training_folder/Training_data/wheel/aug__0_3285.jpeg  \n",
            "  inflating: training_folder/__MACOSX/Training_data/wheel/._aug__0_3285.jpeg  \n",
            "  inflating: training_folder/Training_data/wheel/aug__0_4110.jpeg  \n",
            "  inflating: training_folder/__MACOSX/Training_data/wheel/._aug__0_4110.jpeg  \n",
            "  inflating: training_folder/Training_data/wheel/aug__0_9722.jpeg  \n",
            "  inflating: training_folder/__MACOSX/Training_data/wheel/._aug__0_9722.jpeg  \n",
            "  inflating: training_folder/Training_data/wheel/aug__0_8426.jpeg  \n",
            "  inflating: training_folder/__MACOSX/Training_data/wheel/._aug__0_8426.jpeg  \n",
            "  inflating: training_folder/Training_data/wheel/aug__0_1607.jpeg  \n",
            "  inflating: training_folder/__MACOSX/Training_data/wheel/._aug__0_1607.jpeg  \n",
            "  inflating: training_folder/Training_data/wheel/aug__0_6438.jpeg  \n",
            "  inflating: training_folder/__MACOSX/Training_data/wheel/._aug__0_6438.jpeg  \n",
            "  inflating: training_folder/Training_data/wheel/aug__0_5869.jpeg  \n",
            "  inflating: training_folder/__MACOSX/Training_data/wheel/._aug__0_5869.jpeg  \n",
            "  inflating: training_folder/Training_data/wheel/aug__0_6316.jpeg  \n",
            "  inflating: training_folder/__MACOSX/Training_data/wheel/._aug__0_6316.jpeg  \n",
            "  inflating: training_folder/Training_data/wheel/aug__0_7157.jpeg  \n",
            "  inflating: training_folder/__MACOSX/Training_data/wheel/._aug__0_7157.jpeg  \n",
            "  inflating: training_folder/Training_data/wheel/aug__0_7507.jpeg  \n",
            "  inflating: training_folder/__MACOSX/Training_data/wheel/._aug__0_7507.jpeg  \n",
            "  inflating: training_folder/Training_data/wheel/aug__0_2705.jpeg  \n",
            "  inflating: training_folder/__MACOSX/Training_data/wheel/._aug__0_2705.jpeg  \n",
            "  inflating: training_folder/Training_data/wheel/aug__0_3401.jpeg  \n",
            "  inflating: training_folder/__MACOSX/Training_data/wheel/._aug__0_3401.jpeg  \n",
            "  inflating: training_folder/Training_data/wheel/aug__0_4794.jpeg  \n",
            "  inflating: training_folder/__MACOSX/Training_data/wheel/._aug__0_4794.jpeg  \n",
            "  inflating: training_folder/Training_data/wheel/aug__0_8534.jpeg  \n",
            "  inflating: training_folder/__MACOSX/Training_data/wheel/._aug__0_8534.jpeg  \n",
            "  inflating: training_folder/Training_data/wheel/aug__0_9325.jpeg  \n",
            "  inflating: training_folder/__MACOSX/Training_data/wheel/._aug__0_9325.jpeg  \n",
            "  inflating: training_folder/Training_data/wheel/aug__0_4452.jpeg  \n",
            "  inflating: training_folder/__MACOSX/Training_data/wheel/._aug__0_4452.jpeg  \n",
            "  inflating: training_folder/Training_data/wheel/aug__0_876.jpeg  \n",
            "  inflating: training_folder/__MACOSX/Training_data/wheel/._aug__0_876.jpeg  \n",
            "  inflating: training_folder/Training_data/wheel/aug__0_5957.jpeg  \n",
            "  inflating: training_folder/__MACOSX/Training_data/wheel/._aug__0_5957.jpeg  \n",
            "  inflating: training_folder/Training_data/wheel/aug__0_7985.jpeg  \n",
            "  inflating: training_folder/__MACOSX/Training_data/wheel/._aug__0_7985.jpeg  \n",
            "  inflating: training_folder/Training_data/wheel/aug__0_8723.jpeg  \n",
            "  inflating: training_folder/__MACOSX/Training_data/wheel/._aug__0_8723.jpeg  \n",
            "  inflating: training_folder/Training_data/wheel/aug__0_1851.jpeg  \n",
            "  inflating: training_folder/__MACOSX/Training_data/wheel/._aug__0_1851.jpeg  \n",
            "  inflating: training_folder/Training_data/wheel/aug__0_1781.jpeg  \n",
            "  inflating: training_folder/__MACOSX/Training_data/wheel/._aug__0_1781.jpeg  \n",
            "  inflating: training_folder/Training_data/wheel/aug__0_6414.jpeg  \n",
            "  inflating: training_folder/__MACOSX/Training_data/wheel/._aug__0_6414.jpeg  \n",
            "  inflating: training_folder/Training_data/wheel/aug__0_2457.jpeg  \n",
            "  inflating: training_folder/__MACOSX/Training_data/wheel/._aug__0_2457.jpeg  \n",
            "  inflating: training_folder/Training_data/wheel/aug__0_2512.jpeg  \n",
            "  inflating: training_folder/__MACOSX/Training_data/wheel/._aug__0_2512.jpeg  \n",
            "  inflating: training_folder/Training_data/wheel/aug__0_2142.jpeg  \n",
            "  inflating: training_folder/__MACOSX/Training_data/wheel/._aug__0_2142.jpeg  \n",
            "  inflating: training_folder/Training_data/wheel/aug__0_7340.jpeg  \n",
            "  inflating: training_folder/__MACOSX/Training_data/wheel/._aug__0_7340.jpeg  \n",
            "  inflating: training_folder/Training_data/wheel/aug__0_6101.jpeg  \n",
            "  inflating: training_folder/__MACOSX/Training_data/wheel/._aug__0_6101.jpeg  \n",
            "  inflating: training_folder/Training_data/wheel/aug__0_270.jpeg  \n",
            "  inflating: training_folder/__MACOSX/Training_data/wheel/._aug__0_270.jpeg  \n",
            "  inflating: training_folder/Training_data/wheel/aug__0_3092.jpeg  \n",
            "  inflating: training_folder/__MACOSX/Training_data/wheel/._aug__0_3092.jpeg  \n",
            "  inflating: training_folder/Training_data/wheel/aug__0_4757.jpeg  \n",
            "  inflating: training_folder/__MACOSX/Training_data/wheel/._aug__0_4757.jpeg  \n",
            "  inflating: training_folder/Training_data/wheel/aug__0_1693.jpeg  \n",
            "  inflating: training_folder/__MACOSX/Training_data/wheel/._aug__0_1693.jpeg  \n",
            "  inflating: training_folder/Training_data/wheel/aug__0_6156.jpeg  \n",
            "  inflating: training_folder/__MACOSX/Training_data/wheel/._aug__0_6156.jpeg  \n",
            "  inflating: training_folder/Training_data/wheel/aug__0_1369.jpeg  \n",
            "  inflating: training_folder/__MACOSX/Training_data/wheel/._aug__0_1369.jpeg  \n",
            "  inflating: training_folder/Training_data/wheel/aug__0_3354.jpeg  \n",
            "  inflating: training_folder/__MACOSX/Training_data/wheel/._aug__0_3354.jpeg  \n",
            "  inflating: training_folder/Training_data/wheel/aug__0_4604.jpeg  \n",
            "  inflating: training_folder/__MACOSX/Training_data/wheel/._aug__0_4604.jpeg  \n",
            "  inflating: training_folder/Training_data/wheel/aug__0_1113.jpeg  \n",
            "  inflating: training_folder/__MACOSX/Training_data/wheel/._aug__0_1113.jpeg  \n",
            "  inflating: training_folder/Training_data/wheel/aug__0_4038.jpeg  \n",
            "  inflating: training_folder/__MACOSX/Training_data/wheel/._aug__0_4038.jpeg  \n",
            "  inflating: training_folder/Training_data/wheel/aug__0_6455.jpeg  \n",
            "  inflating: training_folder/__MACOSX/Training_data/wheel/._aug__0_6455.jpeg  \n",
            "  inflating: training_folder/Training_data/wheel/aug__0_3657.jpeg  \n",
            "  inflating: training_folder/__MACOSX/Training_data/wheel/._aug__0_3657.jpeg  \n",
            "  inflating: training_folder/Training_data/wheel/aug__0_5279.jpeg  \n",
            "  inflating: training_folder/__MACOSX/Training_data/wheel/._aug__0_5279.jpeg  \n",
            "  inflating: training_folder/Training_data/wheel/aug__0_909.jpeg  \n",
            "  inflating: training_folder/__MACOSX/Training_data/wheel/._aug__0_909.jpeg  \n",
            "  inflating: training_folder/Training_data/wheel/aug__0_2787.jpeg  \n",
            "  inflating: training_folder/__MACOSX/Training_data/wheel/._aug__0_2787.jpeg  \n",
            "  inflating: training_folder/Training_data/wheel/aug__0_1514.jpeg  \n",
            "  inflating: training_folder/__MACOSX/Training_data/wheel/._aug__0_1514.jpeg  \n",
            "  inflating: training_folder/Training_data/wheel/aug__0_1778.jpeg  \n",
            "  inflating: training_folder/__MACOSX/Training_data/wheel/._aug__0_1778.jpeg  \n",
            "  inflating: training_folder/Training_data/wheel/aug__0_3315.jpeg  \n",
            "  inflating: training_folder/__MACOSX/Training_data/wheel/._aug__0_3315.jpeg  \n",
            "  inflating: training_folder/Training_data/wheel/aug__0_7706.jpeg  \n",
            "  inflating: training_folder/__MACOSX/Training_data/wheel/._aug__0_7706.jpeg  \n",
            "  inflating: training_folder/Training_data/wheel/aug__0_2504.jpeg  \n",
            "  inflating: training_folder/__MACOSX/Training_data/wheel/._aug__0_2504.jpeg  \n",
            "  inflating: training_folder/Training_data/wheel/aug__0_3227.jpeg  \n",
            "  inflating: training_folder/__MACOSX/Training_data/wheel/._aug__0_3227.jpeg  \n",
            "  inflating: training_folder/Training_data/wheel/aug__0_3948.jpeg  \n",
            "  inflating: training_folder/__MACOSX/Training_data/wheel/._aug__0_3948.jpeg  \n",
            "  inflating: training_folder/Training_data/wheel/aug__0_6249.jpeg  \n",
            "  inflating: training_folder/__MACOSX/Training_data/wheel/._aug__0_6249.jpeg  \n",
            "  inflating: training_folder/Training_data/wheel/aug__0_6588.jpeg  \n",
            "  inflating: training_folder/__MACOSX/Training_data/wheel/._aug__0_6588.jpeg  \n",
            "  inflating: training_folder/Training_data/wheel/aug__0_2898.jpeg  \n",
            "  inflating: training_folder/__MACOSX/Training_data/wheel/._aug__0_2898.jpeg  \n",
            "  inflating: training_folder/Training_data/wheel/aug__0_4366.jpeg  \n",
            "  inflating: training_folder/__MACOSX/Training_data/wheel/._aug__0_4366.jpeg  \n",
            "  inflating: training_folder/Training_data/wheel/aug__0_9041.jpeg  \n",
            "  inflating: training_folder/__MACOSX/Training_data/wheel/._aug__0_9041.jpeg  \n",
            "  inflating: training_folder/Training_data/wheel/aug__0_704.jpeg  \n",
            "  inflating: training_folder/__MACOSX/Training_data/wheel/._aug__0_704.jpeg  \n",
            "  inflating: training_folder/Training_data/wheel/aug__0_5062.jpeg  \n",
            "  inflating: training_folder/__MACOSX/Training_data/wheel/._aug__0_5062.jpeg  \n",
            "  inflating: training_folder/Training_data/wheel/aug__0_7730.jpeg  \n",
            "  inflating: training_folder/__MACOSX/Training_data/wheel/._aug__0_7730.jpeg  \n",
            "  inflating: training_folder/Training_data/wheel/aug__0_2861.jpeg  \n",
            "  inflating: training_folder/__MACOSX/Training_data/wheel/._aug__0_2861.jpeg  \n",
            "  inflating: training_folder/Training_data/wheel/aug__0_6434.jpeg  \n",
            "  inflating: training_folder/__MACOSX/Training_data/wheel/._aug__0_6434.jpeg  \n",
            "  inflating: training_folder/Training_data/wheel/aug__0_4409.jpeg  \n",
            "  inflating: training_folder/__MACOSX/Training_data/wheel/._aug__0_4409.jpeg  \n",
            "  inflating: training_folder/Training_data/wheel/aug__0_2477.jpeg  \n",
            "  inflating: training_folder/__MACOSX/Training_data/wheel/._aug__0_2477.jpeg  \n",
            "  inflating: training_folder/Training_data/wheel/aug__0_5218.jpeg  \n",
            "  inflating: training_folder/__MACOSX/Training_data/wheel/._aug__0_5218.jpeg  \n",
            "  inflating: training_folder/Training_data/wheel/aug__0_2027.jpeg  \n",
            "  inflating: training_folder/__MACOSX/Training_data/wheel/._aug__0_2027.jpeg  \n",
            "  inflating: training_folder/Training_data/wheel/aug__0_4665.jpeg  \n",
            "  inflating: training_folder/__MACOSX/Training_data/wheel/._aug__0_4665.jpeg  \n",
            "  inflating: training_folder/Training_data/wheel/aug__0_3724.jpeg  \n",
            "  inflating: training_folder/__MACOSX/Training_data/wheel/._aug__0_3724.jpeg  \n",
            "  inflating: training_folder/Training_data/wheel/aug__0_3374.jpeg  \n",
            "  inflating: training_folder/__MACOSX/Training_data/wheel/._aug__0_3374.jpeg  \n",
            "  inflating: training_folder/Training_data/wheel/aug__0_8538.jpeg  \n",
            "  inflating: training_folder/__MACOSX/Training_data/wheel/._aug__0_8538.jpeg  \n",
            "  inflating: training_folder/Training_data/wheel/aug__0_6875.jpeg  \n",
            "  inflating: training_folder/__MACOSX/Training_data/wheel/._aug__0_6875.jpeg  \n",
            "  inflating: training_folder/Training_data/wheel/aug__0_6930.jpeg  \n",
            "  inflating: training_folder/__MACOSX/Training_data/wheel/._aug__0_6930.jpeg  \n",
            "  inflating: training_folder/Training_data/wheel/aug__0_6033.jpeg  \n",
            "  inflating: training_folder/__MACOSX/Training_data/wheel/._aug__0_6033.jpeg  \n",
            "  inflating: training_folder/Training_data/wheel/aug__0_3548.jpeg  \n",
            "  inflating: training_folder/__MACOSX/Training_data/wheel/._aug__0_3548.jpeg  \n",
            "  inflating: training_folder/Training_data/wheel/aug__0_9450.jpeg  \n",
            "  inflating: training_folder/__MACOSX/Training_data/wheel/._aug__0_9450.jpeg  \n",
            "  inflating: training_folder/Training_data/wheel/aug__0_7209.jpeg  \n",
            "  inflating: training_folder/__MACOSX/Training_data/wheel/._aug__0_7209.jpeg  \n",
            "  inflating: training_folder/Training_data/wheel/aug__0_552.jpeg  \n",
            "  inflating: training_folder/__MACOSX/Training_data/wheel/._aug__0_552.jpeg  \n",
            "  inflating: training_folder/Training_data/wheel/aug__0_2908.jpeg  \n",
            "  inflating: training_folder/__MACOSX/Training_data/wheel/._aug__0_2908.jpeg  \n",
            "  inflating: training_folder/Training_data/wheel/aug__0_1277.jpeg  \n",
            "  inflating: training_folder/__MACOSX/Training_data/wheel/._aug__0_1277.jpeg  \n",
            "  inflating: training_folder/Training_data/wheel/aug__0_417.jpeg  \n",
            "  inflating: training_folder/__MACOSX/Training_data/wheel/._aug__0_417.jpeg  \n",
            "  inflating: training_folder/Training_data/wheel/aug__0_8113.jpeg  \n",
            "  inflating: training_folder/__MACOSX/Training_data/wheel/._aug__0_8113.jpeg  \n",
            "  inflating: training_folder/Training_data/wheel/aug__0_3925.jpeg  \n",
            "  inflating: training_folder/__MACOSX/Training_data/wheel/._aug__0_3925.jpeg  \n",
            "  inflating: training_folder/Training_data/wheel/aug__0_694.jpeg  \n",
            "  inflating: training_folder/__MACOSX/Training_data/wheel/._aug__0_694.jpeg  \n",
            "  inflating: training_folder/Training_data/wheel/aug__0_381.jpeg  \n",
            "  inflating: training_folder/__MACOSX/Training_data/wheel/._aug__0_381.jpeg  \n",
            "  inflating: training_folder/Training_data/wheel/aug__0_4188.jpeg  \n",
            "  inflating: training_folder/__MACOSX/Training_data/wheel/._aug__0_4188.jpeg  \n",
            "  inflating: training_folder/Training_data/wheel/aug__0_5633.jpeg  \n",
            "  inflating: training_folder/__MACOSX/Training_data/wheel/._aug__0_5633.jpeg  \n",
            "  inflating: training_folder/Training_data/wheel/aug__0_3358.jpeg  \n",
            "  inflating: training_folder/__MACOSX/Training_data/wheel/._aug__0_3358.jpeg  \n",
            "  inflating: training_folder/Training_data/wheel/aug__0_7462.jpeg  \n",
            "  inflating: training_folder/__MACOSX/Training_data/wheel/._aug__0_7462.jpeg  \n",
            "  inflating: training_folder/Training_data/wheel/aug__0_3071.jpeg  \n",
            "  inflating: training_folder/__MACOSX/Training_data/wheel/._aug__0_3071.jpeg  \n",
            "  inflating: training_folder/Training_data/wheel/aug__0_3134.jpeg  \n",
            "  inflating: training_folder/__MACOSX/Training_data/wheel/._aug__0_3134.jpeg  \n",
            "  inflating: training_folder/Training_data/wheel/aug__0_2375.jpeg  \n",
            "  inflating: training_folder/__MACOSX/Training_data/wheel/._aug__0_2375.jpeg  \n",
            "  inflating: training_folder/Training_data/wheel/aug__0_8328.jpeg  \n",
            "  inflating: training_folder/__MACOSX/Training_data/wheel/._aug__0_8328.jpeg  \n",
            "  inflating: training_folder/Training_data/wheel/aug__0_6459.jpeg  \n",
            "  inflating: training_folder/__MACOSX/Training_data/wheel/._aug__0_6459.jpeg  \n",
            "  inflating: training_folder/Training_data/wheel/aug__0_1236.jpeg  \n",
            "  inflating: training_folder/__MACOSX/Training_data/wheel/._aug__0_1236.jpeg  \n",
            "  inflating: training_folder/Training_data/wheel/aug__0_6009.jpeg  \n",
            "  inflating: training_folder/__MACOSX/Training_data/wheel/._aug__0_6009.jpeg  \n",
            "  inflating: training_folder/Training_data/wheel/aug__0_1723.jpeg  \n",
            "  inflating: training_folder/__MACOSX/Training_data/wheel/._aug__0_1723.jpeg  \n",
            "  inflating: training_folder/Training_data/wheel/aug__0_1689.jpeg  \n",
            "  inflating: training_folder/__MACOSX/Training_data/wheel/._aug__0_1689.jpeg  \n",
            "  inflating: training_folder/Training_data/wheel/aug__0_456.jpeg  \n",
            "  inflating: training_folder/__MACOSX/Training_data/wheel/._aug__0_456.jpeg  \n",
            "  inflating: training_folder/Training_data/wheel/aug__0_62.jpeg  \n",
            "  inflating: training_folder/__MACOSX/Training_data/wheel/._aug__0_62.jpeg  \n",
            "  inflating: training_folder/Training_data/wheel/aug__0_2699.jpeg  \n",
            "  inflating: training_folder/__MACOSX/Training_data/wheel/._aug__0_2699.jpeg  \n",
            "  inflating: training_folder/Training_data/wheel/aug__0_3088.jpeg  \n",
            "  inflating: training_folder/__MACOSX/Training_data/wheel/._aug__0_3088.jpeg  \n",
            "  inflating: training_folder/Training_data/wheel/aug__0_4433.jpeg  \n",
            "  inflating: training_folder/__MACOSX/Training_data/wheel/._aug__0_4433.jpeg  \n",
            "  inflating: training_folder/Training_data/wheel/aug__0_8040.jpeg  \n",
            "  inflating: training_folder/__MACOSX/Training_data/wheel/._aug__0_8040.jpeg  \n",
            "  inflating: training_folder/Training_data/wheel/aug__0_8806.jpeg  \n",
            "  inflating: training_folder/__MACOSX/Training_data/wheel/._aug__0_8806.jpeg  \n",
            "  inflating: training_folder/Training_data/wheel/aug__0_4576.jpeg  \n",
            "  inflating: training_folder/__MACOSX/Training_data/wheel/._aug__0_4576.jpeg  \n",
            "  inflating: training_folder/Training_data/wheel/aug__0_2621.jpeg  \n",
            "  inflating: training_folder/__MACOSX/Training_data/wheel/._aug__0_2621.jpeg  \n",
            "  inflating: training_folder/Training_data/wheel/aug__0_397.jpeg  \n",
            "  inflating: training_folder/__MACOSX/Training_data/wheel/._aug__0_397.jpeg  \n",
            "  inflating: training_folder/Training_data/wheel/aug__0_7566.jpeg  \n",
            "  inflating: training_folder/__MACOSX/Training_data/wheel/._aug__0_7566.jpeg  \n",
            "  inflating: training_folder/Training_data/wheel/aug__0_4068.jpeg  \n",
            "  inflating: training_folder/__MACOSX/Training_data/wheel/._aug__0_4068.jpeg  \n",
            "  inflating: training_folder/Training_data/wheel/aug__0_5229.jpeg  \n",
            "  inflating: training_folder/__MACOSX/Training_data/wheel/._aug__0_5229.jpeg  \n",
            "  inflating: training_folder/Training_data/wheel/aug__0_4984.jpeg  \n",
            "  inflating: training_folder/__MACOSX/Training_data/wheel/._aug__0_4984.jpeg  \n",
            "  inflating: training_folder/Training_data/wheel/aug__0_3938.jpeg  \n",
            "  inflating: training_folder/__MACOSX/Training_data/wheel/._aug__0_3938.jpeg  \n",
            "  inflating: training_folder/Training_data/wheel/aug__0_373.jpeg  \n",
            "  inflating: training_folder/__MACOSX/Training_data/wheel/._aug__0_373.jpeg  \n",
            "  inflating: training_folder/Training_data/wheel/aug__0_689.jpeg  \n",
            "  inflating: training_folder/__MACOSX/Training_data/wheel/._aug__0_689.jpeg  \n",
            "  inflating: training_folder/Training_data/wheel/aug__0_3892.jpeg  \n",
            "  inflating: training_folder/__MACOSX/Training_data/wheel/._aug__0_3892.jpeg  \n",
            "  inflating: training_folder/Training_data/wheel/aug__0_5803.jpeg  \n",
            "  inflating: training_folder/__MACOSX/Training_data/wheel/._aug__0_5803.jpeg  \n",
            "  inflating: training_folder/Training_data/wheel/aug__0_7097.jpeg  \n",
            "  inflating: training_folder/__MACOSX/Training_data/wheel/._aug__0_7097.jpeg  \n",
            "  inflating: training_folder/Training_data/wheel/aug__0_2411.jpeg  \n",
            "  inflating: training_folder/__MACOSX/Training_data/wheel/._aug__0_2411.jpeg  \n",
            "  inflating: training_folder/Training_data/wheel/aug__0_2041.jpeg  \n",
            "  inflating: training_folder/__MACOSX/Training_data/wheel/._aug__0_2041.jpeg  \n",
            "  inflating: training_folder/Training_data/wheel/aug__0_7243.jpeg  \n",
            "  inflating: training_folder/__MACOSX/Training_data/wheel/._aug__0_7243.jpeg  \n",
            "  inflating: training_folder/Training_data/wheel/aug__0_6517.jpeg  \n",
            "  inflating: training_folder/__MACOSX/Training_data/wheel/._aug__0_6517.jpeg  \n",
            "  inflating: training_folder/Training_data/wheel/aug__0_7886.jpeg  \n",
            "  inflating: training_folder/__MACOSX/Training_data/wheel/._aug__0_7886.jpeg  \n",
            "  inflating: training_folder/Training_data/wheel/aug__0_9898.jpeg  \n",
            "  inflating: training_folder/__MACOSX/Training_data/wheel/._aug__0_9898.jpeg  \n",
            "  inflating: training_folder/Training_data/wheel/aug__0_3980.jpeg  \n",
            "  inflating: training_folder/__MACOSX/Training_data/wheel/._aug__0_3980.jpeg  \n",
            "  inflating: training_folder/Training_data/wheel/aug__0_1381.jpeg  \n",
            "  inflating: training_folder/__MACOSX/Training_data/wheel/._aug__0_1381.jpeg  \n",
            "  inflating: training_folder/Training_data/wheel/aug__0_4183.jpeg  \n",
            "  inflating: training_folder/__MACOSX/Training_data/wheel/._aug__0_4183.jpeg  \n",
            "  inflating: training_folder/Training_data/wheel/aug__0_7740.jpeg  \n",
            "  inflating: training_folder/__MACOSX/Training_data/wheel/._aug__0_7740.jpeg  \n",
            "  inflating: training_folder/Training_data/wheel/aug__0_2391.jpeg  \n",
            "  inflating: training_folder/__MACOSX/Training_data/wheel/._aug__0_2391.jpeg  \n",
            "  inflating: training_folder/Training_data/wheel/aug__0_9162.jpeg  \n",
            "  inflating: training_folder/__MACOSX/Training_data/wheel/._aug__0_9162.jpeg  \n",
            "  inflating: training_folder/Training_data/wheel/aug__0_6297.jpeg  \n",
            "  inflating: training_folder/__MACOSX/Training_data/wheel/._aug__0_6297.jpeg  \n",
            "  inflating: training_folder/Training_data/wheel/aug__0_2684.jpeg  \n",
            "  inflating: training_folder/__MACOSX/Training_data/wheel/._aug__0_2684.jpeg  \n",
            "  inflating: training_folder/Training_data/wheel/aug__0_8773.jpeg  \n",
            "  inflating: training_folder/__MACOSX/Training_data/wheel/._aug__0_8773.jpeg  \n",
            "  inflating: training_folder/Training_data/wheel/aug__0_4838.jpeg  \n",
            "  inflating: training_folder/__MACOSX/Training_data/wheel/._aug__0_4838.jpeg  \n",
            "  inflating: training_folder/Training_data/wheel/aug__0_8548.jpeg  \n",
            "  inflating: training_folder/__MACOSX/Training_data/wheel/._aug__0_8548.jpeg  \n",
            "  inflating: training_folder/Training_data/wheel/aug__0_3187.jpeg  \n",
            "  inflating: training_folder/__MACOSX/Training_data/wheel/._aug__0_3187.jpeg  \n",
            "  inflating: training_folder/Training_data/wheel/aug__0_9135.jpeg  \n",
            "  inflating: training_folder/__MACOSX/Training_data/wheel/._aug__0_9135.jpeg  \n",
            "  inflating: training_folder/Training_data/wheel/aug__0_3538.jpeg  \n",
            "  inflating: training_folder/__MACOSX/Training_data/wheel/._aug__0_3538.jpeg  \n",
            "  inflating: training_folder/Training_data/wheel/aug__0_3685.jpeg  \n",
            "  inflating: training_folder/__MACOSX/Training_data/wheel/._aug__0_3685.jpeg  \n",
            "  inflating: training_folder/Training_data/wheel/aug__0_4510.jpeg  \n",
            "  inflating: training_folder/__MACOSX/Training_data/wheel/._aug__0_4510.jpeg  \n",
            "  inflating: training_folder/Training_data/wheel/aug__0_2978.jpeg  \n",
            "  inflating: training_folder/__MACOSX/Training_data/wheel/._aug__0_2978.jpeg  \n",
            "  inflating: training_folder/Training_data/wheel/aug__0_1657.jpeg  \n",
            "  inflating: training_folder/__MACOSX/Training_data/wheel/._aug__0_1657.jpeg  \n",
            "  inflating: training_folder/Training_data/wheel/aug__0_3390.jpeg  \n",
            "  inflating: training_folder/__MACOSX/Training_data/wheel/._aug__0_3390.jpeg  \n",
            "  inflating: training_folder/Training_data/wheel/aug__0_2352.jpeg  \n",
            "  inflating: training_folder/__MACOSX/Training_data/wheel/._aug__0_2352.jpeg  \n",
            "  inflating: training_folder/Training_data/wheel/aug__0_2702.jpeg  \n",
            "  inflating: training_folder/__MACOSX/Training_data/wheel/._aug__0_2702.jpeg  \n",
            "  inflating: training_folder/Training_data/wheel/aug__0_7500.jpeg  \n",
            "  inflating: training_folder/__MACOSX/Training_data/wheel/._aug__0_7500.jpeg  \n",
            "  inflating: training_folder/Training_data/wheel/aug__0_5881.jpeg  \n",
            "  inflating: training_folder/__MACOSX/Training_data/wheel/._aug__0_5881.jpeg  \n",
            "  inflating: training_folder/Training_data/wheel/aug__0_2647.jpeg  \n",
            "  inflating: training_folder/__MACOSX/Training_data/wheel/._aug__0_2647.jpeg  \n",
            "  inflating: training_folder/Training_data/wheel/aug__0_3955.jpeg  \n",
            "  inflating: training_folder/__MACOSX/Training_data/wheel/._aug__0_3955.jpeg  \n",
            "  inflating: training_folder/Training_data/wheel/aug__0_6080.jpeg  \n",
            "  inflating: training_folder/__MACOSX/Training_data/wheel/._aug__0_6080.jpeg  \n",
            "  inflating: training_folder/Training_data/wheel/aug__0_3797.jpeg  \n",
            "  inflating: training_folder/__MACOSX/Training_data/wheel/._aug__0_3797.jpeg  \n",
            "  inflating: training_folder/Training_data/wheel/aug__0_4951.jpeg  \n",
            "  inflating: training_folder/__MACOSX/Training_data/wheel/._aug__0_4951.jpeg  \n",
            "  inflating: training_folder/Training_data/wheel/aug__0_8071.jpeg  \n",
            "  inflating: training_folder/__MACOSX/Training_data/wheel/._aug__0_8071.jpeg  \n",
            "  inflating: training_folder/Training_data/wheel/aug__0_5839.jpeg  \n",
            "  inflating: training_folder/__MACOSX/Training_data/wheel/._aug__0_5839.jpeg  \n",
            "  inflating: training_folder/Training_data/wheel/aug__0_2305.jpeg  \n",
            "  inflating: training_folder/__MACOSX/Training_data/wheel/._aug__0_2305.jpeg  \n",
            "  inflating: training_folder/Training_data/wheel/aug__0_6203.jpeg  \n",
            "  inflating: training_folder/__MACOSX/Training_data/wheel/._aug__0_6203.jpeg  \n",
            "  inflating: training_folder/Training_data/wheel/aug__0_6653.jpeg  \n",
            "  inflating: training_folder/__MACOSX/Training_data/wheel/._aug__0_6653.jpeg  \n",
            "  inflating: training_folder/Training_data/wheel/aug__0_3294.jpeg  \n",
            "  inflating: training_folder/__MACOSX/Training_data/wheel/._aug__0_3294.jpeg  \n",
            "  inflating: training_folder/Training_data/wheel/aug__0_4802.jpeg  \n",
            "  inflating: training_folder/__MACOSX/Training_data/wheel/._aug__0_4802.jpeg  \n",
            "  inflating: training_folder/Training_data/wheel/aug__0_8572.jpeg  \n",
            "  inflating: training_folder/__MACOSX/Training_data/wheel/._aug__0_8572.jpeg  \n",
            "  inflating: training_folder/Training_data/wheel/aug__0_8067.jpeg  \n",
            "  inflating: training_folder/__MACOSX/Training_data/wheel/._aug__0_8067.jpeg  \n",
            "  inflating: training_folder/Training_data/wheel/aug__0_3781.jpeg  \n",
            "  inflating: training_folder/__MACOSX/Training_data/wheel/._aug__0_3781.jpeg  \n",
            "  inflating: training_folder/Training_data/wheel/aug__0_1180.jpeg  \n",
            "  inflating: training_folder/__MACOSX/Training_data/wheel/._aug__0_1180.jpeg  \n",
            "  inflating: training_folder/Training_data/wheel/aug__0_4678.jpeg  \n",
            "  inflating: training_folder/__MACOSX/Training_data/wheel/._aug__0_4678.jpeg  \n",
            "  inflating: training_folder/Training_data/wheel/aug__0_3447.jpeg  \n",
            "  inflating: training_folder/__MACOSX/Training_data/wheel/._aug__0_3447.jpeg  \n",
            "  inflating: training_folder/Training_data/wheel/aug__0_8899.jpeg  \n",
            "  inflating: training_folder/__MACOSX/Training_data/wheel/._aug__0_8899.jpeg  \n",
            "  inflating: training_folder/Training_data/wheel/aug__0_8319.jpeg  \n",
            "  inflating: training_folder/__MACOSX/Training_data/wheel/._aug__0_8319.jpeg  \n",
            "  inflating: training_folder/Training_data/wheel/aug__0_2714.jpeg  \n",
            "  inflating: training_folder/__MACOSX/Training_data/wheel/._aug__0_2714.jpeg  \n",
            "  inflating: training_folder/Training_data/wheel/aug__0_2651.jpeg  \n",
            "  inflating: training_folder/__MACOSX/Training_data/wheel/._aug__0_2651.jpeg  \n",
            "  inflating: training_folder/Training_data/wheel/aug__0_3040.jpeg  \n",
            "  inflating: training_folder/__MACOSX/Training_data/wheel/._aug__0_3040.jpeg  \n",
            "  inflating: training_folder/Training_data/wheel/aug__0_1587.jpeg  \n",
            "  inflating: training_folder/__MACOSX/Training_data/wheel/._aug__0_1587.jpeg  \n",
            "  inflating: training_folder/Training_data/wheel/aug__0_9590.jpeg  \n",
            "  inflating: training_folder/__MACOSX/Training_data/wheel/._aug__0_9590.jpeg  \n",
            "  inflating: training_folder/Training_data/wheel/aug__0_6235.jpeg  \n",
            "  inflating: training_folder/__MACOSX/Training_data/wheel/._aug__0_6235.jpeg  \n",
            "  inflating: training_folder/Training_data/wheel/aug__0_4208.jpeg  \n",
            "  inflating: training_folder/__MACOSX/Training_data/wheel/._aug__0_4208.jpeg  \n",
            "  inflating: training_folder/Training_data/wheel/aug__0_3037.jpeg  \n",
            "  inflating: training_folder/__MACOSX/Training_data/wheel/._aug__0_3037.jpeg  \n",
            "  inflating: training_folder/Training_data/wheel/aug__0_32.jpeg  \n",
            "  inflating: training_folder/__MACOSX/Training_data/wheel/._aug__0_32.jpeg  \n",
            "  inflating: training_folder/Training_data/wheel/aug__0_2299.jpeg  \n",
            "  inflating: training_folder/__MACOSX/Training_data/wheel/._aug__0_2299.jpeg  \n",
            "  inflating: training_folder/Training_data/wheel/aug__0_7218.jpeg  \n",
            "  inflating: training_folder/__MACOSX/Training_data/wheel/._aug__0_7218.jpeg  \n",
            "  inflating: training_folder/Training_data/wheel/aug__0_9656.jpeg  \n",
            "  inflating: training_folder/__MACOSX/Training_data/wheel/._aug__0_9656.jpeg  \n",
            "  inflating: training_folder/Training_data/wheel/aug__0_6059.jpeg  \n",
            "  inflating: training_folder/__MACOSX/Training_data/wheel/._aug__0_6059.jpeg  \n",
            "  inflating: training_folder/Training_data/wheel/aug__0_2919.jpeg  \n",
            "  inflating: training_folder/__MACOSX/Training_data/wheel/._aug__0_2919.jpeg  \n",
            "  inflating: training_folder/Training_data/wheel/aug__0_2671.jpeg  \n",
            "  inflating: training_folder/__MACOSX/Training_data/wheel/._aug__0_2671.jpeg  \n",
            "  inflating: training_folder/Training_data/wheel/aug__0_9528.jpeg  \n",
            "  inflating: training_folder/__MACOSX/Training_data/wheel/._aug__0_9528.jpeg  \n",
            "  inflating: training_folder/Training_data/wheel/aug__0_9482.jpeg  \n",
            "  inflating: training_folder/__MACOSX/Training_data/wheel/._aug__0_9482.jpeg  \n",
            "  inflating: training_folder/Training_data/wheel/aug__0_1548.jpeg  \n",
            "  inflating: training_folder/__MACOSX/Training_data/wheel/._aug__0_1548.jpeg  \n",
            "  inflating: training_folder/Training_data/wheel/aug__0_1231.jpeg  \n",
            "  inflating: training_folder/__MACOSX/Training_data/wheel/._aug__0_1231.jpeg  \n",
            "  inflating: training_folder/Training_data/wheel/aug__0_8913.jpeg  \n",
            "  inflating: training_folder/__MACOSX/Training_data/wheel/._aug__0_8913.jpeg  \n",
            "  inflating: training_folder/Training_data/wheel/aug__0_5337.jpeg  \n",
            "  inflating: training_folder/__MACOSX/Training_data/wheel/._aug__0_5337.jpeg  \n",
            "  inflating: training_folder/Training_data/wheel/aug__0_5767.jpeg  \n",
            "  inflating: training_folder/__MACOSX/Training_data/wheel/._aug__0_5767.jpeg  \n",
            "  inflating: training_folder/Training_data/wheel/aug__0_4526.jpeg  \n",
            "  inflating: training_folder/__MACOSX/Training_data/wheel/._aug__0_4526.jpeg  \n",
            "  inflating: training_folder/Training_data/wheel/aug__0_6274.jpeg  \n",
            "  inflating: training_folder/__MACOSX/Training_data/wheel/._aug__0_6274.jpeg  \n",
            "  inflating: training_folder/Training_data/wheel/aug__0_7035.jpeg  \n",
            "  inflating: training_folder/__MACOSX/Training_data/wheel/._aug__0_7035.jpeg  \n",
            "  inflating: training_folder/Training_data/wheel/aug__0_2237.jpeg  \n",
            "  inflating: training_folder/__MACOSX/Training_data/wheel/._aug__0_2237.jpeg  \n",
            "  inflating: training_folder/Training_data/wheel/aug__0_8790.jpeg  \n",
            "  inflating: training_folder/__MACOSX/Training_data/wheel/._aug__0_8790.jpeg  \n",
            "  inflating: training_folder/Training_data/wheel/aug__0_9882.jpeg  \n",
            "  inflating: training_folder/__MACOSX/Training_data/wheel/._aug__0_9882.jpeg  \n",
            "  inflating: training_folder/Training_data/wheel/aug__0_5458.jpeg  \n",
            "  inflating: training_folder/__MACOSX/Training_data/wheel/._aug__0_5458.jpeg  \n",
            "  inflating: training_folder/Training_data/wheel/aug__0_2722.jpeg  \n",
            "  inflating: training_folder/__MACOSX/Training_data/wheel/._aug__0_2722.jpeg  \n",
            "  inflating: training_folder/Training_data/wheel/aug__0_6761.jpeg  \n",
            "  inflating: training_folder/__MACOSX/Training_data/wheel/._aug__0_6761.jpeg  \n",
            "  inflating: training_folder/Training_data/wheel/aug__0_3099.jpeg  \n",
            "  inflating: training_folder/__MACOSX/Training_data/wheel/._aug__0_3099.jpeg  \n",
            "  inflating: training_folder/Training_data/wheel/aug__0_6331.jpeg  \n",
            "  inflating: training_folder/__MACOSX/Training_data/wheel/._aug__0_6331.jpeg  \n",
            "  inflating: training_folder/Training_data/wheel/aug__0_502.jpeg  \n",
            "  inflating: training_folder/__MACOSX/Training_data/wheel/._aug__0_502.jpeg  \n",
            "  inflating: training_folder/Training_data/wheel/aug__0_8143.jpeg  \n",
            "  inflating: training_folder/__MACOSX/Training_data/wheel/._aug__0_8143.jpeg  \n",
            "  inflating: training_folder/Training_data/wheel/aug__0_6366.jpeg  \n",
            "  inflating: training_folder/__MACOSX/Training_data/wheel/._aug__0_6366.jpeg  \n",
            "  inflating: training_folder/Training_data/wheel/aug__0_2325.jpeg  \n",
            "  inflating: training_folder/__MACOSX/Training_data/wheel/._aug__0_2325.jpeg  \n",
            "  inflating: training_folder/Training_data/wheel/aug__0_806.jpeg  \n",
            "  inflating: training_folder/__MACOSX/Training_data/wheel/._aug__0_806.jpeg  \n",
            "  inflating: training_folder/Training_data/wheel/aug__0_2149.jpeg  \n",
            "  inflating: training_folder/__MACOSX/Training_data/wheel/._aug__0_2149.jpeg  \n",
            "  inflating: training_folder/Training_data/wheel/aug__0_5862.jpeg  \n",
            "  inflating: training_folder/__MACOSX/Training_data/wheel/._aug__0_5862.jpeg  \n",
            "  inflating: training_folder/Training_data/wheel/aug__0_5161.jpeg  \n",
            "  inflating: training_folder/__MACOSX/Training_data/wheel/._aug__0_5161.jpeg  \n",
            "  inflating: training_folder/Training_data/wheel/aug__0_3959.jpeg  \n",
            "  inflating: training_folder/__MACOSX/Training_data/wheel/._aug__0_3959.jpeg  \n",
            "  inflating: training_folder/Training_data/wheel/aug__0_4635.jpeg  \n",
            "  inflating: training_folder/__MACOSX/Training_data/wheel/._aug__0_4635.jpeg  \n",
            "  inflating: training_folder/Training_data/wheel/aug__0_7330.jpeg  \n",
            "  inflating: training_folder/__MACOSX/Training_data/wheel/._aug__0_7330.jpeg  \n",
            "  inflating: training_folder/Training_data/wheel/aug__0_3373.jpeg  \n",
            "  inflating: training_folder/__MACOSX/Training_data/wheel/._aug__0_3373.jpeg  \n",
            "  inflating: training_folder/Training_data/wheel/aug__0_1876.jpeg  \n",
            "  inflating: training_folder/__MACOSX/Training_data/wheel/._aug__0_1876.jpeg  \n",
            "  inflating: training_folder/Training_data/wheel/aug__0_9400.jpeg  \n",
            "  inflating: training_folder/__MACOSX/Training_data/wheel/._aug__0_9400.jpeg  \n",
            "  inflating: training_folder/Training_data/wheel/aug__0_1030.jpeg  \n",
            "  inflating: training_folder/__MACOSX/Training_data/wheel/._aug__0_1030.jpeg  \n",
            "  inflating: training_folder/Training_data/wheel/aug__0_1899.jpeg  \n",
            "  inflating: training_folder/__MACOSX/Training_data/wheel/._aug__0_1899.jpeg  \n",
            "  inflating: training_folder/Training_data/wheel/aug__0_9683.jpeg  \n",
            "  inflating: training_folder/__MACOSX/Training_data/wheel/._aug__0_9683.jpeg  \n",
            "  inflating: training_folder/Training_data/wheel/aug__0_8138.jpeg  \n",
            "  inflating: training_folder/__MACOSX/Training_data/wheel/._aug__0_8138.jpeg  \n",
            "  inflating: training_folder/Training_data/wheel/aug__0_2470.jpeg  \n",
            "  inflating: training_folder/__MACOSX/Training_data/wheel/._aug__0_2470.jpeg  \n",
            "  inflating: training_folder/Training_data/wheel/aug__0_2889.jpeg  \n",
            "  inflating: training_folder/__MACOSX/Training_data/wheel/._aug__0_2889.jpeg  \n",
            "  inflating: training_folder/Training_data/wheel/aug__0_5989.jpeg  \n",
            "  inflating: training_folder/__MACOSX/Training_data/wheel/._aug__0_5989.jpeg  \n",
            "  inflating: training_folder/Training_data/wheel/aug__0_7721.jpeg  \n",
            "  inflating: training_folder/__MACOSX/Training_data/wheel/._aug__0_7721.jpeg  \n",
            "  inflating: training_folder/Training_data/wheel/aug__0_3332.jpeg  \n",
            "  inflating: training_folder/__MACOSX/Training_data/wheel/._aug__0_3332.jpeg  \n",
            "  inflating: training_folder/Training_data/wheel/aug__0_8968.jpeg  \n",
            "  inflating: training_folder/__MACOSX/Training_data/wheel/._aug__0_8968.jpeg  \n",
            "  inflating: training_folder/Training_data/wheel/aug__0_2036.jpeg  \n",
            "  inflating: training_folder/__MACOSX/Training_data/wheel/._aug__0_2036.jpeg  \n",
            "  inflating: training_folder/Training_data/wheel/aug__0_8315.jpeg  \n",
            "  inflating: training_folder/__MACOSX/Training_data/wheel/._aug__0_8315.jpeg  \n",
            "  inflating: training_folder/Training_data/wheel/aug__0_9504.jpeg  \n",
            "  inflating: training_folder/__MACOSX/Training_data/wheel/._aug__0_9504.jpeg  \n",
            "  inflating: training_folder/Training_data/wheel/aug__0_9011.jpeg  \n",
            "  inflating: training_folder/__MACOSX/Training_data/wheel/._aug__0_9011.jpeg  \n",
            "  inflating: training_folder/Training_data/wheel/aug__0_6167.jpeg  \n",
            "  inflating: training_folder/__MACOSX/Training_data/wheel/._aug__0_6167.jpeg  \n",
            "  inflating: training_folder/Training_data/wheel/aug__0_9292.jpeg  \n",
            "  inflating: training_folder/__MACOSX/Training_data/wheel/._aug__0_9292.jpeg  \n",
            "  inflating: training_folder/Training_data/wheel/aug__0_7.jpeg  \n",
            "  inflating: training_folder/__MACOSX/Training_data/wheel/._aug__0_7.jpeg  \n",
            "  inflating: training_folder/Training_data/wheel/aug__0_8179.jpeg  \n",
            "  inflating: training_folder/__MACOSX/Training_data/wheel/._aug__0_8179.jpeg  \n",
            "  inflating: training_folder/Training_data/wheel/aug__0_8529.jpeg  \n",
            "  inflating: training_folder/__MACOSX/Training_data/wheel/._aug__0_8529.jpeg  \n",
            "  inflating: training_folder/Training_data/wheel/aug__0_2431.jpeg  \n",
            "  inflating: training_folder/__MACOSX/Training_data/wheel/._aug__0_2431.jpeg  \n",
            "  inflating: training_folder/Training_data/wheel/aug__0_2962.jpeg  \n",
            "  inflating: training_folder/__MACOSX/Training_data/wheel/._aug__0_2962.jpeg  \n",
            "  inflating: training_folder/Training_data/wheel/aug__0_8895.jpeg  \n",
            "  inflating: training_folder/__MACOSX/Training_data/wheel/._aug__0_8895.jpeg  \n",
            "  inflating: training_folder/Training_data/wheel/aug__0_1359.jpeg  \n",
            "  inflating: training_folder/__MACOSX/Training_data/wheel/._aug__0_1359.jpeg  \n",
            "  inflating: training_folder/Training_data/wheel/aug__0_8314.jpeg  \n",
            "  inflating: training_folder/__MACOSX/Training_data/wheel/._aug__0_8314.jpeg  \n",
            "  inflating: training_folder/Training_data/wheel/aug__0_9155.jpeg  \n",
            "  inflating: training_folder/__MACOSX/Training_data/wheel/._aug__0_9155.jpeg  \n",
            "  inflating: training_folder/Training_data/wheel/aug__0_5463.jpeg  \n",
            "  inflating: training_folder/__MACOSX/Training_data/wheel/._aug__0_5463.jpeg  \n",
            "  inflating: training_folder/Training_data/wheel/aug__0_755.jpeg  \n",
            "  inflating: training_folder/__MACOSX/Training_data/wheel/._aug__0_755.jpeg  \n",
            "  inflating: training_folder/Training_data/wheel/aug__0_1973.jpeg  \n",
            "  inflating: training_folder/__MACOSX/Training_data/wheel/._aug__0_1973.jpeg  \n",
            "  inflating: training_folder/Training_data/wheel/aug__0_5199.jpeg  \n",
            "  inflating: training_folder/__MACOSX/Training_data/wheel/._aug__0_5199.jpeg  \n",
            "  inflating: training_folder/Training_data/wheel/aug__0_2934.jpeg  \n",
            "  inflating: training_folder/__MACOSX/Training_data/wheel/._aug__0_2934.jpeg  \n",
            "  inflating: training_folder/Training_data/wheel/aug__0_8590.jpeg  \n",
            "  inflating: training_folder/__MACOSX/Training_data/wheel/._aug__0_8590.jpeg  \n",
            "  inflating: training_folder/Training_data/wheel/aug__0_1748.jpeg  \n",
            "  inflating: training_folder/__MACOSX/Training_data/wheel/._aug__0_1748.jpeg  \n",
            "  inflating: training_folder/Training_data/wheel/aug__0_3775.jpeg  \n",
            "  inflating: training_folder/__MACOSX/Training_data/wheel/._aug__0_3775.jpeg  \n",
            "  inflating: training_folder/Training_data/wheel/aug__0_7366.jpeg  \n",
            "  inflating: training_folder/__MACOSX/Training_data/wheel/._aug__0_7366.jpeg  \n",
            "  inflating: training_folder/Training_data/wheel/aug__0_9817.jpeg  \n",
            "  inflating: training_folder/__MACOSX/Training_data/wheel/._aug__0_9817.jpeg  \n",
            "  inflating: training_folder/Training_data/wheel/aug__0_1877.jpeg  \n",
            "  inflating: training_folder/__MACOSX/Training_data/wheel/._aug__0_1877.jpeg  \n",
            "  inflating: training_folder/Training_data/wheel/aug__0_9544.jpeg  \n",
            "  inflating: training_folder/__MACOSX/Training_data/wheel/._aug__0_9544.jpeg  \n",
            "  inflating: training_folder/Training_data/wheel/aug__0_4663.jpeg  \n",
            "  inflating: training_folder/__MACOSX/Training_data/wheel/._aug__0_4663.jpeg  \n",
            "  inflating: training_folder/Training_data/wheel/aug__0_9952.jpeg  \n",
            "  inflating: training_folder/__MACOSX/Training_data/wheel/._aug__0_9952.jpeg  \n",
            "  inflating: training_folder/Training_data/wheel/aug__0_2563.jpeg  \n",
            "  inflating: training_folder/__MACOSX/Training_data/wheel/._aug__0_2563.jpeg  \n",
            "  inflating: training_folder/Training_data/wheel/aug__0_2099.jpeg  \n",
            "  inflating: training_folder/__MACOSX/Training_data/wheel/._aug__0_2099.jpeg  \n",
            "  inflating: training_folder/Training_data/wheel/aug__0_6170.jpeg  \n",
            "  inflating: training_folder/__MACOSX/Training_data/wheel/._aug__0_6170.jpeg  \n",
            "  inflating: training_folder/Training_data/wheel/aug__0_6465.jpeg  \n",
            "  inflating: training_folder/__MACOSX/Training_data/wheel/._aug__0_6465.jpeg  \n",
            "  inflating: training_folder/Training_data/wheel/aug__0_8882.jpeg  \n",
            "  inflating: training_folder/__MACOSX/Training_data/wheel/._aug__0_8882.jpeg  \n",
            "  inflating: training_folder/Training_data/wheel/aug__0_7274.jpeg  \n",
            "  inflating: training_folder/__MACOSX/Training_data/wheel/._aug__0_7274.jpeg  \n",
            "  inflating: training_folder/Training_data/wheel/aug__0_7624.jpeg  \n",
            "  inflating: training_folder/__MACOSX/Training_data/wheel/._aug__0_7624.jpeg  \n",
            "  inflating: training_folder/Training_data/wheel/aug__0_9006.jpeg  \n",
            "  inflating: training_folder/__MACOSX/Training_data/wheel/._aug__0_9006.jpeg  \n",
            "  inflating: training_folder/Training_data/wheel/aug__0_4423.jpeg  \n",
            "  inflating: training_folder/__MACOSX/Training_data/wheel/._aug__0_4423.jpeg  \n",
            "  inflating: training_folder/Training_data/wheel/aug__0_1621.jpeg  \n",
            "  inflating: training_folder/__MACOSX/Training_data/wheel/._aug__0_1621.jpeg  \n",
            "  inflating: training_folder/Training_data/wheel/aug__0_4073.jpeg  \n",
            "  inflating: training_folder/__MACOSX/Training_data/wheel/._aug__0_4073.jpeg  \n",
            "  inflating: training_folder/Training_data/wheel/aug__0_411.jpeg  \n",
            "  inflating: training_folder/__MACOSX/Training_data/wheel/._aug__0_411.jpeg  \n",
            "  inflating: training_folder/Training_data/wheel/aug__0_3759.jpeg  \n",
            "  inflating: training_folder/__MACOSX/Training_data/wheel/._aug__0_3759.jpeg  \n",
            "  inflating: training_folder/Training_data/wheel/aug__0_7599.jpeg  \n",
            "  inflating: training_folder/__MACOSX/Training_data/wheel/._aug__0_7599.jpeg  \n",
            "  inflating: training_folder/Training_data/wheel/aug__0_8396.jpeg  \n",
            "  inflating: training_folder/__MACOSX/Training_data/wheel/._aug__0_8396.jpeg  \n",
            "  inflating: training_folder/Training_data/wheel/aug__0_7960.jpeg  \n",
            "  inflating: training_folder/__MACOSX/Training_data/wheel/._aug__0_7960.jpeg  \n",
            "  inflating: training_folder/Training_data/wheel/aug__0_5265.jpeg  \n",
            "  inflating: training_folder/__MACOSX/Training_data/wheel/._aug__0_5265.jpeg  \n",
            "  inflating: training_folder/Training_data/wheel/aug__0_915.jpeg  \n",
            "  inflating: training_folder/__MACOSX/Training_data/wheel/._aug__0_915.jpeg  \n",
            "  inflating: training_folder/Training_data/wheel/aug__0_3077.jpeg  \n",
            "  inflating: training_folder/__MACOSX/Training_data/wheel/._aug__0_3077.jpeg  \n",
            "  inflating: training_folder/Training_data/wheel/aug__0_8791.jpeg  \n",
            "  inflating: training_folder/__MACOSX/Training_data/wheel/._aug__0_8791.jpeg  \n",
            "  inflating: training_folder/Training_data/wheel/aug__0_2666.jpeg  \n",
            "  inflating: training_folder/__MACOSX/Training_data/wheel/._aug__0_2666.jpeg  \n",
            "  inflating: training_folder/Training_data/wheel/aug__0_1949.jpeg  \n",
            "  inflating: training_folder/__MACOSX/Training_data/wheel/._aug__0_1949.jpeg  \n",
            "  inflating: training_folder/Training_data/wheel/aug__0_1230.jpeg  \n",
            "  inflating: training_folder/__MACOSX/Training_data/wheel/._aug__0_1230.jpeg  \n",
            "  inflating: training_folder/Training_data/wheel/aug__0_9315.jpeg  \n",
            "  inflating: training_folder/__MACOSX/Training_data/wheel/._aug__0_9315.jpeg  \n",
            "  inflating: training_folder/Training_data/wheel/aug__0_903.jpeg  \n",
            "  inflating: training_folder/__MACOSX/Training_data/wheel/._aug__0_903.jpeg  \n",
            "  inflating: training_folder/Training_data/wheel/aug__0_8857.jpeg  \n",
            "  inflating: training_folder/__MACOSX/Training_data/wheel/._aug__0_8857.jpeg  \n",
            "  inflating: training_folder/Training_data/wheel/aug__0_3431.jpeg  \n",
            "  inflating: training_folder/__MACOSX/Training_data/wheel/._aug__0_3431.jpeg  \n",
            "  inflating: training_folder/Training_data/wheel/aug__0_6776.jpeg  \n",
            "  inflating: training_folder/__MACOSX/Training_data/wheel/._aug__0_6776.jpeg  \n",
            "  inflating: training_folder/Training_data/wheel/aug__0_2735.jpeg  \n",
            "  inflating: training_folder/__MACOSX/Training_data/wheel/._aug__0_2735.jpeg  \n",
            "  inflating: training_folder/Training_data/wheel/aug__0_796.jpeg  \n",
            "  inflating: training_folder/__MACOSX/Training_data/wheel/._aug__0_796.jpeg  \n",
            "  inflating: training_folder/Training_data/wheel/aug__0_2918.jpeg  \n",
            "  inflating: training_folder/__MACOSX/Training_data/wheel/._aug__0_2918.jpeg  \n",
            "  inflating: training_folder/Training_data/wheel/aug__0_4435.jpeg  \n",
            "  inflating: training_folder/__MACOSX/Training_data/wheel/._aug__0_4435.jpeg  \n",
            "  inflating: training_folder/Training_data/wheel/aug__0_4659.jpeg  \n",
            "  inflating: training_folder/__MACOSX/Training_data/wheel/._aug__0_4659.jpeg  \n",
            "  inflating: training_folder/Training_data/wheel/aug__0_6664.jpeg  \n",
            "  inflating: training_folder/__MACOSX/Training_data/wheel/._aug__0_6664.jpeg  \n",
            "  inflating: training_folder/Training_data/wheel/aug__0_3466.jpeg  \n",
            "  inflating: training_folder/__MACOSX/Training_data/wheel/._aug__0_3466.jpeg  \n",
            "  inflating: training_folder/Training_data/wheel/aug__0_3036.jpeg  \n",
            "  inflating: training_folder/__MACOSX/Training_data/wheel/._aug__0_3036.jpeg  \n",
            "  inflating: training_folder/Training_data/wheel/aug__0_7075.jpeg  \n",
            "  inflating: training_folder/__MACOSX/Training_data/wheel/._aug__0_7075.jpeg  \n",
            "  inflating: training_folder/Training_data/wheel/aug__0_2298.jpeg  \n",
            "  inflating: training_folder/__MACOSX/Training_data/wheel/._aug__0_2298.jpeg  \n",
            "  inflating: training_folder/Training_data/wheel/aug__0_7517.jpeg  \n",
            "  inflating: training_folder/__MACOSX/Training_data/wheel/._aug__0_7517.jpeg  \n",
            "  inflating: training_folder/Training_data/wheel/aug__0_2650.jpeg  \n",
            "  inflating: training_folder/__MACOSX/Training_data/wheel/._aug__0_2650.jpeg  \n",
            "  inflating: training_folder/Training_data/wheel/aug__0_7002.jpeg  \n",
            "  inflating: training_folder/__MACOSX/Training_data/wheel/._aug__0_7002.jpeg  \n",
            "  inflating: training_folder/Training_data/wheel/aug__0_6243.jpeg  \n",
            "  inflating: training_folder/__MACOSX/Training_data/wheel/._aug__0_6243.jpeg  \n",
            "  inflating: training_folder/Training_data/wheel/aug__0_6869.jpeg  \n",
            "  inflating: training_folder/__MACOSX/Training_data/wheel/._aug__0_6869.jpeg  \n",
            "  inflating: training_folder/Training_data/wheel/aug__0_9765.jpeg  \n",
            "  inflating: training_folder/__MACOSX/Training_data/wheel/._aug__0_9765.jpeg  \n",
            "  inflating: training_folder/Training_data/wheel/aug__0_6490.jpeg  \n",
            "  inflating: training_folder/__MACOSX/Training_data/wheel/._aug__0_6490.jpeg  \n",
            "  inflating: training_folder/Training_data/wheel/aug__0_8898.jpeg  \n",
            "  inflating: training_folder/__MACOSX/Training_data/wheel/._aug__0_8898.jpeg  \n",
            "  inflating: training_folder/Training_data/wheel/aug__0_8461.jpeg  \n",
            "  inflating: training_folder/__MACOSX/Training_data/wheel/._aug__0_8461.jpeg  \n",
            "  inflating: training_folder/Training_data/wheel/aug__0_5603.jpeg  \n",
            "  inflating: training_folder/__MACOSX/Training_data/wheel/._aug__0_5603.jpeg  \n",
            "  inflating: training_folder/Training_data/wheel/aug__0_3915.jpeg  \n",
            "  inflating: training_folder/__MACOSX/Training_data/wheel/._aug__0_3915.jpeg  \n",
            "  inflating: training_folder/Training_data/wheel/aug__0_1928.jpeg  \n",
            "  inflating: training_folder/__MACOSX/Training_data/wheel/._aug__0_1928.jpeg  \n",
            "  inflating: training_folder/Training_data/wheel/aug__0_6097.jpeg  \n",
            "  inflating: training_folder/__MACOSX/Training_data/wheel/._aug__0_6097.jpeg  \n",
            "  inflating: training_folder/Training_data/wheel/aug__0_1752.jpeg  \n",
            "  inflating: training_folder/__MACOSX/Training_data/wheel/._aug__0_1752.jpeg  \n",
            "  inflating: training_folder/Training_data/wheel/aug__0_7393.jpeg  \n",
            "  inflating: training_folder/__MACOSX/Training_data/wheel/._aug__0_7393.jpeg  \n",
            "  inflating: training_folder/Training_data/wheel/aug__0_2191.jpeg  \n",
            "  inflating: training_folder/__MACOSX/Training_data/wheel/._aug__0_2191.jpeg  \n",
            "  inflating: training_folder/Training_data/wheel/aug__0_5654.jpeg  \n",
            "  inflating: training_folder/__MACOSX/Training_data/wheel/._aug__0_5654.jpeg  \n",
            "  inflating: training_folder/Training_data/wheel/aug__0_7239.jpeg  \n",
            "  inflating: training_folder/__MACOSX/Training_data/wheel/._aug__0_7239.jpeg  \n",
            "  inflating: training_folder/Training_data/wheel/aug__0_9677.jpeg  \n",
            "  inflating: training_folder/__MACOSX/Training_data/wheel/._aug__0_9677.jpeg  \n",
            "  inflating: training_folder/Training_data/wheel/aug__0_6078.jpeg  \n",
            "  inflating: training_folder/__MACOSX/Training_data/wheel/._aug__0_6078.jpeg  \n",
            "  inflating: training_folder/Training_data/wheel/aug__0_6347.jpeg  \n",
            "  inflating: training_folder/__MACOSX/Training_data/wheel/._aug__0_6347.jpeg  \n",
            "  inflating: training_folder/Training_data/wheel/aug__0_1178.jpeg  \n",
            "  inflating: training_folder/__MACOSX/Training_data/wheel/._aug__0_1178.jpeg  \n",
            "  inflating: training_folder/Training_data/wheel/aug__0_1528.jpeg  \n",
            "  inflating: training_folder/__MACOSX/Training_data/wheel/._aug__0_1528.jpeg  \n",
            "  inflating: training_folder/Training_data/wheel/aug__0_2754.jpeg  \n",
            "  inflating: training_folder/__MACOSX/Training_data/wheel/._aug__0_2754.jpeg  \n",
            "  inflating: training_folder/Training_data/wheel/aug__0_3846.jpeg  \n",
            "  inflating: training_folder/__MACOSX/Training_data/wheel/._aug__0_3846.jpeg  \n",
            "  inflating: training_folder/Training_data/wheel/aug__0_3283.jpeg  \n",
            "  inflating: training_folder/__MACOSX/Training_data/wheel/._aug__0_3283.jpeg  \n",
            "  inflating: training_folder/Training_data/wheel/aug__0_6594.jpeg  \n",
            "  inflating: training_folder/__MACOSX/Training_data/wheel/._aug__0_6594.jpeg  \n",
            "  inflating: training_folder/Training_data/wheel/aug__0_4950.jpeg  \n",
            "  inflating: training_folder/__MACOSX/Training_data/wheel/._aug__0_4950.jpeg  \n",
            "  inflating: training_folder/Training_data/wheel/aug__0_1085.jpeg  \n",
            "  inflating: training_folder/__MACOSX/Training_data/wheel/._aug__0_1085.jpeg  \n",
            "  inflating: training_folder/Training_data/wheel/aug__0_6310.jpeg  \n",
            "  inflating: training_folder/__MACOSX/Training_data/wheel/._aug__0_6310.jpeg  \n",
            "  inflating: training_folder/Training_data/wheel/aug__0_52.jpeg  \n",
            "  inflating: training_folder/__MACOSX/Training_data/wheel/._aug__0_52.jpeg  \n",
            "  inflating: training_folder/Training_data/wheel/aug__0_9909.jpeg  \n",
            "  inflating: training_folder/__MACOSX/Training_data/wheel/._aug__0_9909.jpeg  \n",
            "  inflating: training_folder/Training_data/wheel/aug__0_1969.jpeg  \n",
            "  inflating: training_folder/__MACOSX/Training_data/wheel/._aug__0_1969.jpeg  \n",
            "  inflating: training_folder/Training_data/wheel/aug__0_9289.jpeg  \n",
            "  inflating: training_folder/__MACOSX/Training_data/wheel/._aug__0_9289.jpeg  \n",
            "  inflating: training_folder/Training_data/wheel/aug__0_2996.jpeg  \n",
            "  inflating: training_folder/__MACOSX/Training_data/wheel/._aug__0_2996.jpeg  \n",
            "  inflating: training_folder/Training_data/wheel/aug__0_3684.jpeg  \n",
            "  inflating: training_folder/__MACOSX/Training_data/wheel/._aug__0_3684.jpeg  \n",
            "  inflating: training_folder/Training_data/wheel/aug__0_8498.jpeg  \n",
            "  inflating: training_folder/__MACOSX/Training_data/wheel/._aug__0_8498.jpeg  \n",
            "  inflating: training_folder/Training_data/wheel/aug__0_5300.jpeg  \n",
            "  inflating: training_folder/__MACOSX/Training_data/wheel/._aug__0_5300.jpeg  \n",
            "  inflating: training_folder/Training_data/wheel/aug__0_8924.jpeg  \n",
            "  inflating: training_folder/__MACOSX/Training_data/wheel/._aug__0_8924.jpeg  \n",
            "  inflating: training_folder/Training_data/wheel/aug__0_2979.jpeg  \n",
            "  inflating: training_folder/__MACOSX/Training_data/wheel/._aug__0_2979.jpeg  \n",
            "  inflating: training_folder/Training_data/wheel/aug__0_4454.jpeg  \n",
            "  inflating: training_folder/__MACOSX/Training_data/wheel/._aug__0_4454.jpeg  \n",
            "  inflating: training_folder/Training_data/wheel/aug__0_734.jpeg  \n",
            "  inflating: training_folder/__MACOSX/Training_data/wheel/._aug__0_734.jpeg  \n",
            "  inflating: training_folder/Training_data/wheel/aug__0_221.jpeg  \n",
            "  inflating: training_folder/__MACOSX/Training_data/wheel/._aug__0_221.jpeg  \n",
            "  inflating: training_folder/Training_data/wheel/aug__0_671.jpeg  \n",
            "  inflating: training_folder/__MACOSX/Training_data/wheel/._aug__0_671.jpeg  \n",
            "  inflating: training_folder/Training_data/wheel/aug__0_7829.jpeg  \n",
            "  inflating: training_folder/__MACOSX/Training_data/wheel/._aug__0_7829.jpeg  \n",
            "  inflating: training_folder/Training_data/wheel/aug__0_9708.jpeg  \n",
            "  inflating: training_folder/__MACOSX/Training_data/wheel/._aug__0_9708.jpeg  \n",
            "  inflating: training_folder/Training_data/wheel/aug__0_6804.jpeg  \n",
            "  inflating: training_folder/__MACOSX/Training_data/wheel/._aug__0_6804.jpeg  \n",
            "  inflating: training_folder/Training_data/wheel/aug__0_5140.jpeg  \n",
            "  inflating: training_folder/__MACOSX/Training_data/wheel/._aug__0_5140.jpeg  \n",
            "  inflating: training_folder/Training_data/wheel/aug__0_2685.jpeg  \n",
            "  inflating: training_folder/__MACOSX/Training_data/wheel/._aug__0_2685.jpeg  \n",
            "  inflating: training_folder/Training_data/wheel/aug__0_276.jpeg  \n",
            "  inflating: training_folder/__MACOSX/Training_data/wheel/._aug__0_276.jpeg  \n",
            "  inflating: training_folder/Training_data/wheel/aug__0_919.jpeg  \n",
            "  inflating: training_folder/__MACOSX/Training_data/wheel/._aug__0_919.jpeg  \n",
            "  inflating: training_folder/Training_data/wheel/aug__0_1400.jpeg  \n",
            "  inflating: training_folder/__MACOSX/Training_data/wheel/._aug__0_1400.jpeg  \n",
            "  inflating: training_folder/Training_data/wheel/aug__0_9899.jpeg  \n",
            "  inflating: training_folder/__MACOSX/Training_data/wheel/._aug__0_9899.jpeg  \n",
            "  inflating: training_folder/Training_data/wheel/aug__0_8764.jpeg  \n",
            "  inflating: training_folder/__MACOSX/Training_data/wheel/._aug__0_8764.jpeg  \n",
            "  inflating: training_folder/Training_data/wheel/aug__0_5156.jpeg  \n",
            "  inflating: training_folder/__MACOSX/Training_data/wheel/._aug__0_5156.jpeg  \n",
            "  inflating: training_folder/Training_data/wheel/aug__0_2739.jpeg  \n",
            "  inflating: training_folder/__MACOSX/Training_data/wheel/._aug__0_2739.jpeg  \n",
            "  inflating: training_folder/Training_data/wheel/aug__0_3082.jpeg  \n",
            "  inflating: training_folder/__MACOSX/Training_data/wheel/._aug__0_3082.jpeg  \n",
            "  inflating: training_folder/Training_data/wheel/aug__0_2943.jpeg  \n",
            "  inflating: training_folder/__MACOSX/Training_data/wheel/._aug__0_2943.jpeg  \n",
            "  inflating: training_folder/Training_data/wheel/aug__0_5290.jpeg  \n",
            "  inflating: training_folder/__MACOSX/Training_data/wheel/._aug__0_5290.jpeg  \n",
            "  inflating: training_folder/Training_data/wheel/aug__0_9964.jpeg  \n",
            "  inflating: training_folder/__MACOSX/Training_data/wheel/._aug__0_9964.jpeg  \n",
            "  inflating: training_folder/Training_data/wheel/aug__0_7995.jpeg  \n",
            "  inflating: training_folder/__MACOSX/Training_data/wheel/._aug__0_7995.jpeg  \n",
            "  inflating: training_folder/Training_data/wheel/aug__0_5802.jpeg  \n",
            "  inflating: training_folder/__MACOSX/Training_data/wheel/._aug__0_5802.jpeg  \n",
            "  inflating: training_folder/Training_data/wheel/aug__0_1512.jpeg  \n",
            "  inflating: training_folder/__MACOSX/Training_data/wheel/._aug__0_1512.jpeg  \n",
            "  inflating: training_folder/Training_data/wheel/aug__0_2017.jpeg  \n",
            "  inflating: training_folder/__MACOSX/Training_data/wheel/._aug__0_2017.jpeg  \n",
            "  inflating: training_folder/Training_data/wheel/aug__0_2502.jpeg  \n",
            "  inflating: training_folder/__MACOSX/Training_data/wheel/._aug__0_2502.jpeg  \n",
            "  inflating: training_folder/Training_data/wheel/aug__0_3743.jpeg  \n",
            "  inflating: training_folder/__MACOSX/Training_data/wheel/._aug__0_3743.jpeg  \n"
          ]
        }
      ]
    },
    {
      "cell_type": "code",
      "source": [
        "!pwd"
      ],
      "metadata": {
        "colab": {
          "base_uri": "https://localhost:8080/"
        },
        "id": "htVcr4YCSevS",
        "outputId": "80204298-a298-441b-b9ec-9d8bc600118c"
      },
      "execution_count": 3,
      "outputs": [
        {
          "output_type": "stream",
          "name": "stdout",
          "text": [
            "/content\n"
          ]
        }
      ]
    },
    {
      "cell_type": "code",
      "source": [
        "!ls"
      ],
      "metadata": {
        "colab": {
          "base_uri": "https://localhost:8080/"
        },
        "id": "bdRNVQOcSiSa",
        "outputId": "d4e8d2b7-dbf9-4e95-d80f-d11b53f85dca"
      },
      "execution_count": 4,
      "outputs": [
        {
          "output_type": "stream",
          "name": "stdout",
          "text": [
            "sample_data  Training_data.zip\ttraining_folder\n"
          ]
        }
      ]
    },
    {
      "cell_type": "code",
      "source": [
        "%cd training_folder/"
      ],
      "metadata": {
        "colab": {
          "base_uri": "https://localhost:8080/"
        },
        "id": "WxpnmT_VSp77",
        "outputId": "6af9a4ce-531c-45f7-ff27-bf18c0db7ea7"
      },
      "execution_count": 5,
      "outputs": [
        {
          "output_type": "stream",
          "name": "stdout",
          "text": [
            "/content/training_folder\n"
          ]
        }
      ]
    },
    {
      "cell_type": "code",
      "source": [
        "!ls"
      ],
      "metadata": {
        "colab": {
          "base_uri": "https://localhost:8080/"
        },
        "id": "NezIo--qSvw6",
        "outputId": "548d81f7-42ab-4881-818b-5f9ae7623ad1"
      },
      "execution_count": 6,
      "outputs": [
        {
          "output_type": "stream",
          "name": "stdout",
          "text": [
            "__MACOSX  Training_data\n"
          ]
        }
      ]
    },
    {
      "cell_type": "code",
      "source": [
        "!pwd"
      ],
      "metadata": {
        "colab": {
          "base_uri": "https://localhost:8080/"
        },
        "id": "B_v9R33ZTJvo",
        "outputId": "61e9a8bf-eff9-4411-872a-4aef43da448c"
      },
      "execution_count": 8,
      "outputs": [
        {
          "output_type": "stream",
          "name": "stdout",
          "text": [
            "/content/training_folder\n"
          ]
        }
      ]
    },
    {
      "cell_type": "code",
      "source": [
        "!pip install imutils"
      ],
      "metadata": {
        "colab": {
          "base_uri": "https://localhost:8080/"
        },
        "id": "yD_LKqo5S1AS",
        "outputId": "0fedcf95-30b0-4f02-bfbf-ba57ab4f7582"
      },
      "execution_count": 7,
      "outputs": [
        {
          "output_type": "stream",
          "name": "stdout",
          "text": [
            "Requirement already satisfied: imutils in /usr/local/lib/python3.7/dist-packages (0.5.4)\n"
          ]
        }
      ]
    },
    {
      "cell_type": "code",
      "source": [
        "# import the necessary packages\n",
        "from keras.models import Sequential\n",
        "from keras.layers.convolutional import Conv2D\n",
        "from keras.layers.convolutional import MaxPooling2D\n",
        "from keras.layers.core import Activation\n",
        "from keras.layers.core import Flatten\n",
        "from keras.layers.core import Dense\n",
        "from keras import backend as K\n",
        "\n",
        "class LeNet:\n",
        "\t@staticmethod\n",
        "\tdef build(width, height, depth, classes):\n",
        "\t\t# initialize the model\n",
        "\t\tmodel = Sequential()\n",
        "\t\tinputShape = (height, width, depth)\n",
        "\n",
        "\t\t# if we are using \"channels first\", update the input shape\n",
        "\t\tif K.image_data_format() == \"channels_first\":\n",
        "\t\t\tinputShape = (depth, height, width)\n",
        "\n",
        "\t\t# first set of CONV => RELU => POOL layers\n",
        "\t\tmodel.add(Conv2D(20, (5, 5), padding=\"same\",\n",
        "\t\t\tinput_shape=inputShape))\n",
        "\t\tmodel.add(Activation(\"relu\"))\n",
        "\t\tmodel.add(MaxPooling2D(pool_size=(2, 2), strides=(2, 2)))\n",
        "\n",
        "\t\t# second set of CONV => RELU => POOL layers\n",
        "\t\tmodel.add(Conv2D(50, (5, 5), padding=\"same\"))\n",
        "\t\tmodel.add(Activation(\"relu\"))\n",
        "\t\tmodel.add(MaxPooling2D(pool_size=(2, 2), strides=(2, 2)))\n",
        "\n",
        "\t\t# first (and only) set of FC => RELU layers\n",
        "\t\tmodel.add(Flatten())\n",
        "\t\tmodel.add(Dense(500))\n",
        "\t\tmodel.add(Activation(\"relu\"))\n",
        "\n",
        "\t\t# softmax classifier\n",
        "\t\tmodel.add(Dense(classes))\n",
        "\t\tmodel.add(Activation(\"softmax\"))\n",
        "\n",
        "\t\t# return the constructed network architecture\n",
        "\t\treturn model"
      ],
      "metadata": {
        "id": "sfPAhXM-S6kR"
      },
      "execution_count": 9,
      "outputs": []
    },
    {
      "cell_type": "code",
      "source": [
        "dataset_path=\"Training_data/\"\n",
        "model_path=\"custom_classification_17May2022.model\"\n",
        "plot_path=\"plot.png\"\n",
        "\n",
        "\n",
        "# import the necessary packages\n",
        "from tensorflow.keras.preprocessing.image import ImageDataGenerator\n",
        "from tensorflow.keras.optimizers import Adam\n",
        "from sklearn.model_selection import train_test_split\n",
        "from tensorflow.keras.preprocessing.image import img_to_array\n",
        "from tensorflow.keras.utils import to_categorical\n",
        "#from model_re.lenet import LeNet\n",
        "from imutils import paths\n",
        "import matplotlib.pyplot as plt\n",
        "import numpy as np\n",
        "import random\n",
        "import cv2\n",
        "import os\n",
        "\n",
        "\n",
        "# initialize the number of epochs to train for, initial learning rate,\n",
        "# and batch size\n",
        "EPOCHS = 25\n",
        "INIT_LR = 1e-3\n",
        "BS = 32\n",
        "\n",
        "# initialize the data and labels\n",
        "print(\"[INFO] loading images...\")\n",
        "\n",
        "data = []\n",
        "labels = []\n",
        "\n",
        "# grab the image paths and randomly shuffle them\n",
        "imagePaths = sorted(list(paths.list_images(dataset_path)))\n",
        "random.seed(42)\n",
        "random.shuffle(imagePaths)\n",
        "\n",
        "print(imagePaths)\n",
        "\n",
        "print('done generating paths')\n",
        "\n",
        "# loop over the input images\n",
        "for imagePath in imagePaths:\n",
        "\timage = cv2.imread(imagePath)\n",
        "\timage = cv2.resize(image, (128, 128))\n",
        "\timage = img_to_array(image)\n",
        "\tdata.append(image)\n",
        "\n",
        "\t# extract the class label from the image path and update the\n",
        "\t# labels list\n",
        "\tlabel = imagePath.split(os.path.sep)[-2]\n",
        "\tlabel = 1 if label == \"mobile\" else 0\n",
        "\tlabels.append(label)\n",
        "\n",
        "# scale the raw pixel intensities to the range [0, 1]\n",
        "data = np.array(data, dtype=\"float\") / 255.0\n",
        "labels = np.array(labels)\n",
        "\n",
        "# partition the data into training and testing splits using 75% of\n",
        "# the data for training and the remaining 25% for testing\n",
        "(trainX, testX, trainY, testY) = train_test_split(data,\n",
        "\tlabels, test_size=0.25, random_state=42)\n",
        "\n",
        "# convert the labels from integers to vectors\n",
        "trainY = to_categorical(trainY, num_classes=2)\n",
        "testY = to_categorical(testY, num_classes=2)\n",
        "\n",
        "# construct the image generator for data augmentation\n",
        "aug = ImageDataGenerator(rotation_range=30, width_shift_range=0.1,\n",
        "\theight_shift_range=0.1, shear_range=0.2, zoom_range=0.2,\n",
        "\thorizontal_flip=True, fill_mode=\"nearest\")\n",
        "\n",
        "# initialize the model\n",
        "print(\"[INFO] compiling model...\")\n",
        "model = LeNet.build(width=128, height=128, depth=3, classes=2)\n",
        "opt = Adam(lr=INIT_LR, decay=INIT_LR / EPOCHS)\n",
        "\n",
        "model.compile(loss=\"binary_crossentropy\", optimizer=opt,\n",
        "\tmetrics=[\"accuracy\"])\n",
        "\n",
        "# train the network\n",
        "print(\"[INFO] training network...\")\n",
        "H = model.fit(x=aug.flow(trainX, trainY, batch_size=BS),\n",
        "\tvalidation_data=(testX, testY), steps_per_epoch=len(trainX) // BS,\n",
        "\tepochs=EPOCHS, verbose=1)\n",
        "\n",
        "# save the model to disk\n",
        "print(\"[INFO] serializing network...\")\n",
        "model.save(model_path, save_format=\"h5\")\n",
        "\n",
        "# plot the training loss and accuracy\n",
        "plt.style.use(\"ggplot\")\n",
        "plt.figure()\n",
        "N = EPOCHS\n",
        "plt.plot(np.arange(0, N), H.history[\"loss\"], label=\"train_loss\")\n",
        "plt.plot(np.arange(0, N), H.history[\"val_loss\"], label=\"val_loss\")\n",
        "plt.plot(np.arange(0, N), H.history[\"accuracy\"], label=\"train_acc\")\n",
        "plt.plot(np.arange(0, N), H.history[\"val_accuracy\"], label=\"val_acc\")\n",
        "plt.title(\"Training Loss and Accuracy on inr10/inr100\")\n",
        "plt.xlabel(\"Epoch #\")\n",
        "plt.ylabel(\"Loss/Accuracy\")\n",
        "plt.legend(loc=\"lower left\")\n",
        "plt.savefig(plot_path)"
      ],
      "metadata": {
        "colab": {
          "base_uri": "https://localhost:8080/",
          "height": 1000
        },
        "id": "cIYUsQgpTQWo",
        "outputId": "258a215c-4d82-45a8-e51c-321a475c35d1"
      },
      "execution_count": 11,
      "outputs": [
        {
          "output_type": "stream",
          "name": "stdout",
          "text": [
            "[INFO] loading images...\n",
            "['Training_data/mobile/aug__0_9558.jpeg', 'Training_data/mobile/aug__0_4263.jpeg', 'Training_data/mobile/aug__0_9325.jpeg', 'Training_data/mobile/aug__0_9554.jpeg', 'Training_data/mobile/aug__0_9491.jpeg', 'Training_data/mobile/aug__0_3851.jpeg', 'Training_data/wheel/aug__0_8924.jpeg', 'Training_data/mobile/aug__0_1618.jpeg', 'Training_data/mobile/aug__0_7133.jpeg', 'Training_data/wheel/aug__0_2650.jpeg', 'Training_data/wheel/aug__0_4812.jpeg', 'Training_data/wheel/aug__0_5888.jpeg', 'Training_data/wheel/aug__0_1180.jpeg', 'Training_data/wheel/aug__0_789.jpeg', 'Training_data/wheel/aug__0_9311.jpeg', 'Training_data/wheel/aug__0_8879.jpeg', 'Training_data/mobile/aug__0_8340.jpeg', 'Training_data/mobile/aug__0_2229.jpeg', 'Training_data/wheel/aug__0_8869.jpeg', 'Training_data/wheel/aug__0_1082.jpeg', 'Training_data/mobile/aug__0_5653.jpeg', 'Training_data/wheel/aug__0_6156.jpeg', 'Training_data/wheel/aug__0_8536.jpeg', 'Training_data/wheel/aug__0_6427.jpeg', 'Training_data/mobile/aug__0_8164.jpeg', 'Training_data/mobile/aug__0_7827.jpeg', 'Training_data/mobile/aug__0_4352.jpeg', 'Training_data/wheel/aug__0_7274.jpeg', 'Training_data/wheel/aug__0_1510.jpeg', 'Training_data/mobile/aug__0_5978.jpeg', 'Training_data/mobile/aug__0_347.jpeg', 'Training_data/mobile/aug__0_9472.jpeg', 'Training_data/wheel/aug__0_1236.jpeg', 'Training_data/mobile/aug__0_5280.jpeg', 'Training_data/mobile/aug__0_3983.jpeg', 'Training_data/mobile/aug__0_6319.jpeg', 'Training_data/wheel/aug__0_3945.jpeg', 'Training_data/wheel/aug__0_4903.jpeg', 'Training_data/wheel/aug__0_1587.jpeg', 'Training_data/wheel/aug__0_1305.jpeg', 'Training_data/mobile/aug__0_6938.jpeg', 'Training_data/mobile/aug__0_4610.jpeg', 'Training_data/wheel/aug__0_3037.jpeg', 'Training_data/wheel/aug__0_6153.jpeg', 'Training_data/mobile/aug__0_3724.jpeg', 'Training_data/mobile/aug__0_2062.jpeg', 'Training_data/mobile/aug__0_163.jpeg', 'Training_data/mobile/aug__0_1928.jpeg', 'Training_data/mobile/aug__0_4413.jpeg', 'Training_data/wheel/aug__0_9590.jpeg', 'Training_data/wheel/aug__0_52.jpeg', 'Training_data/mobile/aug__0_2363.jpeg', 'Training_data/wheel/aug__0_5148.jpeg', 'Training_data/wheel/aug__0_9101.jpeg', 'Training_data/mobile/aug__0_3636.jpeg', 'Training_data/mobile/aug__0_7365.jpeg', 'Training_data/wheel/aug__0_8978.jpeg', 'Training_data/wheel/aug__0_7902.jpeg', 'Training_data/wheel/aug__0_6454.jpeg', 'Training_data/mobile/aug__0_3703.jpeg', 'Training_data/mobile/aug__0_7965.jpeg', 'Training_data/mobile/aug__0_2256.jpeg', 'Training_data/wheel/aug__0_8857.jpeg', 'Training_data/wheel/aug__0_6517.jpeg', 'Training_data/mobile/aug__0_4785.jpeg', 'Training_data/mobile/aug__0_8476.jpeg', 'Training_data/mobile/aug__0_2531.jpeg', 'Training_data/wheel/aug__0_4729.jpeg', 'Training_data/wheel/aug__0_2142.jpeg', 'Training_data/wheel/aug__0_3374.jpeg', 'Training_data/mobile/aug__0_1258.jpeg', 'Training_data/wheel/aug__0_8538.jpeg', 'Training_data/mobile/aug__0_2177.jpeg', 'Training_data/mobile/aug__0_3164.jpeg', 'Training_data/mobile/aug__0_2392.jpeg', 'Training_data/wheel/aug__0_9400.jpeg', 'Training_data/mobile/aug__0_8763.jpeg', 'Training_data/wheel/aug__0_8037.jpeg', 'Training_data/mobile/aug__0_8803.jpeg', 'Training_data/wheel/aug__0_6959.jpeg', 'Training_data/wheel/aug__0_1400.jpeg', 'Training_data/wheel/aug__0_3759.jpeg', 'Training_data/mobile/aug__0_5402.jpeg', 'Training_data/mobile/aug__0_8898.jpeg', 'Training_data/mobile/aug__0_8918.jpeg', 'Training_data/mobile/aug__0_5793.jpeg', 'Training_data/wheel/aug__0_2182.jpeg', 'Training_data/wheel/aug__0_4538.jpeg', 'Training_data/mobile/aug__0_1961.jpeg', 'Training_data/wheel/aug__0_7393.jpeg', 'Training_data/mobile/aug__0_4911.jpeg', 'Training_data/wheel/aug__0_7190.jpeg', 'Training_data/wheel/aug__0_6078.jpeg', 'Training_data/wheel/aug__0_6761.jpeg', 'Training_data/mobile/aug__0_9199.jpeg', 'Training_data/wheel/aug__0_7580.jpeg', 'Training_data/mobile/aug__0_4371.jpeg', 'Training_data/mobile/aug__0_2778.jpeg', 'Training_data/mobile/aug__0_2912.jpeg', 'Training_data/wheel/aug__0_9126.jpeg', 'Training_data/mobile/aug__0_3282.jpeg', 'Training_data/wheel/aug__0_9541.jpeg', 'Training_data/wheel/aug__0_8314.jpeg', 'Training_data/wheel/aug__0_425.jpeg', 'Training_data/mobile/aug__0_6849.jpeg', 'Training_data/wheel/aug__0_4433.jpeg', 'Training_data/wheel/aug__0_2502.jpeg', 'Training_data/mobile/aug__0_7139.jpeg', 'Training_data/wheel/aug__0_1389.jpeg', 'Training_data/mobile/aug__0_3388.jpeg', 'Training_data/mobile/aug__0_7125.jpeg', 'Training_data/mobile/aug__0_2169.jpeg', 'Training_data/mobile/aug__0_8197.jpeg', 'Training_data/wheel/aug__0_7382.jpeg', 'Training_data/mobile/aug__0_5713.jpeg', 'Training_data/wheel/aug__0_1348.jpeg', 'Training_data/mobile/aug__0_1397.jpeg', 'Training_data/mobile/aug__0_8677.jpeg', 'Training_data/wheel/aug__0_9882.jpeg', 'Training_data/wheel/aug__0_5632.jpeg', 'Training_data/wheel/aug__0_8189.jpeg', 'Training_data/wheel/aug__0_8328.jpeg', 'Training_data/mobile/aug__0_304.jpeg', 'Training_data/wheel/aug__0_3392.jpeg', 'Training_data/wheel/aug__0_1969.jpeg', 'Training_data/wheel/aug__0_5953.jpeg', 'Training_data/wheel/aug__0_5781.jpeg', 'Training_data/mobile/aug__0_7885.jpeg', 'Training_data/wheel/aug__0_3242.jpeg', 'Training_data/mobile/aug__0_5691.jpeg', 'Training_data/wheel/aug__0_3140.jpeg', 'Training_data/mobile/aug__0_2227.jpeg', 'Training_data/wheel/aug__0_4452.jpeg', 'Training_data/wheel/aug__0_2702.jpeg', 'Training_data/mobile/aug__0_7269.jpeg', 'Training_data/wheel/aug__0_4724.jpeg', 'Training_data/wheel/aug__0_9289.jpeg', 'Training_data/wheel/aug__0_5600.jpeg', 'Training_data/wheel/aug__0_137.jpeg', 'Training_data/mobile/aug__0_65.jpeg', 'Training_data/wheel/aug__0_9677.jpeg', 'Training_data/wheel/aug__0_5839.jpeg', 'Training_data/wheel/aug__0_1030.jpeg', 'Training_data/wheel/aug__0_2017.jpeg', 'Training_data/mobile/aug__0_5360.jpeg', 'Training_data/mobile/aug__0_5952.jpeg', 'Training_data/mobile/aug__0_4688.jpeg', 'Training_data/wheel/aug__0_3993.jpeg', 'Training_data/mobile/aug__0_2658.jpeg', 'Training_data/mobile/aug__0_110.jpeg', 'Training_data/wheel/aug__0_4110.jpeg', 'Training_data/mobile/aug__0_2700.jpeg', 'Training_data/mobile/aug__0_3283.jpeg', 'Training_data/mobile/aug__0_1967.jpeg', 'Training_data/wheel/aug__0_9671.jpeg', 'Training_data/wheel/aug__0_8633.jpeg', 'Training_data/wheel/aug__0_8172.jpeg', 'Training_data/wheel/aug__0_5156.jpeg', 'Training_data/mobile/aug__0_6370.jpeg', 'Training_data/wheel/aug__0_3859.jpeg', 'Training_data/wheel/aug__0_919.jpeg', 'Training_data/mobile/aug__0_711.jpeg', 'Training_data/wheel/aug__0_7397.jpeg', 'Training_data/mobile/aug__0_4245.jpeg', 'Training_data/wheel/aug__0_4659.jpeg', 'Training_data/mobile/aug__0_1184.jpeg', 'Training_data/mobile/aug__0_7775.jpeg', 'Training_data/mobile/aug__0_9836.jpeg', 'Training_data/wheel/aug__0_5218.jpeg', 'Training_data/mobile/aug__0_2357.jpeg', 'Training_data/wheel/aug__0_910.jpeg', 'Training_data/wheel/aug__0_8315.jpeg', 'Training_data/wheel/aug__0_340.jpeg', 'Training_data/mobile/aug__0_5191.jpeg', 'Training_data/mobile/aug__0_8376.jpeg', 'Training_data/mobile/aug__0_1166.jpeg', 'Training_data/mobile/aug__0_4236.jpeg', 'Training_data/wheel/aug__0_8319.jpeg', 'Training_data/wheel/aug__0_6067.jpeg', 'Training_data/wheel/aug__0_1851.jpeg', 'Training_data/mobile/aug__0_762.jpeg', 'Training_data/wheel/aug__0_62.jpeg', 'Training_data/mobile/aug__0_5279.jpeg', 'Training_data/wheel/aug__0_2325.jpeg', 'Training_data/mobile/aug__0_4323.jpeg', 'Training_data/wheel/aug__0_2384.jpeg', 'Training_data/wheel/aug__0_5229.jpeg', 'Training_data/mobile/aug__0_7543.jpeg', 'Training_data/wheel/aug__0_6490.jpeg', 'Training_data/wheel/aug__0_5899.jpeg', 'Training_data/mobile/aug__0_6314.jpeg', 'Training_data/mobile/aug__0_5964.jpeg', 'Training_data/mobile/aug__0_1414.jpeg', 'Training_data/mobile/aug__0_5347.jpeg', 'Training_data/mobile/aug__0_9150.jpeg', 'Training_data/mobile/aug__0_2771.jpeg', 'Training_data/wheel/aug__0_3069.jpeg', 'Training_data/mobile/aug__0_4848.jpeg', 'Training_data/wheel/aug__0_4038.jpeg', 'Training_data/wheel/aug__0_9011.jpeg', 'Training_data/mobile/aug__0_7679.jpeg', 'Training_data/wheel/aug__0_8863.jpeg', 'Training_data/mobile/aug__0_7932.jpeg', 'Training_data/wheel/aug__0_796.jpeg', 'Training_data/mobile/aug__0_1567.jpeg', 'Training_data/mobile/aug__0_8085.jpeg', 'Training_data/mobile/aug__0_7870.jpeg', 'Training_data/wheel/aug__0_9899.jpeg', 'Training_data/wheel/aug__0_9538.jpeg', 'Training_data/wheel/aug__0_2107.jpeg', 'Training_data/wheel/aug__0_7053.jpeg', 'Training_data/mobile/aug__0_4607.jpeg', 'Training_data/wheel/aug__0_6588.jpeg', 'Training_data/wheel/aug__0_4134.jpeg', 'Training_data/wheel/aug__0_2117.jpeg', 'Training_data/mobile/aug__0_845.jpeg', 'Training_data/wheel/aug__0_4294.jpeg', 'Training_data/wheel/aug__0_6471.jpeg', 'Training_data/wheel/aug__0_8958.jpeg', 'Training_data/mobile/aug__0_280.jpeg', 'Training_data/wheel/aug__0_5164.jpeg', 'Training_data/mobile/aug__0_366.jpeg', 'Training_data/mobile/aug__0_182.jpeg', 'Training_data/mobile/aug__0_4598.jpeg', 'Training_data/mobile/aug__0_4473.jpeg', 'Training_data/wheel/aug__0_5354.jpeg', 'Training_data/mobile/aug__0_910.jpeg', 'Training_data/wheel/aug__0_2155.jpeg', 'Training_data/wheel/aug__0_417.jpeg', 'Training_data/wheel/aug__0_2431.jpeg', 'Training_data/mobile/aug__0_653.jpeg', 'Training_data/wheel/aug__0_5066.jpeg', 'Training_data/wheel/aug__0_992.jpeg', 'Training_data/mobile/aug__0_128.jpeg', 'Training_data/wheel/aug__0_9666.jpeg', 'Training_data/wheel/aug__0_1657.jpeg', 'Training_data/wheel/aug__0_595.jpeg', 'Training_data/mobile/aug__0_9311.jpeg', 'Training_data/mobile/aug__0_4393.jpeg', 'Training_data/mobile/aug__0_4287.jpeg', 'Training_data/wheel/aug__0_4435.jpeg', 'Training_data/wheel/aug__0_5447.jpeg', 'Training_data/wheel/aug__0_121.jpeg', 'Training_data/wheel/aug__0_8895.jpeg', 'Training_data/wheel/aug__0_8519.jpeg', 'Training_data/mobile/aug__0_7254.jpeg', 'Training_data/wheel/aug__0_1514.jpeg', 'Training_data/wheel/aug__0_7283.jpeg', 'Training_data/mobile/aug__0_1023.jpeg', 'Training_data/wheel/aug__0_6759.jpeg', 'Training_data/mobile/aug__0_7339.jpeg', 'Training_data/wheel/aug__0_5660.jpeg', 'Training_data/wheel/aug__0_2735.jpeg', 'Training_data/wheel/aug__0_9155.jpeg', 'Training_data/mobile/aug__0_339.jpeg', 'Training_data/mobile/aug__0_287.jpeg', 'Training_data/wheel/aug__0_3949.jpeg', 'Training_data/wheel/aug__0_8833.jpeg', 'Training_data/wheel/aug__0_7846.jpeg', 'Training_data/wheel/aug__0_4409.jpeg', 'Training_data/mobile/aug__0_7073.jpeg', 'Training_data/wheel/aug__0_6930.jpeg', 'Training_data/wheel/aug__0_381.jpeg', 'Training_data/wheel/aug__0_3285.jpeg', 'Training_data/wheel/aug__0_2167.jpeg', 'Training_data/wheel/aug__0_2905.jpeg', 'Training_data/wheel/aug__0_7616.jpeg', 'Training_data/wheel/aug__0_8067.jpeg', 'Training_data/mobile/aug__0_5704.jpeg', 'Training_data/mobile/aug__0_4605.jpeg', 'Training_data/wheel/aug__0_1781.jpeg', 'Training_data/wheel/aug__0_876.jpeg', 'Training_data/wheel/aug__0_6447.jpeg', 'Training_data/wheel/aug__0_898.jpeg', 'Training_data/mobile/aug__0_9580.jpeg', 'Training_data/wheel/aug__0_276.jpeg', 'Training_data/mobile/aug__0_8586.jpeg', 'Training_data/mobile/aug__0_7843.jpeg', 'Training_data/wheel/aug__0_9053.jpeg', 'Training_data/wheel/aug__0_2512.jpeg', 'Training_data/wheel/aug__0_4576.jpeg', 'Training_data/wheel/aug__0_9223.jpeg', 'Training_data/mobile/aug__0_8801.jpeg', 'Training_data/wheel/aug__0_5556.jpeg', 'Training_data/wheel/aug__0_287.jpeg', 'Training_data/mobile/aug__0_2087.jpeg', 'Training_data/wheel/aug__0_8396.jpeg', 'Training_data/wheel/aug__0_4183.jpeg', 'Training_data/mobile/aug__0_7042.jpeg', 'Training_data/mobile/aug__0_5647.jpeg', 'Training_data/mobile/aug__0_9596.jpeg', 'Training_data/mobile/aug__0_8035.jpeg', 'Training_data/mobile/aug__0_474.jpeg', 'Training_data/mobile/aug__0_2593.jpeg', 'Training_data/mobile/aug__0_7920.jpeg', 'Training_data/wheel/aug__0_7305.jpeg', 'Training_data/mobile/aug__0_3970.jpeg', 'Training_data/wheel/aug__0_9544.jpeg', 'Training_data/mobile/aug__0_4694.jpeg', 'Training_data/mobile/aug__0_9196.jpeg', 'Training_data/wheel/aug__0_3684.jpeg', 'Training_data/mobile/aug__0_8323.jpeg', 'Training_data/mobile/aug__0_9531.jpeg', 'Training_data/mobile/aug__0_4797.jpeg', 'Training_data/wheel/aug__0_9557.jpeg', 'Training_data/mobile/aug__0_8010.jpeg', 'Training_data/mobile/aug__0_3912.jpeg', 'Training_data/wheel/aug__0_5568.jpeg', 'Training_data/mobile/aug__0_4478.jpeg', 'Training_data/wheel/aug__0_7623.jpeg', 'Training_data/wheel/aug__0_3466.jpeg', 'Training_data/mobile/aug__0_3659.jpeg', 'Training_data/mobile/aug__0_4915.jpeg', 'Training_data/wheel/aug__0_5713.jpeg', 'Training_data/wheel/aug__0_5528.jpeg', 'Training_data/mobile/aug__0_7195.jpeg', 'Training_data/wheel/aug__0_4173.jpeg', 'Training_data/wheel/aug__0_9253.jpeg', 'Training_data/mobile/aug__0_2916.jpeg', 'Training_data/mobile/aug__0_8683.jpeg', 'Training_data/mobile/aug__0_8844.jpeg', 'Training_data/wheel/aug__0_1411.jpeg', 'Training_data/wheel/aug__0_1628.jpeg', 'Training_data/mobile/aug__0_7442.jpeg', 'Training_data/wheel/aug__0_8811.jpeg', 'Training_data/wheel/aug__0_5803.jpeg', 'Training_data/wheel/aug__0_6101.jpeg', 'Training_data/wheel/aug__0_5653.jpeg', 'Training_data/mobile/aug__0_8226.jpeg', 'Training_data/wheel/aug__0_3545.jpeg', 'Training_data/wheel/aug__0_7035.jpeg', 'Training_data/wheel/aug__0_5769.jpeg', 'Training_data/mobile/aug__0_4341.jpeg', 'Training_data/mobile/aug__0_6821.jpeg', 'Training_data/mobile/aug__0_5931.jpeg', 'Training_data/mobile/aug__0_8221.jpeg', 'Training_data/mobile/aug__0_9786.jpeg', 'Training_data/wheel/aug__0_5646.jpeg', 'Training_data/mobile/aug__0_2255.jpeg', 'Training_data/mobile/aug__0_4379.jpeg', 'Training_data/wheel/aug__0_3354.jpeg', 'Training_data/wheel/aug__0_2101.jpeg', 'Training_data/wheel/aug__0_8730.jpeg', 'Training_data/wheel/aug__0_1231.jpeg', 'Training_data/mobile/aug__0_519.jpeg', 'Training_data/mobile/aug__0_8430.jpeg', 'Training_data/wheel/aug__0_6212.jpeg', 'Training_data/wheel/aug__0_5654.jpeg', 'Training_data/mobile/aug__0_2103.jpeg', 'Training_data/wheel/aug__0_2470.jpeg', 'Training_data/wheel/aug__0_4666.jpeg', 'Training_data/wheel/aug__0_7340.jpeg', 'Training_data/wheel/aug__0_1548.jpeg', 'Training_data/wheel/aug__0_9952.jpeg', 'Training_data/wheel/aug__0_9292.jpeg', 'Training_data/wheel/aug__0_6414.jpeg', 'Training_data/wheel/aug__0_8872.jpeg', 'Training_data/mobile/aug__0_7174.jpeg', 'Training_data/mobile/aug__0_9418.jpeg', 'Training_data/wheel/aug__0_4783.jpeg', 'Training_data/mobile/aug__0_2077.jpeg', 'Training_data/wheel/aug__0_9785.jpeg', 'Training_data/wheel/aug__0_8461.jpeg', 'Training_data/mobile/aug__0_1499.jpeg', 'Training_data/mobile/aug__0_2625.jpeg', 'Training_data/mobile/aug__0_2412.jpeg', 'Training_data/mobile/aug__0_3815.jpeg', 'Training_data/mobile/aug__0_7692.jpeg', 'Training_data/mobile/aug__0_7652.jpeg', 'Training_data/wheel/aug__0_1090.jpeg', 'Training_data/mobile/aug__0_7157.jpeg', 'Training_data/mobile/aug__0_2641.jpeg', 'Training_data/mobile/aug__0_5622.jpeg', 'Training_data/mobile/aug__0_5715.jpeg', 'Training_data/wheel/aug__0_3694.jpeg', 'Training_data/mobile/aug__0_8351.jpeg', 'Training_data/wheel/aug__0_5767.jpeg', 'Training_data/wheel/aug__0_6869.jpeg', 'Training_data/wheel/aug__0_3804.jpeg', 'Training_data/wheel/aug__0_67.jpeg', 'Training_data/mobile/aug__0_9051.jpeg', 'Training_data/wheel/aug__0_5862.jpeg', 'Training_data/wheel/aug__0_2041.jpeg', 'Training_data/mobile/aug__0_4557.jpeg', 'Training_data/mobile/aug__0_5259.jpeg', 'Training_data/mobile/aug__0_1455.jpeg', 'Training_data/mobile/aug__0_9372.jpeg', 'Training_data/mobile/aug__0_7337.jpeg', 'Training_data/wheel/aug__0_7403.jpeg', 'Training_data/mobile/aug__0_7992.jpeg', 'Training_data/wheel/aug__0_2739.jpeg', 'Training_data/mobile/aug__0_8373.jpeg', 'Training_data/wheel/aug__0_9642.jpeg', 'Training_data/wheel/aug__0_6455.jpeg', 'Training_data/wheel/aug__0_3925.jpeg', 'Training_data/wheel/aug__0_8472.jpeg', 'Training_data/mobile/aug__0_9316.jpeg', 'Training_data/mobile/aug__0_4676.jpeg', 'Training_data/wheel/aug__0_9815.jpeg', 'Training_data/wheel/aug__0_4003.jpeg', 'Training_data/wheel/aug__0_6465.jpeg', 'Training_data/wheel/aug__0_6274.jpeg', 'Training_data/mobile/aug__0_652.jpeg', 'Training_data/wheel/aug__0_5932.jpeg', 'Training_data/mobile/aug__0_874.jpeg', 'Training_data/wheel/aug__0_3948.jpeg', 'Training_data/mobile/aug__0_2896.jpeg', 'Training_data/mobile/aug__0_840.jpeg', 'Training_data/mobile/aug__0_570.jpeg', 'Training_data/wheel/aug__0_9235.jpeg', 'Training_data/mobile/aug__0_624.jpeg', 'Training_data/mobile/aug__0_4498.jpeg', 'Training_data/wheel/aug__0_3634.jpeg', 'Training_data/wheel/aug__0_6965.jpeg', 'Training_data/wheel/aug__0_907.jpeg', 'Training_data/wheel/aug__0_3206.jpeg', 'Training_data/wheel/aug__0_360.jpeg', 'Training_data/mobile/aug__0_4385.jpeg', 'Training_data/wheel/aug__0_8055.jpeg', 'Training_data/wheel/aug__0_9988.jpeg', 'Training_data/mobile/aug__0_3005.jpeg', 'Training_data/mobile/aug__0_6122.jpeg', 'Training_data/mobile/aug__0_8802.jpeg', 'Training_data/wheel/aug__0_2852.jpeg', 'Training_data/wheel/aug__0_59.jpeg', 'Training_data/mobile/aug__0_7648.jpeg', 'Training_data/mobile/aug__0_9352.jpeg', 'Training_data/wheel/aug__0_229.jpeg', 'Training_data/mobile/aug__0_247.jpeg', 'Training_data/mobile/aug__0_5172.jpeg', 'Training_data/mobile/aug__0_356.jpeg', 'Training_data/mobile/aug__0_3740.jpeg', 'Training_data/mobile/aug__0_7576.jpeg', 'Training_data/mobile/aug__0_3967.jpeg', 'Training_data/wheel/aug__0_9317.jpeg', 'Training_data/mobile/aug__0_6434.jpeg', 'Training_data/mobile/aug__0_7748.jpeg', 'Training_data/mobile/aug__0_6795.jpeg', 'Training_data/wheel/aug__0_2465.jpeg', 'Training_data/mobile/aug__0_8894.jpeg', 'Training_data/wheel/aug__0_2483.jpeg', 'Training_data/mobile/aug__0_780.jpeg', 'Training_data/mobile/aug__0_3091.jpeg', 'Training_data/mobile/aug__0_4415.jpeg', 'Training_data/mobile/aug__0_328.jpeg', 'Training_data/mobile/aug__0_796.jpeg', 'Training_data/mobile/aug__0_4316.jpeg', 'Training_data/wheel/aug__0_734.jpeg', 'Training_data/wheel/aug__0_5505.jpeg', 'Training_data/wheel/aug__0_2881.jpeg', 'Training_data/mobile/aug__0_847.jpeg', 'Training_data/mobile/aug__0_1305.jpeg', 'Training_data/mobile/aug__0_9865.jpeg', 'Training_data/wheel/aug__0_909.jpeg', 'Training_data/wheel/aug__0_4526.jpeg', 'Training_data/wheel/aug__0_5265.jpeg', 'Training_data/mobile/aug__0_3410.jpeg', 'Training_data/mobile/aug__0_8893.jpeg', 'Training_data/mobile/aug__0_9132.jpeg', 'Training_data/mobile/aug__0_469.jpeg', 'Training_data/wheel/aug__0_221.jpeg', 'Training_data/wheel/aug__0_3938.jpeg', 'Training_data/wheel/aug__0_2075.jpeg', 'Training_data/mobile/aug__0_2093.jpeg', 'Training_data/wheel/aug__0_7746.jpeg', 'Training_data/wheel/aug__0_5851.jpeg', 'Training_data/wheel/aug__0_2027.jpeg', 'Training_data/wheel/aug__0_5196.jpeg', 'Training_data/wheel/aug__0_7811.jpeg', 'Training_data/mobile/aug__0_9047.jpeg', 'Training_data/wheel/aug__0_3799.jpeg', 'Training_data/wheel/aug__0_5279.jpeg', 'Training_data/mobile/aug__0_3212.jpeg', 'Training_data/mobile/aug__0_1312.jpeg', 'Training_data/mobile/aug__0_4596.jpeg', 'Training_data/wheel/aug__0_226.jpeg', 'Training_data/mobile/aug__0_3437.jpeg', 'Training_data/mobile/aug__0_2937.jpeg', 'Training_data/mobile/aug__0_5853.jpeg', 'Training_data/mobile/aug__0_8561.jpeg', 'Training_data/wheel/aug__0_6364.jpeg', 'Training_data/wheel/aug__0_1647.jpeg', 'Training_data/wheel/aug__0_7002.jpeg', 'Training_data/wheel/aug__0_4714.jpeg', 'Training_data/wheel/aug__0_3375.jpeg', 'Training_data/wheel/aug__0_8526.jpeg', 'Training_data/wheel/aug__0_7816.jpeg', 'Training_data/mobile/aug__0_7818.jpeg', 'Training_data/mobile/aug__0_6355.jpeg', 'Training_data/mobile/aug__0_2663.jpeg', 'Training_data/wheel/aug__0_9693.jpeg', 'Training_data/mobile/aug__0_1613.jpeg', 'Training_data/wheel/aug__0_9644.jpeg', 'Training_data/wheel/aug__0_5594.jpeg', 'Training_data/wheel/aug__0_2996.jpeg', 'Training_data/wheel/aug__0_4604.jpeg', 'Training_data/mobile/aug__0_1870.jpeg', 'Training_data/wheel/aug__0_270.jpeg', 'Training_data/wheel/aug__0_2787.jpeg', 'Training_data/mobile/aug__0_3520.jpeg', 'Training_data/wheel/aug__0_1486.jpeg', 'Training_data/mobile/aug__0_1677.jpeg', 'Training_data/wheel/aug__0_119.jpeg', 'Training_data/wheel/aug__0_2477.jpeg', 'Training_data/wheel/aug__0_2299.jpeg', 'Training_data/mobile/aug__0_8116.jpeg', 'Training_data/wheel/aug__0_3294.jpeg', 'Training_data/wheel/aug__0_4366.jpeg', 'Training_data/wheel/aug__0_5989.jpeg', 'Training_data/mobile/aug__0_4658.jpeg', 'Training_data/wheel/aug__0_9162.jpeg', 'Training_data/mobile/aug__0_3188.jpeg', 'Training_data/wheel/aug__0_2605.jpeg', 'Training_data/wheel/aug__0_7117.jpeg', 'Training_data/mobile/aug__0_7473.jpeg', 'Training_data/wheel/aug__0_1621.jpeg', 'Training_data/mobile/aug__0_2214.jpeg', 'Training_data/mobile/aug__0_9129.jpeg', 'Training_data/wheel/aug__0_3106.jpeg', 'Training_data/wheel/aug__0_9964.jpeg', 'Training_data/wheel/aug__0_4342.jpeg', 'Training_data/wheel/aug__0_9095.jpeg', 'Training_data/mobile/aug__0_8979.jpeg', 'Training_data/mobile/aug__0_6311.jpeg', 'Training_data/mobile/aug__0_2181.jpeg', 'Training_data/wheel/aug__0_4208.jpeg', 'Training_data/mobile/aug__0_8195.jpeg', 'Training_data/mobile/aug__0_7630.jpeg', 'Training_data/mobile/aug__0_1595.jpeg', 'Training_data/wheel/aug__0_7611.jpeg', 'Training_data/mobile/aug__0_454.jpeg', 'Training_data/wheel/aug__0_7703.jpeg', 'Training_data/mobile/aug__0_4504.jpeg', 'Training_data/mobile/aug__0_3200.jpeg', 'Training_data/wheel/aug__0_6235.jpeg', 'Training_data/mobile/aug__0_7371.jpeg', 'Training_data/wheel/aug__0_9200.jpeg', 'Training_data/wheel/aug__0_9340.jpeg', 'Training_data/mobile/aug__0_9913.jpeg', 'Training_data/mobile/aug__0_363.jpeg', 'Training_data/wheel/aug__0_3134.jpeg', 'Training_data/wheel/aug__0_3589.jpeg', 'Training_data/wheel/aug__0_1166.jpeg', 'Training_data/mobile/aug__0_8168.jpeg', 'Training_data/wheel/aug__0_6875.jpeg', 'Training_data/wheel/aug__0_9041.jpeg', 'Training_data/wheel/aug__0_1835.jpeg', 'Training_data/wheel/aug__0_4757.jpeg', 'Training_data/wheel/aug__0_1752.jpeg', 'Training_data/wheel/aug__0_7299.jpeg', 'Training_data/wheel/aug__0_6934.jpeg', 'Training_data/mobile/aug__0_9333.jpeg', 'Training_data/mobile/aug__0_8795.jpeg', 'Training_data/wheel/aug__0_6203.jpeg', 'Training_data/wheel/aug__0_6773.jpeg', 'Training_data/mobile/aug__0_1370.jpeg', 'Training_data/mobile/aug__0_1424.jpeg', 'Training_data/wheel/aug__0_4314.jpeg', 'Training_data/wheel/aug__0_668.jpeg', 'Training_data/wheel/aug__0_9686.jpeg', 'Training_data/mobile/aug__0_6969.jpeg', 'Training_data/mobile/aug__0_5273.jpeg', 'Training_data/wheel/aug__0_7292.jpeg', 'Training_data/mobile/aug__0_3088.jpeg', 'Training_data/wheel/aug__0_2617.jpeg', 'Training_data/wheel/aug__0_1607.jpeg', 'Training_data/mobile/aug__0_5309.jpeg', 'Training_data/wheel/aug__0_2422.jpeg', 'Training_data/wheel/aug__0_7.jpeg', 'Training_data/wheel/aug__0_625.jpeg', 'Training_data/wheel/aug__0_1541.jpeg', 'Training_data/wheel/aug__0_6020.jpeg', 'Training_data/mobile/aug__0_4544.jpeg', 'Training_data/mobile/aug__0_8815.jpeg', 'Training_data/mobile/aug__0_2196.jpeg', 'Training_data/wheel/aug__0_3390.jpeg', 'Training_data/wheel/aug__0_5957.jpeg', 'Training_data/mobile/aug__0_8425.jpeg', 'Training_data/mobile/aug__0_4703.jpeg', 'Training_data/mobile/aug__0_8453.jpeg', 'Training_data/mobile/aug__0_6535.jpeg', 'Training_data/wheel/aug__0_7243.jpeg', 'Training_data/wheel/aug__0_2551.jpeg', 'Training_data/wheel/aug__0_1281.jpeg', 'Training_data/mobile/aug__0_2281.jpeg', 'Training_data/mobile/aug__0_1696.jpeg', 'Training_data/mobile/aug__0_9468.jpeg', 'Training_data/wheel/aug__0_1892.jpeg', 'Training_data/wheel/aug__0_772.jpeg', 'Training_data/wheel/aug__0_3669.jpeg', 'Training_data/wheel/aug__0_8864.jpeg', 'Training_data/mobile/aug__0_3382.jpeg', 'Training_data/mobile/aug__0_2498.jpeg', 'Training_data/mobile/aug__0_8309.jpeg', 'Training_data/mobile/aug__0_5610.jpeg', 'Training_data/wheel/aug__0_4838.jpeg', 'Training_data/mobile/aug__0_4534.jpeg', 'Training_data/mobile/aug__0_9366.jpeg', 'Training_data/wheel/aug__0_9656.jpeg', 'Training_data/wheel/aug__0_1767.jpeg', 'Training_data/wheel/aug__0_8913.jpeg', 'Training_data/wheel/aug__0_3358.jpeg', 'Training_data/wheel/aug__0_896.jpeg', 'Training_data/mobile/aug__0_6837.jpeg', 'Training_data/wheel/aug__0_194.jpeg', 'Training_data/mobile/aug__0_8527.jpeg', 'Training_data/mobile/aug__0_4514.jpeg', 'Training_data/mobile/aug__0_8091.jpeg', 'Training_data/mobile/aug__0_1331.jpeg', 'Training_data/wheel/aug__0_8780.jpeg', 'Training_data/wheel/aug__0_9029.jpeg', 'Training_data/wheel/aug__0_8179.jpeg', 'Training_data/mobile/aug__0_198.jpeg', 'Training_data/wheel/aug__0_271.jpeg', 'Training_data/mobile/aug__0_7544.jpeg', 'Training_data/mobile/aug__0_2769.jpeg', 'Training_data/wheel/aug__0_8534.jpeg', 'Training_data/wheel/aug__0_2403.jpeg', 'Training_data/mobile/aug__0_3175.jpeg', 'Training_data/mobile/aug__0_3682.jpeg', 'Training_data/wheel/aug__0_4820.jpeg', 'Training_data/wheel/aug__0_1793.jpeg', 'Training_data/wheel/aug__0_3873.jpeg', 'Training_data/wheel/aug__0_808.jpeg', 'Training_data/mobile/aug__0_1088.jpeg', 'Training_data/mobile/aug__0_3568.jpeg', 'Training_data/mobile/aug__0_4706.jpeg', 'Training_data/mobile/aug__0_125.jpeg', 'Training_data/wheel/aug__0_7896.jpeg', 'Training_data/wheel/aug__0_3761.jpeg', 'Training_data/mobile/aug__0_6462.jpeg', 'Training_data/mobile/aug__0_975.jpeg', 'Training_data/mobile/aug__0_8135.jpeg', 'Training_data/wheel/aug__0_9478.jpeg', 'Training_data/mobile/aug__0_3207.jpeg', 'Training_data/mobile/aug__0_2078.jpeg', 'Training_data/wheel/aug__0_1512.jpeg', 'Training_data/wheel/aug__0_9224.jpeg', 'Training_data/mobile/aug__0_2848.jpeg', 'Training_data/mobile/aug__0_3841.jpeg', 'Training_data/wheel/aug__0_7693.jpeg', 'Training_data/wheel/aug__0_8686.jpeg', 'Training_data/wheel/aug__0_3639.jpeg', 'Training_data/wheel/aug__0_5458.jpeg', 'Training_data/mobile/aug__0_8102.jpeg', 'Training_data/mobile/aug__0_8030.jpeg', 'Training_data/mobile/aug__0_8627.jpeg', 'Training_data/wheel/aug__0_1432.jpeg', 'Training_data/wheel/aug__0_783.jpeg', 'Training_data/mobile/aug__0_6103.jpeg', 'Training_data/wheel/aug__0_7406.jpeg', 'Training_data/wheel/aug__0_9148.jpeg', 'Training_data/mobile/aug__0_1095.jpeg', 'Training_data/wheel/aug__0_638.jpeg', 'Training_data/mobile/aug__0_5227.jpeg', 'Training_data/wheel/aug__0_4150.jpeg', 'Training_data/mobile/aug__0_7096.jpeg', 'Training_data/wheel/aug__0_1278.jpeg', 'Training_data/mobile/aug__0_991.jpeg', 'Training_data/wheel/aug__0_9006.jpeg', 'Training_data/mobile/aug__0_654.jpeg', 'Training_data/wheel/aug__0_6924.jpeg', 'Training_data/mobile/aug__0_3251.jpeg', 'Training_data/mobile/aug__0_6924.jpeg', 'Training_data/wheel/aug__0_2149.jpeg', 'Training_data/wheel/aug__0_3548.jpeg', 'Training_data/mobile/aug__0_1741.jpeg', 'Training_data/mobile/aug__0_9117.jpeg', 'Training_data/mobile/aug__0_2561.jpeg', 'Training_data/mobile/aug__0_2668.jpeg', 'Training_data/wheel/aug__0_5062.jpeg', 'Training_data/mobile/aug__0_8892.jpeg', 'Training_data/wheel/aug__0_4563.jpeg', 'Training_data/mobile/aug__0_3276.jpeg', 'Training_data/wheel/aug__0_3815.jpeg', 'Training_data/mobile/aug__0_5044.jpeg', 'Training_data/mobile/aug__0_4604.jpeg', 'Training_data/wheel/aug__0_1693.jpeg', 'Training_data/mobile/aug__0_3742.jpeg', 'Training_data/mobile/aug__0_1541.jpeg', 'Training_data/wheel/aug__0_4954.jpeg', 'Training_data/mobile/aug__0_1429.jpeg', 'Training_data/mobile/aug__0_8490.jpeg', 'Training_data/mobile/aug__0_381.jpeg', 'Training_data/mobile/aug__0_2510.jpeg', 'Training_data/mobile/aug__0_515.jpeg', 'Training_data/mobile/aug__0_7858.jpeg', 'Training_data/mobile/aug__0_7015.jpeg', 'Training_data/mobile/aug__0_2.jpeg', 'Training_data/mobile/aug__0_5054.jpeg', 'Training_data/mobile/aug__0_193.jpeg', 'Training_data/mobile/aug__0_3161.jpeg', 'Training_data/mobile/aug__0_8526.jpeg', 'Training_data/wheel/aug__0_1850.jpeg', 'Training_data/mobile/aug__0_3195.jpeg', 'Training_data/mobile/aug__0_1636.jpeg', 'Training_data/mobile/aug__0_6884.jpeg', 'Training_data/mobile/aug__0_1355.jpeg', 'Training_data/wheel/aug__0_1885.jpeg', 'Training_data/wheel/aug__0_2298.jpeg', 'Training_data/mobile/aug__0_6974.jpeg', 'Training_data/mobile/aug__0_403.jpeg', 'Training_data/wheel/aug__0_1249.jpeg', 'Training_data/wheel/aug__0_4817.jpeg', 'Training_data/mobile/aug__0_925.jpeg', 'Training_data/mobile/aug__0_4161.jpeg', 'Training_data/mobile/aug__0_9335.jpeg', 'Training_data/wheel/aug__0_7775.jpeg', 'Training_data/wheel/aug__0_3891.jpeg', 'Training_data/mobile/aug__0_7635.jpeg', 'Training_data/wheel/aug__0_6011.jpeg', 'Training_data/mobile/aug__0_4269.jpeg', 'Training_data/wheel/aug__0_5881.jpeg', 'Training_data/wheel/aug__0_3425.jpeg', 'Training_data/wheel/aug__0_8448.jpeg', 'Training_data/wheel/aug__0_3447.jpeg', 'Training_data/wheel/aug__0_2889.jpeg', 'Training_data/mobile/aug__0_4834.jpeg', 'Training_data/mobile/aug__0_2295.jpeg', 'Training_data/mobile/aug__0_1151.jpeg', 'Training_data/mobile/aug__0_8264.jpeg', 'Training_data/wheel/aug__0_8681.jpeg', 'Training_data/wheel/aug__0_5034.jpeg', 'Training_data/mobile/aug__0_5118.jpeg', 'Training_data/wheel/aug__0_2908.jpeg', 'Training_data/mobile/aug__0_422.jpeg', 'Training_data/mobile/aug__0_6615.jpeg', 'Training_data/wheel/aug__0_1876.jpeg', 'Training_data/mobile/aug__0_2215.jpeg', 'Training_data/wheel/aug__0_4861.jpeg', 'Training_data/mobile/aug__0_8876.jpeg', 'Training_data/wheel/aug__0_9691.jpeg', 'Training_data/wheel/aug__0_3733.jpeg', 'Training_data/mobile/aug__0_7331.jpeg', 'Training_data/wheel/aug__0_4703.jpeg', 'Training_data/mobile/aug__0_4628.jpeg', 'Training_data/wheel/aug__0_3797.jpeg', 'Training_data/wheel/aug__0_4965.jpeg', 'Training_data/wheel/aug__0_3567.jpeg', 'Training_data/mobile/aug__0_1405.jpeg', 'Training_data/mobile/aug__0_484.jpeg', 'Training_data/wheel/aug__0_8760.jpeg', 'Training_data/wheel/aug__0_8956.jpeg', 'Training_data/wheel/aug__0_3431.jpeg', 'Training_data/wheel/aug__0_1844.jpeg', 'Training_data/wheel/aug__0_5869.jpeg', 'Training_data/wheel/aug__0_7066.jpeg', 'Training_data/mobile/aug__0_407.jpeg', 'Training_data/wheel/aug__0_4725.jpeg', 'Training_data/mobile/aug__0_461.jpeg', 'Training_data/wheel/aug__0_9765.jpeg', 'Training_data/wheel/aug__0_6515.jpeg', 'Training_data/wheel/aug__0_777.jpeg', 'Training_data/mobile/aug__0_4327.jpeg', 'Training_data/mobile/aug__0_5440.jpeg', 'Training_data/mobile/aug__0_6009.jpeg', 'Training_data/wheel/aug__0_9927.jpeg', 'Training_data/mobile/aug__0_9630.jpeg', 'Training_data/wheel/aug__0_3846.jpeg', 'Training_data/mobile/aug__0_7279.jpeg', 'Training_data/mobile/aug__0_651.jpeg', 'Training_data/mobile/aug__0_9180.jpeg', 'Training_data/wheel/aug__0_5254.jpeg', 'Training_data/wheel/aug__0_7904.jpeg', 'Training_data/wheel/aug__0_2919.jpeg', 'Training_data/wheel/aug__0_7007.jpeg', 'Training_data/wheel/aug__0_9259.jpeg', 'Training_data/mobile/aug__0_5683.jpeg', 'Training_data/wheel/aug__0_1551.jpeg', 'Training_data/mobile/aug__0_4894.jpeg', 'Training_data/mobile/aug__0_36.jpeg', 'Training_data/mobile/aug__0_1649.jpeg', 'Training_data/wheel/aug__0_6243.jpeg', 'Training_data/wheel/aug__0_755.jpeg', 'Training_data/mobile/aug__0_5688.jpeg', 'Training_data/wheel/aug__0_5724.jpeg', 'Training_data/mobile/aug__0_2770.jpeg', 'Training_data/wheel/aug__0_445.jpeg', 'Training_data/wheel/aug__0_6935.jpeg', 'Training_data/mobile/aug__0_8428.jpeg', 'Training_data/mobile/aug__0_5211.jpeg', 'Training_data/mobile/aug__0_3265.jpeg', 'Training_data/mobile/aug__0_5327.jpeg', 'Training_data/wheel/aug__0_2122.jpeg', 'Training_data/mobile/aug__0_4896.jpeg', 'Training_data/mobile/aug__0_3555.jpeg', 'Training_data/mobile/aug__0_7757.jpeg', 'Training_data/wheel/aug__0_9135.jpeg', 'Training_data/mobile/aug__0_9927.jpeg', 'Training_data/mobile/aug__0_7835.jpeg', 'Training_data/mobile/aug__0_8635.jpeg', 'Training_data/mobile/aug__0_2407.jpeg', 'Training_data/mobile/aug__0_9641.jpeg', 'Training_data/wheel/aug__0_6563.jpeg', 'Training_data/wheel/aug__0_1872.jpeg', 'Training_data/wheel/aug__0_151.jpeg', 'Training_data/mobile/aug__0_9674.jpeg', 'Training_data/mobile/aug__0_1949.jpeg', 'Training_data/mobile/aug__0_4803.jpeg', 'Training_data/wheel/aug__0_1018.jpeg', 'Training_data/wheel/aug__0_7366.jpeg', 'Training_data/mobile/aug__0_6182.jpeg', 'Training_data/wheel/aug__0_5652.jpeg', 'Training_data/mobile/aug__0_2441.jpeg', 'Training_data/wheel/aug__0_7965.jpeg', 'Training_data/wheel/aug__0_1598.jpeg', 'Training_data/mobile/aug__0_6807.jpeg', 'Training_data/mobile/aug__0_6992.jpeg', 'Training_data/mobile/aug__0_1296.jpeg', 'Training_data/wheel/aug__0_6362.jpeg', 'Training_data/mobile/aug__0_5454.jpeg', 'Training_data/mobile/aug__0_7668.jpeg', 'Training_data/wheel/aug__0_9450.jpeg', 'Training_data/mobile/aug__0_3685.jpeg', 'Training_data/mobile/aug__0_2233.jpeg', 'Training_data/wheel/aug__0_3458.jpeg', 'Training_data/wheel/aug__0_3657.jpeg', 'Training_data/wheel/aug__0_9625.jpeg', 'Training_data/wheel/aug__0_1528.jpeg', 'Training_data/mobile/aug__0_8824.jpeg', 'Training_data/wheel/aug__0_3751.jpeg', 'Training_data/mobile/aug__0_9770.jpeg', 'Training_data/wheel/aug__0_4119.jpeg', 'Training_data/wheel/aug__0_5308.jpeg', 'Training_data/wheel/aug__0_6459.jpeg', 'Training_data/mobile/aug__0_4503.jpeg', 'Training_data/wheel/aug__0_3538.jpeg', 'Training_data/mobile/aug__0_2756.jpeg', 'Training_data/wheel/aug__0_2934.jpeg', 'Training_data/wheel/aug__0_3275.jpeg', 'Training_data/wheel/aug__0_3366.jpeg', 'Training_data/mobile/aug__0_6048.jpeg', 'Training_data/mobile/aug__0_7262.jpeg', 'Training_data/wheel/aug__0_7960.jpeg', 'Training_data/mobile/aug__0_5711.jpeg', 'Training_data/mobile/aug__0_4775.jpeg', 'Training_data/mobile/aug__0_8361.jpeg', 'Training_data/wheel/aug__0_7886.jpeg', 'Training_data/mobile/aug__0_4093.jpeg', 'Training_data/wheel/aug__0_1523.jpeg', 'Training_data/wheel/aug__0_6297.jpeg', 'Training_data/wheel/aug__0_4423.jpeg', 'Training_data/wheel/aug__0_806.jpeg', 'Training_data/mobile/aug__0_1365.jpeg', 'Training_data/wheel/aug__0_9943.jpeg', 'Training_data/wheel/aug__0_9121.jpeg', 'Training_data/wheel/aug__0_6867.jpeg', 'Training_data/wheel/aug__0_8556.jpeg', 'Training_data/wheel/aug__0_4616.jpeg', 'Training_data/mobile/aug__0_9501.jpeg', 'Training_data/wheel/aug__0_7471.jpeg', 'Training_data/mobile/aug__0_7641.jpeg', 'Training_data/mobile/aug__0_4847.jpeg', 'Training_data/wheel/aug__0_8033.jpeg', 'Training_data/wheel/aug__0_6251.jpeg', 'Training_data/mobile/aug__0_207.jpeg', 'Training_data/wheel/aug__0_3931.jpeg', 'Training_data/mobile/aug__0_4067.jpeg', 'Training_data/mobile/aug__0_4227.jpeg', 'Training_data/mobile/aug__0_9997.jpeg', 'Training_data/wheel/aug__0_8764.jpeg', 'Training_data/wheel/aug__0_3594.jpeg', 'Training_data/wheel/aug__0_8279.jpeg', 'Training_data/wheel/aug__0_1445.jpeg', 'Training_data/wheel/aug__0_7097.jpeg', 'Training_data/mobile/aug__0_7041.jpeg', 'Training_data/wheel/aug__0_2666.jpeg', 'Training_data/mobile/aug__0_6561.jpeg', 'Training_data/mobile/aug__0_2679.jpeg', 'Training_data/mobile/aug__0_3612.jpeg', 'Training_data/mobile/aug__0_5133.jpeg', 'Training_data/mobile/aug__0_7210.jpeg', 'Training_data/mobile/aug__0_5749.jpeg', 'Training_data/wheel/aug__0_2293.jpeg', 'Training_data/mobile/aug__0_2622.jpeg', 'Training_data/mobile/aug__0_8227.jpeg', 'Training_data/wheel/aug__0_1949.jpeg', 'Training_data/wheel/aug__0_2699.jpeg', 'Training_data/wheel/aug__0_142.jpeg', 'Training_data/wheel/aug__0_7591.jpeg', 'Training_data/wheel/aug__0_2486.jpeg', 'Training_data/wheel/aug__0_9900.jpeg', 'Training_data/wheel/aug__0_9909.jpeg', 'Training_data/mobile/aug__0_1239.jpeg', 'Training_data/wheel/aug__0_8305.jpeg', 'Training_data/mobile/aug__0_6474.jpeg', 'Training_data/mobile/aug__0_9162.jpeg', 'Training_data/mobile/aug__0_8901.jpeg', 'Training_data/mobile/aug__0_7415.jpeg', 'Training_data/wheel/aug__0_8901.jpeg', 'Training_data/wheel/aug__0_1658.jpeg', 'Training_data/mobile/aug__0_1261.jpeg', 'Training_data/mobile/aug__0_3318.jpeg', 'Training_data/mobile/aug__0_6782.jpeg', 'Training_data/wheel/aug__0_5349.jpeg', 'Training_data/mobile/aug__0_8018.jpeg', 'Training_data/mobile/aug__0_5050.jpeg', 'Training_data/wheel/aug__0_9851.jpeg', 'Training_data/mobile/aug__0_672.jpeg', 'Training_data/wheel/aug__0_9225.jpeg', 'Training_data/wheel/aug__0_9275.jpeg', 'Training_data/wheel/aug__0_8723.jpeg', 'Training_data/wheel/aug__0_8947.jpeg', 'Training_data/mobile/aug__0_561.jpeg', 'Training_data/mobile/aug__0_3536.jpeg', 'Training_data/mobile/aug__0_4754.jpeg', 'Training_data/wheel/aug__0_2722.jpeg', 'Training_data/wheel/aug__0_2192.jpeg', 'Training_data/mobile/aug__0_9965.jpeg', 'Training_data/mobile/aug__0_5286.jpeg', 'Training_data/wheel/aug__0_3283.jpeg', 'Training_data/wheel/aug__0_3227.jpeg', 'Training_data/wheel/aug__0_6796.jpeg', 'Training_data/wheel/aug__0_2099.jpeg', 'Training_data/wheel/aug__0_4951.jpeg', 'Training_data/mobile/aug__0_8162.jpeg', 'Training_data/mobile/aug__0_6667.jpeg', 'Training_data/mobile/aug__0_3908.jpeg', 'Training_data/mobile/aug__0_8519.jpeg', 'Training_data/mobile/aug__0_25.jpeg', 'Training_data/wheel/aug__0_382.jpeg', 'Training_data/wheel/aug__0_5219.jpeg', 'Training_data/wheel/aug__0_7285.jpeg', 'Training_data/mobile/aug__0_884.jpeg', 'Training_data/mobile/aug__0_3462.jpeg', 'Training_data/wheel/aug__0_139.jpeg', 'Training_data/wheel/aug__0_7945.jpeg', 'Training_data/mobile/aug__0_3138.jpeg', 'Training_data/wheel/aug__0_5647.jpeg', 'Training_data/wheel/aug__0_6334.jpeg', 'Training_data/wheel/aug__0_8791.jpeg', 'Training_data/mobile/aug__0_2843.jpeg', 'Training_data/mobile/aug__0_8646.jpeg', 'Training_data/wheel/aug__0_7517.jpeg', 'Training_data/mobile/aug__0_6596.jpeg', 'Training_data/wheel/aug__0_1094.jpeg', 'Training_data/wheel/aug__0_7827.jpeg', 'Training_data/wheel/aug__0_2962.jpeg', 'Training_data/wheel/aug__0_1085.jpeg', 'Training_data/mobile/aug__0_3193.jpeg', 'Training_data/mobile/aug__0_7590.jpeg', 'Training_data/mobile/aug__0_1661.jpeg', 'Training_data/mobile/aug__0_5195.jpeg', 'Training_data/wheel/aug__0_1214.jpeg', 'Training_data/wheel/aug__0_5745.jpeg', 'Training_data/mobile/aug__0_3640.jpeg', 'Training_data/mobile/aug__0_776.jpeg', 'Training_data/mobile/aug__0_3694.jpeg', 'Training_data/mobile/aug__0_3186.jpeg', 'Training_data/mobile/aug__0_1330.jpeg', 'Training_data/mobile/aug__0_374.jpeg', 'Training_data/wheel/aug__0_3915.jpeg', 'Training_data/mobile/aug__0_6654.jpeg', 'Training_data/mobile/aug__0_7601.jpeg', 'Training_data/wheel/aug__0_1240.jpeg', 'Training_data/wheel/aug__0_6080.jpeg', 'Training_data/mobile/aug__0_1001.jpeg', 'Training_data/wheel/aug__0_1073.jpeg', 'Training_data/mobile/aug__0_1687.jpeg', 'Training_data/wheel/aug__0_2159.jpeg', 'Training_data/wheel/aug__0_8352.jpeg', 'Training_data/wheel/aug__0_6211.jpeg', 'Training_data/mobile/aug__0_2428.jpeg', 'Training_data/mobile/aug__0_1785.jpeg', 'Training_data/wheel/aug__0_4308.jpeg', 'Training_data/wheel/aug__0_7218.jpeg', 'Training_data/wheel/aug__0_2455.jpeg', 'Training_data/mobile/aug__0_6972.jpeg', 'Training_data/wheel/aug__0_5693.jpeg', 'Training_data/wheel/aug__0_8466.jpeg', 'Training_data/mobile/aug__0_2026.jpeg', 'Training_data/mobile/aug__0_8068.jpeg', 'Training_data/mobile/aug__0_6817.jpeg', 'Training_data/wheel/aug__0_9828.jpeg', 'Training_data/wheel/aug__0_3901.jpeg', 'Training_data/wheel/aug__0_8147.jpeg', 'Training_data/wheel/aug__0_2694.jpeg', 'Training_data/mobile/aug__0_5021.jpeg', 'Training_data/wheel/aug__0_2402.jpeg', 'Training_data/wheel/aug__0_4015.jpeg', 'Training_data/mobile/aug__0_3788.jpeg', 'Training_data/wheel/aug__0_3513.jpeg', 'Training_data/mobile/aug__0_9685.jpeg', 'Training_data/mobile/aug__0_5186.jpeg', 'Training_data/wheel/aug__0_443.jpeg', 'Training_data/mobile/aug__0_5821.jpeg', 'Training_data/mobile/aug__0_8393.jpeg', 'Training_data/mobile/aug__0_3160.jpeg', 'Training_data/wheel/aug__0_4188.jpeg', 'Training_data/mobile/aug__0_8509.jpeg', 'Training_data/mobile/aug__0_6677.jpeg', 'Training_data/mobile/aug__0_6793.jpeg', 'Training_data/mobile/aug__0_4897.jpeg', 'Training_data/mobile/aug__0_8284.jpeg', 'Training_data/wheel/aug__0_4630.jpeg', 'Training_data/mobile/aug__0_2163.jpeg', 'Training_data/mobile/aug__0_330.jpeg', 'Training_data/mobile/aug__0_1823.jpeg', 'Training_data/mobile/aug__0_3876.jpeg', 'Training_data/wheel/aug__0_1167.jpeg', 'Training_data/mobile/aug__0_6341.jpeg', 'Training_data/mobile/aug__0_8745.jpeg', 'Training_data/mobile/aug__0_2362.jpeg', 'Training_data/wheel/aug__0_5199.jpeg', 'Training_data/wheel/aug__0_9746.jpeg', 'Training_data/wheel/aug__0_5607.jpeg', 'Training_data/wheel/aug__0_8796.jpeg', 'Training_data/mobile/aug__0_6496.jpeg', 'Training_data/mobile/aug__0_1680.jpeg', 'Training_data/mobile/aug__0_5512.jpeg', 'Training_data/mobile/aug__0_4747.jpeg', 'Training_data/mobile/aug__0_1612.jpeg', 'Training_data/wheel/aug__0_7016.jpeg', 'Training_data/wheel/aug__0_8671.jpeg', 'Training_data/wheel/aug__0_5633.jpeg', 'Training_data/wheel/aug__0_7137.jpeg', 'Training_data/wheel/aug__0_2756.jpeg', 'Training_data/wheel/aug__0_6310.jpeg', 'Training_data/wheel/aug__0_2601.jpeg', 'Training_data/wheel/aug__0_1283.jpeg', 'Training_data/mobile/aug__0_2704.jpeg', 'Training_data/mobile/aug__0_4280.jpeg', 'Training_data/wheel/aug__0_3088.jpeg', 'Training_data/wheel/aug__0_1230.jpeg', 'Training_data/wheel/aug__0_1034.jpeg', 'Training_data/mobile/aug__0_6397.jpeg', 'Training_data/wheel/aug__0_3092.jpeg', 'Training_data/wheel/aug__0_5041.jpeg', 'Training_data/wheel/aug__0_2080.jpeg', 'Training_data/wheel/aug__0_5300.jpeg', 'Training_data/mobile/aug__0_6542.jpeg', 'Training_data/mobile/aug__0_2084.jpeg', 'Training_data/wheel/aug__0_9209.jpeg', 'Training_data/mobile/aug__0_6134.jpeg', 'Training_data/mobile/aug__0_3341.jpeg', 'Training_data/mobile/aug__0_129.jpeg', 'Training_data/wheel/aug__0_8802.jpeg', 'Training_data/wheel/aug__0_8391.jpeg', 'Training_data/mobile/aug__0_7897.jpeg', 'Training_data/mobile/aug__0_5205.jpeg', 'Training_data/mobile/aug__0_6642.jpeg', 'Training_data/mobile/aug__0_466.jpeg', 'Training_data/mobile/aug__0_2856.jpeg', 'Training_data/mobile/aug__0_6360.jpeg', 'Training_data/wheel/aug__0_5476.jpeg', 'Training_data/wheel/aug__0_1329.jpeg', 'Training_data/mobile/aug__0_5051.jpeg', 'Training_data/wheel/aug__0_4139.jpeg', 'Training_data/mobile/aug__0_4583.jpeg', 'Training_data/mobile/aug__0_3223.jpeg', 'Training_data/wheel/aug__0_8853.jpeg', 'Training_data/mobile/aug__0_4649.jpeg', 'Training_data/wheel/aug__0_6768.jpeg', 'Training_data/mobile/aug__0_5252.jpeg', 'Training_data/wheel/aug__0_5537.jpeg', 'Training_data/wheel/aug__0_6986.jpeg', 'Training_data/mobile/aug__0_6047.jpeg', 'Training_data/wheel/aug__0_8198.jpeg', 'Training_data/wheel/aug__0_7402.jpeg', 'Training_data/wheel/aug__0_6247.jpeg', 'Training_data/mobile/aug__0_909.jpeg', 'Training_data/wheel/aug__0_9467.jpeg', 'Training_data/wheel/aug__0_2684.jpeg', 'Training_data/wheel/aug__0_2647.jpeg', 'Training_data/mobile/aug__0_6824.jpeg', 'Training_data/mobile/aug__0_5468.jpeg', 'Training_data/wheel/aug__0_4569.jpeg', 'Training_data/mobile/aug__0_5146.jpeg', 'Training_data/mobile/aug__0_6584.jpeg', 'Training_data/mobile/aug__0_2734.jpeg', 'Training_data/mobile/aug__0_1345.jpeg', 'Training_data/mobile/aug__0_9564.jpeg', 'Training_data/wheel/aug__0_1409.jpeg', 'Training_data/wheel/aug__0_1185.jpeg', 'Training_data/mobile/aug__0_5407.jpeg', 'Training_data/wheel/aug__0_5553.jpeg', 'Training_data/wheel/aug__0_502.jpeg', 'Training_data/mobile/aug__0_5418.jpeg', 'Training_data/wheel/aug__0_7829.jpeg', 'Training_data/mobile/aug__0_4631.jpeg', 'Training_data/wheel/aug__0_1899.jpeg', 'Training_data/mobile/aug__0_1238.jpeg', 'Training_data/mobile/aug__0_6187.jpeg', 'Training_data/mobile/aug__0_6304.jpeg', 'Training_data/mobile/aug__0_7527.jpeg', 'Training_data/mobile/aug__0_5720.jpeg', 'Training_data/mobile/aug__0_7768.jpeg', 'Training_data/mobile/aug__0_497.jpeg', 'Training_data/wheel/aug__0_1372.jpeg', 'Training_data/wheel/aug__0_2918.jpeg', 'Training_data/mobile/aug__0_7186.jpeg', 'Training_data/wheel/aug__0_3781.jpeg', 'Training_data/mobile/aug__0_1543.jpeg', 'Training_data/wheel/aug__0_3036.jpeg', 'Training_data/wheel/aug__0_2823.jpeg', 'Training_data/wheel/aug__0_3652.jpeg', 'Training_data/wheel/aug__0_5001.jpeg', 'Training_data/mobile/aug__0_9601.jpeg', 'Training_data/wheel/aug__0_4665.jpeg', 'Training_data/mobile/aug__0_2596.jpeg', 'Training_data/mobile/aug__0_549.jpeg', 'Training_data/mobile/aug__0_7155.jpeg', 'Training_data/mobile/aug__0_5976.jpeg', 'Training_data/wheel/aug__0_3071.jpeg', 'Training_data/wheel/aug__0_3635.jpeg', 'Training_data/wheel/aug__0_1310.jpeg', 'Training_data/wheel/aug__0_3099.jpeg', 'Training_data/mobile/aug__0_604.jpeg', 'Training_data/wheel/aug__0_2039.jpeg', 'Training_data/wheel/aug__0_3740.jpeg', 'Training_data/mobile/aug__0_9283.jpeg', 'Training_data/wheel/aug__0_8040.jpeg', 'Training_data/mobile/aug__0_9824.jpeg', 'Training_data/wheel/aug__0_8598.jpeg', 'Training_data/mobile/aug__0_9245.jpeg', 'Training_data/mobile/aug__0_2945.jpeg', 'Training_data/wheel/aug__0_1398.jpeg', 'Training_data/wheel/aug__0_3271.jpeg', 'Training_data/mobile/aug__0_1259.jpeg', 'Training_data/mobile/aug__0_7541.jpeg', 'Training_data/wheel/aug__0_5883.jpeg', 'Training_data/wheel/aug__0_7797.jpeg', 'Training_data/wheel/aug__0_906.jpeg', 'Training_data/wheel/aug__0_3208.jpeg', 'Training_data/wheel/aug__0_2237.jpeg', 'Training_data/mobile/aug__0_7645.jpeg', 'Training_data/mobile/aug__0_1786.jpeg', 'Training_data/wheel/aug__0_7500.jpeg', 'Training_data/mobile/aug__0_6781.jpeg', 'Training_data/mobile/aug__0_2887.jpeg', 'Training_data/wheel/aug__0_7144.jpeg', 'Training_data/mobile/aug__0_2380.jpeg', 'Training_data/mobile/aug__0_4728.jpeg', 'Training_data/mobile/aug__0_852.jpeg', 'Training_data/mobile/aug__0_8166.jpeg', 'Training_data/wheel/aug__0_7590.jpeg', 'Training_data/mobile/aug__0_1498.jpeg', 'Training_data/wheel/aug__0_4802.jpeg', 'Training_data/mobile/aug__0_6951.jpeg', 'Training_data/mobile/aug__0_4149.jpeg', 'Training_data/wheel/aug__0_8898.jpeg', 'Training_data/mobile/aug__0_4238.jpeg', 'Training_data/mobile/aug__0_8038.jpeg', 'Training_data/mobile/aug__0_5701.jpeg', 'Training_data/wheel/aug__0_3986.jpeg', 'Training_data/mobile/aug__0_5074.jpeg', 'Training_data/wheel/aug__0_8372.jpeg', 'Training_data/wheel/aug__0_3955.jpeg', 'Training_data/mobile/aug__0_3330.jpeg', 'Training_data/wheel/aug__0_6059.jpeg', 'Training_data/wheel/aug__0_3355.jpeg', 'Training_data/mobile/aug__0_1389.jpeg', 'Training_data/wheel/aug__0_4760.jpeg', 'Training_data/wheel/aug__0_5366.jpeg', 'Training_data/mobile/aug__0_16.jpeg', 'Training_data/mobile/aug__0_1777.jpeg', 'Training_data/wheel/aug__0_8184.jpeg', 'Training_data/mobile/aug__0_5180.jpeg', 'Training_data/wheel/aug__0_6990.jpeg', 'Training_data/mobile/aug__0_2065.jpeg', 'Training_data/wheel/aug__0_7221.jpeg', 'Training_data/wheel/aug__0_7907.jpeg', 'Training_data/wheel/aug__0_4775.jpeg', 'Training_data/wheel/aug__0_6167.jpeg', 'Training_data/mobile/aug__0_5644.jpeg', 'Training_data/mobile/aug__0_9010.jpeg', 'Training_data/wheel/aug__0_9107.jpeg', 'Training_data/wheel/aug__0_2898.jpeg', 'Training_data/mobile/aug__0_7432.jpeg', 'Training_data/mobile/aug__0_7226.jpeg', 'Training_data/wheel/aug__0_6512.jpeg', 'Training_data/wheel/aug__0_7626.jpeg', 'Training_data/mobile/aug__0_7237.jpeg', 'Training_data/wheel/aug__0_4129.jpeg', 'Training_data/mobile/aug__0_5772.jpeg', 'Training_data/wheel/aug__0_3724.jpeg', 'Training_data/mobile/aug__0_4505.jpeg', 'Training_data/mobile/aug__0_9868.jpeg', 'Training_data/mobile/aug__0_3527.jpeg', 'Training_data/wheel/aug__0_8613.jpeg', 'Training_data/mobile/aug__0_2512.jpeg', 'Training_data/wheel/aug__0_2971.jpeg', 'Training_data/wheel/aug__0_2705.jpeg', 'Training_data/mobile/aug__0_8472.jpeg', 'Training_data/mobile/aug__0_1502.jpeg', 'Training_data/wheel/aug__0_8970.jpeg', 'Training_data/wheel/aug__0_5174.jpeg', 'Training_data/wheel/aug__0_10.jpeg', 'Training_data/wheel/aug__0_7706.jpeg', 'Training_data/mobile/aug__0_869.jpeg', 'Training_data/mobile/aug__0_74.jpeg', 'Training_data/mobile/aug__0_8401.jpeg', 'Training_data/mobile/aug__0_1560.jpeg', 'Training_data/wheel/aug__0_6594.jpeg', 'Training_data/mobile/aug__0_9304.jpeg', 'Training_data/mobile/aug__0_6094.jpeg', 'Training_data/wheel/aug__0_8593.jpeg', 'Training_data/wheel/aug__0_1381.jpeg', 'Training_data/wheel/aug__0_7377.jpeg', 'Training_data/wheel/aug__0_2463.jpeg', 'Training_data/wheel/aug__0_4367.jpeg', 'Training_data/wheel/aug__0_6163.jpeg', 'Training_data/mobile/aug__0_841.jpeg', 'Training_data/wheel/aug__0_8071.jpeg', 'Training_data/mobile/aug__0_7711.jpeg', 'Training_data/mobile/aug__0_1112.jpeg', 'Training_data/wheel/aug__0_6315.jpeg', 'Training_data/mobile/aug__0_826.jpeg', 'Training_data/wheel/aug__0_2927.jpeg', 'Training_data/mobile/aug__0_1378.jpeg', 'Training_data/wheel/aug__0_6316.jpeg', 'Training_data/mobile/aug__0_8408.jpeg', 'Training_data/mobile/aug__0_8959.jpeg', 'Training_data/mobile/aug__0_4884.jpeg', 'Training_data/mobile/aug__0_2201.jpeg', 'Training_data/mobile/aug__0_8884.jpeg', 'Training_data/mobile/aug__0_9986.jpeg', 'Training_data/wheel/aug__0_2412.jpeg', 'Training_data/mobile/aug__0_7291.jpeg', 'Training_data/mobile/aug__0_8761.jpeg', 'Training_data/mobile/aug__0_8869.jpeg', 'Training_data/wheel/aug__0_741.jpeg', 'Training_data/wheel/aug__0_7236.jpeg', 'Training_data/mobile/aug__0_3899.jpeg', 'Training_data/mobile/aug__0_8294.jpeg', 'Training_data/mobile/aug__0_5258.jpeg', 'Training_data/mobile/aug__0_3839.jpeg', 'Training_data/wheel/aug__0_8590.jpeg', 'Training_data/mobile/aug__0_2468.jpeg', 'Training_data/wheel/aug__0_2389.jpeg', 'Training_data/mobile/aug__0_7107.jpeg', 'Training_data/mobile/aug__0_739.jpeg', 'Training_data/mobile/aug__0_6065.jpeg', 'Training_data/mobile/aug__0_53.jpeg', 'Training_data/mobile/aug__0_6415.jpeg', 'Training_data/mobile/aug__0_2410.jpeg', 'Training_data/mobile/aug__0_9350.jpeg', 'Training_data/mobile/aug__0_6138.jpeg', 'Training_data/mobile/aug__0_5382.jpeg', 'Training_data/wheel/aug__0_1331.jpeg', 'Training_data/wheel/aug__0_2036.jpeg', 'Training_data/mobile/aug__0_6226.jpeg', 'Training_data/mobile/aug__0_5532.jpeg', 'Training_data/mobile/aug__0_5746.jpeg', 'Training_data/mobile/aug__0_9586.jpeg', 'Training_data/wheel/aug__0_1170.jpeg', 'Training_data/mobile/aug__0_4035.jpeg', 'Training_data/mobile/aug__0_9520.jpeg', 'Training_data/wheel/aug__0_4074.jpeg', 'Training_data/mobile/aug__0_9111.jpeg', 'Training_data/wheel/aug__0_1662.jpeg', 'Training_data/mobile/aug__0_9403.jpeg', 'Training_data/mobile/aug__0_704.jpeg', 'Training_data/wheel/aug__0_3332.jpeg', 'Training_data/wheel/aug__0_2651.jpeg', 'Training_data/wheel/aug__0_6347.jpeg', 'Training_data/wheel/aug__0_373.jpeg', 'Training_data/mobile/aug__0_3465.jpeg', 'Training_data/mobile/aug__0_9762.jpeg', 'Training_data/mobile/aug__0_3263.jpeg', 'Training_data/mobile/aug__0_56.jpeg', 'Training_data/wheel/aug__0_2645.jpeg', 'Training_data/wheel/aug__0_6331.jpeg', 'Training_data/mobile/aug__0_9931.jpeg', 'Training_data/wheel/aug__0_1928.jpeg', 'Training_data/mobile/aug__0_4386.jpeg', 'Training_data/mobile/aug__0_511.jpeg', 'Training_data/mobile/aug__0_9056.jpeg', 'Training_data/mobile/aug__0_2958.jpeg', 'Training_data/mobile/aug__0_1103.jpeg', 'Training_data/mobile/aug__0_3763.jpeg', 'Training_data/mobile/aug__0_547.jpeg', 'Training_data/wheel/aug__0_4635.jpeg', 'Training_data/wheel/aug__0_1492.jpeg', 'Training_data/mobile/aug__0_8317.jpeg', 'Training_data/mobile/aug__0_4663.jpeg', 'Training_data/wheel/aug__0_2920.jpeg', 'Training_data/mobile/aug__0_8860.jpeg', 'Training_data/mobile/aug__0_9731.jpeg', 'Training_data/mobile/aug__0_2352.jpeg', 'Training_data/wheel/aug__0_3609.jpeg', 'Training_data/wheel/aug__0_7721.jpeg', 'Training_data/wheel/aug__0_8967.jpeg', 'Training_data/mobile/aug__0_1946.jpeg', 'Training_data/wheel/aug__0_4950.jpeg', 'Training_data/mobile/aug__0_3752.jpeg', 'Training_data/wheel/aug__0_8054.jpeg', 'Training_data/wheel/aug__0_7462.jpeg', 'Training_data/mobile/aug__0_6935.jpeg', 'Training_data/wheel/aug__0_6231.jpeg', 'Training_data/wheel/aug__0_6698.jpeg', 'Training_data/mobile/aug__0_7378.jpeg', 'Training_data/wheel/aug__0_6170.jpeg', 'Training_data/wheel/aug__0_1877.jpeg', 'Training_data/mobile/aug__0_6372.jpeg', 'Training_data/mobile/aug__0_2560.jpeg', 'Training_data/mobile/aug__0_4275.jpeg', 'Training_data/wheel/aug__0_1113.jpeg', 'Training_data/wheel/aug__0_1804.jpeg', 'Training_data/wheel/aug__0_6584.jpeg', 'Training_data/mobile/aug__0_9398.jpeg', 'Training_data/wheel/aug__0_5337.jpeg', 'Training_data/mobile/aug__0_9960.jpeg', 'Training_data/mobile/aug__0_7147.jpeg', 'Training_data/wheel/aug__0_7692.jpeg', 'Training_data/wheel/aug__0_2987.jpeg', 'Training_data/wheel/aug__0_5262.jpeg', 'Training_data/wheel/aug__0_5130.jpeg', 'Training_data/mobile/aug__0_646.jpeg', 'Training_data/mobile/aug__0_6803.jpeg', 'Training_data/mobile/aug__0_0.jpeg', 'Training_data/wheel/aug__0_248.jpeg', 'Training_data/mobile/aug__0_8751.jpeg', 'Training_data/mobile/aug__0_6761.jpeg', 'Training_data/wheel/aug__0_2812.jpeg', 'Training_data/wheel/aug__0_3685.jpeg', 'Training_data/mobile/aug__0_4365.jpeg', 'Training_data/wheel/aug__0_8143.jpeg', 'Training_data/mobile/aug__0_8961.jpeg', 'Training_data/wheel/aug__0_8875.jpeg', 'Training_data/mobile/aug__0_3349.jpeg', 'Training_data/wheel/aug__0_5735.jpeg', 'Training_data/mobile/aug__0_663.jpeg', 'Training_data/wheel/aug__0_7985.jpeg', 'Training_data/mobile/aug__0_7225.jpeg', 'Training_data/mobile/aug__0_8777.jpeg', 'Training_data/mobile/aug__0_6894.jpeg', 'Training_data/wheel/aug__0_1723.jpeg', 'Training_data/mobile/aug__0_6742.jpeg', 'Training_data/wheel/aug__0_9325.jpeg', 'Training_data/wheel/aug__0_4454.jpeg', 'Training_data/wheel/aug__0_38.jpeg', 'Training_data/wheel/aug__0_7288.jpeg', 'Training_data/mobile/aug__0_2280.jpeg', 'Training_data/mobile/aug__0_918.jpeg', 'Training_data/mobile/aug__0_7936.jpeg', 'Training_data/mobile/aug__0_4699.jpeg', 'Training_data/wheel/aug__0_2350.jpeg', 'Training_data/wheel/aug__0_1973.jpeg', 'Training_data/mobile/aug__0_1006.jpeg', 'Training_data/wheel/aug__0_704.jpeg', 'Training_data/wheel/aug__0_903.jpeg', 'Training_data/mobile/aug__0_5690.jpeg', 'Training_data/wheel/aug__0_6892.jpeg', 'Training_data/wheel/aug__0_7178.jpeg', 'Training_data/wheel/aug__0_8468.jpeg', 'Training_data/wheel/aug__0_4600.jpeg', 'Training_data/wheel/aug__0_1822.jpeg', 'Training_data/wheel/aug__0_3520.jpeg', 'Training_data/mobile/aug__0_9309.jpeg', 'Training_data/wheel/aug__0_8882.jpeg', 'Training_data/mobile/aug__0_7621.jpeg', 'Training_data/mobile/aug__0_9251.jpeg', 'Training_data/wheel/aug__0_8487.jpeg', 'Training_data/mobile/aug__0_3010.jpeg', 'Training_data/mobile/aug__0_1704.jpeg', 'Training_data/wheel/aug__0_7209.jpeg', 'Training_data/wheel/aug__0_3004.jpeg', 'Training_data/wheel/aug__0_8138.jpeg', 'Training_data/wheel/aug__0_6083.jpeg', 'Training_data/wheel/aug__0_566.jpeg', 'Training_data/mobile/aug__0_152.jpeg', 'Training_data/mobile/aug__0_7320.jpeg', 'Training_data/wheel/aug__0_689.jpeg', 'Training_data/mobile/aug__0_8578.jpeg', 'Training_data/wheel/aug__0_8572.jpeg', 'Training_data/wheel/aug__0_411.jpeg', 'Training_data/mobile/aug__0_7702.jpeg', 'Training_data/mobile/aug__0_630.jpeg', 'Training_data/wheel/aug__0_9215.jpeg', 'Training_data/wheel/aug__0_6804.jpeg', 'Training_data/mobile/aug__0_7261.jpeg', 'Training_data/mobile/aug__0_8572.jpeg', 'Training_data/mobile/aug__0_4657.jpeg', 'Training_data/wheel/aug__0_7730.jpeg', 'Training_data/mobile/aug__0_1451.jpeg', 'Training_data/mobile/aug__0_5152.jpeg', 'Training_data/wheel/aug__0_9194.jpeg', 'Training_data/mobile/aug__0_682.jpeg', 'Training_data/mobile/aug__0_7677.jpeg', 'Training_data/mobile/aug__0_9828.jpeg', 'Training_data/mobile/aug__0_4737.jpeg', 'Training_data/mobile/aug__0_5151.jpeg', 'Training_data/wheel/aug__0_1075.jpeg', 'Training_data/mobile/aug__0_1715.jpeg', 'Training_data/mobile/aug__0_8292.jpeg', 'Training_data/mobile/aug__0_3009.jpeg', 'Training_data/wheel/aug__0_9627.jpeg', 'Training_data/wheel/aug__0_8344.jpeg', 'Training_data/mobile/aug__0_5572.jpeg', 'Training_data/wheel/aug__0_608.jpeg', 'Training_data/mobile/aug__0_8821.jpeg', 'Training_data/mobile/aug__0_7336.jpeg', 'Training_data/mobile/aug__0_4474.jpeg', 'Training_data/mobile/aug__0_146.jpeg', 'Training_data/mobile/aug__0_8823.jpeg', 'Training_data/mobile/aug__0_4412.jpeg', 'Training_data/mobile/aug__0_4106.jpeg', 'Training_data/wheel/aug__0_6664.jpeg', 'Training_data/mobile/aug__0_3919.jpeg', 'Training_data/wheel/aug__0_377.jpeg', 'Training_data/wheel/aug__0_6646.jpeg', 'Training_data/wheel/aug__0_2671.jpeg', 'Training_data/mobile/aug__0_7760.jpeg', 'Training_data/mobile/aug__0_289.jpeg', 'Training_data/wheel/aug__0_4652.jpeg', 'Training_data/wheel/aug__0_6787.jpeg', 'Training_data/wheel/aug__0_837.jpeg', 'Training_data/mobile/aug__0_4921.jpeg', 'Training_data/mobile/aug__0_783.jpeg', 'Training_data/wheel/aug__0_6172.jpeg', 'Training_data/mobile/aug__0_7937.jpeg', 'Training_data/mobile/aug__0_6871.jpeg', 'Training_data/mobile/aug__0_1817.jpeg', 'Training_data/mobile/aug__0_3373.jpeg', 'Training_data/mobile/aug__0_9156.jpeg', 'Training_data/mobile/aug__0_3774.jpeg', 'Training_data/wheel/aug__0_2537.jpeg', 'Training_data/wheel/aug__0_3040.jpeg', 'Training_data/wheel/aug__0_8382.jpeg', 'Training_data/mobile/aug__0_1671.jpeg', 'Training_data/wheel/aug__0_2459.jpeg', 'Training_data/mobile/aug__0_3802.jpeg', 'Training_data/wheel/aug__0_5178.jpeg', 'Training_data/wheel/aug__0_6776.jpeg', 'Training_data/wheel/aug__0_7906.jpeg', 'Training_data/wheel/aug__0_5962.jpeg', 'Training_data/wheel/aug__0_2685.jpeg', 'Training_data/mobile/aug__0_9126.jpeg', 'Training_data/wheel/aug__0_2517.jpeg', 'Training_data/mobile/aug__0_9374.jpeg', 'Training_data/wheel/aug__0_9291.jpeg', 'Training_data/mobile/aug__0_5836.jpeg', 'Training_data/wheel/aug__0_3999.jpeg', 'Training_data/mobile/aug__0_3417.jpeg', 'Training_data/mobile/aug__0_7345.jpeg', 'Training_data/mobile/aug__0_1045.jpeg', 'Training_data/mobile/aug__0_1876.jpeg', 'Training_data/mobile/aug__0_6196.jpeg', 'Training_data/wheel/aug__0_7021.jpeg', 'Training_data/wheel/aug__0_396.jpeg', 'Training_data/wheel/aug__0_9528.jpeg', 'Training_data/mobile/aug__0_2058.jpeg', 'Training_data/wheel/aug__0_8426.jpeg', 'Training_data/wheel/aug__0_7912.jpeg', 'Training_data/wheel/aug__0_1689.jpeg', 'Training_data/mobile/aug__0_5889.jpeg', 'Training_data/wheel/aug__0_3959.jpeg', 'Training_data/wheel/aug__0_5092.jpeg', 'Training_data/mobile/aug__0_48.jpeg', 'Training_data/mobile/aug__0_7588.jpeg', 'Training_data/mobile/aug__0_4935.jpeg', 'Training_data/wheel/aug__0_3463.jpeg', 'Training_data/mobile/aug__0_6346.jpeg', 'Training_data/mobile/aug__0_6082.jpeg', 'Training_data/wheel/aug__0_9566.jpeg', 'Training_data/wheel/aug__0_8408.jpeg', 'Training_data/mobile/aug__0_2989.jpeg', 'Training_data/mobile/aug__0_3176.jpeg', 'Training_data/wheel/aug__0_9430.jpeg', 'Training_data/mobile/aug__0_3482.jpeg', 'Training_data/mobile/aug__0_29.jpeg', 'Training_data/wheel/aug__0_4574.jpeg', 'Training_data/mobile/aug__0_6722.jpeg', 'Training_data/wheel/aug__0_2587.jpeg', 'Training_data/wheel/aug__0_4663.jpeg', 'Training_data/mobile/aug__0_1158.jpeg', 'Training_data/wheel/aug__0_9475.jpeg', 'Training_data/wheel/aug__0_4400.jpeg', 'Training_data/wheel/aug__0_3612.jpeg', 'Training_data/mobile/aug__0_6785.jpeg', 'Training_data/wheel/aug__0_552.jpeg', 'Training_data/wheel/aug__0_2419.jpeg', 'Training_data/wheel/aug__0_9631.jpeg', 'Training_data/wheel/aug__0_8219.jpeg', 'Training_data/mobile/aug__0_6398.jpeg', 'Training_data/mobile/aug__0_8050.jpeg', 'Training_data/mobile/aug__0_5471.jpeg', 'Training_data/wheel/aug__0_8719.jpeg', 'Training_data/mobile/aug__0_7661.jpeg', 'Training_data/mobile/aug__0_3455.jpeg', 'Training_data/wheel/aug__0_6033.jpeg', 'Training_data/wheel/aug__0_1692.jpeg', 'Training_data/mobile/aug__0_4992.jpeg', 'Training_data/wheel/aug__0_2346.jpeg', 'Training_data/mobile/aug__0_2356.jpeg', 'Training_data/mobile/aug__0_2851.jpeg', 'Training_data/wheel/aug__0_2701.jpeg', 'Training_data/wheel/aug__0_3775.jpeg', 'Training_data/mobile/aug__0_9798.jpeg', 'Training_data/mobile/aug__0_1217.jpeg', 'Training_data/mobile/aug__0_2304.jpeg', 'Training_data/wheel/aug__0_6366.jpeg', 'Training_data/mobile/aug__0_9777.jpeg', 'Training_data/mobile/aug__0_6734.jpeg', 'Training_data/wheel/aug__0_4159.jpeg', 'Training_data/wheel/aug__0_7568.jpeg', 'Training_data/mobile/aug__0_3429.jpeg', 'Training_data/wheel/aug__0_8773.jpeg', 'Training_data/wheel/aug__0_7796.jpeg', 'Training_data/mobile/aug__0_5379.jpeg', 'Training_data/mobile/aug__0_6978.jpeg', 'Training_data/wheel/aug__0_9719.jpeg', 'Training_data/wheel/aug__0_4678.jpeg', 'Training_data/mobile/aug__0_4822.jpeg', 'Training_data/mobile/aug__0_5798.jpeg', 'Training_data/mobile/aug__0_70.jpeg', 'Training_data/wheel/aug__0_2072.jpeg', 'Training_data/wheel/aug__0_2714.jpeg', 'Training_data/wheel/aug__0_8606.jpeg', 'Training_data/wheel/aug__0_4437.jpeg', 'Training_data/mobile/aug__0_8954.jpeg', 'Training_data/mobile/aug__0_2473.jpeg', 'Training_data/wheel/aug__0_3757.jpeg', 'Training_data/mobile/aug__0_1750.jpeg', 'Training_data/wheel/aug__0_3302.jpeg', 'Training_data/wheel/aug__0_2978.jpeg', 'Training_data/mobile/aug__0_5522.jpeg', 'Training_data/wheel/aug__0_2821.jpeg', 'Training_data/mobile/aug__0_3248.jpeg', 'Training_data/mobile/aug__0_8679.jpeg', 'Training_data/mobile/aug__0_5307.jpeg', 'Training_data/wheel/aug__0_4769.jpeg', 'Training_data/mobile/aug__0_226.jpeg', 'Training_data/wheel/aug__0_3315.jpeg', 'Training_data/mobile/aug__0_2267.jpeg', 'Training_data/mobile/aug__0_4586.jpeg', 'Training_data/mobile/aug__0_2453.jpeg', 'Training_data/wheel/aug__0_1748.jpeg', 'Training_data/mobile/aug__0_2105.jpeg', 'Training_data/mobile/aug__0_3994.jpeg', 'Training_data/wheel/aug__0_2191.jpeg', 'Training_data/wheel/aug__0_1634.jpeg', 'Training_data/wheel/aug__0_1186.jpeg', 'Training_data/wheel/aug__0_3081.jpeg', 'Training_data/mobile/aug__0_2034.jpeg', 'Training_data/mobile/aug__0_2109.jpeg', 'Training_data/mobile/aug__0_6976.jpeg', 'Training_data/wheel/aug__0_6299.jpeg', 'Training_data/wheel/aug__0_6943.jpeg', 'Training_data/wheel/aug__0_2411.jpeg', 'Training_data/wheel/aug__0_6097.jpeg', 'Training_data/wheel/aug__0_2979.jpeg', 'Training_data/mobile/aug__0_2126.jpeg', 'Training_data/mobile/aug__0_5061.jpeg', 'Training_data/mobile/aug__0_6646.jpeg', 'Training_data/mobile/aug__0_4616.jpeg', 'Training_data/mobile/aug__0_3941.jpeg', 'Training_data/wheel/aug__0_1369.jpeg', 'Training_data/wheel/aug__0_5802.jpeg', 'Training_data/wheel/aug__0_456.jpeg', 'Training_data/wheel/aug__0_2615.jpeg', 'Training_data/wheel/aug__0_6016.jpeg', 'Training_data/wheel/aug__0_5290.jpeg', 'Training_data/wheel/aug__0_7640.jpeg', 'Training_data/mobile/aug__0_6413.jpeg', 'Training_data/mobile/aug__0_9721.jpeg', 'Training_data/mobile/aug__0_5918.jpeg', 'Training_data/mobile/aug__0_8412.jpeg', 'Training_data/mobile/aug__0_1017.jpeg', 'Training_data/mobile/aug__0_8245.jpeg', 'Training_data/mobile/aug__0_4198.jpeg', 'Training_data/wheel/aug__0_7330.jpeg', 'Training_data/wheel/aug__0_8843.jpeg', 'Training_data/mobile/aug__0_4995.jpeg', 'Training_data/wheel/aug__0_1277.jpeg', 'Training_data/wheel/aug__0_8510.jpeg', 'Training_data/mobile/aug__0_8756.jpeg', 'Training_data/mobile/aug__0_4226.jpeg', 'Training_data/mobile/aug__0_5335.jpeg', 'Training_data/wheel/aug__0_6399.jpeg', 'Training_data/wheel/aug__0_9817.jpeg', 'Training_data/mobile/aug__0_1300.jpeg', 'Training_data/wheel/aug__0_2391.jpeg', 'Training_data/wheel/aug__0_4362.jpeg', 'Training_data/mobile/aug__0_2052.jpeg', 'Training_data/mobile/aug__0_2810.jpeg', 'Training_data/wheel/aug__0_2504.jpeg', 'Training_data/mobile/aug__0_9414.jpeg', 'Training_data/mobile/aug__0_2377.jpeg', 'Training_data/mobile/aug__0_560.jpeg', 'Training_data/mobile/aug__0_9896.jpeg', 'Training_data/wheel/aug__0_7270.jpeg', 'Training_data/mobile/aug__0_4535.jpeg', 'Training_data/wheel/aug__0_8493.jpeg', 'Training_data/mobile/aug__0_3633.jpeg', 'Training_data/mobile/aug__0_957.jpeg', 'Training_data/wheel/aug__0_9330.jpeg', 'Training_data/wheel/aug__0_7075.jpeg', 'Training_data/mobile/aug__0_4633.jpeg', 'Training_data/mobile/aug__0_5579.jpeg', 'Training_data/mobile/aug__0_3015.jpeg', 'Training_data/mobile/aug__0_7470.jpeg', 'Training_data/wheel/aug__0_598.jpeg', 'Training_data/mobile/aug__0_8649.jpeg', 'Training_data/mobile/aug__0_218.jpeg', 'Training_data/mobile/aug__0_2829.jpeg', 'Training_data/wheel/aug__0_4170.jpeg', 'Training_data/wheel/aug__0_4390.jpeg', 'Training_data/wheel/aug__0_4756.jpeg', 'Training_data/mobile/aug__0_2080.jpeg', 'Training_data/wheel/aug__0_8968.jpeg', 'Training_data/mobile/aug__0_9998.jpeg', 'Training_data/mobile/aug__0_881.jpeg', 'Training_data/mobile/aug__0_9044.jpeg', 'Training_data/mobile/aug__0_7767.jpeg', 'Training_data/mobile/aug__0_9169.jpeg', 'Training_data/wheel/aug__0_4453.jpeg', 'Training_data/wheel/aug__0_9482.jpeg', 'Training_data/mobile/aug__0_2767.jpeg', 'Training_data/mobile/aug__0_4619.jpeg', 'Training_data/mobile/aug__0_8760.jpeg', 'Training_data/wheel/aug__0_7157.jpeg', 'Training_data/wheel/aug__0_7036.jpeg', 'Training_data/mobile/aug__0_5456.jpeg', 'Training_data/wheel/aug__0_110.jpeg', 'Training_data/wheel/aug__0_2933.jpeg', 'Training_data/wheel/aug__0_2861.jpeg', 'Training_data/wheel/aug__0_5882.jpeg', 'Training_data/mobile/aug__0_3452.jpeg', 'Training_data/wheel/aug__0_7624.jpeg', 'Training_data/mobile/aug__0_5017.jpeg', 'Training_data/wheel/aug__0_1350.jpeg', 'Training_data/wheel/aug__0_4668.jpeg', 'Training_data/mobile/aug__0_6280.jpeg', 'Training_data/mobile/aug__0_537.jpeg', 'Training_data/wheel/aug__0_1866.jpeg', 'Training_data/wheel/aug__0_7358.jpeg', 'Training_data/mobile/aug__0_7285.jpeg', 'Training_data/mobile/aug__0_1604.jpeg', 'Training_data/mobile/aug__0_2259.jpeg', 'Training_data/mobile/aug__0_5213.jpeg', 'Training_data/mobile/aug__0_2158.jpeg', 'Training_data/wheel/aug__0_3937.jpeg', 'Training_data/wheel/aug__0_5603.jpeg', 'Training_data/mobile/aug__0_2286.jpeg', 'Training_data/mobile/aug__0_1124.jpeg', 'Training_data/wheel/aug__0_9683.jpeg', 'Training_data/wheel/aug__0_3187.jpeg', 'Training_data/mobile/aug__0_5242.jpeg', 'Training_data/wheel/aug__0_2566.jpeg', 'Training_data/wheel/aug__0_3166.jpeg', 'Training_data/mobile/aug__0_1404.jpeg', 'Training_data/mobile/aug__0_744.jpeg', 'Training_data/mobile/aug__0_2222.jpeg', 'Training_data/mobile/aug__0_5181.jpeg', 'Training_data/mobile/aug__0_5571.jpeg', 'Training_data/mobile/aug__0_3257.jpeg', 'Training_data/mobile/aug__0_9607.jpeg', 'Training_data/wheel/aug__0_1900.jpeg', 'Training_data/mobile/aug__0_9331.jpeg', 'Training_data/mobile/aug__0_8149.jpeg', 'Training_data/wheel/aug__0_9708.jpeg', 'Training_data/wheel/aug__0_4722.jpeg', 'Training_data/wheel/aug__0_860.jpeg', 'Training_data/mobile/aug__0_6956.jpeg', 'Training_data/wheel/aug__0_5686.jpeg', 'Training_data/mobile/aug__0_4753.jpeg', 'Training_data/wheel/aug__0_5161.jpeg', 'Training_data/wheel/aug__0_9367.jpeg', 'Training_data/wheel/aug__0_6434.jpeg', 'Training_data/wheel/aug__0_7995.jpeg', 'Training_data/mobile/aug__0_4954.jpeg', 'Training_data/mobile/aug__0_904.jpeg', 'Training_data/wheel/aug__0_3537.jpeg', 'Training_data/wheel/aug__0_2151.jpeg', 'Training_data/wheel/aug__0_8755.jpeg', 'Training_data/mobile/aug__0_4209.jpeg', 'Training_data/wheel/aug__0_2491.jpeg', 'Training_data/wheel/aug__0_1178.jpeg', 'Training_data/wheel/aug__0_4510.jpeg', 'Training_data/mobile/aug__0_3380.jpeg', 'Training_data/mobile/aug__0_3329.jpeg', 'Training_data/wheel/aug__0_6653.jpeg', 'Training_data/wheel/aug__0_2213.jpeg', 'Training_data/wheel/aug__0_6514.jpeg', 'Training_data/mobile/aug__0_2272.jpeg', 'Training_data/wheel/aug__0_7740.jpeg', 'Training_data/wheel/aug__0_1359.jpeg', 'Training_data/wheel/aug__0_6024.jpeg', 'Training_data/mobile/aug__0_2584.jpeg', 'Training_data/wheel/aug__0_9315.jpeg', 'Training_data/wheel/aug__0_8806.jpeg', 'Training_data/mobile/aug__0_5414.jpeg', 'Training_data/mobile/aug__0_2120.jpeg', 'Training_data/mobile/aug__0_5383.jpeg', 'Training_data/mobile/aug__0_6845.jpeg', 'Training_data/wheel/aug__0_9428.jpeg', 'Training_data/mobile/aug__0_7928.jpeg', 'Training_data/mobile/aug__0_3103.jpeg', 'Training_data/mobile/aug__0_1371.jpeg', 'Training_data/wheel/aug__0_1388.jpeg', 'Training_data/mobile/aug__0_7175.jpeg', 'Training_data/wheel/aug__0_3373.jpeg', 'Training_data/mobile/aug__0_100.jpeg', 'Training_data/wheel/aug__0_2188.jpeg', 'Training_data/wheel/aug__0_694.jpeg', 'Training_data/wheel/aug__0_2375.jpeg', 'Training_data/mobile/aug__0_4082.jpeg', 'Training_data/wheel/aug__0_6531.jpeg', 'Training_data/mobile/aug__0_8153.jpeg', 'Training_data/wheel/aug__0_8529.jpeg', 'Training_data/wheel/aug__0_9722.jpeg', 'Training_data/wheel/aug__0_9003.jpeg', 'Training_data/wheel/aug__0_8113.jpeg', 'Training_data/wheel/aug__0_4042.jpeg', 'Training_data/mobile/aug__0_6712.jpeg', 'Training_data/wheel/aug__0_3818.jpeg', 'Training_data/mobile/aug__0_295.jpeg', 'Training_data/wheel/aug__0_1726.jpeg', 'Training_data/mobile/aug__0_4437.jpeg', 'Training_data/wheel/aug__0_6522.jpeg', 'Training_data/wheel/aug__0_16.jpeg', 'Training_data/mobile/aug__0_5874.jpeg', 'Training_data/wheel/aug__0_5827.jpeg', 'Training_data/wheel/aug__0_5864.jpeg', 'Training_data/mobile/aug__0_1030.jpeg', 'Training_data/mobile/aug__0_9678.jpeg', 'Training_data/mobile/aug__0_4025.jpeg', 'Training_data/mobile/aug__0_9277.jpeg', 'Training_data/mobile/aug__0_6580.jpeg', 'Training_data/wheel/aug__0_9975.jpeg', 'Training_data/wheel/aug__0_9583.jpeg', 'Training_data/wheel/aug__0_4083.jpeg', 'Training_data/wheel/aug__0_6715.jpeg', 'Training_data/wheel/aug__0_9034.jpeg', 'Training_data/wheel/aug__0_6339.jpeg', 'Training_data/wheel/aug__0_2305.jpeg', 'Training_data/wheel/aug__0_4953.jpeg', 'Training_data/mobile/aug__0_3167.jpeg', 'Training_data/wheel/aug__0_5857.jpeg', 'Training_data/wheel/aug__0_8498.jpeg', 'Training_data/mobile/aug__0_1255.jpeg', 'Training_data/wheel/aug__0_2563.jpeg', 'Training_data/mobile/aug__0_5618.jpeg', 'Training_data/wheel/aug__0_2160.jpeg', 'Training_data/wheel/aug__0_1000.jpeg', 'Training_data/wheel/aug__0_3334.jpeg', 'Training_data/mobile/aug__0_8268.jpeg', 'Training_data/mobile/aug__0_8336.jpeg', 'Training_data/mobile/aug__0_2221.jpeg', 'Training_data/wheel/aug__0_3350.jpeg', 'Training_data/wheel/aug__0_984.jpeg', 'Training_data/wheel/aug__0_494.jpeg', 'Training_data/wheel/aug__0_7239.jpeg', 'Training_data/mobile/aug__0_4060.jpeg', 'Training_data/wheel/aug__0_3877.jpeg', 'Training_data/mobile/aug__0_3907.jpeg', 'Training_data/mobile/aug__0_303.jpeg', 'Training_data/mobile/aug__0_1958.jpeg', 'Training_data/wheel/aug__0_6438.jpeg', 'Training_data/mobile/aug__0_269.jpeg', 'Training_data/wheel/aug__0_1475.jpeg', 'Training_data/wheel/aug__0_1778.jpeg', 'Training_data/mobile/aug__0_3606.jpeg', 'Training_data/wheel/aug__0_8899.jpeg', 'Training_data/mobile/aug__0_7918.jpeg', 'Training_data/mobile/aug__0_8577.jpeg', 'Training_data/wheel/aug__0_3077.jpeg', 'Training_data/mobile/aug__0_9130.jpeg', 'Training_data/wheel/aug__0_3082.jpeg', 'Training_data/wheel/aug__0_6289.jpeg', 'Training_data/mobile/aug__0_5866.jpeg', 'Training_data/wheel/aug__0_2352.jpeg', 'Training_data/wheel/aug__0_973.jpeg', 'Training_data/wheel/aug__0_6249.jpeg', 'Training_data/mobile/aug__0_5531.jpeg', 'Training_data/wheel/aug__0_9926.jpeg', 'Training_data/mobile/aug__0_5912.jpeg', 'Training_data/mobile/aug__0_3662.jpeg', 'Training_data/mobile/aug__0_9799.jpeg', 'Training_data/wheel/aug__0_4124.jpeg', 'Training_data/mobile/aug__0_8510.jpeg', 'Training_data/wheel/aug__0_1577.jpeg', 'Training_data/wheel/aug__0_4426.jpeg', 'Training_data/mobile/aug__0_4976.jpeg', 'Training_data/mobile/aug__0_6986.jpeg', 'Training_data/wheel/aug__0_5797.jpeg', 'Training_data/wheel/aug__0_2754.jpeg', 'Training_data/mobile/aug__0_4937.jpeg', 'Training_data/mobile/aug__0_2247.jpeg', 'Training_data/mobile/aug__0_5967.jpeg', 'Training_data/mobile/aug__0_8630.jpeg', 'Training_data/mobile/aug__0_6999.jpeg', 'Training_data/wheel/aug__0_7507.jpeg', 'Training_data/wheel/aug__0_9835.jpeg', 'Training_data/wheel/aug__0_7879.jpeg', 'Training_data/mobile/aug__0_5224.jpeg', 'Training_data/mobile/aug__0_2100.jpeg', 'Training_data/wheel/aug__0_6918.jpeg', 'Training_data/wheel/aug__0_671.jpeg', 'Training_data/wheel/aug__0_8346.jpeg', 'Training_data/mobile/aug__0_7180.jpeg', 'Training_data/wheel/aug__0_5030.jpeg', 'Training_data/mobile/aug__0_5113.jpeg', 'Training_data/wheel/aug__0_2621.jpeg', 'Training_data/wheel/aug__0_5140.jpeg', 'Training_data/wheel/aug__0_4073.jpeg', 'Training_data/mobile/aug__0_6027.jpeg', 'Training_data/mobile/aug__0_8250.jpeg', 'Training_data/mobile/aug__0_9885.jpeg', 'Training_data/mobile/aug__0_4143.jpeg', 'Training_data/wheel/aug__0_993.jpeg', 'Training_data/wheel/aug__0_5995.jpeg', 'Training_data/wheel/aug__0_2286.jpeg', 'Training_data/mobile/aug__0_43.jpeg', 'Training_data/wheel/aug__0_397.jpeg', 'Training_data/wheel/aug__0_357.jpeg', 'Training_data/mobile/aug__0_2294.jpeg', 'Training_data/wheel/aug__0_4190.jpeg', 'Training_data/wheel/aug__0_4984.jpeg', 'Training_data/wheel/aug__0_5468.jpeg', 'Training_data/mobile/aug__0_5961.jpeg', 'Training_data/wheel/aug__0_4695.jpeg', 'Training_data/mobile/aug__0_4919.jpeg', 'Training_data/mobile/aug__0_7774.jpeg', 'Training_data/mobile/aug__0_8075.jpeg', 'Training_data/mobile/aug__0_411.jpeg', 'Training_data/mobile/aug__0_7943.jpeg', 'Training_data/wheel/aug__0_8107.jpeg', 'Training_data/wheel/aug__0_3980.jpeg', 'Training_data/mobile/aug__0_9676.jpeg', 'Training_data/wheel/aug__0_9571.jpeg', 'Training_data/wheel/aug__0_9504.jpeg', 'Training_data/mobile/aug__0_2859.jpeg', 'Training_data/wheel/aug__0_8790.jpeg', 'Training_data/wheel/aug__0_9795.jpeg', 'Training_data/wheel/aug__0_8548.jpeg', 'Training_data/mobile/aug__0_245.jpeg', 'Training_data/mobile/aug__0_6506.jpeg', 'Training_data/wheel/aug__0_6806.jpeg', 'Training_data/mobile/aug__0_5208.jpeg', 'Training_data/wheel/aug__0_4543.jpeg', 'Training_data/mobile/aug__0_1940.jpeg', 'Training_data/mobile/aug__0_2274.jpeg', 'Training_data/wheel/aug__0_5529.jpeg', 'Training_data/mobile/aug__0_4636.jpeg', 'Training_data/wheel/aug__0_2943.jpeg', 'Training_data/mobile/aug__0_7902.jpeg', 'Training_data/wheel/aug__0_8697.jpeg', 'Training_data/wheel/aug__0_9039.jpeg', 'Training_data/wheel/aug__0_3743.jpeg', 'Training_data/wheel/aug__0_3892.jpeg', 'Training_data/wheel/aug__0_8032.jpeg', 'Training_data/mobile/aug__0_6568.jpeg', 'Training_data/wheel/aug__0_2521.jpeg', 'Training_data/mobile/aug__0_2434.jpeg', 'Training_data/mobile/aug__0_8235.jpeg', 'Training_data/mobile/aug__0_3310.jpeg', 'Training_data/wheel/aug__0_2303.jpeg', 'Training_data/mobile/aug__0_9804.jpeg', 'Training_data/wheel/aug__0_6009.jpeg', 'Training_data/mobile/aug__0_1833.jpeg', 'Training_data/wheel/aug__0_7566.jpeg', 'Training_data/mobile/aug__0_5908.jpeg', 'Training_data/wheel/aug__0_3454.jpeg', 'Training_data/mobile/aug__0_7594.jpeg', 'Training_data/wheel/aug__0_844.jpeg', 'Training_data/mobile/aug__0_7846.jpeg', 'Training_data/mobile/aug__0_2790.jpeg', 'Training_data/mobile/aug__0_8258.jpeg', 'Training_data/mobile/aug__0_2717.jpeg', 'Training_data/wheel/aug__0_9911.jpeg', 'Training_data/mobile/aug__0_7414.jpeg', 'Training_data/wheel/aug__0_658.jpeg', 'Training_data/mobile/aug__0_5022.jpeg', 'Training_data/mobile/aug__0_3948.jpeg', 'Training_data/wheel/aug__0_9668.jpeg', 'Training_data/mobile/aug__0_7502.jpeg', 'Training_data/mobile/aug__0_9032.jpeg', 'Training_data/wheel/aug__0_5314.jpeg', 'Training_data/mobile/aug__0_4056.jpeg', 'Training_data/wheel/aug__0_7545.jpeg', 'Training_data/wheel/aug__0_6474.jpeg', 'Training_data/mobile/aug__0_1123.jpeg', 'Training_data/wheel/aug__0_8813.jpeg', 'Training_data/wheel/aug__0_7599.jpeg', 'Training_data/mobile/aug__0_6277.jpeg', 'Training_data/wheel/aug__0_32.jpeg', 'Training_data/mobile/aug__0_9579.jpeg', 'Training_data/mobile/aug__0_5124.jpeg', 'Training_data/mobile/aug__0_8956.jpeg', 'Training_data/wheel/aug__0_9898.jpeg', 'Training_data/wheel/aug__0_5463.jpeg', 'Training_data/wheel/aug__0_4284.jpeg', 'Training_data/wheel/aug__0_5753.jpeg', 'Training_data/mobile/aug__0_473.jpeg', 'Training_data/wheel/aug__0_2686.jpeg', 'Training_data/mobile/aug__0_150.jpeg', 'Training_data/wheel/aug__0_3401.jpeg', 'Training_data/wheel/aug__0_1674.jpeg', 'Training_data/mobile/aug__0_5275.jpeg', 'Training_data/mobile/aug__0_5076.jpeg', 'Training_data/mobile/aug__0_2739.jpeg', 'Training_data/mobile/aug__0_1586.jpeg', 'Training_data/mobile/aug__0_1608.jpeg', 'Training_data/mobile/aug__0_9025.jpeg', 'Training_data/wheel/aug__0_3219.jpeg', 'Training_data/mobile/aug__0_2617.jpeg', 'Training_data/wheel/aug__0_2457.jpeg', 'Training_data/wheel/aug__0_915.jpeg', 'Training_data/wheel/aug__0_6201.jpeg', 'Training_data/wheel/aug__0_4794.jpeg', 'Training_data/mobile/aug__0_2889.jpeg', 'Training_data/wheel/aug__0_6114.jpeg', 'Training_data/mobile/aug__0_3621.jpeg', 'Training_data/mobile/aug__0_5168.jpeg', 'Training_data/mobile/aug__0_5484.jpeg', 'Training_data/mobile/aug__0_6159.jpeg', 'Training_data/wheel/aug__0_6207.jpeg', 'Training_data/mobile/aug__0_1472.jpeg', 'Training_data/mobile/aug__0_31.jpeg', 'Training_data/wheel/aug__0_4068.jpeg']\n",
            "done generating paths\n",
            "[INFO] compiling model...\n",
            "[INFO] training network...\n"
          ]
        },
        {
          "output_type": "stream",
          "name": "stderr",
          "text": [
            "/usr/local/lib/python3.7/dist-packages/keras/optimizer_v2/adam.py:105: UserWarning: The `lr` argument is deprecated, use `learning_rate` instead.\n",
            "  super(Adam, self).__init__(name, **kwargs)\n"
          ]
        },
        {
          "output_type": "stream",
          "name": "stdout",
          "text": [
            "Epoch 1/25\n",
            "44/44 [==============================] - 6s 123ms/step - loss: 0.5537 - accuracy: 0.8452 - val_loss: 1.8396e-04 - val_accuracy: 1.0000\n",
            "Epoch 2/25\n",
            "44/44 [==============================] - 5s 118ms/step - loss: 0.0112 - accuracy: 0.9971 - val_loss: 4.0273e-04 - val_accuracy: 1.0000\n",
            "Epoch 3/25\n",
            "44/44 [==============================] - 5s 117ms/step - loss: 0.0041 - accuracy: 0.9979 - val_loss: 1.5251e-06 - val_accuracy: 1.0000\n",
            "Epoch 4/25\n",
            "44/44 [==============================] - 5s 117ms/step - loss: 0.0061 - accuracy: 0.9971 - val_loss: 3.5637e-06 - val_accuracy: 1.0000\n",
            "Epoch 5/25\n",
            "44/44 [==============================] - 5s 117ms/step - loss: 0.0010 - accuracy: 1.0000 - val_loss: 5.9996e-07 - val_accuracy: 1.0000\n",
            "Epoch 6/25\n",
            "44/44 [==============================] - 5s 116ms/step - loss: 5.4480e-04 - accuracy: 1.0000 - val_loss: 3.8169e-09 - val_accuracy: 1.0000\n",
            "Epoch 7/25\n",
            "44/44 [==============================] - 5s 117ms/step - loss: 0.0022 - accuracy: 1.0000 - val_loss: 4.2285e-05 - val_accuracy: 1.0000\n",
            "Epoch 8/25\n",
            "44/44 [==============================] - 5s 118ms/step - loss: 3.4534e-04 - accuracy: 1.0000 - val_loss: 1.0957e-08 - val_accuracy: 1.0000\n",
            "Epoch 9/25\n",
            "44/44 [==============================] - 5s 118ms/step - loss: 4.1334e-04 - accuracy: 1.0000 - val_loss: 3.0858e-07 - val_accuracy: 1.0000\n",
            "Epoch 10/25\n",
            "44/44 [==============================] - 5s 118ms/step - loss: 0.0073 - accuracy: 0.9971 - val_loss: 6.1763e-07 - val_accuracy: 1.0000\n",
            "Epoch 11/25\n",
            "44/44 [==============================] - 5s 120ms/step - loss: 0.0186 - accuracy: 0.9943 - val_loss: 7.5722e-05 - val_accuracy: 1.0000\n",
            "Epoch 12/25\n",
            "44/44 [==============================] - 5s 119ms/step - loss: 0.0233 - accuracy: 0.9929 - val_loss: 2.9165e-05 - val_accuracy: 1.0000\n",
            "Epoch 13/25\n",
            "44/44 [==============================] - 5s 118ms/step - loss: 0.0033 - accuracy: 0.9986 - val_loss: 1.3850e-08 - val_accuracy: 1.0000\n",
            "Epoch 14/25\n",
            "44/44 [==============================] - 5s 118ms/step - loss: 9.0311e-04 - accuracy: 1.0000 - val_loss: 1.8381e-05 - val_accuracy: 1.0000\n",
            "Epoch 15/25\n",
            "44/44 [==============================] - 5s 117ms/step - loss: 2.1270e-04 - accuracy: 1.0000 - val_loss: 6.7013e-07 - val_accuracy: 1.0000\n",
            "Epoch 16/25\n",
            "44/44 [==============================] - 5s 118ms/step - loss: 1.2684e-04 - accuracy: 1.0000 - val_loss: 2.1481e-07 - val_accuracy: 1.0000\n",
            "Epoch 17/25\n",
            "44/44 [==============================] - 5s 119ms/step - loss: 1.5900e-04 - accuracy: 1.0000 - val_loss: 5.4418e-08 - val_accuracy: 1.0000\n",
            "Epoch 18/25\n",
            "44/44 [==============================] - 5s 120ms/step - loss: 8.2317e-05 - accuracy: 1.0000 - val_loss: 2.5876e-08 - val_accuracy: 1.0000\n",
            "Epoch 19/25\n",
            "44/44 [==============================] - 5s 118ms/step - loss: 0.0013 - accuracy: 1.0000 - val_loss: 7.9606e-07 - val_accuracy: 1.0000\n",
            "Epoch 20/25\n",
            "44/44 [==============================] - 5s 118ms/step - loss: 6.5467e-05 - accuracy: 1.0000 - val_loss: 9.0591e-07 - val_accuracy: 1.0000\n",
            "Epoch 21/25\n",
            "44/44 [==============================] - 5s 119ms/step - loss: 3.4997e-05 - accuracy: 1.0000 - val_loss: 4.0856e-07 - val_accuracy: 1.0000\n",
            "Epoch 22/25\n",
            "44/44 [==============================] - 5s 119ms/step - loss: 6.0559e-05 - accuracy: 1.0000 - val_loss: 2.2453e-07 - val_accuracy: 1.0000\n",
            "Epoch 23/25\n",
            "44/44 [==============================] - 5s 119ms/step - loss: 4.8080e-05 - accuracy: 1.0000 - val_loss: 1.2757e-07 - val_accuracy: 1.0000\n",
            "Epoch 24/25\n",
            "44/44 [==============================] - 5s 118ms/step - loss: 7.3987e-06 - accuracy: 1.0000 - val_loss: 6.3916e-08 - val_accuracy: 1.0000\n",
            "Epoch 25/25\n",
            "44/44 [==============================] - 5s 119ms/step - loss: 4.1118e-06 - accuracy: 1.0000 - val_loss: 5.3088e-08 - val_accuracy: 1.0000\n",
            "[INFO] serializing network...\n"
          ]
        },
        {
          "output_type": "display_data",
          "data": {
            "text/plain": [
              "<Figure size 432x288 with 1 Axes>"
            ],
            "image/png": "[encoded data removed]"
          },
          "metadata": {}
        }
      ]
    },
    {
      "cell_type": "code",
      "source": [
        "!unzip test_data.zip -d test_image_folder"
      ],
      "metadata": {
        "colab": {
          "base_uri": "https://localhost:8080/"
        },
        "id": "ZKWjHYi-YKzc",
        "outputId": "687c0128-5383-4300-f2e2-12350265c01a"
      },
      "execution_count": 12,
      "outputs": [
        {
          "output_type": "stream",
          "name": "stdout",
          "text": [
            "unzip:  cannot find or open test_data.zip, test_data.zip.zip or test_data.zip.ZIP.\n"
          ]
        }
      ]
    }
  ]
}