{
  "nbformat": 4,
  "nbformat_minor": 0,
  "metadata": {
    "colab": {
      "name": "AMLDL1.ipynb",
      "provenance": [],
      "authorship_tag": "ABX9TyOAzb6gWdb/C779MqzVBzbz",
      "include_colab_link": true
    },
    "kernelspec": {
      "name": "python3",
      "display_name": "Python 3"
    },
    "language_info": {
      "name": "python"
    }
  },
  "cells": [
    {
      "cell_type": "markdown",
      "metadata": {
        "id": "view-in-github",
        "colab_type": "text"
      },
      "source": [
        "<a href=\"https://colab.research.google.com/github/varadmahatme/Advanced-machine-learning-deep-learning/blob/main/AMLDL1.ipynb\" target=\"_parent\"><img src=\"https://colab.research.google.com/assets/colab-badge.svg\" alt=\"Open In Colab\"/></a>"
      ]
    },
    {
      "cell_type": "code",
      "execution_count": null,
      "metadata": {
        "colab": {
          "base_uri": "https://localhost:8080/"
        },
        "id": "PzH7QV21ZveE",
        "outputId": "eecbb73f-3d4a-40d9-8e6f-b267c13a800c"
      },
      "outputs": [
        {
          "output_type": "execute_result",
          "data": {
            "text/plain": [
              "5"
            ]
          },
          "metadata": {},
          "execution_count": 1
        }
      ],
      "source": [
        "1+4"
      ]
    },
    {
      "cell_type": "code",
      "source": [
        ""
      ],
      "metadata": {
        "id": "N13F5gDsbrf1"
      },
      "execution_count": null,
      "outputs": []
    },
    {
      "cell_type": "code",
      "source": [
        "5**7"
      ],
      "metadata": {
        "colab": {
          "base_uri": "https://localhost:8080/"
        },
        "id": "SfhaUnOccioG",
        "outputId": "4306cfc0-028e-4f44-8cab-e0daec60908b"
      },
      "execution_count": null,
      "outputs": [
        {
          "output_type": "execute_result",
          "data": {
            "text/plain": [
              "78125"
            ]
          },
          "metadata": {},
          "execution_count": 2
        }
      ]
    },
    {
      "cell_type": "code",
      "source": [
        "5^7"
      ],
      "metadata": {
        "colab": {
          "base_uri": "https://localhost:8080/"
        },
        "id": "_udu4x1tcoWL",
        "outputId": "524b9a51-9ddb-4cea-ca50-be0d6c895b01"
      },
      "execution_count": null,
      "outputs": [
        {
          "output_type": "execute_result",
          "data": {
            "text/plain": [
              "2"
            ]
          },
          "metadata": {},
          "execution_count": 7
        }
      ]
    },
    {
      "cell_type": "code",
      "source": [
        "25**(1/2)"
      ],
      "metadata": {
        "colab": {
          "base_uri": "https://localhost:8080/"
        },
        "id": "gTk4lyV2dRuw",
        "outputId": "dcd09868-5a2f-49d3-bc9f-cfb1446250c0"
      },
      "execution_count": null,
      "outputs": [
        {
          "output_type": "execute_result",
          "data": {
            "text/plain": [
              "5.0"
            ]
          },
          "metadata": {},
          "execution_count": 8
        }
      ]
    },
    {
      "cell_type": "code",
      "source": [
        "1e2"
      ],
      "metadata": {
        "colab": {
          "base_uri": "https://localhost:8080/"
        },
        "id": "7OsHACczdu00",
        "outputId": "3ec6484e-2848-43d9-9ff4-eaeaabbd493e"
      },
      "execution_count": null,
      "outputs": [
        {
          "output_type": "execute_result",
          "data": {
            "text/plain": [
              "100.0"
            ]
          },
          "metadata": {},
          "execution_count": 9
        }
      ]
    },
    {
      "cell_type": "code",
      "source": [
        "2.7*2"
      ],
      "metadata": {
        "colab": {
          "base_uri": "https://localhost:8080/"
        },
        "id": "6E-69vvbd8Yo",
        "outputId": "48dd3ad2-4b4b-46d8-d772-033da9d5bc54"
      },
      "execution_count": null,
      "outputs": [
        {
          "output_type": "execute_result",
          "data": {
            "text/plain": [
              "5.4"
            ]
          },
          "metadata": {},
          "execution_count": 10
        }
      ]
    },
    {
      "cell_type": "code",
      "source": [
        "a=26\n",
        "print(a)"
      ],
      "metadata": {
        "colab": {
          "base_uri": "https://localhost:8080/"
        },
        "id": "uMEh69gLfLXo",
        "outputId": "c42c4ffa-bf19-4d06-e254-421cffb6ff20"
      },
      "execution_count": null,
      "outputs": [
        {
          "output_type": "stream",
          "name": "stdout",
          "text": [
            "26\n"
          ]
        }
      ]
    },
    {
      "cell_type": "code",
      "source": [
        "var1=40"
      ],
      "metadata": {
        "id": "6h28kkzDflkC"
      },
      "execution_count": null,
      "outputs": []
    },
    {
      "cell_type": "code",
      "source": [
        "var2=var1+100"
      ],
      "metadata": {
        "id": "GEeEhKclfrMV"
      },
      "execution_count": null,
      "outputs": []
    },
    {
      "cell_type": "code",
      "source": [
        ""
      ],
      "metadata": {
        "id": "FT86eJE6gReL"
      },
      "execution_count": null,
      "outputs": []
    },
    {
      "cell_type": "code",
      "source": [
        "\n"
      ],
      "metadata": {
        "id": "PvOGjpTVgSdG"
      },
      "execution_count": null,
      "outputs": []
    },
    {
      "cell_type": "code",
      "source": [
        ""
      ],
      "metadata": {
        "id": "G7kNDUeZgWlf"
      },
      "execution_count": null,
      "outputs": []
    },
    {
      "cell_type": "code",
      "source": [
        "print(var2)"
      ],
      "metadata": {
        "colab": {
          "base_uri": "https://localhost:8080/"
        },
        "id": "_DG-1bXkf1wp",
        "outputId": "33a6b8fc-5e4a-4f85-a669-b2a2b1e41898"
      },
      "execution_count": null,
      "outputs": [
        {
          "output_type": "stream",
          "name": "stdout",
          "text": [
            "103\n"
          ]
        }
      ]
    },
    {
      "cell_type": "code",
      "source": [
        "side=1726\n",
        "area=side*side\n",
        "print('Area of a square=')\n",
        "print(area)"
      ],
      "metadata": {
        "colab": {
          "base_uri": "https://localhost:8080/"
        },
        "id": "gdI9xncsiMFd",
        "outputId": "a3a685ee-2c58-4072-9d13-43175ad768c6"
      },
      "execution_count": null,
      "outputs": [
        {
          "output_type": "stream",
          "name": "stdout",
          "text": [
            "Area of a square=\n",
            "2979076\n"
          ]
        }
      ]
    },
    {
      "cell_type": "code",
      "source": [
        "side=5\n",
        "area=side**2\n",
        "print(\"Area=\", area)"
      ],
      "metadata": {
        "colab": {
          "base_uri": "https://localhost:8080/"
        },
        "id": "ks1yMuwVisrm",
        "outputId": "9995bed8-3eea-482e-ed99-000c7b467880"
      },
      "execution_count": null,
      "outputs": [
        {
          "output_type": "stream",
          "name": "stdout",
          "text": [
            "Area= 25\n"
          ]
        }
      ]
    },
    {
      "cell_type": "code",
      "source": [
        "# A code to find the area of a square\n",
        " \n",
        "side=input('Enter a value of side:')\n",
        "print(type(side))\n",
        "side=int(side)\n",
        "print(type(side))\n",
        "area=side*side\n",
        "print('Area is:',area)"
      ],
      "metadata": {
        "colab": {
          "base_uri": "https://localhost:8080/",
          "height": 135
        },
        "id": "rCh1RP-PjLBM",
        "outputId": "36bcdb5d-7b37-43a1-b530-fc96d589d540"
      },
      "execution_count": null,
      "outputs": [
        {
          "output_type": "error",
          "ename": "SyntaxError",
          "evalue": "ignored",
          "traceback": [
            "\u001b[0;36m  File \u001b[0;32m\"<ipython-input-24-83a19cf7a41a>\"\u001b[0;36m, line \u001b[0;32m2\u001b[0m\n\u001b[0;31m    \u001b[0m\n\u001b[0m    ^\u001b[0m\n\u001b[0;31mSyntaxError\u001b[0m\u001b[0;31m:\u001b[0m invalid character in identifier\n"
          ]
        }
      ]
    },
    {
      "cell_type": "code",
      "source": [
        "# A code to find the area of a square\n",
        "side=input('Enter a value of side:')\n",
        "print(type(side))\n",
        "side=int(side)\n",
        "print(type(side))\n",
        "area=side*side\n",
        "print('Area is:',area)"
      ],
      "metadata": {
        "colab": {
          "base_uri": "https://localhost:8080/"
        },
        "id": "m8O27FQIkQ0c",
        "outputId": "56655b1f-5707-416f-c0ee-85dd37f51198"
      },
      "execution_count": null,
      "outputs": [
        {
          "output_type": "stream",
          "name": "stdout",
          "text": [
            "Enter a value of side:10\n",
            "<class 'str'>\n",
            "<class 'int'>\n",
            "Area is: 100\n"
          ]
        }
      ]
    },
    {
      "cell_type": "code",
      "source": [
        "'i'm an engineer'"
      ],
      "metadata": {
        "colab": {
          "base_uri": "https://localhost:8080/",
          "height": 135
        },
        "id": "BBMXqN_2mXZZ",
        "outputId": "00c7c790-03f9-4fd2-b960-25314521b132"
      },
      "execution_count": null,
      "outputs": [
        {
          "output_type": "error",
          "ename": "SyntaxError",
          "evalue": "ignored",
          "traceback": [
            "\u001b[0;36m  File \u001b[0;32m\"<ipython-input-27-f177bd172519>\"\u001b[0;36m, line \u001b[0;32m1\u001b[0m\n\u001b[0;31m    'i'm an engineer'\u001b[0m\n\u001b[0m       ^\u001b[0m\n\u001b[0;31mSyntaxError\u001b[0m\u001b[0;31m:\u001b[0m invalid syntax\n"
          ]
        }
      ]
    },
    {
      "cell_type": "code",
      "source": [
        "var1=3"
      ],
      "metadata": {
        "id": "ORgh162mgNpv"
      },
      "execution_count": null,
      "outputs": []
    },
    {
      "cell_type": "code",
      "source": [
        "var2=var1+100 +2\n"
      ],
      "metadata": {
        "id": "HMcohP34gXiL"
      },
      "execution_count": null,
      "outputs": []
    },
    {
      "cell_type": "code",
      "source": [
        "print(str)"
      ],
      "metadata": {
        "colab": {
          "base_uri": "https://localhost:8080/"
        },
        "id": "FUtll0SKn8uz",
        "outputId": "6e77971d-c397-405e-aabe-dcef54603d3e"
      },
      "execution_count": null,
      "outputs": [
        {
          "output_type": "stream",
          "name": "stdout",
          "text": [
            "<class 'str'>\n"
          ]
        }
      ]
    },
    {
      "cell_type": "code",
      "source": [
        "R_no=100\n",
        "emp_name='Rahul'"
      ],
      "metadata": {
        "id": "q3US0qrvoNov"
      },
      "execution_count": null,
      "outputs": []
    },
    {
      "cell_type": "code",
      "source": [
        "print('My Roll No. is {​​​​​​one}​​​​​​, and my name is {​​​​​​two}​​​​​​'.format(one=R_no,two=emp_name))"
      ],
      "metadata": {
        "colab": {
          "base_uri": "https://localhost:8080/",
          "height": 171
        },
        "id": "Bpz8WUvzozAh",
        "outputId": "2d96044f-7013-439f-a751-9bd56c2aa6c6"
      },
      "execution_count": null,
      "outputs": [
        {
          "output_type": "error",
          "ename": "KeyError",
          "evalue": "ignored",
          "traceback": [
            "\u001b[0;31m---------------------------------------------------------------------------\u001b[0m",
            "\u001b[0;31mKeyError\u001b[0m                                  Traceback (most recent call last)",
            "\u001b[0;32m<ipython-input-33-7c613863ded2>\u001b[0m in \u001b[0;36m<module>\u001b[0;34m()\u001b[0m\n\u001b[0;32m----> 1\u001b[0;31m \u001b[0mprint\u001b[0m\u001b[0;34m(\u001b[0m\u001b[0;34m'My Roll No. is {​​​​​​one}​​​​​​, and my name is {​​​​​​two}​​​​​​'\u001b[0m\u001b[0;34m.\u001b[0m\u001b[0mformat\u001b[0m\u001b[0;34m(\u001b[0m\u001b[0mone\u001b[0m\u001b[0;34m=\u001b[0m\u001b[0mR_no\u001b[0m\u001b[0;34m,\u001b[0m\u001b[0mtwo\u001b[0m\u001b[0;34m=\u001b[0m\u001b[0memp_name\u001b[0m\u001b[0;34m)\u001b[0m\u001b[0;34m)\u001b[0m\u001b[0;34m\u001b[0m\u001b[0;34m\u001b[0m\u001b[0m\n\u001b[0m",
            "\u001b[0;31mKeyError\u001b[0m: '\\u200b\\u200b\\u200b\\u200b\\u200b\\u200bone'"
          ]
        }
      ]
    },
    {
      "cell_type": "code",
      "source": [
        "print('My Roll No. is: {​​​​​​}​​​​​​, and my name is: {​​​​​​}​​​​​​'.format(R_no,emp_name))"
      ],
      "metadata": {
        "colab": {
          "base_uri": "https://localhost:8080/",
          "height": 171
        },
        "id": "TA8UUGvEpLYl",
        "outputId": "8a2751ef-e85c-4ed1-c1d5-b2a08e3c8bcf"
      },
      "execution_count": null,
      "outputs": [
        {
          "output_type": "error",
          "ename": "KeyError",
          "evalue": "ignored",
          "traceback": [
            "\u001b[0;31m---------------------------------------------------------------------------\u001b[0m",
            "\u001b[0;31mKeyError\u001b[0m                                  Traceback (most recent call last)",
            "\u001b[0;32m<ipython-input-34-e5f7e069e926>\u001b[0m in \u001b[0;36m<module>\u001b[0;34m()\u001b[0m\n\u001b[0;32m----> 1\u001b[0;31m \u001b[0mprint\u001b[0m\u001b[0;34m(\u001b[0m\u001b[0;34m'My Roll No. is: {​​​​​​}​​​​​​, and my name is: {​​​​​​}​​​​​​'\u001b[0m\u001b[0;34m.\u001b[0m\u001b[0mformat\u001b[0m\u001b[0;34m(\u001b[0m\u001b[0mR_no\u001b[0m\u001b[0;34m,\u001b[0m\u001b[0memp_name\u001b[0m\u001b[0;34m)\u001b[0m\u001b[0;34m)\u001b[0m\u001b[0;34m\u001b[0m\u001b[0;34m\u001b[0m\u001b[0m\n\u001b[0m",
            "\u001b[0;31mKeyError\u001b[0m: '\\u200b\\u200b\\u200b\\u200b\\u200b\\u200b'"
          ]
        }
      ]
    },
    {
      "cell_type": "code",
      "source": [
        "emp_name='s'+emp_name[1:5]"
      ],
      "metadata": {
        "id": "0tsaydFgbt2g"
      },
      "execution_count": null,
      "outputs": []
    },
    {
      "cell_type": "code",
      "source": [
        "print(emp_name)"
      ],
      "metadata": {
        "colab": {
          "base_uri": "https://localhost:8080/"
        },
        "id": "t0nd592Xds15",
        "outputId": "7eca21ca-8a8b-435c-93bf-5d57c6d6416b"
      },
      "execution_count": null,
      "outputs": [
        {
          "output_type": "stream",
          "name": "stdout",
          "text": [
            "sahul\n"
          ]
        }
      ]
    },
    {
      "cell_type": "code",
      "source": [
        "emp_name*5"
      ],
      "metadata": {
        "colab": {
          "base_uri": "https://localhost:8080/",
          "height": 37
        },
        "id": "6lC1DAODd7o3",
        "outputId": "d88ddfcc-dac6-4f9d-b1b5-fab14dff3671"
      },
      "execution_count": null,
      "outputs": [
        {
          "output_type": "execute_result",
          "data": {
            "application/vnd.google.colaboratory.intrinsic+json": {
              "type": "string"
            },
            "text/plain": [
              "'sahulsahulsahulsahulsahul'"
            ]
          },
          "metadata": {},
          "execution_count": 6
        }
      ]
    },
    {
      "cell_type": "code",
      "source": [
        "emp_name.upper()"
      ],
      "metadata": {
        "colab": {
          "base_uri": "https://localhost:8080/",
          "height": 37
        },
        "id": "uIw9rX61e_zZ",
        "outputId": "7dcda3ca-5b35-4b76-9e5f-e90555844f10"
      },
      "execution_count": null,
      "outputs": [
        {
          "output_type": "execute_result",
          "data": {
            "application/vnd.google.colaboratory.intrinsic+json": {
              "type": "string"
            },
            "text/plain": [
              "'SAHUL'"
            ]
          },
          "metadata": {},
          "execution_count": 7
        }
      ]
    },
    {
      "cell_type": "code",
      "source": [
        "s='Good Morning Everone'"
      ],
      "metadata": {
        "id": "VE5xv8J6f8yA"
      },
      "execution_count": null,
      "outputs": []
    },
    {
      "cell_type": "code",
      "source": [
        "s1,s2,s3=s.split()\n",
        "print(s1)\n",
        "print(s2)\n",
        "print(s3)"
      ],
      "metadata": {
        "colab": {
          "base_uri": "https://localhost:8080/"
        },
        "id": "uPyKnJq-gSs9",
        "outputId": "cf7c32aa-19e3-4cf1-ab72-09e0a15f0179"
      },
      "execution_count": null,
      "outputs": [
        {
          "output_type": "stream",
          "name": "stdout",
          "text": [
            "Good\n",
            "Morning\n",
            "Everone\n"
          ]
        }
      ]
    },
    {
      "cell_type": "code",
      "source": [
        "print(s.split('E'))"
      ],
      "metadata": {
        "colab": {
          "base_uri": "https://localhost:8080/"
        },
        "id": "WtQmn1_Cg_yU",
        "outputId": "c0af8d83-5f20-4cc0-b5b7-f924e04176b1"
      },
      "execution_count": null,
      "outputs": [
        {
          "output_type": "stream",
          "name": "stdout",
          "text": [
            "['Good Morning ', 'verone']\n"
          ]
        }
      ]
    },
    {
      "cell_type": "code",
      "source": [
        "print(\"hello everyone \\n Good day \\t nice time\")"
      ],
      "metadata": {
        "colab": {
          "base_uri": "https://localhost:8080/"
        },
        "id": "LNo311QLhdqj",
        "outputId": "274d7607-e003-499a-87a4-00ba33121b19"
      },
      "execution_count": null,
      "outputs": [
        {
          "output_type": "stream",
          "name": "stdout",
          "text": [
            "hello everyone \n",
            " Good day \t nice time\n"
          ]
        }
      ]
    },
    {
      "cell_type": "code",
      "source": [
        "emp_name[::3]"
      ],
      "metadata": {
        "colab": {
          "base_uri": "https://localhost:8080/",
          "height": 37
        },
        "id": "BFtEK9FjiHWZ",
        "outputId": "9b5950c6-fad0-4425-ef22-c2919b544ed4"
      },
      "execution_count": null,
      "outputs": [
        {
          "output_type": "execute_result",
          "data": {
            "application/vnd.google.colaboratory.intrinsic+json": {
              "type": "string"
            },
            "text/plain": [
              "'su'"
            ]
          },
          "metadata": {},
          "execution_count": 17
        }
      ]
    },
    {
      "cell_type": "code",
      "source": [
        "emp_name[3::]"
      ],
      "metadata": {
        "colab": {
          "base_uri": "https://localhost:8080/",
          "height": 37
        },
        "id": "JYhwoIYwiU2v",
        "outputId": "38ef6c2c-6add-4757-c5c9-d8d6a5104c2f"
      },
      "execution_count": null,
      "outputs": [
        {
          "output_type": "execute_result",
          "data": {
            "application/vnd.google.colaboratory.intrinsic+json": {
              "type": "string"
            },
            "text/plain": [
              "'ul'"
            ]
          },
          "metadata": {},
          "execution_count": 18
        }
      ]
    },
    {
      "cell_type": "code",
      "source": [
        "emp_name[::-1]"
      ],
      "metadata": {
        "colab": {
          "base_uri": "https://localhost:8080/",
          "height": 37
        },
        "id": "9uWzsT4mih7f",
        "outputId": "73fdb601-0d14-43e3-cdd3-239da238bd25"
      },
      "execution_count": null,
      "outputs": [
        {
          "output_type": "execute_result",
          "data": {
            "application/vnd.google.colaboratory.intrinsic+json": {
              "type": "string"
            },
            "text/plain": [
              "'luhas'"
            ]
          },
          "metadata": {},
          "execution_count": 19
        }
      ]
    },
    {
      "cell_type": "code",
      "source": [
        "emp_name[::-2]"
      ],
      "metadata": {
        "colab": {
          "base_uri": "https://localhost:8080/",
          "height": 37
        },
        "id": "c7Lgluk1imOW",
        "outputId": "7514d5a7-b4a4-432a-afe8-0bed222f4799"
      },
      "execution_count": null,
      "outputs": [
        {
          "output_type": "execute_result",
          "data": {
            "application/vnd.google.colaboratory.intrinsic+json": {
              "type": "string"
            },
            "text/plain": [
              "'lhs'"
            ]
          },
          "metadata": {},
          "execution_count": 20
        }
      ]
    },
    {
      "cell_type": "code",
      "source": [
        "emp_name[::-3]"
      ],
      "metadata": {
        "colab": {
          "base_uri": "https://localhost:8080/",
          "height": 37
        },
        "id": "gPOJtR26iqcz",
        "outputId": "483bf902-37c7-498b-b523-e5405466519c"
      },
      "execution_count": null,
      "outputs": [
        {
          "output_type": "execute_result",
          "data": {
            "application/vnd.google.colaboratory.intrinsic+json": {
              "type": "string"
            },
            "text/plain": [
              "'la'"
            ]
          },
          "metadata": {},
          "execution_count": 21
        }
      ]
    },
    {
      "cell_type": "code",
      "source": [
        "list='1,2,3,bro,varad'"
      ],
      "metadata": {
        "id": "Yuo9a4cwlZUC"
      },
      "execution_count": null,
      "outputs": []
    },
    {
      "cell_type": "code",
      "source": [
        "list"
      ],
      "metadata": {
        "colab": {
          "base_uri": "https://localhost:8080/",
          "height": 37
        },
        "id": "ghpQTZfLleIz",
        "outputId": "c58f0157-5862-4dee-b401-4133f52e43a7"
      },
      "execution_count": null,
      "outputs": [
        {
          "output_type": "execute_result",
          "data": {
            "application/vnd.google.colaboratory.intrinsic+json": {
              "type": "string"
            },
            "text/plain": [
              "'1,2,3,bro,varad'"
            ]
          },
          "metadata": {},
          "execution_count": 23
        }
      ]
    },
    {
      "cell_type": "code",
      "source": [
        "print(list1=[1,3,5,bro,varad,mahatme,8.3])"
      ],
      "metadata": {
        "colab": {
          "base_uri": "https://localhost:8080/",
          "height": 164
        },
        "id": "fJoSQPy9l6fM",
        "outputId": "9bc2e4eb-9d08-477e-b09a-4e58e40dc8b0"
      },
      "execution_count": null,
      "outputs": [
        {
          "output_type": "error",
          "ename": "NameError",
          "evalue": "ignored",
          "traceback": [
            "\u001b[0;31m---------------------------------------------------------------------------\u001b[0m",
            "\u001b[0;31mNameError\u001b[0m                                 Traceback (most recent call last)",
            "\u001b[0;32m<ipython-input-24-9d41784967f6>\u001b[0m in \u001b[0;36m<module>\u001b[0;34m()\u001b[0m\n\u001b[0;32m----> 1\u001b[0;31m \u001b[0mprint\u001b[0m\u001b[0;34m(\u001b[0m\u001b[0mlist1\u001b[0m\u001b[0;34m=\u001b[0m\u001b[0;34m[\u001b[0m\u001b[0;36m1\u001b[0m\u001b[0;34m,\u001b[0m\u001b[0;36m3\u001b[0m\u001b[0;34m,\u001b[0m\u001b[0;36m5\u001b[0m\u001b[0;34m,\u001b[0m\u001b[0mbro\u001b[0m\u001b[0;34m,\u001b[0m\u001b[0mvarad\u001b[0m\u001b[0;34m,\u001b[0m\u001b[0mmahatme\u001b[0m\u001b[0;34m,\u001b[0m\u001b[0;36m8.3\u001b[0m\u001b[0;34m]\u001b[0m\u001b[0;34m)\u001b[0m\u001b[0;34m\u001b[0m\u001b[0;34m\u001b[0m\u001b[0m\n\u001b[0m",
            "\u001b[0;31mNameError\u001b[0m: name 'bro' is not defined"
          ]
        }
      ]
    },
    {
      "cell_type": "code",
      "source": [
        "list1=[1,3,5,'bro','varad','mahatme',8.3]"
      ],
      "metadata": {
        "id": "o6cNrEbdmKTd"
      },
      "execution_count": null,
      "outputs": []
    },
    {
      "cell_type": "code",
      "source": [
        "print(list1)"
      ],
      "metadata": {
        "colab": {
          "base_uri": "https://localhost:8080/"
        },
        "id": "SpN0wI6zmwyy",
        "outputId": "7425a082-df7c-4bee-9362-aa9995132db1"
      },
      "execution_count": null,
      "outputs": [
        {
          "output_type": "stream",
          "name": "stdout",
          "text": [
            "[1, 3, 5, 'bro', 'varad', 'mahatme', 8.3]\n"
          ]
        }
      ]
    },
    {
      "cell_type": "code",
      "source": [
        ""
      ],
      "metadata": {
        "id": "FmcE_JNknTZt"
      },
      "execution_count": null,
      "outputs": []
    },
    {
      "cell_type": "code",
      "source": [
        "list_new=[200,500,6.9,list1]"
      ],
      "metadata": {
        "id": "Jvym6FD7nMjX"
      },
      "execution_count": null,
      "outputs": []
    },
    {
      "cell_type": "code",
      "source": [
        "print(list_new)"
      ],
      "metadata": {
        "colab": {
          "base_uri": "https://localhost:8080/"
        },
        "id": "iOKc7qvanUvW",
        "outputId": "27afaac3-e852-4d33-f9cf-1e66c8edee2a"
      },
      "execution_count": null,
      "outputs": [
        {
          "output_type": "stream",
          "name": "stdout",
          "text": [
            "[200, 500, 6.9, [1, 3, 5, 'bro', 'varad', 'mahatme', 8.3]]\n"
          ]
        }
      ]
    },
    {
      "cell_type": "code",
      "source": [
        "list_new[0:2]"
      ],
      "metadata": {
        "colab": {
          "base_uri": "https://localhost:8080/"
        },
        "id": "FUTT0rS-oa0a",
        "outputId": "cb02fcc8-2ec4-42b0-db95-78bacebaec5c"
      },
      "execution_count": null,
      "outputs": [
        {
          "output_type": "execute_result",
          "data": {
            "text/plain": [
              "[200, 500]"
            ]
          },
          "metadata": {},
          "execution_count": 34
        }
      ]
    },
    {
      "cell_type": "code",
      "source": [
        "list_new.pop(1)"
      ],
      "metadata": {
        "colab": {
          "base_uri": "https://localhost:8080/"
        },
        "id": "VtUz99poowtf",
        "outputId": "5f83cb10-883a-48d4-a4af-37bd94600c39"
      },
      "execution_count": null,
      "outputs": [
        {
          "output_type": "execute_result",
          "data": {
            "text/plain": [
              "500"
            ]
          },
          "metadata": {},
          "execution_count": 36
        }
      ]
    },
    {
      "cell_type": "code",
      "source": [
        "print(list_new)"
      ],
      "metadata": {
        "colab": {
          "base_uri": "https://localhost:8080/"
        },
        "id": "9ou_b_qNpUl-",
        "outputId": "64f37815-f1bf-4334-fda6-fbbd32cad4e7"
      },
      "execution_count": null,
      "outputs": [
        {
          "output_type": "stream",
          "name": "stdout",
          "text": [
            "[200, 6.9, [1, 3, 5, 'bro', 'varad', 'mahatme', 8.3]]\n"
          ]
        }
      ]
    },
    {
      "cell_type": "code",
      "source": [
        "# to reverse a list use 'reverse' command\n",
        "list1 = ['programming', 91, [2, 17, 22], 'practice']\n",
        "list1.reverse()\n",
        "print (\"list now : \", list1)"
      ],
      "metadata": {
        "colab": {
          "base_uri": "https://localhost:8080/"
        },
        "id": "nYii5u6_pmzN",
        "outputId": "2324df7d-7e96-43f7-e3d1-1fdf6dae8b1e"
      },
      "execution_count": null,
      "outputs": [
        {
          "output_type": "stream",
          "name": "stdout",
          "text": [
            "list now :  ['practice', [2, 17, 22], 91, 'programming']\n"
          ]
        }
      ]
    },
    {
      "cell_type": "code",
      "source": [
        "len(list1)"
      ],
      "metadata": {
        "colab": {
          "base_uri": "https://localhost:8080/"
        },
        "id": "BEhW4mQ7p0ET",
        "outputId": "6b4be306-c241-4c6d-b68d-b1105ab6b6dc"
      },
      "execution_count": null,
      "outputs": [
        {
          "output_type": "execute_result",
          "data": {
            "text/plain": [
              "4"
            ]
          },
          "metadata": {},
          "execution_count": 39
        }
      ]
    },
    {
      "cell_type": "code",
      "source": [
        "list1"
      ],
      "metadata": {
        "colab": {
          "base_uri": "https://localhost:8080/"
        },
        "id": "vwVKUsFFr-cn",
        "outputId": "ab3b661e-5c42-462f-8582-47591a689722"
      },
      "execution_count": null,
      "outputs": [
        {
          "output_type": "execute_result",
          "data": {
            "text/plain": [
              "['practice', [2, 17, 22], 91, 'programming']"
            ]
          },
          "metadata": {},
          "execution_count": 41
        }
      ]
    },
    {
      "cell_type": "code",
      "source": [
        "list1=[10,5,'ab',2e-4]"
      ],
      "metadata": {
        "id": "EU5UiBslMoNG"
      },
      "execution_count": null,
      "outputs": []
    },
    {
      "cell_type": "code",
      "source": [
        "list1[1]"
      ],
      "metadata": {
        "colab": {
          "base_uri": "https://localhost:8080/"
        },
        "id": "Ws1SwCGKN6Bb",
        "outputId": "0b853285-cafa-45b5-d509-181d31e7ad6c"
      },
      "execution_count": null,
      "outputs": [
        {
          "output_type": "execute_result",
          "data": {
            "text/plain": [
              "5"
            ]
          },
          "metadata": {},
          "execution_count": 4
        }
      ]
    },
    {
      "cell_type": "markdown",
      "source": [
        "dictionary"
      ],
      "metadata": {
        "id": "ijOC1_0KObky"
      }
    },
    {
      "cell_type": "code",
      "source": [
        "dictionary1={10:11,11:12,12:13,13:14}"
      ],
      "metadata": {
        "id": "2DQG-zrCOhQb"
      },
      "execution_count": null,
      "outputs": []
    },
    {
      "cell_type": "code",
      "source": [
        "print(dictionary1)"
      ],
      "metadata": {
        "colab": {
          "base_uri": "https://localhost:8080/"
        },
        "id": "MLdsAD7TPbxh",
        "outputId": "2ac4c5b9-cf06-439d-e807-d2bd3c2b418c"
      },
      "execution_count": null,
      "outputs": [
        {
          "output_type": "stream",
          "name": "stdout",
          "text": [
            "{10: 11, 11: 12, 12: 13, 13: 14}\n"
          ]
        }
      ]
    },
    {
      "cell_type": "code",
      "source": [
        "dictionary1[12]"
      ],
      "metadata": {
        "colab": {
          "base_uri": "https://localhost:8080/"
        },
        "id": "Gg1VchxvPhhZ",
        "outputId": "2007b60e-d442-4164-c972-e66a446ff7dd"
      },
      "execution_count": null,
      "outputs": [
        {
          "output_type": "execute_result",
          "data": {
            "text/plain": [
              "13"
            ]
          },
          "metadata": {},
          "execution_count": 7
        }
      ]
    },
    {
      "cell_type": "code",
      "source": [
        "dict={5:25,6:50,7:'brother'}"
      ],
      "metadata": {
        "id": "e4b77cDkP2Kw"
      },
      "execution_count": null,
      "outputs": []
    },
    {
      "cell_type": "code",
      "source": [
        "dict[7]"
      ],
      "metadata": {
        "colab": {
          "base_uri": "https://localhost:8080/",
          "height": 35
        },
        "id": "DqBDU0J2QM1x",
        "outputId": "23153c84-d56e-48d1-c2a4-5c252927a968"
      },
      "execution_count": null,
      "outputs": [
        {
          "output_type": "execute_result",
          "data": {
            "application/vnd.google.colaboratory.intrinsic+json": {
              "type": "string"
            },
            "text/plain": [
              "'brother'"
            ]
          },
          "metadata": {},
          "execution_count": 9
        }
      ]
    },
    {
      "cell_type": "code",
      "source": [
        "d_1={'k1':True, 'k2':False}"
      ],
      "metadata": {
        "id": "cD2mvXO8QaEP"
      },
      "execution_count": null,
      "outputs": []
    },
    {
      "cell_type": "code",
      "source": [
        "d_1['k1']"
      ],
      "metadata": {
        "colab": {
          "base_uri": "https://localhost:8080/"
        },
        "id": "JbWFca2wQvzH",
        "outputId": "58e8325b-7ee8-4a85-82e7-c489a03961ba"
      },
      "execution_count": null,
      "outputs": [
        {
          "output_type": "execute_result",
          "data": {
            "text/plain": [
              "True"
            ]
          },
          "metadata": {},
          "execution_count": 14
        }
      ]
    },
    {
      "cell_type": "code",
      "source": [
        "print(d_1['k1'])"
      ],
      "metadata": {
        "colab": {
          "base_uri": "https://localhost:8080/"
        },
        "id": "2HjgN2wmQ9oy",
        "outputId": "ce5018de-21e0-414d-965b-6c0b6a289007"
      },
      "execution_count": null,
      "outputs": [
        {
          "output_type": "stream",
          "name": "stdout",
          "text": [
            "True\n"
          ]
        }
      ]
    },
    {
      "cell_type": "code",
      "source": [
        "dict_two={'key1':10,'key2':4.9,'key3':[3,8],'key4':dict}"
      ],
      "metadata": {
        "id": "LmDUMy-HRO6R"
      },
      "execution_count": null,
      "outputs": []
    },
    {
      "cell_type": "code",
      "source": [
        "dict_two['key4']"
      ],
      "metadata": {
        "colab": {
          "base_uri": "https://localhost:8080/"
        },
        "id": "AaWXHO1IRran",
        "outputId": "0ecac17e-bbfb-47eb-bdc0-bc7ddb61f7c2"
      },
      "execution_count": null,
      "outputs": [
        {
          "output_type": "execute_result",
          "data": {
            "text/plain": [
              "{5: 25, 6: 50, 7: 'brother'}"
            ]
          },
          "metadata": {},
          "execution_count": 17
        }
      ]
    },
    {
      "cell_type": "code",
      "source": [
        "dict_two['key3']"
      ],
      "metadata": {
        "colab": {
          "base_uri": "https://localhost:8080/"
        },
        "id": "lE2Ho_KbR40h",
        "outputId": "ced24c62-5a1e-4cd3-eb16-83e1840cc452"
      },
      "execution_count": null,
      "outputs": [
        {
          "output_type": "execute_result",
          "data": {
            "text/plain": [
              "[3, 8]"
            ]
          },
          "metadata": {},
          "execution_count": 18
        }
      ]
    },
    {
      "cell_type": "code",
      "source": [
        ""
      ],
      "metadata": {
        "id": "MvtCbEHgSfLe"
      },
      "execution_count": null,
      "outputs": []
    },
    {
      "cell_type": "code",
      "source": [
        "dict_two={'key1':10,'key2':4.9,'key3':list(range(3,8,2)),'key4':dict}"
      ],
      "metadata": {
        "id": "bOUV0sxySfiy"
      },
      "execution_count": null,
      "outputs": []
    },
    {
      "cell_type": "code",
      "source": [
        "dict_two['key4']"
      ],
      "metadata": {
        "colab": {
          "base_uri": "https://localhost:8080/"
        },
        "id": "ZvUZOo87SmFt",
        "outputId": "136abdb5-59c3-4c45-a0e7-067e1eca1de2"
      },
      "execution_count": null,
      "outputs": [
        {
          "output_type": "execute_result",
          "data": {
            "text/plain": [
              "{5: 25, 6: 50, 7: 'brother'}"
            ]
          },
          "metadata": {},
          "execution_count": 20
        }
      ]
    },
    {
      "cell_type": "code",
      "source": [
        "dict_two['key3']"
      ],
      "metadata": {
        "colab": {
          "base_uri": "https://localhost:8080/"
        },
        "id": "ghYswwPNStGV",
        "outputId": "6d12edbf-59c2-4a9f-ba4d-f639bf059911"
      },
      "execution_count": null,
      "outputs": [
        {
          "output_type": "execute_result",
          "data": {
            "text/plain": [
              "[3, 5, 7]"
            ]
          },
          "metadata": {},
          "execution_count": 23
        }
      ]
    },
    {
      "cell_type": "code",
      "source": [
        "dict_3={}"
      ],
      "metadata": {
        "id": "gOIKEGGuTI7_"
      },
      "execution_count": null,
      "outputs": []
    },
    {
      "cell_type": "code",
      "source": [
        "dict_3['key1']=10"
      ],
      "metadata": {
        "id": "KHfObon6TNaM"
      },
      "execution_count": null,
      "outputs": []
    },
    {
      "cell_type": "code",
      "source": [
        "dict_3"
      ],
      "metadata": {
        "colab": {
          "base_uri": "https://localhost:8080/"
        },
        "id": "BgwQOExyTWPM",
        "outputId": "1551c25a-39d8-4c90-94c5-e2b9a02ad737"
      },
      "execution_count": null,
      "outputs": [
        {
          "output_type": "execute_result",
          "data": {
            "text/plain": [
              "{'key1': 10}"
            ]
          },
          "metadata": {},
          "execution_count": 26
        }
      ]
    },
    {
      "cell_type": "code",
      "source": [
        "print(dict_two.keys())"
      ],
      "metadata": {
        "colab": {
          "base_uri": "https://localhost:8080/"
        },
        "id": "cX1y8gCiTZX1",
        "outputId": "c2acb377-0de5-45c9-f9bf-d03524143eb1"
      },
      "execution_count": null,
      "outputs": [
        {
          "output_type": "stream",
          "name": "stdout",
          "text": [
            "dict_keys(['key1', 'key2', 'key3', 'key4'])\n"
          ]
        }
      ]
    },
    {
      "cell_type": "code",
      "source": [
        "print(dict_two.values())"
      ],
      "metadata": {
        "colab": {
          "base_uri": "https://localhost:8080/"
        },
        "id": "yBT8Hz6-T2hU",
        "outputId": "f48c6343-bbb0-4003-c942-623380f29df5"
      },
      "execution_count": null,
      "outputs": [
        {
          "output_type": "stream",
          "name": "stdout",
          "text": [
            "dict_values([10, 4.9, [3, 5, 7], {5: 25, 6: 50, 7: 'brother'}])\n"
          ]
        }
      ]
    },
    {
      "cell_type": "code",
      "source": [
        "list3=list(dict_two.keys())"
      ],
      "metadata": {
        "id": "ZzC7hjBEUMCm"
      },
      "execution_count": null,
      "outputs": []
    },
    {
      "cell_type": "code",
      "source": [
        "print(list3)"
      ],
      "metadata": {
        "colab": {
          "base_uri": "https://localhost:8080/"
        },
        "id": "5uB6oWaqUZIb",
        "outputId": "b790a323-8bba-4b1a-cb00-5401d64ae997"
      },
      "execution_count": null,
      "outputs": [
        {
          "output_type": "stream",
          "name": "stdout",
          "text": [
            "['key1', 'key2', 'key3', 'key4']\n"
          ]
        }
      ]
    },
    {
      "cell_type": "code",
      "source": [
        "print(dict_two.items())"
      ],
      "metadata": {
        "colab": {
          "base_uri": "https://localhost:8080/"
        },
        "id": "T0DElTTJUoDL",
        "outputId": "399f313d-390a-47c0-d8cd-735327f85611"
      },
      "execution_count": null,
      "outputs": [
        {
          "output_type": "stream",
          "name": "stdout",
          "text": [
            "dict_items([('key1', 10), ('key2', 4.9), ('key3', [3, 5, 7]), ('key4', {5: 25, 6: 50, 7: 'brother'})])\n"
          ]
        }
      ]
    },
    {
      "cell_type": "code",
      "source": [
        "11==10"
      ],
      "metadata": {
        "colab": {
          "base_uri": "https://localhost:8080/"
        },
        "id": "yueLcGt9VFIM",
        "outputId": "dd44b629-76f8-4999-b28a-7411da07203b"
      },
      "execution_count": null,
      "outputs": [
        {
          "output_type": "execute_result",
          "data": {
            "text/plain": [
              "False"
            ]
          },
          "metadata": {},
          "execution_count": 33
        }
      ]
    },
    {
      "cell_type": "code",
      "source": [
        "3>5"
      ],
      "metadata": {
        "colab": {
          "base_uri": "https://localhost:8080/"
        },
        "id": "JLq2Gcq0VIBN",
        "outputId": "76956db9-92da-4a27-df1e-c999a6668f9a"
      },
      "execution_count": null,
      "outputs": [
        {
          "output_type": "execute_result",
          "data": {
            "text/plain": [
              "False"
            ]
          },
          "metadata": {},
          "execution_count": 34
        }
      ]
    },
    {
      "cell_type": "code",
      "source": [
        "5>1"
      ],
      "metadata": {
        "colab": {
          "base_uri": "https://localhost:8080/"
        },
        "id": "3_vUWqWGVKiS",
        "outputId": "8424f2a2-f7e7-4115-a9d6-7f733ec62448"
      },
      "execution_count": null,
      "outputs": [
        {
          "output_type": "execute_result",
          "data": {
            "text/plain": [
              "True"
            ]
          },
          "metadata": {},
          "execution_count": 35
        }
      ]
    },
    {
      "cell_type": "code",
      "source": [
        "tup_1=(20,5)"
      ],
      "metadata": {
        "id": "itFInuF4WAd5"
      },
      "execution_count": null,
      "outputs": []
    },
    {
      "cell_type": "code",
      "source": [
        "print(tup_1)"
      ],
      "metadata": {
        "colab": {
          "base_uri": "https://localhost:8080/"
        },
        "id": "nJ-zuo5fWJAx",
        "outputId": "342ba129-aa36-4b94-ea69-a0893be2c5ea"
      },
      "execution_count": null,
      "outputs": [
        {
          "output_type": "stream",
          "name": "stdout",
          "text": [
            "(20, 5)\n"
          ]
        }
      ]
    },
    {
      "cell_type": "code",
      "source": [
        "tup_1[1]=100"
      ],
      "metadata": {
        "colab": {
          "base_uri": "https://localhost:8080/",
          "height": 165
        },
        "id": "RzzIAdr0Wd6K",
        "outputId": "2d6d2ea2-1bb6-4742-df9b-29f4c61ee0b1"
      },
      "execution_count": null,
      "outputs": [
        {
          "output_type": "error",
          "ename": "TypeError",
          "evalue": "ignored",
          "traceback": [
            "\u001b[0;31m---------------------------------------------------------------------------\u001b[0m",
            "\u001b[0;31mTypeError\u001b[0m                                 Traceback (most recent call last)",
            "\u001b[0;32m<ipython-input-39-9bf7b90f89b5>\u001b[0m in \u001b[0;36m<module>\u001b[0;34m()\u001b[0m\n\u001b[0;32m----> 1\u001b[0;31m \u001b[0mtup_1\u001b[0m\u001b[0;34m[\u001b[0m\u001b[0;36m1\u001b[0m\u001b[0;34m]\u001b[0m\u001b[0;34m=\u001b[0m\u001b[0;36m100\u001b[0m\u001b[0;34m\u001b[0m\u001b[0;34m\u001b[0m\u001b[0m\n\u001b[0m",
            "\u001b[0;31mTypeError\u001b[0m: 'tuple' object does not support item assignment"
          ]
        }
      ]
    },
    {
      "cell_type": "code",
      "source": [
        "tup_1.append(3)"
      ],
      "metadata": {
        "colab": {
          "base_uri": "https://localhost:8080/",
          "height": 165
        },
        "id": "mobxCTMJWv5p",
        "outputId": "0a0163df-2333-44b9-e42b-c2e791490ede"
      },
      "execution_count": null,
      "outputs": [
        {
          "output_type": "error",
          "ename": "AttributeError",
          "evalue": "ignored",
          "traceback": [
            "\u001b[0;31m---------------------------------------------------------------------------\u001b[0m",
            "\u001b[0;31mAttributeError\u001b[0m                            Traceback (most recent call last)",
            "\u001b[0;32m<ipython-input-40-cf2392799a7e>\u001b[0m in \u001b[0;36m<module>\u001b[0;34m()\u001b[0m\n\u001b[0;32m----> 1\u001b[0;31m \u001b[0mtup_1\u001b[0m\u001b[0;34m.\u001b[0m\u001b[0mappend\u001b[0m\u001b[0;34m(\u001b[0m\u001b[0;36m3\u001b[0m\u001b[0;34m)\u001b[0m\u001b[0;34m\u001b[0m\u001b[0;34m\u001b[0m\u001b[0m\n\u001b[0m",
            "\u001b[0;31mAttributeError\u001b[0m: 'tuple' object has no attribute 'append'"
          ]
        }
      ]
    },
    {
      "cell_type": "code",
      "source": [
        "tup2=(10, 20, 'note', 6.2,100, 20,'book',[2,3,5])"
      ],
      "metadata": {
        "id": "rHNKV-jzW5dq"
      },
      "execution_count": null,
      "outputs": []
    },
    {
      "cell_type": "code",
      "source": [
        "print(tup2[6])"
      ],
      "metadata": {
        "colab": {
          "base_uri": "https://localhost:8080/"
        },
        "id": "OIl6Hfg6XHlS",
        "outputId": "103198e8-5579-478b-ee3e-840f496cd05d"
      },
      "execution_count": null,
      "outputs": [
        {
          "output_type": "stream",
          "name": "stdout",
          "text": [
            "book\n"
          ]
        }
      ]
    },
    {
      "cell_type": "code",
      "source": [
        "tup2.index(6.2)"
      ],
      "metadata": {
        "colab": {
          "base_uri": "https://localhost:8080/"
        },
        "id": "B4tGiayfXMlf",
        "outputId": "b2aaaa2d-4633-48cc-e8ce-63b3fe5f9485"
      },
      "execution_count": null,
      "outputs": [
        {
          "output_type": "execute_result",
          "data": {
            "text/plain": [
              "3"
            ]
          },
          "metadata": {},
          "execution_count": 43
        }
      ]
    },
    {
      "cell_type": "code",
      "source": [
        "tup2.index(20)"
      ],
      "metadata": {
        "colab": {
          "base_uri": "https://localhost:8080/"
        },
        "id": "BGgCw_5HXWtt",
        "outputId": "cc8b749f-5097-44aa-932e-19d096538222"
      },
      "execution_count": null,
      "outputs": [
        {
          "output_type": "execute_result",
          "data": {
            "text/plain": [
              "1"
            ]
          },
          "metadata": {},
          "execution_count": 44
        }
      ]
    },
    {
      "cell_type": "code",
      "source": [
        "tup2.count(20)"
      ],
      "metadata": {
        "colab": {
          "base_uri": "https://localhost:8080/"
        },
        "id": "Y0m06QbnXgQA",
        "outputId": "a0d11b2e-71f6-40ed-e780-4b03165207ab"
      },
      "execution_count": null,
      "outputs": [
        {
          "output_type": "execute_result",
          "data": {
            "text/plain": [
              "2"
            ]
          },
          "metadata": {},
          "execution_count": 45
        }
      ]
    },
    {
      "cell_type": "code",
      "source": [
        "set1=(100)\n",
        "print(set1)\n",
        "set1.add(20)\n",
        "set1.add(40)\n",
        "print(set1)\n",
        "set1.add(70)\n",
        "print(set1)"
      ],
      "metadata": {
        "colab": {
          "base_uri": "https://localhost:8080/",
          "height": 252
        },
        "id": "9l0_X23tYUAR",
        "outputId": "6c84c769-2816-49f0-f182-9b9deb1b086d"
      },
      "execution_count": null,
      "outputs": [
        {
          "output_type": "stream",
          "name": "stdout",
          "text": [
            "100\n"
          ]
        },
        {
          "output_type": "error",
          "ename": "AttributeError",
          "evalue": "ignored",
          "traceback": [
            "\u001b[0;31m---------------------------------------------------------------------------\u001b[0m",
            "\u001b[0;31mAttributeError\u001b[0m                            Traceback (most recent call last)",
            "\u001b[0;32m<ipython-input-47-677d988e1d52>\u001b[0m in \u001b[0;36m<module>\u001b[0;34m()\u001b[0m\n\u001b[1;32m      1\u001b[0m \u001b[0mset1\u001b[0m\u001b[0;34m=\u001b[0m\u001b[0;34m(\u001b[0m\u001b[0;36m100\u001b[0m\u001b[0;34m)\u001b[0m\u001b[0;34m\u001b[0m\u001b[0;34m\u001b[0m\u001b[0m\n\u001b[1;32m      2\u001b[0m \u001b[0mprint\u001b[0m\u001b[0;34m(\u001b[0m\u001b[0mset1\u001b[0m\u001b[0;34m)\u001b[0m\u001b[0;34m\u001b[0m\u001b[0;34m\u001b[0m\u001b[0m\n\u001b[0;32m----> 3\u001b[0;31m \u001b[0mset1\u001b[0m\u001b[0;34m.\u001b[0m\u001b[0madd\u001b[0m\u001b[0;34m(\u001b[0m\u001b[0;36m20\u001b[0m\u001b[0;34m)\u001b[0m\u001b[0;34m\u001b[0m\u001b[0;34m\u001b[0m\u001b[0m\n\u001b[0m\u001b[1;32m      4\u001b[0m \u001b[0mset1\u001b[0m\u001b[0;34m.\u001b[0m\u001b[0madd\u001b[0m\u001b[0;34m(\u001b[0m\u001b[0;36m40\u001b[0m\u001b[0;34m)\u001b[0m\u001b[0;34m\u001b[0m\u001b[0;34m\u001b[0m\u001b[0m\n\u001b[1;32m      5\u001b[0m \u001b[0mprint\u001b[0m\u001b[0;34m(\u001b[0m\u001b[0mset1\u001b[0m\u001b[0;34m)\u001b[0m\u001b[0;34m\u001b[0m\u001b[0;34m\u001b[0m\u001b[0m\n",
            "\u001b[0;31mAttributeError\u001b[0m: 'int' object has no attribute 'add'"
          ]
        }
      ]
    },
    {
      "cell_type": "code",
      "source": [
        ""
      ],
      "metadata": {
        "id": "kPcuSIxlZTXw"
      },
      "execution_count": null,
      "outputs": []
    },
    {
      "cell_type": "code",
      "source": [
        "set1=(100)\n",
        "print(set1)\n",
        "set1.add(20)\n",
        "set1.add(40)\n",
        "print(set1)\n",
        "set1.add(70)\n",
        "print(set1)"
      ],
      "metadata": {
        "colab": {
          "base_uri": "https://localhost:8080/",
          "height": 252
        },
        "outputId": "0a58c53c-1141-4c1f-b47c-26a4e473b8e9",
        "id": "htbe6UiZZT06"
      },
      "execution_count": null,
      "outputs": [
        {
          "output_type": "stream",
          "name": "stdout",
          "text": [
            "100\n"
          ]
        },
        {
          "output_type": "error",
          "ename": "AttributeError",
          "evalue": "ignored",
          "traceback": [
            "\u001b[0;31m---------------------------------------------------------------------------\u001b[0m",
            "\u001b[0;31mAttributeError\u001b[0m                            Traceback (most recent call last)",
            "\u001b[0;32m<ipython-input-48-677d988e1d52>\u001b[0m in \u001b[0;36m<module>\u001b[0;34m()\u001b[0m\n\u001b[1;32m      1\u001b[0m \u001b[0mset1\u001b[0m\u001b[0;34m=\u001b[0m\u001b[0;34m(\u001b[0m\u001b[0;36m100\u001b[0m\u001b[0;34m)\u001b[0m\u001b[0;34m\u001b[0m\u001b[0;34m\u001b[0m\u001b[0m\n\u001b[1;32m      2\u001b[0m \u001b[0mprint\u001b[0m\u001b[0;34m(\u001b[0m\u001b[0mset1\u001b[0m\u001b[0;34m)\u001b[0m\u001b[0;34m\u001b[0m\u001b[0;34m\u001b[0m\u001b[0m\n\u001b[0;32m----> 3\u001b[0;31m \u001b[0mset1\u001b[0m\u001b[0;34m.\u001b[0m\u001b[0madd\u001b[0m\u001b[0;34m(\u001b[0m\u001b[0;36m20\u001b[0m\u001b[0;34m)\u001b[0m\u001b[0;34m\u001b[0m\u001b[0;34m\u001b[0m\u001b[0m\n\u001b[0m\u001b[1;32m      4\u001b[0m \u001b[0mset1\u001b[0m\u001b[0;34m.\u001b[0m\u001b[0madd\u001b[0m\u001b[0;34m(\u001b[0m\u001b[0;36m40\u001b[0m\u001b[0;34m)\u001b[0m\u001b[0;34m\u001b[0m\u001b[0;34m\u001b[0m\u001b[0m\n\u001b[1;32m      5\u001b[0m \u001b[0mprint\u001b[0m\u001b[0;34m(\u001b[0m\u001b[0mset1\u001b[0m\u001b[0;34m)\u001b[0m\u001b[0;34m\u001b[0m\u001b[0;34m\u001b[0m\u001b[0m\n",
            "\u001b[0;31mAttributeError\u001b[0m: 'int' object has no attribute 'add'"
          ]
        }
      ]
    },
    {
      "cell_type": "code",
      "source": [
        "a='abc'\n",
        "print(a)"
      ],
      "metadata": {
        "colab": {
          "base_uri": "https://localhost:8080/"
        },
        "id": "IyLLfoGtZcH-",
        "outputId": "81cee131-558e-4134-af42-55878c5402e7"
      },
      "execution_count": null,
      "outputs": [
        {
          "output_type": "stream",
          "name": "stdout",
          "text": [
            "abc\n"
          ]
        }
      ]
    },
    {
      "cell_type": "code",
      "source": [
        "print(type(a))"
      ],
      "metadata": {
        "colab": {
          "base_uri": "https://localhost:8080/"
        },
        "id": "k6EQse5GZiBF",
        "outputId": "735c7222-f103-4de3-c880-74377a1bd722"
      },
      "execution_count": null,
      "outputs": [
        {
          "output_type": "stream",
          "name": "stdout",
          "text": [
            "<class 'str'>\n"
          ]
        }
      ]
    },
    {
      "cell_type": "code",
      "source": [
        "num1=None"
      ],
      "metadata": {
        "id": "PIyTh-XTZnL_"
      },
      "execution_count": null,
      "outputs": []
    },
    {
      "cell_type": "code",
      "source": [
        "print(type(num1))"
      ],
      "metadata": {
        "colab": {
          "base_uri": "https://localhost:8080/"
        },
        "id": "7FRaF4MWZp3l",
        "outputId": "d568ffb1-0153-4551-d07d-bc5765d99c5f"
      },
      "execution_count": null,
      "outputs": [
        {
          "output_type": "stream",
          "name": "stdout",
          "text": [
            "<class 'NoneType'>\n"
          ]
        }
      ]
    },
    {
      "cell_type": "code",
      "source": [
        "10.5 and (1>2)"
      ],
      "metadata": {
        "colab": {
          "base_uri": "https://localhost:8080/"
        },
        "id": "yso8ejtbaASc",
        "outputId": "63740564-d65a-41d4-f191-6cbe26817978"
      },
      "execution_count": null,
      "outputs": [
        {
          "output_type": "execute_result",
          "data": {
            "text/plain": [
              "False"
            ]
          },
          "metadata": {},
          "execution_count": 53
        }
      ]
    },
    {
      "cell_type": "code",
      "source": [
        "a=20\n",
        "if(a>10):\n",
        "  print(a)\n",
        "  print(a+5)"
      ],
      "metadata": {
        "colab": {
          "base_uri": "https://localhost:8080/"
        },
        "id": "1a-4acpjaa5V",
        "outputId": "d679d63d-aafd-469d-eeaf-32d56d76c7f1"
      },
      "execution_count": null,
      "outputs": [
        {
          "output_type": "stream",
          "name": "stdout",
          "text": [
            "20\n",
            "25\n"
          ]
        }
      ]
    },
    {
      "cell_type": "code",
      "source": [
        "a=100\n",
        "if (a==100):\n",
        "  print(\"Greetings\")"
      ],
      "metadata": {
        "colab": {
          "base_uri": "https://localhost:8080/"
        },
        "id": "stDrg1kodwL5",
        "outputId": "52f8b1c3-580d-443a-9e08-7e343eecc8ff"
      },
      "execution_count": null,
      "outputs": [
        {
          "output_type": "stream",
          "name": "stdout",
          "text": [
            "Greetings\n"
          ]
        }
      ]
    },
    {
      "cell_type": "code",
      "source": [
        "x=30\n",
        "if(x==30):\n",
        "  print('Number is 30')\n",
        "else:\n",
        "  print('Number is not 30')\n",
        "print('ok')"
      ],
      "metadata": {
        "colab": {
          "base_uri": "https://localhost:8080/"
        },
        "id": "pxnippVZeN_R",
        "outputId": "c2903fbd-72bd-48d1-9aa2-ec7d0b876285"
      },
      "execution_count": null,
      "outputs": [
        {
          "output_type": "stream",
          "name": "stdout",
          "text": [
            "Number is 30\n",
            "ok\n"
          ]
        }
      ]
    },
    {
      "cell_type": "code",
      "source": [
        "z=int(input('enter value:' ))\n",
        "if(z>0):\n",
        "  print('positive number')\n",
        "if(z<0):\n",
        "  print('negetive number')\n",
        "if(z==0):\n",
        "  print('zero')"
      ],
      "metadata": {
        "colab": {
          "base_uri": "https://localhost:8080/"
        },
        "id": "10WPlQaUe9R6",
        "outputId": "650f5754-6097-4d4a-8ccc-d3c2fc3cc796"
      },
      "execution_count": null,
      "outputs": [
        {
          "output_type": "stream",
          "name": "stdout",
          "text": [
            "enter value:69\n",
            "positive number\n"
          ]
        }
      ]
    },
    {
      "cell_type": "code",
      "source": [
        "x=20<10\n",
        "if x:\n",
        "  print('this is executed')\n",
        "else:\n",
        "  print('this is executed bro')"
      ],
      "metadata": {
        "colab": {
          "base_uri": "https://localhost:8080/"
        },
        "id": "dKV0JA6hgYXv",
        "outputId": "80ffba0b-38df-4bfb-a6d3-ad9197cc15e2"
      },
      "execution_count": null,
      "outputs": [
        {
          "output_type": "stream",
          "name": "stdout",
          "text": [
            "this is executed bro\n"
          ]
        }
      ]
    },
    {
      "cell_type": "code",
      "source": [
        "list = []\n",
        "\n",
        "# number of elements as input\n",
        "n = int(input(\"Enter number of elements : \"))\n",
        "\n",
        "# iterating till the range\n",
        "for i in range(0, n):\n",
        "  ele = int(input())\n",
        "\n",
        "  list.append(ele) # adding the element\n",
        "  \n",
        "print(list)\n",
        "\n",
        "target = int(input(\"enter the target number\")) \n",
        "for i in range(len(list)):\n",
        "    num = target-list[i]\n",
        "    for j in range(i+1, len(list)):\n",
        "        if list[j] == num:\n",
        "            print (list[i], list[j])\n"
      ],
      "metadata": {
        "id": "0_kile6BZPR0",
        "outputId": "1bad295f-2fc3-4ab8-a22b-83ddd3cdf985",
        "colab": {
          "base_uri": "https://localhost:8080/"
        }
      },
      "execution_count": null,
      "outputs": [
        {
          "output_type": "stream",
          "name": "stdout",
          "text": [
            "Enter number of elements : 3\n",
            "1\n",
            "2\n",
            "3\n",
            "[1, 2, 3]\n",
            "enter the target number5\n",
            "2 3\n"
          ]
        }
      ]
    },
    {
      "cell_type": "code",
      "source": [
        "#while lool\n",
        "\n",
        "i=1\n",
        "\n",
        "while(i<=10):\n",
        "    print(i)\n",
        "    i=i+1\n"
      ],
      "metadata": {
        "colab": {
          "base_uri": "https://localhost:8080/"
        },
        "id": "26YslQv4Q42w",
        "outputId": "6cfbe147-4b1b-4116-c927-362c6c29be4f"
      },
      "execution_count": null,
      "outputs": [
        {
          "output_type": "stream",
          "name": "stdout",
          "text": [
            "1\n",
            "2\n",
            "3\n",
            "4\n",
            "5\n",
            "6\n",
            "7\n",
            "8\n",
            "9\n",
            "10\n"
          ]
        }
      ]
    },
    {
      "cell_type": "code",
      "source": [
        "#range function\n",
        "\n",
        "list(range(1,16,1))"
      ],
      "metadata": {
        "colab": {
          "base_uri": "https://localhost:8080/"
        },
        "id": "LCjzVv8jUSQp",
        "outputId": "cf25343b-3205-48e5-ea3c-b971ba4fe3b0"
      },
      "execution_count": null,
      "outputs": [
        {
          "output_type": "execute_result",
          "data": {
            "text/plain": [
              "[1, 2, 3, 4, 5, 6, 7, 8, 9, 10, 11, 12, 13, 14, 15]"
            ]
          },
          "metadata": {},
          "execution_count": 10
        }
      ]
    },
    {
      "cell_type": "code",
      "source": [
        ""
      ],
      "metadata": {
        "id": "4a6avJ6BUvyf"
      },
      "execution_count": null,
      "outputs": []
    },
    {
      "cell_type": "code",
      "source": [
        "list(range(1,16,3))"
      ],
      "metadata": {
        "colab": {
          "base_uri": "https://localhost:8080/"
        },
        "outputId": "d09531c7-9859-470f-b84f-86da7822e756",
        "id": "TaECHxVJUwV0"
      },
      "execution_count": null,
      "outputs": [
        {
          "output_type": "execute_result",
          "data": {
            "text/plain": [
              "[1, 4, 7, 10, 13]"
            ]
          },
          "metadata": {},
          "execution_count": 11
        }
      ]
    },
    {
      "cell_type": "code",
      "source": [
        ""
      ],
      "metadata": {
        "id": "X5rPgQbsU1v_"
      },
      "execution_count": null,
      "outputs": []
    },
    {
      "cell_type": "code",
      "source": [
        "\n",
        "\n",
        "list(range(15,0,-1))"
      ],
      "metadata": {
        "colab": {
          "base_uri": "https://localhost:8080/"
        },
        "outputId": "64670163-97e3-43c9-f777-aa7760acec2a",
        "id": "UdZEN5-_U2fz"
      },
      "execution_count": null,
      "outputs": [
        {
          "output_type": "execute_result",
          "data": {
            "text/plain": [
              "[15, 14, 13, 12, 11, 10, 9, 8, 7, 6, 5, 4, 3, 2, 1]"
            ]
          },
          "metadata": {},
          "execution_count": 14
        }
      ]
    },
    {
      "cell_type": "code",
      "source": [
        ""
      ],
      "metadata": {
        "id": "QzVWmLkcVPsW"
      },
      "execution_count": null,
      "outputs": []
    },
    {
      "cell_type": "code",
      "source": [
        "#range function\n",
        "\n",
        "list(range(10,1,-1))"
      ],
      "metadata": {
        "colab": {
          "base_uri": "https://localhost:8080/"
        },
        "outputId": "070081fb-12bc-445f-e843-7bc158d1f70c",
        "id": "EgYtmjXwVQB-"
      },
      "execution_count": null,
      "outputs": [
        {
          "output_type": "execute_result",
          "data": {
            "text/plain": [
              "[10, 9, 8, 7, 6, 5, 4, 3, 2]"
            ]
          },
          "metadata": {},
          "execution_count": 16
        }
      ]
    },
    {
      "cell_type": "markdown",
      "source": [
        "in python everything is an object"
      ],
      "metadata": {
        "id": "poQQc7pPVbqv"
      }
    },
    {
      "cell_type": "code",
      "source": [
        "list1=list(range(100,69,-4))"
      ],
      "metadata": {
        "id": "oDe4zPr4Vex3"
      },
      "execution_count": null,
      "outputs": []
    },
    {
      "cell_type": "code",
      "source": [
        "print(list1)\n",
        "for i in list1:\n",
        "  print(str(i)+\" UBER\")"
      ],
      "metadata": {
        "colab": {
          "base_uri": "https://localhost:8080/"
        },
        "id": "zftXdspXWTIl",
        "outputId": "6fbf0f6b-4c08-4380-dc04-257b6a5ed05a"
      },
      "execution_count": null,
      "outputs": [
        {
          "output_type": "stream",
          "name": "stdout",
          "text": [
            "[100, 96, 92, 88, 84, 80, 76, 72]\n",
            "100 UBER\n",
            "96 UBER\n",
            "92 UBER\n",
            "88 UBER\n",
            "84 UBER\n",
            "80 UBER\n",
            "76 UBER\n",
            "72 UBER\n"
          ]
        }
      ]
    },
    {
      "cell_type": "code",
      "source": [
        "for i in 'VARAD MAHATME':\n",
        "  print(i)"
      ],
      "metadata": {
        "colab": {
          "base_uri": "https://localhost:8080/"
        },
        "id": "gqKdsV2vWyiy",
        "outputId": "1763b083-9ef0-4bb8-af49-e620bfc6ae02"
      },
      "execution_count": null,
      "outputs": [
        {
          "output_type": "stream",
          "name": "stdout",
          "text": [
            "V\n",
            "A\n",
            "R\n",
            "A\n",
            "D\n",
            " \n",
            "M\n",
            "A\n",
            "H\n",
            "A\n",
            "T\n",
            "M\n",
            "E\n"
          ]
        }
      ]
    },
    {
      "cell_type": "code",
      "source": [
        "a=int(input(\"enter number to convert to a table\"))\n",
        "for i in range(1,11,1):\n",
        "  print(a,\"x\",i,\"=\",a*i)"
      ],
      "metadata": {
        "colab": {
          "base_uri": "https://localhost:8080/"
        },
        "id": "t9wvYwiLW9Fj",
        "outputId": "8c8db6ae-525f-44c0-c3a1-16baaa1ea842"
      },
      "execution_count": null,
      "outputs": [
        {
          "output_type": "stream",
          "name": "stdout",
          "text": [
            "enter number to convert to a table10\n",
            "10 x 1 = 10\n",
            "10 x 2 = 20\n",
            "10 x 3 = 30\n",
            "10 x 4 = 40\n",
            "10 x 5 = 50\n",
            "10 x 6 = 60\n",
            "10 x 7 = 70\n",
            "10 x 8 = 80\n",
            "10 x 9 = 90\n",
            "10 x 10 = 100\n"
          ]
        }
      ]
    },
    {
      "cell_type": "code",
      "source": [
        "#cube & cube root of nos from 1 to 100\n",
        "for i in range(1,101,1):\n",
        "  print(\"number=\",i,\"cube is \",i**3,\"cube root is \",i**(1/3))"
      ],
      "metadata": {
        "colab": {
          "base_uri": "https://localhost:8080/"
        },
        "id": "f9OjSQkuYTRl",
        "outputId": "3e5cfceb-43e3-4471-d817-84a23bc751f1"
      },
      "execution_count": null,
      "outputs": [
        {
          "output_type": "stream",
          "name": "stdout",
          "text": [
            "number= 1 cube is  1 cube root is  1.0\n",
            "number= 2 cube is  8 cube root is  1.2599210498948732\n",
            "number= 3 cube is  27 cube root is  1.4422495703074083\n",
            "number= 4 cube is  64 cube root is  1.5874010519681994\n",
            "number= 5 cube is  125 cube root is  1.7099759466766968\n",
            "number= 6 cube is  216 cube root is  1.8171205928321397\n",
            "number= 7 cube is  343 cube root is  1.912931182772389\n",
            "number= 8 cube is  512 cube root is  2.0\n",
            "number= 9 cube is  729 cube root is  2.080083823051904\n",
            "number= 10 cube is  1000 cube root is  2.154434690031884\n",
            "number= 11 cube is  1331 cube root is  2.2239800905693152\n",
            "number= 12 cube is  1728 cube root is  2.2894284851066637\n",
            "number= 13 cube is  2197 cube root is  2.3513346877207573\n",
            "number= 14 cube is  2744 cube root is  2.4101422641752297\n",
            "number= 15 cube is  3375 cube root is  2.46621207433047\n",
            "number= 16 cube is  4096 cube root is  2.5198420997897464\n",
            "number= 17 cube is  4913 cube root is  2.571281590658235\n",
            "number= 18 cube is  5832 cube root is  2.6207413942088964\n",
            "number= 19 cube is  6859 cube root is  2.668401648721945\n",
            "number= 20 cube is  8000 cube root is  2.7144176165949063\n",
            "number= 21 cube is  9261 cube root is  2.7589241763811203\n",
            "number= 22 cube is  10648 cube root is  2.802039330655387\n",
            "number= 23 cube is  12167 cube root is  2.8438669798515654\n",
            "number= 24 cube is  13824 cube root is  2.8844991406148166\n",
            "number= 25 cube is  15625 cube root is  2.924017738212866\n",
            "number= 26 cube is  17576 cube root is  2.9624960684073702\n",
            "number= 27 cube is  19683 cube root is  3.0\n",
            "number= 28 cube is  21952 cube root is  3.0365889718756622\n",
            "number= 29 cube is  24389 cube root is  3.072316825685847\n",
            "number= 30 cube is  27000 cube root is  3.1072325059538586\n",
            "number= 31 cube is  29791 cube root is  3.1413806523913927\n",
            "number= 32 cube is  32768 cube root is  3.1748021039363987\n",
            "number= 33 cube is  35937 cube root is  3.207534329995826\n",
            "number= 34 cube is  39304 cube root is  3.239611801277483\n",
            "number= 35 cube is  42875 cube root is  3.2710663101885897\n",
            "number= 36 cube is  46656 cube root is  3.3019272488946263\n",
            "number= 37 cube is  50653 cube root is  3.332221851645953\n",
            "number= 38 cube is  54872 cube root is  3.361975406798963\n",
            "number= 39 cube is  59319 cube root is  3.3912114430141664\n",
            "number= 40 cube is  64000 cube root is  3.4199518933533937\n",
            "number= 41 cube is  68921 cube root is  3.4482172403827303\n",
            "number= 42 cube is  74088 cube root is  3.4760266448864496\n",
            "number= 43 cube is  79507 cube root is  3.503398060386724\n",
            "number= 44 cube is  85184 cube root is  3.530348335326063\n",
            "number= 45 cube is  91125 cube root is  3.5568933044900626\n",
            "number= 46 cube is  97336 cube root is  3.583047871015946\n",
            "number= 47 cube is  103823 cube root is  3.6088260801386944\n",
            "number= 48 cube is  110592 cube root is  3.634241185664279\n",
            "number= 49 cube is  117649 cube root is  3.6593057100229713\n",
            "number= 50 cube is  125000 cube root is  3.6840314986403864\n",
            "number= 51 cube is  132651 cube root is  3.708429769266189\n",
            "number= 52 cube is  140608 cube root is  3.7325111568172478\n",
            "number= 53 cube is  148877 cube root is  3.756285754221072\n",
            "number= 54 cube is  157464 cube root is  3.7797631496846193\n",
            "number= 55 cube is  166375 cube root is  3.802952460761391\n",
            "number= 56 cube is  175616 cube root is  3.825862365544778\n",
            "number= 57 cube is  185193 cube root is  3.8485011312768047\n",
            "number= 58 cube is  195112 cube root is  3.8708766406277966\n",
            "number= 59 cube is  205379 cube root is  3.8929964158732604\n",
            "number= 60 cube is  216000 cube root is  3.9148676411688634\n",
            "number= 61 cube is  226981 cube root is  3.936497183102173\n",
            "number= 62 cube is  238328 cube root is  3.9578916096804053\n",
            "number= 63 cube is  250047 cube root is  3.9790572078963917\n",
            "number= 64 cube is  262144 cube root is  3.9999999999999996\n",
            "number= 65 cube is  274625 cube root is  4.020725758589058\n",
            "number= 66 cube is  287496 cube root is  4.04124002062219\n",
            "number= 67 cube is  300763 cube root is  4.0615481004456795\n",
            "number= 68 cube is  314432 cube root is  4.081655101917348\n",
            "number= 69 cube is  328509 cube root is  4.101565929702347\n",
            "number= 70 cube is  343000 cube root is  4.121285299808556\n",
            "number= 71 cube is  357911 cube root is  4.140817749422853\n",
            "number= 72 cube is  373248 cube root is  4.160167646103808\n",
            "number= 73 cube is  389017 cube root is  4.179339196381232\n",
            "number= 74 cube is  405224 cube root is  4.198336453808407\n",
            "number= 75 cube is  421875 cube root is  4.217163326508746\n",
            "number= 76 cube is  438976 cube root is  4.235823584254893\n",
            "number= 77 cube is  456533 cube root is  4.254320865115005\n",
            "number= 78 cube is  474552 cube root is  4.272658681697917\n",
            "number= 79 cube is  493039 cube root is  4.290840427026207\n",
            "number= 80 cube is  512000 cube root is  4.308869380063767\n",
            "number= 81 cube is  531441 cube root is  4.3267487109222245\n",
            "number= 82 cube is  551368 cube root is  4.344481485768611\n",
            "number= 83 cube is  571787 cube root is  4.362070671454838\n",
            "number= 84 cube is  592704 cube root is  4.379519139887889\n",
            "number= 85 cube is  614125 cube root is  4.396829672158179\n",
            "number= 86 cube is  636056 cube root is  4.414004962442103\n",
            "number= 87 cube is  658503 cube root is  4.431047621693634\n",
            "number= 88 cube is  681472 cube root is  4.4479601811386305\n",
            "number= 89 cube is  704969 cube root is  4.464745095584537\n",
            "number= 90 cube is  729000 cube root is  4.481404746557164\n",
            "number= 91 cube is  753571 cube root is  4.497941445275415\n",
            "number= 92 cube is  778688 cube root is  4.514357435474001\n",
            "number= 93 cube is  804357 cube root is  4.530654896083492\n",
            "number= 94 cube is  830584 cube root is  4.546835943776344\n",
            "number= 95 cube is  857375 cube root is  4.562902635386966\n",
            "number= 96 cube is  884736 cube root is  4.5788569702133275\n",
            "number= 97 cube is  912673 cube root is  4.594700892207039\n",
            "number= 98 cube is  941192 cube root is  4.610436292058446\n",
            "number= 99 cube is  970299 cube root is  4.626065009182741\n",
            "number= 100 cube is  1000000 cube root is  4.641588833612778\n"
          ]
        }
      ]
    },
    {
      "cell_type": "code",
      "source": [
        "i2=range(1,10,1)\n",
        "for i in i2:\n",
        "  print(i**3)"
      ],
      "metadata": {
        "colab": {
          "base_uri": "https://localhost:8080/"
        },
        "id": "OusBr-eNa_Et",
        "outputId": "4c65d7cc-f38f-41a7-db18-79a76bc1780c"
      },
      "execution_count": null,
      "outputs": [
        {
          "output_type": "stream",
          "name": "stdout",
          "text": [
            "1\n",
            "8\n",
            "27\n",
            "64\n",
            "125\n",
            "216\n",
            "343\n",
            "512\n",
            "729\n"
          ]
        }
      ]
    },
    {
      "cell_type": "code",
      "source": [
        "#by default dict will print keys in stead of value\n",
        "dict1={'key1':100,'key2':12,'key3':42}\n",
        "for i in dict1:\n",
        "  print(i)"
      ],
      "metadata": {
        "colab": {
          "base_uri": "https://localhost:8080/"
        },
        "id": "e3Zqu0YybVMt",
        "outputId": "43c92ce8-bc72-489e-a834-6c03b914c1cf"
      },
      "execution_count": null,
      "outputs": [
        {
          "output_type": "stream",
          "name": "stdout",
          "text": [
            "key1\n",
            "key2\n",
            "key3\n"
          ]
        }
      ]
    },
    {
      "cell_type": "code",
      "source": [
        "#by default dict will print keys in stead of value\n",
        "dict1={'key1':100,'key2':12,'key3':42}\n",
        "for i in dict1:\n",
        "  print(dict1[i])"
      ],
      "metadata": {
        "colab": {
          "base_uri": "https://localhost:8080/"
        },
        "id": "nuy2sY1Sbp_O",
        "outputId": "6596c11f-fade-45da-b342-c80b72b7a190"
      },
      "execution_count": null,
      "outputs": [
        {
          "output_type": "stream",
          "name": "stdout",
          "text": [
            "100\n",
            "12\n",
            "42\n"
          ]
        }
      ]
    },
    {
      "cell_type": "code",
      "source": [
        "#print only numbers divisible by 2 in a list\n",
        "list2=[101,102,55,56,4,8,13,18]\n",
        "for i in list2:\n",
        "  if i%2==0:\n",
        "    print(i)"
      ],
      "metadata": {
        "colab": {
          "base_uri": "https://localhost:8080/"
        },
        "id": "ZCsio1zXcsuU",
        "outputId": "df37d77f-6665-4ce9-f45d-a6b13bdc8315"
      },
      "execution_count": null,
      "outputs": [
        {
          "output_type": "stream",
          "name": "stdout",
          "text": [
            "102\n",
            "56\n",
            "4\n",
            "8\n",
            "18\n"
          ]
        }
      ]
    },
    {
      "cell_type": "code",
      "source": [
        "#creating a function in python\n",
        "#functions are defined and called within a main program\n",
        "\n",
        "def find_area(b,h):\n",
        "  area_1=b*h\n",
        "  return area_1"
      ],
      "metadata": {
        "id": "xXoGPnJrel3J"
      },
      "execution_count": null,
      "outputs": []
    },
    {
      "cell_type": "code",
      "source": [
        "#calling function\n",
        "num1= int(input(\"enter b\"))\n",
        "num2= int(input(\"enter h\"))\n",
        "var1=find_area(num1,num2)\n",
        "print(var1)"
      ],
      "metadata": {
        "colab": {
          "base_uri": "https://localhost:8080/"
        },
        "id": "LXhjatWgf2bK",
        "outputId": "405d2312-9068-41db-9989-f5d11718cd91"
      },
      "execution_count": null,
      "outputs": [
        {
          "output_type": "stream",
          "name": "stdout",
          "text": [
            "enter b4\n",
            "enter h5\n",
            "20\n"
          ]
        }
      ]
    },
    {
      "cell_type": "code",
      "source": [
        ""
      ],
      "metadata": {
        "id": "zksJuhCkg1DF"
      },
      "execution_count": null,
      "outputs": []
    },
    {
      "cell_type": "code",
      "metadata": {
        "id": "OJbt3V_F2VpY"
      },
      "source": [
        "# def keyword is used to define a function\n",
        "import math\n",
        "def area_of_circle(radius):\n",
        "    Area_circ= math.pi* radius * radius\n",
        "    return Area_circ\n",
        "\n",
        "r1 =input(\"Enter a radius value:\")\n",
        "\n",
        "r1_num=float(r1)\n",
        "\n",
        "Val_from_fn = area_of_circle(r1_num)\n",
        "print(\"The Area of circle is {}\".format(Val_from_fn))\n"
      ],
      "execution_count": null,
      "outputs": []
    },
    {
      "cell_type": "code",
      "source": [
        "import math\n",
        "def perimeter(radius):\n",
        "  peri=2*math.pi*radius\n",
        "  return peri\n",
        "\n",
        "rad=float(input(\"enter the raius value: \"))\n",
        "\n",
        "val_peri=perimeter(rad)\n",
        "print(val_peri)\n",
        "\n"
      ],
      "metadata": {
        "colab": {
          "base_uri": "https://localhost:8080/"
        },
        "id": "pIXKjtCbhPYe",
        "outputId": "01663a63-1664-4789-fbbf-a05d1b8546de"
      },
      "execution_count": null,
      "outputs": [
        {
          "output_type": "stream",
          "name": "stdout",
          "text": [
            "enter the raius value: 5\n",
            "31.41592653589793\n"
          ]
        }
      ]
    },
    {
      "cell_type": "code",
      "source": [
        "import math\n",
        "print(math.pi)"
      ],
      "metadata": {
        "colab": {
          "base_uri": "https://localhost:8080/"
        },
        "id": "Hnw4cUXkjOYz",
        "outputId": "cfc317b5-d46e-4d44-9aea-64119c15a8fe"
      },
      "execution_count": null,
      "outputs": [
        {
          "output_type": "stream",
          "name": "stdout",
          "text": [
            "3.141592653589793\n"
          ]
        }
      ]
    },
    {
      "cell_type": "code",
      "source": [
        "pip install numpy"
      ],
      "metadata": {
        "colab": {
          "base_uri": "https://localhost:8080/"
        },
        "id": "yShr0CQ8mU5n",
        "outputId": "d2bad87e-0bec-4158-abed-67003f81a75d"
      },
      "execution_count": null,
      "outputs": [
        {
          "output_type": "stream",
          "name": "stdout",
          "text": [
            "Requirement already satisfied: numpy in /usr/local/lib/python3.7/dist-packages (1.21.5)\n"
          ]
        }
      ]
    },
    {
      "cell_type": "code",
      "source": [
        "import numpy as np"
      ],
      "metadata": {
        "id": "Xc5cLKz8mclv"
      },
      "execution_count": null,
      "outputs": []
    },
    {
      "cell_type": "code",
      "source": [
        "list_1=[3,4,5,6]\n",
        "x=np.array(list_1)\n",
        "type(x) #Data type of python is different than numpy. List in python, ndarray in numpy. "
      ],
      "metadata": {
        "colab": {
          "base_uri": "https://localhost:8080/"
        },
        "id": "PzPyhaudmxjw",
        "outputId": "bee51314-fd68-4d07-c03e-d9b7f9e8b9b9"
      },
      "execution_count": null,
      "outputs": [
        {
          "output_type": "execute_result",
          "data": {
            "text/plain": [
              "numpy.ndarray"
            ]
          },
          "metadata": {},
          "execution_count": 54
        }
      ]
    },
    {
      "cell_type": "code",
      "source": [
        "# Generation of numpy using built in techniques\n",
        "np_arr=np.arange(3,6,2)\n",
        "print(np_arr)"
      ],
      "metadata": {
        "colab": {
          "base_uri": "https://localhost:8080/"
        },
        "id": "zgiickPjnegK",
        "outputId": "1b1a221b-6eba-40fe-d8f9-487148274dc6"
      },
      "execution_count": null,
      "outputs": [
        {
          "output_type": "stream",
          "name": "stdout",
          "text": [
            "[3 5]\n"
          ]
        }
      ]
    },
    {
      "cell_type": "code",
      "source": [
        "import numpy as np\n",
        "np_arr1=np.ones(5,dtype='float32')\n",
        "print(np_arr1)\n",
        "type(np_arr1)"
      ],
      "metadata": {
        "colab": {
          "base_uri": "https://localhost:8080/"
        },
        "id": "M26HXohPnxOe",
        "outputId": "36c01675-7f57-4c9b-bc94-b0c690c9d2db"
      },
      "execution_count": null,
      "outputs": [
        {
          "output_type": "stream",
          "name": "stdout",
          "text": [
            "[1. 1. 1. 1. 1.]\n"
          ]
        },
        {
          "output_type": "execute_result",
          "data": {
            "text/plain": [
              "numpy.ndarray"
            ]
          },
          "metadata": {},
          "execution_count": 60
        }
      ]
    },
    {
      "cell_type": "code",
      "source": [
        "#LINKED LISTS\n",
        "\n",
        "# A simple Python program to introduce a linked list\n",
        "\n",
        "# Node class\n",
        "class Node:\n",
        "\n",
        "\t# Function to initialise the node object\n",
        "\tdef __init__(self, data):\n",
        "\t\tself.data = data # Assign data\n",
        "\t\tself.next = None # Initialize next as null\n",
        "\n",
        "\n",
        "# Linked List class contains a Node object\n",
        "class LinkedList:\n",
        "\n",
        "\t# Function to initialize head\n",
        "\tdef __init__(self):\n",
        "\t\tself.head = None\n",
        "\n",
        "\n",
        "# Code execution starts here\n",
        "if __name__=='__main__':\n",
        "\n",
        "\t# Start with the empty list\n",
        "\tllist = LinkedList()\n",
        "\n",
        "\tllist.head = Node(1)\n",
        "\tsecond = Node(2)\n",
        "\tthird = Node(3)\n",
        "\n",
        "\t'''\n",
        "\tThree nodes have been created.\n",
        "\tWe have references to these three blocks as head,\n",
        "\tsecond and third\n",
        "\n",
        "\tllist.head\t second\t\t\t third\n",
        "\t\t|\t\t\t |\t\t\t\t |\n",
        "\t\t|\t\t\t |\t\t\t\t |\n",
        "\t+----+------+\t +----+------+\t +----+------+\n",
        "\t| 1 | None |\t | 2 | None |\t | 3 | None |\n",
        "\t+----+------+\t +----+------+\t +----+------+\n",
        "\t'''\n",
        "\n",
        "\tllist.head.next = second; # Link first node with second\n",
        "\n",
        "\t'''\n",
        "\tNow next of first Node refers to second. So they\n",
        "\tboth are linked.\n",
        "\n",
        "\tllist.head\t second\t\t\t third\n",
        "\t\t|\t\t\t |\t\t\t\t |\n",
        "\t\t|\t\t\t |\t\t\t\t |\n",
        "\t+----+------+\t +----+------+\t +----+------+\n",
        "\t| 1 | o-------->| 2 | null |\t | 3 | null |\n",
        "\t+----+------+\t +----+------+\t +----+------+\n",
        "\t'''\n",
        "\n",
        "\tsecond.next = third; # Link second node with the third node\n",
        "\n",
        "\t'''\n",
        "\tNow next of second Node refers to third. So all three\n",
        "\tnodes are linked.\n",
        "\n",
        "\tllist.head\t second\t\t\t third\n",
        "\t\t|\t\t\t |\t\t\t\t |\n",
        "\t\t|\t\t\t |\t\t\t\t |\n",
        "\t+----+------+\t +----+------+\t +----+------+\n",
        "\t| 1 | o-------->| 2 | o-------->| 3 | null |\n",
        "\t+----+------+\t +----+------+\t +----+------+\n",
        "\t'''\n",
        "\n"
      ],
      "metadata": {
        "id": "5wwgIRA_bZKo"
      },
      "execution_count": 1,
      "outputs": []
    }
  ]
}